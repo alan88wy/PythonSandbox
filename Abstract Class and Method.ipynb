{
 "cells": [
  {
   "cell_type": "markdown",
   "id": "c785c2f1",
   "metadata": {
    "lang": "en"
   },
   "source": [
    "\n",
    "\n"
   ]
  },
  {
   "cell_type": "markdown",
   "id": "88906424",
   "metadata": {},
   "source": [
    "## Abstract Class & Method\n",
    "\n",
    "* Abstract Class - Class that contains one or more abstract method\n",
    "* Abstract Method - a method that has a declaration but does not have an implementation"
   ]
  },
  {
   "cell_type": "code",
   "execution_count": 2,
   "id": "82a3ff47",
   "metadata": {
    "ExecuteTime": {
     "end_time": "2023-09-18T13:26:05.960965Z",
     "start_time": "2023-09-18T13:26:05.954787Z"
    }
   },
   "outputs": [
    {
     "name": "stdout",
     "output_type": "stream",
     "text": [
      "You drive the car.\n"
     ]
    }
   ],
   "source": [
    "# Abstract class - Vehicle.\n",
    "# Need at least one abstract method\n",
    "\n",
    "class Vehicle:\n",
    "    def go(self):\n",
    "        pass\n",
    "    \n",
    "class Car(Vehicle):\n",
    "    # Must define the go method. If not, python will give error\n",
    "    def go(self):\n",
    "        print(\"You drive the car.\")\n",
    "        \n",
    "class Motocycles(Vehicle):\n",
    "    # Must define the go method. If not, python will give error\n",
    "    def go(self):\n",
    "        print(\"You drive the motor cycle.\")\n",
    "        \n",
    "car = Car()\n",
    "car.go()"
   ]
  },
  {
   "cell_type": "code",
   "execution_count": null,
   "id": "6566efe1",
   "metadata": {},
   "outputs": [],
   "source": []
  }
 ],
 "metadata": {
  "hide_input": false,
  "kernelspec": {
   "display_name": "Python 3 (ipykernel)",
   "language": "python",
   "name": "python3"
  },
  "language_info": {
   "codemirror_mode": {
    "name": "ipython",
    "version": 3
   },
   "file_extension": ".py",
   "mimetype": "text/x-python",
   "name": "python",
   "nbconvert_exporter": "python",
   "pygments_lexer": "ipython3",
   "version": "3.11.4"
  },
  "nbTranslate": {
   "displayLangs": [
    "*"
   ],
   "hotkey": "alt-t",
   "langInMainMenu": true,
   "sourceLang": "en",
   "targetLang": "fr",
   "useGoogleTranslate": true
  },
  "toc": {
   "base_numbering": 1,
   "nav_menu": {},
   "number_sections": true,
   "sideBar": true,
   "skip_h1_title": false,
   "title_cell": "Table of Contents",
   "title_sidebar": "Contents",
   "toc_cell": false,
   "toc_position": {},
   "toc_section_display": true,
   "toc_window_display": false
  }
 },
 "nbformat": 4,
 "nbformat_minor": 5
}
