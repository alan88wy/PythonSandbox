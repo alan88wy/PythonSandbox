{
 "cells": [
  {
   "cell_type": "markdown",
   "id": "18512a85",
   "metadata": {},
   "source": [
    "## Duck Typing\n",
    "\n",
    "Where method is more important that the class itself"
   ]
  },
  {
   "cell_type": "code",
   "execution_count": 4,
   "id": "3f6724bb",
   "metadata": {
    "ExecuteTime": {
     "end_time": "2023-09-18T13:43:21.469771Z",
     "start_time": "2023-09-18T13:43:21.464137Z"
    }
   },
   "outputs": [
    {
     "name": "stdout",
     "output_type": "stream",
     "text": [
      "The duck is walking\n",
      "The duck is qwuaking\n",
      "You caught the critter\n",
      "The chicken is walking\n",
      "The chicken is clucking\n",
      "You caught the critter\n"
     ]
    }
   ],
   "source": [
    "class Duck:\n",
    "    def walk(self):\n",
    "        print(\"The duck is walking\")\n",
    "        \n",
    "    def talk(self):\n",
    "        print(\"The duck is qwuaking\")\n",
    "        \n",
    "class Chicken:\n",
    "    def walk(self):\n",
    "        print(\"The chicken is walking\")\n",
    "        \n",
    "    def talk(self):\n",
    "        print(\"The chicken is clucking\")\n",
    "        \n",
    "class Person:\n",
    "    \n",
    "    def catch(self, obj):\n",
    "        obj.walk()\n",
    "        obj.talk()\n",
    "        print(\"You caught the critter\")\n",
    "        \n",
    "duck = Duck()\n",
    "chicken = Chicken()\n",
    "person = Person()\n",
    "\n",
    "# Duck typing. As long as the object passed has the same methods, you can pass the object to the class\n",
    "person.catch(duck)\n",
    "person.catch(chicken)\n"
   ]
  },
  {
   "cell_type": "code",
   "execution_count": null,
   "id": "8bc5770e",
   "metadata": {},
   "outputs": [],
   "source": []
  }
 ],
 "metadata": {
  "hide_input": false,
  "kernelspec": {
   "display_name": "Python 3 (ipykernel)",
   "language": "python",
   "name": "python3"
  },
  "language_info": {
   "codemirror_mode": {
    "name": "ipython",
    "version": 3
   },
   "file_extension": ".py",
   "mimetype": "text/x-python",
   "name": "python",
   "nbconvert_exporter": "python",
   "pygments_lexer": "ipython3",
   "version": "3.11.4"
  },
  "nbTranslate": {
   "displayLangs": [
    "*"
   ],
   "hotkey": "alt-t",
   "langInMainMenu": true,
   "sourceLang": "en",
   "targetLang": "fr",
   "useGoogleTranslate": true
  }
 },
 "nbformat": 4,
 "nbformat_minor": 5
}
