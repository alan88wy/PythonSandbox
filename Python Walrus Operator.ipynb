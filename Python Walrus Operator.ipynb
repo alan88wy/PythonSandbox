{
 "cells": [
  {
   "cell_type": "markdown",
   "id": "8a57b0e4",
   "metadata": {},
   "source": [
    "## Walrus Operator ```:=```"
   ]
  },
  {
   "cell_type": "code",
   "execution_count": 5,
   "id": "a8f8e72a",
   "metadata": {
    "ExecuteTime": {
     "end_time": "2023-09-19T14:08:16.402143Z",
     "start_time": "2023-09-19T14:08:16.396971Z"
    }
   },
   "outputs": [
    {
     "name": "stdout",
     "output_type": "stream",
     "text": [
      "True\n"
     ]
    }
   ],
   "source": [
    "# happy = False\n",
    "\n",
    "print(happy := True)"
   ]
  },
  {
   "cell_type": "code",
   "execution_count": 6,
   "id": "4730a399",
   "metadata": {
    "ExecuteTime": {
     "end_time": "2023-09-19T14:08:21.748272Z",
     "start_time": "2023-09-19T14:08:21.736079Z"
    }
   },
   "outputs": [
    {
     "data": {
      "text/plain": [
       "True"
      ]
     },
     "execution_count": 6,
     "metadata": {},
     "output_type": "execute_result"
    }
   ],
   "source": [
    "happy"
   ]
  },
  {
   "cell_type": "markdown",
   "id": "f0d1a236",
   "metadata": {},
   "source": [
    "#### Instead of"
   ]
  },
  {
   "cell_type": "code",
   "execution_count": 21,
   "id": "d77e619f",
   "metadata": {
    "ExecuteTime": {
     "end_time": "2023-09-20T12:20:20.112863Z",
     "start_time": "2023-09-20T12:20:15.473319Z"
    }
   },
   "outputs": [
    {
     "name": "stdout",
     "output_type": "stream",
     "text": [
      "What food do you like ? 22\n",
      "What food do you like ? dd\n",
      "What food do you like ? 33\n",
      "What food do you like ? ff\n",
      "What food do you like ? quit\n",
      "['22', 'dd', '33', 'ff']\n"
     ]
    }
   ],
   "source": [
    "foods = list()\n",
    "\n",
    "while True:\n",
    "    food = input(\"What food do you like ? \")\n",
    "    \n",
    "    if food == \"quit\":\n",
    "        break\n",
    "    \n",
    "    foods.append(food)\n",
    "    \n",
    "print(foods)"
   ]
  },
  {
   "cell_type": "markdown",
   "id": "34473790",
   "metadata": {},
   "source": [
    "#### We do this using Walrus operator"
   ]
  },
  {
   "cell_type": "code",
   "execution_count": 27,
   "id": "dee00d83",
   "metadata": {
    "ExecuteTime": {
     "end_time": "2023-09-20T12:23:52.727173Z",
     "start_time": "2023-09-20T12:23:42.113482Z"
    }
   },
   "outputs": [
    {
     "name": "stdout",
     "output_type": "stream",
     "text": [
      "What food do you like ? Apple\n",
      "What food do you like ? Orange\n",
      "What food do you like ? Banana\n",
      "What food do you like ? Roast Pork\n",
      "What food do you like ? quit\n",
      "Apple\n",
      "Orange\n",
      "Banana\n",
      "Roast Pork\n"
     ]
    },
    {
     "data": {
      "text/plain": [
       "[None, None, None, None]"
      ]
     },
     "execution_count": 27,
     "metadata": {},
     "output_type": "execute_result"
    }
   ],
   "source": [
    "foods = list()\n",
    "\n",
    "while (food := input(\"What food do you like ? \")) != \"quit\":\n",
    "        foods.append(food)\n",
    "      \n",
    "[print(food) for food in foods]"
   ]
  },
  {
   "cell_type": "code",
   "execution_count": null,
   "id": "5fabe260",
   "metadata": {
    "ExecuteTime": {
     "end_time": "2023-09-20T12:19:45.491057Z",
     "start_time": "2023-09-20T12:19:45.485392Z"
    }
   },
   "outputs": [],
   "source": []
  },
  {
   "cell_type": "code",
   "execution_count": null,
   "id": "9f2f1011",
   "metadata": {},
   "outputs": [],
   "source": []
  }
 ],
 "metadata": {
  "hide_input": false,
  "kernelspec": {
   "display_name": "Python 3 (ipykernel)",
   "language": "python",
   "name": "python3"
  },
  "language_info": {
   "codemirror_mode": {
    "name": "ipython",
    "version": 3
   },
   "file_extension": ".py",
   "mimetype": "text/x-python",
   "name": "python",
   "nbconvert_exporter": "python",
   "pygments_lexer": "ipython3",
   "version": "3.11.5"
  },
  "nbTranslate": {
   "displayLangs": [
    "*"
   ],
   "hotkey": "alt-t",
   "langInMainMenu": true,
   "sourceLang": "en",
   "targetLang": "fr",
   "useGoogleTranslate": true
  }
 },
 "nbformat": 4,
 "nbformat_minor": 5
}
