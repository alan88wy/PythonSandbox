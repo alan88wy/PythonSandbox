{
 "cells": [
  {
   "cell_type": "code",
   "execution_count": 1,
   "id": "f6f1d795",
   "metadata": {
    "ExecuteTime": {
     "end_time": "2023-10-07T09:37:01.912386Z",
     "start_time": "2023-10-07T09:37:01.019615Z"
    }
   },
   "outputs": [
    {
     "name": "stderr",
     "output_type": "stream",
     "text": [
      "[\u001b[1;32mINFO\u001b[0m   ] [Logger      ] Record log in C:\\Users\\alan\\.kivy\\logs\\kivy_23-10-07_0.txt\n",
      "[\u001b[1;32mINFO\u001b[0m   ] [deps        ] Successfully imported \"kivy_deps.angle\" 0.3.3\n",
      "[\u001b[1;32mINFO\u001b[0m   ] [deps        ] Successfully imported \"kivy_deps.glew\" 0.3.1\n",
      "[\u001b[1;32mINFO\u001b[0m   ] [deps        ] Successfully imported \"kivy_deps.sdl2\" 0.6.0\n",
      "[\u001b[1;32mINFO\u001b[0m   ] [Kivy        ] v2.2.1\n",
      "[\u001b[1;32mINFO\u001b[0m   ] [Kivy        ] Installed at \"C:\\Users\\alan\\anaconda3\\Lib\\site-packages\\kivy\\__init__.py\"\n",
      "[\u001b[1;32mINFO\u001b[0m   ] [Python      ] v3.11.5 | packaged by Anaconda, Inc. | (main, Sep 11 2023, 13:26:23) [MSC v.1916 64 bit (AMD64)]\n",
      "[\u001b[1;32mINFO\u001b[0m   ] [Python      ] Interpreter at \"C:\\Users\\alan\\anaconda3\\python.exe\"\n",
      "[\u001b[1;32mINFO\u001b[0m   ] [Logger      ] Purge log fired. Processing...\n",
      "[\u001b[1;32mINFO\u001b[0m   ] [Logger      ] Purge finished!\n",
      "[\u001b[1;32mINFO\u001b[0m   ] [Factory     ] 190 symbols loaded\n",
      "[\u001b[1;32mINFO\u001b[0m   ] [Image       ] Providers: img_tex, img_dds, img_sdl2, img_pil (img_ffpyplayer ignored)\n"
     ]
    },
    {
     "ename": "OSError",
     "evalue": "source code not available",
     "output_type": "error",
     "traceback": [
      "\u001b[1;31m---------------------------------------------------------------------------\u001b[0m",
      "\u001b[1;31mOSError\u001b[0m                                   Traceback (most recent call last)",
      "Cell \u001b[1;32mIn[1], line 10\u001b[0m\n\u001b[0;32m      7\u001b[0m \u001b[38;5;28;01mclass\u001b[39;00m \u001b[38;5;21;01mMyApp\u001b[39;00m(App):\n\u001b[0;32m      8\u001b[0m     \u001b[38;5;28;01mpass\u001b[39;00m\n\u001b[1;32m---> 10\u001b[0m MyApp()\u001b[38;5;241m.\u001b[39mrun()\n",
      "File \u001b[1;32m~\\anaconda3\\Lib\\site-packages\\kivy\\app.py:955\u001b[0m, in \u001b[0;36mApp.run\u001b[1;34m(self)\u001b[0m\n\u001b[0;32m    952\u001b[0m \u001b[38;5;28;01mdef\u001b[39;00m \u001b[38;5;21mrun\u001b[39m(\u001b[38;5;28mself\u001b[39m):\n\u001b[0;32m    953\u001b[0m \u001b[38;5;250m    \u001b[39m\u001b[38;5;124;03m'''Launches the app in standalone mode.\u001b[39;00m\n\u001b[0;32m    954\u001b[0m \u001b[38;5;124;03m    '''\u001b[39;00m\n\u001b[1;32m--> 955\u001b[0m     \u001b[38;5;28mself\u001b[39m\u001b[38;5;241m.\u001b[39m_run_prepare()\n\u001b[0;32m    956\u001b[0m     runTouchApp()\n\u001b[0;32m    957\u001b[0m     \u001b[38;5;28mself\u001b[39m\u001b[38;5;241m.\u001b[39m_stop()\n",
      "File \u001b[1;32m~\\anaconda3\\Lib\\site-packages\\kivy\\app.py:924\u001b[0m, in \u001b[0;36mApp._run_prepare\u001b[1;34m(self)\u001b[0m\n\u001b[0;32m    922\u001b[0m \u001b[38;5;28;01mif\u001b[39;00m \u001b[38;5;129;01mnot\u001b[39;00m \u001b[38;5;28mself\u001b[39m\u001b[38;5;241m.\u001b[39mbuilt:\n\u001b[0;32m    923\u001b[0m     \u001b[38;5;28mself\u001b[39m\u001b[38;5;241m.\u001b[39mload_config()\n\u001b[1;32m--> 924\u001b[0m     \u001b[38;5;28mself\u001b[39m\u001b[38;5;241m.\u001b[39mload_kv(filename\u001b[38;5;241m=\u001b[39m\u001b[38;5;28mself\u001b[39m\u001b[38;5;241m.\u001b[39mkv_file)\n\u001b[0;32m    925\u001b[0m     root \u001b[38;5;241m=\u001b[39m \u001b[38;5;28mself\u001b[39m\u001b[38;5;241m.\u001b[39mbuild()\n\u001b[0;32m    926\u001b[0m     \u001b[38;5;28;01mif\u001b[39;00m root:\n",
      "File \u001b[1;32m~\\anaconda3\\Lib\\site-packages\\kivy\\app.py:677\u001b[0m, in \u001b[0;36mApp.load_kv\u001b[1;34m(self, filename)\u001b[0m\n\u001b[0;32m    675\u001b[0m \u001b[38;5;28;01melse\u001b[39;00m:\n\u001b[0;32m    676\u001b[0m     \u001b[38;5;28;01mtry\u001b[39;00m:\n\u001b[1;32m--> 677\u001b[0m         default_kv_directory \u001b[38;5;241m=\u001b[39m dirname(getfile(\u001b[38;5;28mself\u001b[39m\u001b[38;5;241m.\u001b[39m\u001b[38;5;18m__class__\u001b[39m))\n\u001b[0;32m    678\u001b[0m         \u001b[38;5;28;01mif\u001b[39;00m default_kv_directory \u001b[38;5;241m==\u001b[39m \u001b[38;5;124m'\u001b[39m\u001b[38;5;124m'\u001b[39m:\n\u001b[0;32m    679\u001b[0m             default_kv_directory \u001b[38;5;241m=\u001b[39m \u001b[38;5;124m'\u001b[39m\u001b[38;5;124m.\u001b[39m\u001b[38;5;124m'\u001b[39m\n",
      "File \u001b[1;32m~\\anaconda3\\Lib\\inspect.py:908\u001b[0m, in \u001b[0;36mgetfile\u001b[1;34m(object)\u001b[0m\n\u001b[0;32m    906\u001b[0m             \u001b[38;5;28;01mreturn\u001b[39;00m module\u001b[38;5;241m.\u001b[39m\u001b[38;5;18m__file__\u001b[39m\n\u001b[0;32m    907\u001b[0m         \u001b[38;5;28;01mif\u001b[39;00m \u001b[38;5;28mobject\u001b[39m\u001b[38;5;241m.\u001b[39m\u001b[38;5;18m__module__\u001b[39m \u001b[38;5;241m==\u001b[39m \u001b[38;5;124m'\u001b[39m\u001b[38;5;124m__main__\u001b[39m\u001b[38;5;124m'\u001b[39m:\n\u001b[1;32m--> 908\u001b[0m             \u001b[38;5;28;01mraise\u001b[39;00m \u001b[38;5;167;01mOSError\u001b[39;00m(\u001b[38;5;124m'\u001b[39m\u001b[38;5;124msource code not available\u001b[39m\u001b[38;5;124m'\u001b[39m)\n\u001b[0;32m    909\u001b[0m     \u001b[38;5;28;01mraise\u001b[39;00m \u001b[38;5;167;01mTypeError\u001b[39;00m(\u001b[38;5;124m'\u001b[39m\u001b[38;5;132;01m{!r}\u001b[39;00m\u001b[38;5;124m is a built-in class\u001b[39m\u001b[38;5;124m'\u001b[39m\u001b[38;5;241m.\u001b[39mformat(\u001b[38;5;28mobject\u001b[39m))\n\u001b[0;32m    910\u001b[0m \u001b[38;5;28;01mif\u001b[39;00m ismethod(\u001b[38;5;28mobject\u001b[39m):\n",
      "\u001b[1;31mOSError\u001b[0m: source code not available"
     ]
    }
   ],
   "source": [
    "from kivy.app import App\n",
    "from kivy.uix.widget import Widget\n",
    "\n",
    "class MainWIdget(Widget):\n",
    "    pass\n",
    "\n",
    "class MyApp(App):\n",
    "    pass\n",
    "\n",
    "MyApp().run()"
   ]
  },
  {
   "cell_type": "code",
   "execution_count": null,
   "id": "cf74beb8",
   "metadata": {},
   "outputs": [],
   "source": []
  }
 ],
 "metadata": {
  "kernelspec": {
   "display_name": "Python 3 (ipykernel)",
   "language": "python",
   "name": "python3"
  },
  "language_info": {
   "codemirror_mode": {
    "name": "ipython",
    "version": 3
   },
   "file_extension": ".py",
   "mimetype": "text/x-python",
   "name": "python",
   "nbconvert_exporter": "python",
   "pygments_lexer": "ipython3",
   "version": "3.11.5"
  }
 },
 "nbformat": 4,
 "nbformat_minor": 5
}
