{
 "cells": [
  {
   "cell_type": "code",
   "execution_count": 1,
   "id": "32711fb4",
   "metadata": {
    "ExecuteTime": {
     "end_time": "2023-09-30T12:33:33.759564Z",
     "start_time": "2023-09-30T12:33:12.717990Z"
    }
   },
   "outputs": [
    {
     "name": "stdout",
     "output_type": "stream",
     "text": [
      "Looking in indexes: https://pypi.org/simple, https://pypi.ngc.nvidia.com\n",
      "Collecting python-tkdnd\n",
      "  Downloading python_tkdnd-0.2.1-py3-none-any.whl (172 kB)\n",
      "     ---------------------------------------- 0.0/172.6 kB ? eta -:--:--\n",
      "     -------- ---------------------------- 41.0/172.6 kB 960.0 kB/s eta 0:00:01\n",
      "     -------------------------------------- 172.6/172.6 kB 2.6 MB/s eta 0:00:00\n",
      "Collecting ttkwidgets>=0.12.0 (from python-tkdnd)\n",
      "  Downloading ttkwidgets-0.13.0.tar.gz (86 kB)\n",
      "     ---------------------------------------- 0.0/86.2 kB ? eta -:--:--\n",
      "     ---------------------------------------- 86.2/86.2 kB ? eta 0:00:00\n",
      "  Preparing metadata (setup.py): started\n",
      "  Preparing metadata (setup.py): finished with status 'done'\n",
      "Requirement already satisfied: pillow in c:\\users\\alan\\anaconda3\\envs\\sandbox\\lib\\site-packages (from ttkwidgets>=0.12.0->python-tkdnd) (10.0.0)\n",
      "Building wheels for collected packages: ttkwidgets\n",
      "  Building wheel for ttkwidgets (setup.py): started\n",
      "  Building wheel for ttkwidgets (setup.py): finished with status 'done'\n",
      "  Created wheel for ttkwidgets: filename=ttkwidgets-0.13.0-py3-none-any.whl size=110707 sha256=f9044baf3efe03fcfc00b97e3d6bafd004d1f06dbb95480131e4a9410f379237\n",
      "  Stored in directory: C:\\Users\\alan\\AppData\\Local\\Temp\\pip-ephem-wheel-cache-j73b_ilu\\wheels\\cb\\e2\\c3\\9757c8f995ae21624bae4363b5e0fec001f36d5d0469bdf973\n",
      "Successfully built ttkwidgets\n",
      "Installing collected packages: ttkwidgets, python-tkdnd\n",
      "Successfully installed python-tkdnd-0.2.1 ttkwidgets-0.13.0\n"
     ]
    }
   ],
   "source": [
    "!pip install python-tkdnd"
   ]
  },
  {
   "cell_type": "code",
   "execution_count": 2,
   "id": "7e0ae830",
   "metadata": {
    "ExecuteTime": {
     "end_time": "2023-09-30T12:34:02.287254Z",
     "start_time": "2023-09-30T12:33:37.532534Z"
    }
   },
   "outputs": [],
   "source": [
    "import tkinter as tk\n",
    "from tkinter import ttk\n",
    "import tkinterDnD  # Importing the tkinterDnD module\n",
    "\n",
    "# You have to use the tkinterDnD.Tk object for super easy initialization,\n",
    "# and to be able to use the main window as a dnd widget\n",
    "root = tkinterDnD.Tk()  \n",
    "root.title(\"tkinterDnD example\")\n",
    "\n",
    "stringvar = tk.StringVar()\n",
    "stringvar.set('Drop here or drag from here!')\n",
    "\n",
    "\n",
    "def drop(event):\n",
    "    # This function is called, when stuff is dropped into a widget\n",
    "    stringvar.set(event.data)\n",
    "\n",
    "def drag_command(event):\n",
    "    # This function is called at the start of the drag,\n",
    "    # it returns the drag type, the content type, and the actual content\n",
    "    return (tkinterDnD.COPY, \"DND_Text\", \"Some nice dropped text!\")\n",
    "\n",
    "\n",
    "# Without DnD hook you need to register the widget for every purpose,\n",
    "# and bind it to the function you want to call\n",
    "label_1 = tk.Label(root, textvar=stringvar, relief=\"solid\")\n",
    "label_1.pack(fill=\"both\", expand=True, padx=10, pady=10)\n",
    "\n",
    "label_1.register_drop_target(\"*\")\n",
    "label_1.bind(\"<<Drop>>\", drop)\n",
    "\n",
    "label_1.register_drag_source(\"*\")\n",
    "label_1.bind(\"<<DragInitCmd>>\", drag_command)\n",
    "\n",
    "\n",
    "# With DnD hook you just pass the command to the proper argument,\n",
    "# and tkinterDnD will take care of the rest\n",
    "# NOTE: You need a ttk widget to use these arguments\n",
    "label_2 = ttk.Label(root, ondrop=drop, ondragstart=drag_command,\n",
    "                    textvar=stringvar, padding=50, relief=\"solid\")\n",
    "label_2.pack(fill=\"both\", expand=True, padx=10, pady=10)\n",
    "\n",
    "\n",
    "root.mainloop()"
   ]
  },
  {
   "cell_type": "code",
   "execution_count": null,
   "id": "d8334641",
   "metadata": {},
   "outputs": [],
   "source": []
  }
 ],
 "metadata": {
  "hide_input": false,
  "kernelspec": {
   "display_name": "Python 3 (ipykernel)",
   "language": "python",
   "name": "python3"
  },
  "language_info": {
   "codemirror_mode": {
    "name": "ipython",
    "version": 3
   },
   "file_extension": ".py",
   "mimetype": "text/x-python",
   "name": "python",
   "nbconvert_exporter": "python",
   "pygments_lexer": "ipython3",
   "version": "3.11.5"
  },
  "nbTranslate": {
   "displayLangs": [
    "*"
   ],
   "hotkey": "alt-t",
   "langInMainMenu": true,
   "sourceLang": "en",
   "targetLang": "fr",
   "useGoogleTranslate": true
  }
 },
 "nbformat": 4,
 "nbformat_minor": 5
}
