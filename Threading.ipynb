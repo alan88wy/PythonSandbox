{
 "cells": [
  {
   "cell_type": "code",
   "execution_count": 6,
   "id": "60e66afe",
   "metadata": {
    "ExecuteTime": {
     "end_time": "2023-10-01T10:33:43.572639Z",
     "start_time": "2023-10-01T10:33:41.284125Z"
    }
   },
   "outputs": [
    {
     "name": "stdout",
     "output_type": "stream",
     "text": [
      "ABC : 1\n",
      "XYZ : 1\n",
      "ABC : 2\n",
      "XYZ : 2\n",
      "Press enter to quit!\n",
      "XYZ : 3\n",
      "ABC : 3\n"
     ]
    }
   ],
   "source": [
    "import threading\n",
    "import time\n",
    "\n",
    "done = False\n",
    "\n",
    "def worker(text):\n",
    "    counter = 0\n",
    "    \n",
    "    while not done:\n",
    "        time.sleep(1)\n",
    "        counter += 1\n",
    "        print(f\"{text} : {counter}\")\n",
    "        \n",
    "# threading.Thread(target=worker, daemon=True, args=(\"ABC\", )).start()  # passing worker object to thread. \n",
    "#                                                       # Daemon=True - running in the background\n",
    "#                                                       # args=(\"ABC\", ) - argument is a tuple.\n",
    "\n",
    "# threading.Thread(target=worker, daemon=False, args=(\"XYZ\", )).start()\n",
    "\n",
    "# Can do it this way too\n",
    "t1 = threading.Thread(target=worker, daemon=True, args=(\"ABC\", ))\n",
    "t2 = threading.Thread(target=worker, daemon=False, args=(\"XYZ\", ))\n",
    "\n",
    "t1.start()\n",
    "t2.start()\n",
    "\n",
    "input(\"Press enter to quit!\")\n",
    "\n",
    "done = True"
   ]
  },
  {
   "cell_type": "markdown",
   "id": "918f66a4",
   "metadata": {},
   "source": [
    "## Thread Pool"
   ]
  },
  {
   "cell_type": "code",
   "execution_count": 22,
   "id": "fdbed10e",
   "metadata": {
    "ExecuteTime": {
     "end_time": "2023-10-01T13:23:41.326931Z",
     "start_time": "2023-10-01T13:23:34.317125Z"
    }
   },
   "outputs": [
    {
     "name": "stdout",
     "output_type": "stream",
     "text": [
      "Counting the result for number 1\n",
      "Counting the result for number 2\n",
      "Counting the result for number 3\n",
      "Counting the result for number 4\n",
      "Counting the result for number 5\n",
      "Counting the result for number 6\n",
      "Counting the result for number 7\n",
      "Counting the result for number 8\n",
      "Hello World!\n",
      "Result of w1 : 1\n",
      "Result of w2 : 4\n",
      "w3 is not done yet!\n",
      "Result of w3 : 9\n",
      "Result of w4 : 16\n",
      "Result of w5 : 25\n",
      "Result of w6 : 36\n",
      "Result of w7 : 49\n",
      "Result of w8 : 64\n",
      "True\n",
      "Hello Result!\n"
     ]
    }
   ],
   "source": [
    "from concurrent.futures import ThreadPoolExecutor\n",
    "import time\n",
    "\n",
    "done = False\n",
    "\n",
    "def worker(number):\n",
    "    print(f\"Counting the result for number {number}\")\n",
    "    time.sleep(2)\n",
    "    return number ** 2\n",
    "        \n",
    "pool = ThreadPoolExecutor(8)\n",
    "\n",
    "w1 = pool.submit(worker, 1)\n",
    "w2 = pool.submit(worker, 2)\n",
    "w3 = pool.submit(worker, 3)\n",
    "w4 = pool.submit(worker, 4)\n",
    "w5 = pool.submit(worker, 5)\n",
    "w6 = pool.submit(worker, 6)\n",
    "w7 = pool.submit(worker, 7)\n",
    "w8 = pool.submit(worker, 8)\n",
    "\n",
    "print(\"Hello World!\")\n",
    "\n",
    "# Printing the result\n",
    "print(f\"Result of w1 : {w1.result()}\")\n",
    "print(f\"Result of w2 : {w2.result()}\")\n",
    "\n",
    "if w3.done():\n",
    "    print(f\"Result of w3 : {w3.result()}\")\n",
    "else:\n",
    "    print(\"w3 is not done yet!\")\n",
    "    \n",
    "time.sleep(5)\n",
    "\n",
    "# This will print w3.result() after waiting for 5 seconds\n",
    "\n",
    "if w3.done():\n",
    "    print(f\"Result of w3 : {w3.result()}\")\n",
    "else:\n",
    "    print(\"w3 is not done yet!\")\n",
    "    \n",
    "print(f\"Result of w4 : {w4.result()}\")\n",
    "print(f\"Result of w5 : {w5.result()}\")\n",
    "print(f\"Result of w6 : {w6.result()}\")\n",
    "print(f\"Result of w7 : {w7.result()}\")\n",
    "print(f\"Result of w8 : {w8.result()}\")\n",
    "\n",
    "print(w3.done())\n",
    "\n",
    "pool.shutdown()  # Cannot submit any more work after shutdown\n",
    "\n",
    "print(\"Hello Result!\") # This will not be printed until result is printed\n"
   ]
  },
  {
   "cell_type": "code",
   "execution_count": null,
   "id": "4e9699a2",
   "metadata": {},
   "outputs": [],
   "source": []
  }
 ],
 "metadata": {
  "hide_input": false,
  "kernelspec": {
   "display_name": "Python 3 (ipykernel)",
   "language": "python",
   "name": "python3"
  },
  "language_info": {
   "codemirror_mode": {
    "name": "ipython",
    "version": 3
   },
   "file_extension": ".py",
   "mimetype": "text/x-python",
   "name": "python",
   "nbconvert_exporter": "python",
   "pygments_lexer": "ipython3",
   "version": "3.11.5"
  },
  "nbTranslate": {
   "displayLangs": [
    "*"
   ],
   "hotkey": "alt-t",
   "langInMainMenu": true,
   "sourceLang": "en",
   "targetLang": "fr",
   "useGoogleTranslate": true
  }
 },
 "nbformat": 4,
 "nbformat_minor": 5
}
