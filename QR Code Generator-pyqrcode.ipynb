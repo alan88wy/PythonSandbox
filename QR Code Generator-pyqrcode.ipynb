{
 "cells": [
  {
   "cell_type": "markdown",
   "id": "3724ea0b",
   "metadata": {},
   "source": [
    "## Pyqrcode\n",
    "\n",
    "```\n",
    "pip install pyqrcode\n",
    "pip install pypng\n",
    "```"
   ]
  },
  {
   "cell_type": "code",
   "execution_count": 1,
   "id": "f005e6e9",
   "metadata": {
    "ExecuteTime": {
     "end_time": "2023-09-19T12:42:51.325982Z",
     "start_time": "2023-09-19T12:42:51.308585Z"
    }
   },
   "outputs": [
    {
     "name": "stdout",
     "output_type": "stream",
     "text": [
      "\n",
      "\u001b[7m  \u001b[0m\u001b[7m  \u001b[0m\u001b[7m  \u001b[0m\u001b[7m  \u001b[0m\u001b[7m  \u001b[0m\u001b[7m  \u001b[0m\u001b[7m  \u001b[0m\u001b[7m  \u001b[0m\u001b[7m  \u001b[0m\u001b[7m  \u001b[0m\u001b[7m  \u001b[0m\u001b[7m  \u001b[0m\u001b[7m  \u001b[0m\u001b[7m  \u001b[0m\u001b[7m  \u001b[0m\u001b[7m  \u001b[0m\u001b[7m  \u001b[0m\u001b[7m  \u001b[0m\u001b[7m  \u001b[0m\u001b[7m  \u001b[0m\u001b[7m  \u001b[0m\u001b[7m  \u001b[0m\u001b[7m  \u001b[0m\u001b[7m  \u001b[0m\u001b[7m  \u001b[0m\u001b[7m  \u001b[0m\u001b[7m  \u001b[0m\u001b[7m  \u001b[0m\u001b[7m  \u001b[0m\n",
      "\u001b[7m  \u001b[0m\u001b[7m  \u001b[0m\u001b[7m  \u001b[0m\u001b[7m  \u001b[0m\u001b[7m  \u001b[0m\u001b[7m  \u001b[0m\u001b[7m  \u001b[0m\u001b[7m  \u001b[0m\u001b[7m  \u001b[0m\u001b[7m  \u001b[0m\u001b[7m  \u001b[0m\u001b[7m  \u001b[0m\u001b[7m  \u001b[0m\u001b[7m  \u001b[0m\u001b[7m  \u001b[0m\u001b[7m  \u001b[0m\u001b[7m  \u001b[0m\u001b[7m  \u001b[0m\u001b[7m  \u001b[0m\u001b[7m  \u001b[0m\u001b[7m  \u001b[0m\u001b[7m  \u001b[0m\u001b[7m  \u001b[0m\u001b[7m  \u001b[0m\u001b[7m  \u001b[0m\u001b[7m  \u001b[0m\u001b[7m  \u001b[0m\u001b[7m  \u001b[0m\u001b[7m  \u001b[0m\n",
      "\u001b[7m  \u001b[0m\u001b[7m  \u001b[0m\u001b[7m  \u001b[0m\u001b[7m  \u001b[0m\u001b[7m  \u001b[0m\u001b[7m  \u001b[0m\u001b[7m  \u001b[0m\u001b[7m  \u001b[0m\u001b[7m  \u001b[0m\u001b[7m  \u001b[0m\u001b[7m  \u001b[0m\u001b[7m  \u001b[0m\u001b[7m  \u001b[0m\u001b[7m  \u001b[0m\u001b[7m  \u001b[0m\u001b[7m  \u001b[0m\u001b[7m  \u001b[0m\u001b[7m  \u001b[0m\u001b[7m  \u001b[0m\u001b[7m  \u001b[0m\u001b[7m  \u001b[0m\u001b[7m  \u001b[0m\u001b[7m  \u001b[0m\u001b[7m  \u001b[0m\u001b[7m  \u001b[0m\u001b[7m  \u001b[0m\u001b[7m  \u001b[0m\u001b[7m  \u001b[0m\u001b[7m  \u001b[0m\n",
      "\u001b[7m  \u001b[0m\u001b[7m  \u001b[0m\u001b[7m  \u001b[0m\u001b[7m  \u001b[0m\u001b[7m  \u001b[0m\u001b[7m  \u001b[0m\u001b[7m  \u001b[0m\u001b[7m  \u001b[0m\u001b[7m  \u001b[0m\u001b[7m  \u001b[0m\u001b[7m  \u001b[0m\u001b[7m  \u001b[0m\u001b[7m  \u001b[0m\u001b[7m  \u001b[0m\u001b[7m  \u001b[0m\u001b[7m  \u001b[0m\u001b[7m  \u001b[0m\u001b[7m  \u001b[0m\u001b[7m  \u001b[0m\u001b[7m  \u001b[0m\u001b[7m  \u001b[0m\u001b[7m  \u001b[0m\u001b[7m  \u001b[0m\u001b[7m  \u001b[0m\u001b[7m  \u001b[0m\u001b[7m  \u001b[0m\u001b[7m  \u001b[0m\u001b[7m  \u001b[0m\u001b[7m  \u001b[0m\n",
      "\u001b[7m  \u001b[0m\u001b[7m  \u001b[0m\u001b[7m  \u001b[0m\u001b[7m  \u001b[0m\u001b[49m  \u001b[0m\u001b[49m  \u001b[0m\u001b[49m  \u001b[0m\u001b[49m  \u001b[0m\u001b[49m  \u001b[0m\u001b[49m  \u001b[0m\u001b[49m  \u001b[0m\u001b[7m  \u001b[0m\u001b[7m  \u001b[0m\u001b[7m  \u001b[0m\u001b[7m  \u001b[0m\u001b[7m  \u001b[0m\u001b[7m  \u001b[0m\u001b[7m  \u001b[0m\u001b[49m  \u001b[0m\u001b[49m  \u001b[0m\u001b[49m  \u001b[0m\u001b[49m  \u001b[0m\u001b[49m  \u001b[0m\u001b[49m  \u001b[0m\u001b[49m  \u001b[0m\u001b[7m  \u001b[0m\u001b[7m  \u001b[0m\u001b[7m  \u001b[0m\u001b[7m  \u001b[0m\n",
      "\u001b[7m  \u001b[0m\u001b[7m  \u001b[0m\u001b[7m  \u001b[0m\u001b[7m  \u001b[0m\u001b[49m  \u001b[0m\u001b[7m  \u001b[0m\u001b[7m  \u001b[0m\u001b[7m  \u001b[0m\u001b[7m  \u001b[0m\u001b[7m  \u001b[0m\u001b[49m  \u001b[0m\u001b[7m  \u001b[0m\u001b[49m  \u001b[0m\u001b[7m  \u001b[0m\u001b[7m  \u001b[0m\u001b[7m  \u001b[0m\u001b[7m  \u001b[0m\u001b[7m  \u001b[0m\u001b[49m  \u001b[0m\u001b[7m  \u001b[0m\u001b[7m  \u001b[0m\u001b[7m  \u001b[0m\u001b[7m  \u001b[0m\u001b[7m  \u001b[0m\u001b[49m  \u001b[0m\u001b[7m  \u001b[0m\u001b[7m  \u001b[0m\u001b[7m  \u001b[0m\u001b[7m  \u001b[0m\n",
      "\u001b[7m  \u001b[0m\u001b[7m  \u001b[0m\u001b[7m  \u001b[0m\u001b[7m  \u001b[0m\u001b[49m  \u001b[0m\u001b[7m  \u001b[0m\u001b[49m  \u001b[0m\u001b[49m  \u001b[0m\u001b[49m  \u001b[0m\u001b[7m  \u001b[0m\u001b[49m  \u001b[0m\u001b[7m  \u001b[0m\u001b[49m  \u001b[0m\u001b[7m  \u001b[0m\u001b[7m  \u001b[0m\u001b[49m  \u001b[0m\u001b[49m  \u001b[0m\u001b[7m  \u001b[0m\u001b[49m  \u001b[0m\u001b[7m  \u001b[0m\u001b[49m  \u001b[0m\u001b[49m  \u001b[0m\u001b[49m  \u001b[0m\u001b[7m  \u001b[0m\u001b[49m  \u001b[0m\u001b[7m  \u001b[0m\u001b[7m  \u001b[0m\u001b[7m  \u001b[0m\u001b[7m  \u001b[0m\n",
      "\u001b[7m  \u001b[0m\u001b[7m  \u001b[0m\u001b[7m  \u001b[0m\u001b[7m  \u001b[0m\u001b[49m  \u001b[0m\u001b[7m  \u001b[0m\u001b[49m  \u001b[0m\u001b[49m  \u001b[0m\u001b[49m  \u001b[0m\u001b[7m  \u001b[0m\u001b[49m  \u001b[0m\u001b[7m  \u001b[0m\u001b[49m  \u001b[0m\u001b[7m  \u001b[0m\u001b[7m  \u001b[0m\u001b[49m  \u001b[0m\u001b[7m  \u001b[0m\u001b[7m  \u001b[0m\u001b[49m  \u001b[0m\u001b[7m  \u001b[0m\u001b[49m  \u001b[0m\u001b[49m  \u001b[0m\u001b[49m  \u001b[0m\u001b[7m  \u001b[0m\u001b[49m  \u001b[0m\u001b[7m  \u001b[0m\u001b[7m  \u001b[0m\u001b[7m  \u001b[0m\u001b[7m  \u001b[0m\n",
      "\u001b[7m  \u001b[0m\u001b[7m  \u001b[0m\u001b[7m  \u001b[0m\u001b[7m  \u001b[0m\u001b[49m  \u001b[0m\u001b[7m  \u001b[0m\u001b[49m  \u001b[0m\u001b[49m  \u001b[0m\u001b[49m  \u001b[0m\u001b[7m  \u001b[0m\u001b[49m  \u001b[0m\u001b[7m  \u001b[0m\u001b[49m  \u001b[0m\u001b[49m  \u001b[0m\u001b[49m  \u001b[0m\u001b[7m  \u001b[0m\u001b[49m  \u001b[0m\u001b[7m  \u001b[0m\u001b[49m  \u001b[0m\u001b[7m  \u001b[0m\u001b[49m  \u001b[0m\u001b[49m  \u001b[0m\u001b[49m  \u001b[0m\u001b[7m  \u001b[0m\u001b[49m  \u001b[0m\u001b[7m  \u001b[0m\u001b[7m  \u001b[0m\u001b[7m  \u001b[0m\u001b[7m  \u001b[0m\n",
      "\u001b[7m  \u001b[0m\u001b[7m  \u001b[0m\u001b[7m  \u001b[0m\u001b[7m  \u001b[0m\u001b[49m  \u001b[0m\u001b[7m  \u001b[0m\u001b[7m  \u001b[0m\u001b[7m  \u001b[0m\u001b[7m  \u001b[0m\u001b[7m  \u001b[0m\u001b[49m  \u001b[0m\u001b[7m  \u001b[0m\u001b[49m  \u001b[0m\u001b[7m  \u001b[0m\u001b[7m  \u001b[0m\u001b[7m  \u001b[0m\u001b[7m  \u001b[0m\u001b[7m  \u001b[0m\u001b[49m  \u001b[0m\u001b[7m  \u001b[0m\u001b[7m  \u001b[0m\u001b[7m  \u001b[0m\u001b[7m  \u001b[0m\u001b[7m  \u001b[0m\u001b[49m  \u001b[0m\u001b[7m  \u001b[0m\u001b[7m  \u001b[0m\u001b[7m  \u001b[0m\u001b[7m  \u001b[0m\n",
      "\u001b[7m  \u001b[0m\u001b[7m  \u001b[0m\u001b[7m  \u001b[0m\u001b[7m  \u001b[0m\u001b[49m  \u001b[0m\u001b[49m  \u001b[0m\u001b[49m  \u001b[0m\u001b[49m  \u001b[0m\u001b[49m  \u001b[0m\u001b[49m  \u001b[0m\u001b[49m  \u001b[0m\u001b[7m  \u001b[0m\u001b[49m  \u001b[0m\u001b[7m  \u001b[0m\u001b[49m  \u001b[0m\u001b[7m  \u001b[0m\u001b[49m  \u001b[0m\u001b[7m  \u001b[0m\u001b[49m  \u001b[0m\u001b[49m  \u001b[0m\u001b[49m  \u001b[0m\u001b[49m  \u001b[0m\u001b[49m  \u001b[0m\u001b[49m  \u001b[0m\u001b[49m  \u001b[0m\u001b[7m  \u001b[0m\u001b[7m  \u001b[0m\u001b[7m  \u001b[0m\u001b[7m  \u001b[0m\n",
      "\u001b[7m  \u001b[0m\u001b[7m  \u001b[0m\u001b[7m  \u001b[0m\u001b[7m  \u001b[0m\u001b[7m  \u001b[0m\u001b[7m  \u001b[0m\u001b[7m  \u001b[0m\u001b[7m  \u001b[0m\u001b[7m  \u001b[0m\u001b[7m  \u001b[0m\u001b[7m  \u001b[0m\u001b[7m  \u001b[0m\u001b[7m  \u001b[0m\u001b[49m  \u001b[0m\u001b[49m  \u001b[0m\u001b[49m  \u001b[0m\u001b[7m  \u001b[0m\u001b[7m  \u001b[0m\u001b[7m  \u001b[0m\u001b[7m  \u001b[0m\u001b[7m  \u001b[0m\u001b[7m  \u001b[0m\u001b[7m  \u001b[0m\u001b[7m  \u001b[0m\u001b[7m  \u001b[0m\u001b[7m  \u001b[0m\u001b[7m  \u001b[0m\u001b[7m  \u001b[0m\u001b[7m  \u001b[0m\n",
      "\u001b[7m  \u001b[0m\u001b[7m  \u001b[0m\u001b[7m  \u001b[0m\u001b[7m  \u001b[0m\u001b[7m  \u001b[0m\u001b[7m  \u001b[0m\u001b[49m  \u001b[0m\u001b[7m  \u001b[0m\u001b[7m  \u001b[0m\u001b[49m  \u001b[0m\u001b[49m  \u001b[0m\u001b[49m  \u001b[0m\u001b[49m  \u001b[0m\u001b[7m  \u001b[0m\u001b[49m  \u001b[0m\u001b[7m  \u001b[0m\u001b[49m  \u001b[0m\u001b[49m  \u001b[0m\u001b[7m  \u001b[0m\u001b[49m  \u001b[0m\u001b[49m  \u001b[0m\u001b[49m  \u001b[0m\u001b[49m  \u001b[0m\u001b[49m  \u001b[0m\u001b[7m  \u001b[0m\u001b[7m  \u001b[0m\u001b[7m  \u001b[0m\u001b[7m  \u001b[0m\u001b[7m  \u001b[0m\n",
      "\u001b[7m  \u001b[0m\u001b[7m  \u001b[0m\u001b[7m  \u001b[0m\u001b[7m  \u001b[0m\u001b[49m  \u001b[0m\u001b[49m  \u001b[0m\u001b[7m  \u001b[0m\u001b[7m  \u001b[0m\u001b[49m  \u001b[0m\u001b[7m  \u001b[0m\u001b[7m  \u001b[0m\u001b[7m  \u001b[0m\u001b[7m  \u001b[0m\u001b[7m  \u001b[0m\u001b[7m  \u001b[0m\u001b[49m  \u001b[0m\u001b[7m  \u001b[0m\u001b[49m  \u001b[0m\u001b[7m  \u001b[0m\u001b[7m  \u001b[0m\u001b[7m  \u001b[0m\u001b[7m  \u001b[0m\u001b[49m  \u001b[0m\u001b[49m  \u001b[0m\u001b[49m  \u001b[0m\u001b[7m  \u001b[0m\u001b[7m  \u001b[0m\u001b[7m  \u001b[0m\u001b[7m  \u001b[0m\n",
      "\u001b[7m  \u001b[0m\u001b[7m  \u001b[0m\u001b[7m  \u001b[0m\u001b[7m  \u001b[0m\u001b[49m  \u001b[0m\u001b[49m  \u001b[0m\u001b[49m  \u001b[0m\u001b[7m  \u001b[0m\u001b[7m  \u001b[0m\u001b[49m  \u001b[0m\u001b[49m  \u001b[0m\u001b[7m  \u001b[0m\u001b[49m  \u001b[0m\u001b[49m  \u001b[0m\u001b[49m  \u001b[0m\u001b[7m  \u001b[0m\u001b[49m  \u001b[0m\u001b[7m  \u001b[0m\u001b[49m  \u001b[0m\u001b[49m  \u001b[0m\u001b[49m  \u001b[0m\u001b[49m  \u001b[0m\u001b[49m  \u001b[0m\u001b[7m  \u001b[0m\u001b[49m  \u001b[0m\u001b[7m  \u001b[0m\u001b[7m  \u001b[0m\u001b[7m  \u001b[0m\u001b[7m  \u001b[0m\n",
      "\u001b[7m  \u001b[0m\u001b[7m  \u001b[0m\u001b[7m  \u001b[0m\u001b[7m  \u001b[0m\u001b[7m  \u001b[0m\u001b[49m  \u001b[0m\u001b[49m  \u001b[0m\u001b[7m  \u001b[0m\u001b[49m  \u001b[0m\u001b[7m  \u001b[0m\u001b[7m  \u001b[0m\u001b[49m  \u001b[0m\u001b[7m  \u001b[0m\u001b[7m  \u001b[0m\u001b[49m  \u001b[0m\u001b[7m  \u001b[0m\u001b[7m  \u001b[0m\u001b[49m  \u001b[0m\u001b[7m  \u001b[0m\u001b[49m  \u001b[0m\u001b[7m  \u001b[0m\u001b[49m  \u001b[0m\u001b[7m  \u001b[0m\u001b[49m  \u001b[0m\u001b[7m  \u001b[0m\u001b[7m  \u001b[0m\u001b[7m  \u001b[0m\u001b[7m  \u001b[0m\u001b[7m  \u001b[0m\n",
      "\u001b[7m  \u001b[0m\u001b[7m  \u001b[0m\u001b[7m  \u001b[0m\u001b[7m  \u001b[0m\u001b[49m  \u001b[0m\u001b[49m  \u001b[0m\u001b[7m  \u001b[0m\u001b[49m  \u001b[0m\u001b[7m  \u001b[0m\u001b[7m  \u001b[0m\u001b[49m  \u001b[0m\u001b[7m  \u001b[0m\u001b[49m  \u001b[0m\u001b[49m  \u001b[0m\u001b[49m  \u001b[0m\u001b[49m  \u001b[0m\u001b[7m  \u001b[0m\u001b[49m  \u001b[0m\u001b[7m  \u001b[0m\u001b[7m  \u001b[0m\u001b[49m  \u001b[0m\u001b[49m  \u001b[0m\u001b[7m  \u001b[0m\u001b[7m  \u001b[0m\u001b[49m  \u001b[0m\u001b[7m  \u001b[0m\u001b[7m  \u001b[0m\u001b[7m  \u001b[0m\u001b[7m  \u001b[0m\n",
      "\u001b[7m  \u001b[0m\u001b[7m  \u001b[0m\u001b[7m  \u001b[0m\u001b[7m  \u001b[0m\u001b[7m  \u001b[0m\u001b[7m  \u001b[0m\u001b[7m  \u001b[0m\u001b[7m  \u001b[0m\u001b[7m  \u001b[0m\u001b[7m  \u001b[0m\u001b[7m  \u001b[0m\u001b[7m  \u001b[0m\u001b[49m  \u001b[0m\u001b[7m  \u001b[0m\u001b[49m  \u001b[0m\u001b[49m  \u001b[0m\u001b[7m  \u001b[0m\u001b[7m  \u001b[0m\u001b[49m  \u001b[0m\u001b[7m  \u001b[0m\u001b[49m  \u001b[0m\u001b[7m  \u001b[0m\u001b[7m  \u001b[0m\u001b[7m  \u001b[0m\u001b[7m  \u001b[0m\u001b[7m  \u001b[0m\u001b[7m  \u001b[0m\u001b[7m  \u001b[0m\u001b[7m  \u001b[0m\n",
      "\u001b[7m  \u001b[0m\u001b[7m  \u001b[0m\u001b[7m  \u001b[0m\u001b[7m  \u001b[0m\u001b[49m  \u001b[0m\u001b[49m  \u001b[0m\u001b[49m  \u001b[0m\u001b[49m  \u001b[0m\u001b[49m  \u001b[0m\u001b[49m  \u001b[0m\u001b[49m  \u001b[0m\u001b[7m  \u001b[0m\u001b[49m  \u001b[0m\u001b[49m  \u001b[0m\u001b[7m  \u001b[0m\u001b[7m  \u001b[0m\u001b[49m  \u001b[0m\u001b[7m  \u001b[0m\u001b[49m  \u001b[0m\u001b[7m  \u001b[0m\u001b[49m  \u001b[0m\u001b[7m  \u001b[0m\u001b[49m  \u001b[0m\u001b[7m  \u001b[0m\u001b[49m  \u001b[0m\u001b[7m  \u001b[0m\u001b[7m  \u001b[0m\u001b[7m  \u001b[0m\u001b[7m  \u001b[0m\n",
      "\u001b[7m  \u001b[0m\u001b[7m  \u001b[0m\u001b[7m  \u001b[0m\u001b[7m  \u001b[0m\u001b[49m  \u001b[0m\u001b[7m  \u001b[0m\u001b[7m  \u001b[0m\u001b[7m  \u001b[0m\u001b[7m  \u001b[0m\u001b[7m  \u001b[0m\u001b[49m  \u001b[0m\u001b[7m  \u001b[0m\u001b[49m  \u001b[0m\u001b[7m  \u001b[0m\u001b[49m  \u001b[0m\u001b[7m  \u001b[0m\u001b[7m  \u001b[0m\u001b[7m  \u001b[0m\u001b[49m  \u001b[0m\u001b[7m  \u001b[0m\u001b[7m  \u001b[0m\u001b[49m  \u001b[0m\u001b[7m  \u001b[0m\u001b[49m  \u001b[0m\u001b[49m  \u001b[0m\u001b[7m  \u001b[0m\u001b[7m  \u001b[0m\u001b[7m  \u001b[0m\u001b[7m  \u001b[0m\n",
      "\u001b[7m  \u001b[0m\u001b[7m  \u001b[0m\u001b[7m  \u001b[0m\u001b[7m  \u001b[0m\u001b[49m  \u001b[0m\u001b[7m  \u001b[0m\u001b[49m  \u001b[0m\u001b[49m  \u001b[0m\u001b[49m  \u001b[0m\u001b[7m  \u001b[0m\u001b[49m  \u001b[0m\u001b[7m  \u001b[0m\u001b[7m  \u001b[0m\u001b[49m  \u001b[0m\u001b[49m  \u001b[0m\u001b[7m  \u001b[0m\u001b[49m  \u001b[0m\u001b[49m  \u001b[0m\u001b[49m  \u001b[0m\u001b[7m  \u001b[0m\u001b[7m  \u001b[0m\u001b[49m  \u001b[0m\u001b[7m  \u001b[0m\u001b[7m  \u001b[0m\u001b[49m  \u001b[0m\u001b[7m  \u001b[0m\u001b[7m  \u001b[0m\u001b[7m  \u001b[0m\u001b[7m  \u001b[0m\n",
      "\u001b[7m  \u001b[0m\u001b[7m  \u001b[0m\u001b[7m  \u001b[0m\u001b[7m  \u001b[0m\u001b[49m  \u001b[0m\u001b[7m  \u001b[0m\u001b[49m  \u001b[0m\u001b[49m  \u001b[0m\u001b[49m  \u001b[0m\u001b[7m  \u001b[0m\u001b[49m  \u001b[0m\u001b[7m  \u001b[0m\u001b[7m  \u001b[0m\u001b[7m  \u001b[0m\u001b[7m  \u001b[0m\u001b[49m  \u001b[0m\u001b[7m  \u001b[0m\u001b[7m  \u001b[0m\u001b[7m  \u001b[0m\u001b[7m  \u001b[0m\u001b[49m  \u001b[0m\u001b[49m  \u001b[0m\u001b[49m  \u001b[0m\u001b[7m  \u001b[0m\u001b[7m  \u001b[0m\u001b[7m  \u001b[0m\u001b[7m  \u001b[0m\u001b[7m  \u001b[0m\u001b[7m  \u001b[0m\n",
      "\u001b[7m  \u001b[0m\u001b[7m  \u001b[0m\u001b[7m  \u001b[0m\u001b[7m  \u001b[0m\u001b[49m  \u001b[0m\u001b[7m  \u001b[0m\u001b[49m  \u001b[0m\u001b[49m  \u001b[0m\u001b[49m  \u001b[0m\u001b[7m  \u001b[0m\u001b[49m  \u001b[0m\u001b[7m  \u001b[0m\u001b[49m  \u001b[0m\u001b[7m  \u001b[0m\u001b[7m  \u001b[0m\u001b[7m  \u001b[0m\u001b[7m  \u001b[0m\u001b[49m  \u001b[0m\u001b[49m  \u001b[0m\u001b[7m  \u001b[0m\u001b[49m  \u001b[0m\u001b[7m  \u001b[0m\u001b[49m  \u001b[0m\u001b[49m  \u001b[0m\u001b[49m  \u001b[0m\u001b[7m  \u001b[0m\u001b[7m  \u001b[0m\u001b[7m  \u001b[0m\u001b[7m  \u001b[0m\n",
      "\u001b[7m  \u001b[0m\u001b[7m  \u001b[0m\u001b[7m  \u001b[0m\u001b[7m  \u001b[0m\u001b[49m  \u001b[0m\u001b[7m  \u001b[0m\u001b[7m  \u001b[0m\u001b[7m  \u001b[0m\u001b[7m  \u001b[0m\u001b[7m  \u001b[0m\u001b[49m  \u001b[0m\u001b[7m  \u001b[0m\u001b[7m  \u001b[0m\u001b[49m  \u001b[0m\u001b[7m  \u001b[0m\u001b[7m  \u001b[0m\u001b[49m  \u001b[0m\u001b[7m  \u001b[0m\u001b[7m  \u001b[0m\u001b[7m  \u001b[0m\u001b[7m  \u001b[0m\u001b[49m  \u001b[0m\u001b[7m  \u001b[0m\u001b[7m  \u001b[0m\u001b[7m  \u001b[0m\u001b[7m  \u001b[0m\u001b[7m  \u001b[0m\u001b[7m  \u001b[0m\u001b[7m  \u001b[0m\n",
      "\u001b[7m  \u001b[0m\u001b[7m  \u001b[0m\u001b[7m  \u001b[0m\u001b[7m  \u001b[0m\u001b[49m  \u001b[0m\u001b[49m  \u001b[0m\u001b[49m  \u001b[0m\u001b[49m  \u001b[0m\u001b[49m  \u001b[0m\u001b[49m  \u001b[0m\u001b[49m  \u001b[0m\u001b[7m  \u001b[0m\u001b[7m  \u001b[0m\u001b[49m  \u001b[0m\u001b[7m  \u001b[0m\u001b[7m  \u001b[0m\u001b[49m  \u001b[0m\u001b[7m  \u001b[0m\u001b[49m  \u001b[0m\u001b[49m  \u001b[0m\u001b[49m  \u001b[0m\u001b[7m  \u001b[0m\u001b[7m  \u001b[0m\u001b[7m  \u001b[0m\u001b[49m  \u001b[0m\u001b[7m  \u001b[0m\u001b[7m  \u001b[0m\u001b[7m  \u001b[0m\u001b[7m  \u001b[0m\n",
      "\u001b[7m  \u001b[0m\u001b[7m  \u001b[0m\u001b[7m  \u001b[0m\u001b[7m  \u001b[0m\u001b[7m  \u001b[0m\u001b[7m  \u001b[0m\u001b[7m  \u001b[0m\u001b[7m  \u001b[0m\u001b[7m  \u001b[0m\u001b[7m  \u001b[0m\u001b[7m  \u001b[0m\u001b[7m  \u001b[0m\u001b[7m  \u001b[0m\u001b[7m  \u001b[0m\u001b[7m  \u001b[0m\u001b[7m  \u001b[0m\u001b[7m  \u001b[0m\u001b[7m  \u001b[0m\u001b[7m  \u001b[0m\u001b[7m  \u001b[0m\u001b[7m  \u001b[0m\u001b[7m  \u001b[0m\u001b[7m  \u001b[0m\u001b[7m  \u001b[0m\u001b[7m  \u001b[0m\u001b[7m  \u001b[0m\u001b[7m  \u001b[0m\u001b[7m  \u001b[0m\u001b[7m  \u001b[0m\n",
      "\u001b[7m  \u001b[0m\u001b[7m  \u001b[0m\u001b[7m  \u001b[0m\u001b[7m  \u001b[0m\u001b[7m  \u001b[0m\u001b[7m  \u001b[0m\u001b[7m  \u001b[0m\u001b[7m  \u001b[0m\u001b[7m  \u001b[0m\u001b[7m  \u001b[0m\u001b[7m  \u001b[0m\u001b[7m  \u001b[0m\u001b[7m  \u001b[0m\u001b[7m  \u001b[0m\u001b[7m  \u001b[0m\u001b[7m  \u001b[0m\u001b[7m  \u001b[0m\u001b[7m  \u001b[0m\u001b[7m  \u001b[0m\u001b[7m  \u001b[0m\u001b[7m  \u001b[0m\u001b[7m  \u001b[0m\u001b[7m  \u001b[0m\u001b[7m  \u001b[0m\u001b[7m  \u001b[0m\u001b[7m  \u001b[0m\u001b[7m  \u001b[0m\u001b[7m  \u001b[0m\u001b[7m  \u001b[0m\n",
      "\u001b[7m  \u001b[0m\u001b[7m  \u001b[0m\u001b[7m  \u001b[0m\u001b[7m  \u001b[0m\u001b[7m  \u001b[0m\u001b[7m  \u001b[0m\u001b[7m  \u001b[0m\u001b[7m  \u001b[0m\u001b[7m  \u001b[0m\u001b[7m  \u001b[0m\u001b[7m  \u001b[0m\u001b[7m  \u001b[0m\u001b[7m  \u001b[0m\u001b[7m  \u001b[0m\u001b[7m  \u001b[0m\u001b[7m  \u001b[0m\u001b[7m  \u001b[0m\u001b[7m  \u001b[0m\u001b[7m  \u001b[0m\u001b[7m  \u001b[0m\u001b[7m  \u001b[0m\u001b[7m  \u001b[0m\u001b[7m  \u001b[0m\u001b[7m  \u001b[0m\u001b[7m  \u001b[0m\u001b[7m  \u001b[0m\u001b[7m  \u001b[0m\u001b[7m  \u001b[0m\u001b[7m  \u001b[0m\n",
      "\u001b[7m  \u001b[0m\u001b[7m  \u001b[0m\u001b[7m  \u001b[0m\u001b[7m  \u001b[0m\u001b[7m  \u001b[0m\u001b[7m  \u001b[0m\u001b[7m  \u001b[0m\u001b[7m  \u001b[0m\u001b[7m  \u001b[0m\u001b[7m  \u001b[0m\u001b[7m  \u001b[0m\u001b[7m  \u001b[0m\u001b[7m  \u001b[0m\u001b[7m  \u001b[0m\u001b[7m  \u001b[0m\u001b[7m  \u001b[0m\u001b[7m  \u001b[0m\u001b[7m  \u001b[0m\u001b[7m  \u001b[0m\u001b[7m  \u001b[0m\u001b[7m  \u001b[0m\u001b[7m  \u001b[0m\u001b[7m  \u001b[0m\u001b[7m  \u001b[0m\u001b[7m  \u001b[0m\u001b[7m  \u001b[0m\u001b[7m  \u001b[0m\u001b[7m  \u001b[0m\u001b[7m  \u001b[0m\n",
      "\n"
     ]
    }
   ],
   "source": [
    "import pyqrcode\n",
    "text = pyqrcode.create('Example')\n",
    "print(text.terminal())"
   ]
  },
  {
   "cell_type": "code",
   "execution_count": 2,
   "id": "33121fe4",
   "metadata": {
    "ExecuteTime": {
     "end_time": "2023-09-19T12:42:52.462363Z",
     "start_time": "2023-09-19T12:42:52.457304Z"
    }
   },
   "outputs": [
    {
     "name": "stdout",
     "output_type": "stream",
     "text": [
      "\n",
      "\u001b[43m  \u001b[0m\u001b[43m  \u001b[0m\u001b[43m  \u001b[0m\u001b[43m  \u001b[0m\u001b[43m  \u001b[0m\u001b[43m  \u001b[0m\u001b[43m  \u001b[0m\u001b[43m  \u001b[0m\u001b[43m  \u001b[0m\u001b[43m  \u001b[0m\u001b[43m  \u001b[0m\u001b[43m  \u001b[0m\u001b[43m  \u001b[0m\u001b[43m  \u001b[0m\u001b[43m  \u001b[0m\u001b[43m  \u001b[0m\u001b[43m  \u001b[0m\u001b[43m  \u001b[0m\u001b[43m  \u001b[0m\u001b[43m  \u001b[0m\u001b[43m  \u001b[0m\u001b[43m  \u001b[0m\u001b[43m  \u001b[0m\u001b[43m  \u001b[0m\u001b[43m  \u001b[0m\u001b[43m  \u001b[0m\u001b[43m  \u001b[0m\u001b[43m  \u001b[0m\u001b[43m  \u001b[0m\n",
      "\u001b[43m  \u001b[0m\u001b[43m  \u001b[0m\u001b[43m  \u001b[0m\u001b[43m  \u001b[0m\u001b[43m  \u001b[0m\u001b[43m  \u001b[0m\u001b[43m  \u001b[0m\u001b[43m  \u001b[0m\u001b[43m  \u001b[0m\u001b[43m  \u001b[0m\u001b[43m  \u001b[0m\u001b[43m  \u001b[0m\u001b[43m  \u001b[0m\u001b[43m  \u001b[0m\u001b[43m  \u001b[0m\u001b[43m  \u001b[0m\u001b[43m  \u001b[0m\u001b[43m  \u001b[0m\u001b[43m  \u001b[0m\u001b[43m  \u001b[0m\u001b[43m  \u001b[0m\u001b[43m  \u001b[0m\u001b[43m  \u001b[0m\u001b[43m  \u001b[0m\u001b[43m  \u001b[0m\u001b[43m  \u001b[0m\u001b[43m  \u001b[0m\u001b[43m  \u001b[0m\u001b[43m  \u001b[0m\n",
      "\u001b[43m  \u001b[0m\u001b[43m  \u001b[0m\u001b[43m  \u001b[0m\u001b[43m  \u001b[0m\u001b[43m  \u001b[0m\u001b[43m  \u001b[0m\u001b[43m  \u001b[0m\u001b[43m  \u001b[0m\u001b[43m  \u001b[0m\u001b[43m  \u001b[0m\u001b[43m  \u001b[0m\u001b[43m  \u001b[0m\u001b[43m  \u001b[0m\u001b[43m  \u001b[0m\u001b[43m  \u001b[0m\u001b[43m  \u001b[0m\u001b[43m  \u001b[0m\u001b[43m  \u001b[0m\u001b[43m  \u001b[0m\u001b[43m  \u001b[0m\u001b[43m  \u001b[0m\u001b[43m  \u001b[0m\u001b[43m  \u001b[0m\u001b[43m  \u001b[0m\u001b[43m  \u001b[0m\u001b[43m  \u001b[0m\u001b[43m  \u001b[0m\u001b[43m  \u001b[0m\u001b[43m  \u001b[0m\n",
      "\u001b[43m  \u001b[0m\u001b[43m  \u001b[0m\u001b[43m  \u001b[0m\u001b[43m  \u001b[0m\u001b[43m  \u001b[0m\u001b[43m  \u001b[0m\u001b[43m  \u001b[0m\u001b[43m  \u001b[0m\u001b[43m  \u001b[0m\u001b[43m  \u001b[0m\u001b[43m  \u001b[0m\u001b[43m  \u001b[0m\u001b[43m  \u001b[0m\u001b[43m  \u001b[0m\u001b[43m  \u001b[0m\u001b[43m  \u001b[0m\u001b[43m  \u001b[0m\u001b[43m  \u001b[0m\u001b[43m  \u001b[0m\u001b[43m  \u001b[0m\u001b[43m  \u001b[0m\u001b[43m  \u001b[0m\u001b[43m  \u001b[0m\u001b[43m  \u001b[0m\u001b[43m  \u001b[0m\u001b[43m  \u001b[0m\u001b[43m  \u001b[0m\u001b[43m  \u001b[0m\u001b[43m  \u001b[0m\n",
      "\u001b[43m  \u001b[0m\u001b[43m  \u001b[0m\u001b[43m  \u001b[0m\u001b[43m  \u001b[0m\u001b[41m  \u001b[0m\u001b[41m  \u001b[0m\u001b[41m  \u001b[0m\u001b[41m  \u001b[0m\u001b[41m  \u001b[0m\u001b[41m  \u001b[0m\u001b[41m  \u001b[0m\u001b[43m  \u001b[0m\u001b[43m  \u001b[0m\u001b[43m  \u001b[0m\u001b[43m  \u001b[0m\u001b[43m  \u001b[0m\u001b[43m  \u001b[0m\u001b[43m  \u001b[0m\u001b[41m  \u001b[0m\u001b[41m  \u001b[0m\u001b[41m  \u001b[0m\u001b[41m  \u001b[0m\u001b[41m  \u001b[0m\u001b[41m  \u001b[0m\u001b[41m  \u001b[0m\u001b[43m  \u001b[0m\u001b[43m  \u001b[0m\u001b[43m  \u001b[0m\u001b[43m  \u001b[0m\n",
      "\u001b[43m  \u001b[0m\u001b[43m  \u001b[0m\u001b[43m  \u001b[0m\u001b[43m  \u001b[0m\u001b[41m  \u001b[0m\u001b[43m  \u001b[0m\u001b[43m  \u001b[0m\u001b[43m  \u001b[0m\u001b[43m  \u001b[0m\u001b[43m  \u001b[0m\u001b[41m  \u001b[0m\u001b[43m  \u001b[0m\u001b[41m  \u001b[0m\u001b[43m  \u001b[0m\u001b[43m  \u001b[0m\u001b[43m  \u001b[0m\u001b[43m  \u001b[0m\u001b[43m  \u001b[0m\u001b[41m  \u001b[0m\u001b[43m  \u001b[0m\u001b[43m  \u001b[0m\u001b[43m  \u001b[0m\u001b[43m  \u001b[0m\u001b[43m  \u001b[0m\u001b[41m  \u001b[0m\u001b[43m  \u001b[0m\u001b[43m  \u001b[0m\u001b[43m  \u001b[0m\u001b[43m  \u001b[0m\n",
      "\u001b[43m  \u001b[0m\u001b[43m  \u001b[0m\u001b[43m  \u001b[0m\u001b[43m  \u001b[0m\u001b[41m  \u001b[0m\u001b[43m  \u001b[0m\u001b[41m  \u001b[0m\u001b[41m  \u001b[0m\u001b[41m  \u001b[0m\u001b[43m  \u001b[0m\u001b[41m  \u001b[0m\u001b[43m  \u001b[0m\u001b[41m  \u001b[0m\u001b[43m  \u001b[0m\u001b[43m  \u001b[0m\u001b[41m  \u001b[0m\u001b[41m  \u001b[0m\u001b[43m  \u001b[0m\u001b[41m  \u001b[0m\u001b[43m  \u001b[0m\u001b[41m  \u001b[0m\u001b[41m  \u001b[0m\u001b[41m  \u001b[0m\u001b[43m  \u001b[0m\u001b[41m  \u001b[0m\u001b[43m  \u001b[0m\u001b[43m  \u001b[0m\u001b[43m  \u001b[0m\u001b[43m  \u001b[0m\n",
      "\u001b[43m  \u001b[0m\u001b[43m  \u001b[0m\u001b[43m  \u001b[0m\u001b[43m  \u001b[0m\u001b[41m  \u001b[0m\u001b[43m  \u001b[0m\u001b[41m  \u001b[0m\u001b[41m  \u001b[0m\u001b[41m  \u001b[0m\u001b[43m  \u001b[0m\u001b[41m  \u001b[0m\u001b[43m  \u001b[0m\u001b[41m  \u001b[0m\u001b[43m  \u001b[0m\u001b[43m  \u001b[0m\u001b[41m  \u001b[0m\u001b[43m  \u001b[0m\u001b[43m  \u001b[0m\u001b[41m  \u001b[0m\u001b[43m  \u001b[0m\u001b[41m  \u001b[0m\u001b[41m  \u001b[0m\u001b[41m  \u001b[0m\u001b[43m  \u001b[0m\u001b[41m  \u001b[0m\u001b[43m  \u001b[0m\u001b[43m  \u001b[0m\u001b[43m  \u001b[0m\u001b[43m  \u001b[0m\n",
      "\u001b[43m  \u001b[0m\u001b[43m  \u001b[0m\u001b[43m  \u001b[0m\u001b[43m  \u001b[0m\u001b[41m  \u001b[0m\u001b[43m  \u001b[0m\u001b[41m  \u001b[0m\u001b[41m  \u001b[0m\u001b[41m  \u001b[0m\u001b[43m  \u001b[0m\u001b[41m  \u001b[0m\u001b[43m  \u001b[0m\u001b[41m  \u001b[0m\u001b[41m  \u001b[0m\u001b[41m  \u001b[0m\u001b[43m  \u001b[0m\u001b[41m  \u001b[0m\u001b[43m  \u001b[0m\u001b[41m  \u001b[0m\u001b[43m  \u001b[0m\u001b[41m  \u001b[0m\u001b[41m  \u001b[0m\u001b[41m  \u001b[0m\u001b[43m  \u001b[0m\u001b[41m  \u001b[0m\u001b[43m  \u001b[0m\u001b[43m  \u001b[0m\u001b[43m  \u001b[0m\u001b[43m  \u001b[0m\n",
      "\u001b[43m  \u001b[0m\u001b[43m  \u001b[0m\u001b[43m  \u001b[0m\u001b[43m  \u001b[0m\u001b[41m  \u001b[0m\u001b[43m  \u001b[0m\u001b[43m  \u001b[0m\u001b[43m  \u001b[0m\u001b[43m  \u001b[0m\u001b[43m  \u001b[0m\u001b[41m  \u001b[0m\u001b[43m  \u001b[0m\u001b[41m  \u001b[0m\u001b[43m  \u001b[0m\u001b[43m  \u001b[0m\u001b[43m  \u001b[0m\u001b[43m  \u001b[0m\u001b[43m  \u001b[0m\u001b[41m  \u001b[0m\u001b[43m  \u001b[0m\u001b[43m  \u001b[0m\u001b[43m  \u001b[0m\u001b[43m  \u001b[0m\u001b[43m  \u001b[0m\u001b[41m  \u001b[0m\u001b[43m  \u001b[0m\u001b[43m  \u001b[0m\u001b[43m  \u001b[0m\u001b[43m  \u001b[0m\n",
      "\u001b[43m  \u001b[0m\u001b[43m  \u001b[0m\u001b[43m  \u001b[0m\u001b[43m  \u001b[0m\u001b[41m  \u001b[0m\u001b[41m  \u001b[0m\u001b[41m  \u001b[0m\u001b[41m  \u001b[0m\u001b[41m  \u001b[0m\u001b[41m  \u001b[0m\u001b[41m  \u001b[0m\u001b[43m  \u001b[0m\u001b[41m  \u001b[0m\u001b[43m  \u001b[0m\u001b[41m  \u001b[0m\u001b[43m  \u001b[0m\u001b[41m  \u001b[0m\u001b[43m  \u001b[0m\u001b[41m  \u001b[0m\u001b[41m  \u001b[0m\u001b[41m  \u001b[0m\u001b[41m  \u001b[0m\u001b[41m  \u001b[0m\u001b[41m  \u001b[0m\u001b[41m  \u001b[0m\u001b[43m  \u001b[0m\u001b[43m  \u001b[0m\u001b[43m  \u001b[0m\u001b[43m  \u001b[0m\n",
      "\u001b[43m  \u001b[0m\u001b[43m  \u001b[0m\u001b[43m  \u001b[0m\u001b[43m  \u001b[0m\u001b[43m  \u001b[0m\u001b[43m  \u001b[0m\u001b[43m  \u001b[0m\u001b[43m  \u001b[0m\u001b[43m  \u001b[0m\u001b[43m  \u001b[0m\u001b[43m  \u001b[0m\u001b[43m  \u001b[0m\u001b[43m  \u001b[0m\u001b[41m  \u001b[0m\u001b[41m  \u001b[0m\u001b[41m  \u001b[0m\u001b[43m  \u001b[0m\u001b[43m  \u001b[0m\u001b[43m  \u001b[0m\u001b[43m  \u001b[0m\u001b[43m  \u001b[0m\u001b[43m  \u001b[0m\u001b[43m  \u001b[0m\u001b[43m  \u001b[0m\u001b[43m  \u001b[0m\u001b[43m  \u001b[0m\u001b[43m  \u001b[0m\u001b[43m  \u001b[0m\u001b[43m  \u001b[0m\n",
      "\u001b[43m  \u001b[0m\u001b[43m  \u001b[0m\u001b[43m  \u001b[0m\u001b[43m  \u001b[0m\u001b[43m  \u001b[0m\u001b[43m  \u001b[0m\u001b[41m  \u001b[0m\u001b[43m  \u001b[0m\u001b[43m  \u001b[0m\u001b[41m  \u001b[0m\u001b[41m  \u001b[0m\u001b[41m  \u001b[0m\u001b[41m  \u001b[0m\u001b[43m  \u001b[0m\u001b[41m  \u001b[0m\u001b[43m  \u001b[0m\u001b[41m  \u001b[0m\u001b[41m  \u001b[0m\u001b[43m  \u001b[0m\u001b[41m  \u001b[0m\u001b[41m  \u001b[0m\u001b[41m  \u001b[0m\u001b[41m  \u001b[0m\u001b[41m  \u001b[0m\u001b[43m  \u001b[0m\u001b[43m  \u001b[0m\u001b[43m  \u001b[0m\u001b[43m  \u001b[0m\u001b[43m  \u001b[0m\n",
      "\u001b[43m  \u001b[0m\u001b[43m  \u001b[0m\u001b[43m  \u001b[0m\u001b[43m  \u001b[0m\u001b[41m  \u001b[0m\u001b[41m  \u001b[0m\u001b[43m  \u001b[0m\u001b[43m  \u001b[0m\u001b[41m  \u001b[0m\u001b[43m  \u001b[0m\u001b[43m  \u001b[0m\u001b[43m  \u001b[0m\u001b[43m  \u001b[0m\u001b[43m  \u001b[0m\u001b[43m  \u001b[0m\u001b[41m  \u001b[0m\u001b[43m  \u001b[0m\u001b[41m  \u001b[0m\u001b[43m  \u001b[0m\u001b[43m  \u001b[0m\u001b[43m  \u001b[0m\u001b[43m  \u001b[0m\u001b[41m  \u001b[0m\u001b[41m  \u001b[0m\u001b[41m  \u001b[0m\u001b[43m  \u001b[0m\u001b[43m  \u001b[0m\u001b[43m  \u001b[0m\u001b[43m  \u001b[0m\n",
      "\u001b[43m  \u001b[0m\u001b[43m  \u001b[0m\u001b[43m  \u001b[0m\u001b[43m  \u001b[0m\u001b[41m  \u001b[0m\u001b[41m  \u001b[0m\u001b[41m  \u001b[0m\u001b[43m  \u001b[0m\u001b[43m  \u001b[0m\u001b[41m  \u001b[0m\u001b[41m  \u001b[0m\u001b[43m  \u001b[0m\u001b[41m  \u001b[0m\u001b[41m  \u001b[0m\u001b[41m  \u001b[0m\u001b[43m  \u001b[0m\u001b[41m  \u001b[0m\u001b[43m  \u001b[0m\u001b[41m  \u001b[0m\u001b[41m  \u001b[0m\u001b[41m  \u001b[0m\u001b[41m  \u001b[0m\u001b[41m  \u001b[0m\u001b[43m  \u001b[0m\u001b[41m  \u001b[0m\u001b[43m  \u001b[0m\u001b[43m  \u001b[0m\u001b[43m  \u001b[0m\u001b[43m  \u001b[0m\n",
      "\u001b[43m  \u001b[0m\u001b[43m  \u001b[0m\u001b[43m  \u001b[0m\u001b[43m  \u001b[0m\u001b[43m  \u001b[0m\u001b[41m  \u001b[0m\u001b[41m  \u001b[0m\u001b[43m  \u001b[0m\u001b[41m  \u001b[0m\u001b[43m  \u001b[0m\u001b[43m  \u001b[0m\u001b[41m  \u001b[0m\u001b[43m  \u001b[0m\u001b[43m  \u001b[0m\u001b[41m  \u001b[0m\u001b[43m  \u001b[0m\u001b[43m  \u001b[0m\u001b[41m  \u001b[0m\u001b[43m  \u001b[0m\u001b[41m  \u001b[0m\u001b[43m  \u001b[0m\u001b[41m  \u001b[0m\u001b[43m  \u001b[0m\u001b[41m  \u001b[0m\u001b[43m  \u001b[0m\u001b[43m  \u001b[0m\u001b[43m  \u001b[0m\u001b[43m  \u001b[0m\u001b[43m  \u001b[0m\n",
      "\u001b[43m  \u001b[0m\u001b[43m  \u001b[0m\u001b[43m  \u001b[0m\u001b[43m  \u001b[0m\u001b[41m  \u001b[0m\u001b[41m  \u001b[0m\u001b[43m  \u001b[0m\u001b[41m  \u001b[0m\u001b[43m  \u001b[0m\u001b[43m  \u001b[0m\u001b[41m  \u001b[0m\u001b[43m  \u001b[0m\u001b[41m  \u001b[0m\u001b[41m  \u001b[0m\u001b[41m  \u001b[0m\u001b[41m  \u001b[0m\u001b[43m  \u001b[0m\u001b[41m  \u001b[0m\u001b[43m  \u001b[0m\u001b[43m  \u001b[0m\u001b[41m  \u001b[0m\u001b[41m  \u001b[0m\u001b[43m  \u001b[0m\u001b[43m  \u001b[0m\u001b[41m  \u001b[0m\u001b[43m  \u001b[0m\u001b[43m  \u001b[0m\u001b[43m  \u001b[0m\u001b[43m  \u001b[0m\n",
      "\u001b[43m  \u001b[0m\u001b[43m  \u001b[0m\u001b[43m  \u001b[0m\u001b[43m  \u001b[0m\u001b[43m  \u001b[0m\u001b[43m  \u001b[0m\u001b[43m  \u001b[0m\u001b[43m  \u001b[0m\u001b[43m  \u001b[0m\u001b[43m  \u001b[0m\u001b[43m  \u001b[0m\u001b[43m  \u001b[0m\u001b[41m  \u001b[0m\u001b[43m  \u001b[0m\u001b[41m  \u001b[0m\u001b[41m  \u001b[0m\u001b[43m  \u001b[0m\u001b[43m  \u001b[0m\u001b[41m  \u001b[0m\u001b[43m  \u001b[0m\u001b[41m  \u001b[0m\u001b[43m  \u001b[0m\u001b[43m  \u001b[0m\u001b[43m  \u001b[0m\u001b[43m  \u001b[0m\u001b[43m  \u001b[0m\u001b[43m  \u001b[0m\u001b[43m  \u001b[0m\u001b[43m  \u001b[0m\n",
      "\u001b[43m  \u001b[0m\u001b[43m  \u001b[0m\u001b[43m  \u001b[0m\u001b[43m  \u001b[0m\u001b[41m  \u001b[0m\u001b[41m  \u001b[0m\u001b[41m  \u001b[0m\u001b[41m  \u001b[0m\u001b[41m  \u001b[0m\u001b[41m  \u001b[0m\u001b[41m  \u001b[0m\u001b[43m  \u001b[0m\u001b[41m  \u001b[0m\u001b[41m  \u001b[0m\u001b[43m  \u001b[0m\u001b[43m  \u001b[0m\u001b[41m  \u001b[0m\u001b[43m  \u001b[0m\u001b[41m  \u001b[0m\u001b[43m  \u001b[0m\u001b[41m  \u001b[0m\u001b[43m  \u001b[0m\u001b[41m  \u001b[0m\u001b[43m  \u001b[0m\u001b[41m  \u001b[0m\u001b[43m  \u001b[0m\u001b[43m  \u001b[0m\u001b[43m  \u001b[0m\u001b[43m  \u001b[0m\n",
      "\u001b[43m  \u001b[0m\u001b[43m  \u001b[0m\u001b[43m  \u001b[0m\u001b[43m  \u001b[0m\u001b[41m  \u001b[0m\u001b[43m  \u001b[0m\u001b[43m  \u001b[0m\u001b[43m  \u001b[0m\u001b[43m  \u001b[0m\u001b[43m  \u001b[0m\u001b[41m  \u001b[0m\u001b[43m  \u001b[0m\u001b[41m  \u001b[0m\u001b[43m  \u001b[0m\u001b[41m  \u001b[0m\u001b[43m  \u001b[0m\u001b[43m  \u001b[0m\u001b[43m  \u001b[0m\u001b[41m  \u001b[0m\u001b[43m  \u001b[0m\u001b[43m  \u001b[0m\u001b[41m  \u001b[0m\u001b[43m  \u001b[0m\u001b[41m  \u001b[0m\u001b[41m  \u001b[0m\u001b[43m  \u001b[0m\u001b[43m  \u001b[0m\u001b[43m  \u001b[0m\u001b[43m  \u001b[0m\n",
      "\u001b[43m  \u001b[0m\u001b[43m  \u001b[0m\u001b[43m  \u001b[0m\u001b[43m  \u001b[0m\u001b[41m  \u001b[0m\u001b[43m  \u001b[0m\u001b[41m  \u001b[0m\u001b[41m  \u001b[0m\u001b[41m  \u001b[0m\u001b[43m  \u001b[0m\u001b[41m  \u001b[0m\u001b[43m  \u001b[0m\u001b[43m  \u001b[0m\u001b[41m  \u001b[0m\u001b[41m  \u001b[0m\u001b[43m  \u001b[0m\u001b[41m  \u001b[0m\u001b[41m  \u001b[0m\u001b[41m  \u001b[0m\u001b[43m  \u001b[0m\u001b[43m  \u001b[0m\u001b[41m  \u001b[0m\u001b[43m  \u001b[0m\u001b[43m  \u001b[0m\u001b[41m  \u001b[0m\u001b[43m  \u001b[0m\u001b[43m  \u001b[0m\u001b[43m  \u001b[0m\u001b[43m  \u001b[0m\n",
      "\u001b[43m  \u001b[0m\u001b[43m  \u001b[0m\u001b[43m  \u001b[0m\u001b[43m  \u001b[0m\u001b[41m  \u001b[0m\u001b[43m  \u001b[0m\u001b[41m  \u001b[0m\u001b[41m  \u001b[0m\u001b[41m  \u001b[0m\u001b[43m  \u001b[0m\u001b[41m  \u001b[0m\u001b[43m  \u001b[0m\u001b[43m  \u001b[0m\u001b[43m  \u001b[0m\u001b[43m  \u001b[0m\u001b[41m  \u001b[0m\u001b[43m  \u001b[0m\u001b[43m  \u001b[0m\u001b[43m  \u001b[0m\u001b[43m  \u001b[0m\u001b[41m  \u001b[0m\u001b[41m  \u001b[0m\u001b[41m  \u001b[0m\u001b[43m  \u001b[0m\u001b[43m  \u001b[0m\u001b[43m  \u001b[0m\u001b[43m  \u001b[0m\u001b[43m  \u001b[0m\u001b[43m  \u001b[0m\n",
      "\u001b[43m  \u001b[0m\u001b[43m  \u001b[0m\u001b[43m  \u001b[0m\u001b[43m  \u001b[0m\u001b[41m  \u001b[0m\u001b[43m  \u001b[0m\u001b[41m  \u001b[0m\u001b[41m  \u001b[0m\u001b[41m  \u001b[0m\u001b[43m  \u001b[0m\u001b[41m  \u001b[0m\u001b[43m  \u001b[0m\u001b[41m  \u001b[0m\u001b[43m  \u001b[0m\u001b[43m  \u001b[0m\u001b[43m  \u001b[0m\u001b[43m  \u001b[0m\u001b[41m  \u001b[0m\u001b[41m  \u001b[0m\u001b[43m  \u001b[0m\u001b[41m  \u001b[0m\u001b[43m  \u001b[0m\u001b[41m  \u001b[0m\u001b[41m  \u001b[0m\u001b[41m  \u001b[0m\u001b[43m  \u001b[0m\u001b[43m  \u001b[0m\u001b[43m  \u001b[0m\u001b[43m  \u001b[0m\n",
      "\u001b[43m  \u001b[0m\u001b[43m  \u001b[0m\u001b[43m  \u001b[0m\u001b[43m  \u001b[0m\u001b[41m  \u001b[0m\u001b[43m  \u001b[0m\u001b[43m  \u001b[0m\u001b[43m  \u001b[0m\u001b[43m  \u001b[0m\u001b[43m  \u001b[0m\u001b[41m  \u001b[0m\u001b[43m  \u001b[0m\u001b[43m  \u001b[0m\u001b[41m  \u001b[0m\u001b[43m  \u001b[0m\u001b[43m  \u001b[0m\u001b[41m  \u001b[0m\u001b[43m  \u001b[0m\u001b[43m  \u001b[0m\u001b[43m  \u001b[0m\u001b[43m  \u001b[0m\u001b[41m  \u001b[0m\u001b[43m  \u001b[0m\u001b[43m  \u001b[0m\u001b[43m  \u001b[0m\u001b[43m  \u001b[0m\u001b[43m  \u001b[0m\u001b[43m  \u001b[0m\u001b[43m  \u001b[0m\n",
      "\u001b[43m  \u001b[0m\u001b[43m  \u001b[0m\u001b[43m  \u001b[0m\u001b[43m  \u001b[0m\u001b[41m  \u001b[0m\u001b[41m  \u001b[0m\u001b[41m  \u001b[0m\u001b[41m  \u001b[0m\u001b[41m  \u001b[0m\u001b[41m  \u001b[0m\u001b[41m  \u001b[0m\u001b[43m  \u001b[0m\u001b[43m  \u001b[0m\u001b[41m  \u001b[0m\u001b[43m  \u001b[0m\u001b[43m  \u001b[0m\u001b[41m  \u001b[0m\u001b[43m  \u001b[0m\u001b[41m  \u001b[0m\u001b[41m  \u001b[0m\u001b[41m  \u001b[0m\u001b[43m  \u001b[0m\u001b[43m  \u001b[0m\u001b[43m  \u001b[0m\u001b[41m  \u001b[0m\u001b[43m  \u001b[0m\u001b[43m  \u001b[0m\u001b[43m  \u001b[0m\u001b[43m  \u001b[0m\n",
      "\u001b[43m  \u001b[0m\u001b[43m  \u001b[0m\u001b[43m  \u001b[0m\u001b[43m  \u001b[0m\u001b[43m  \u001b[0m\u001b[43m  \u001b[0m\u001b[43m  \u001b[0m\u001b[43m  \u001b[0m\u001b[43m  \u001b[0m\u001b[43m  \u001b[0m\u001b[43m  \u001b[0m\u001b[43m  \u001b[0m\u001b[43m  \u001b[0m\u001b[43m  \u001b[0m\u001b[43m  \u001b[0m\u001b[43m  \u001b[0m\u001b[43m  \u001b[0m\u001b[43m  \u001b[0m\u001b[43m  \u001b[0m\u001b[43m  \u001b[0m\u001b[43m  \u001b[0m\u001b[43m  \u001b[0m\u001b[43m  \u001b[0m\u001b[43m  \u001b[0m\u001b[43m  \u001b[0m\u001b[43m  \u001b[0m\u001b[43m  \u001b[0m\u001b[43m  \u001b[0m\u001b[43m  \u001b[0m\n",
      "\u001b[43m  \u001b[0m\u001b[43m  \u001b[0m\u001b[43m  \u001b[0m\u001b[43m  \u001b[0m\u001b[43m  \u001b[0m\u001b[43m  \u001b[0m\u001b[43m  \u001b[0m\u001b[43m  \u001b[0m\u001b[43m  \u001b[0m\u001b[43m  \u001b[0m\u001b[43m  \u001b[0m\u001b[43m  \u001b[0m\u001b[43m  \u001b[0m\u001b[43m  \u001b[0m\u001b[43m  \u001b[0m\u001b[43m  \u001b[0m\u001b[43m  \u001b[0m\u001b[43m  \u001b[0m\u001b[43m  \u001b[0m\u001b[43m  \u001b[0m\u001b[43m  \u001b[0m\u001b[43m  \u001b[0m\u001b[43m  \u001b[0m\u001b[43m  \u001b[0m\u001b[43m  \u001b[0m\u001b[43m  \u001b[0m\u001b[43m  \u001b[0m\u001b[43m  \u001b[0m\u001b[43m  \u001b[0m\n",
      "\u001b[43m  \u001b[0m\u001b[43m  \u001b[0m\u001b[43m  \u001b[0m\u001b[43m  \u001b[0m\u001b[43m  \u001b[0m\u001b[43m  \u001b[0m\u001b[43m  \u001b[0m\u001b[43m  \u001b[0m\u001b[43m  \u001b[0m\u001b[43m  \u001b[0m\u001b[43m  \u001b[0m\u001b[43m  \u001b[0m\u001b[43m  \u001b[0m\u001b[43m  \u001b[0m\u001b[43m  \u001b[0m\u001b[43m  \u001b[0m\u001b[43m  \u001b[0m\u001b[43m  \u001b[0m\u001b[43m  \u001b[0m\u001b[43m  \u001b[0m\u001b[43m  \u001b[0m\u001b[43m  \u001b[0m\u001b[43m  \u001b[0m\u001b[43m  \u001b[0m\u001b[43m  \u001b[0m\u001b[43m  \u001b[0m\u001b[43m  \u001b[0m\u001b[43m  \u001b[0m\u001b[43m  \u001b[0m\n",
      "\u001b[43m  \u001b[0m\u001b[43m  \u001b[0m\u001b[43m  \u001b[0m\u001b[43m  \u001b[0m\u001b[43m  \u001b[0m\u001b[43m  \u001b[0m\u001b[43m  \u001b[0m\u001b[43m  \u001b[0m\u001b[43m  \u001b[0m\u001b[43m  \u001b[0m\u001b[43m  \u001b[0m\u001b[43m  \u001b[0m\u001b[43m  \u001b[0m\u001b[43m  \u001b[0m\u001b[43m  \u001b[0m\u001b[43m  \u001b[0m\u001b[43m  \u001b[0m\u001b[43m  \u001b[0m\u001b[43m  \u001b[0m\u001b[43m  \u001b[0m\u001b[43m  \u001b[0m\u001b[43m  \u001b[0m\u001b[43m  \u001b[0m\u001b[43m  \u001b[0m\u001b[43m  \u001b[0m\u001b[43m  \u001b[0m\u001b[43m  \u001b[0m\u001b[43m  \u001b[0m\u001b[43m  \u001b[0m\n",
      "\n"
     ]
    }
   ],
   "source": [
    "print(text.terminal(module_color='red', background='yellow'))"
   ]
  },
  {
   "cell_type": "code",
   "execution_count": 3,
   "id": "8f8d2229",
   "metadata": {
    "ExecuteTime": {
     "end_time": "2023-09-19T12:42:53.326598Z",
     "start_time": "2023-09-19T12:42:53.321709Z"
    }
   },
   "outputs": [
    {
     "name": "stdout",
     "output_type": "stream",
     "text": [
      "\n",
      "\u001b[48;5;123m  \u001b[0m\u001b[48;5;123m  \u001b[0m\u001b[48;5;123m  \u001b[0m\u001b[48;5;123m  \u001b[0m\u001b[48;5;123m  \u001b[0m\u001b[48;5;123m  \u001b[0m\u001b[48;5;123m  \u001b[0m\u001b[48;5;123m  \u001b[0m\u001b[48;5;123m  \u001b[0m\u001b[48;5;123m  \u001b[0m\u001b[48;5;123m  \u001b[0m\u001b[48;5;123m  \u001b[0m\u001b[48;5;123m  \u001b[0m\u001b[48;5;123m  \u001b[0m\u001b[48;5;123m  \u001b[0m\u001b[48;5;123m  \u001b[0m\u001b[48;5;123m  \u001b[0m\u001b[48;5;123m  \u001b[0m\u001b[48;5;123m  \u001b[0m\u001b[48;5;123m  \u001b[0m\u001b[48;5;123m  \u001b[0m\u001b[48;5;123m  \u001b[0m\u001b[48;5;123m  \u001b[0m\n",
      "\u001b[48;5;123m  \u001b[0m\u001b[48;5;5m  \u001b[0m\u001b[48;5;5m  \u001b[0m\u001b[48;5;5m  \u001b[0m\u001b[48;5;5m  \u001b[0m\u001b[48;5;5m  \u001b[0m\u001b[48;5;5m  \u001b[0m\u001b[48;5;5m  \u001b[0m\u001b[48;5;123m  \u001b[0m\u001b[48;5;123m  \u001b[0m\u001b[48;5;123m  \u001b[0m\u001b[48;5;123m  \u001b[0m\u001b[48;5;123m  \u001b[0m\u001b[48;5;123m  \u001b[0m\u001b[48;5;123m  \u001b[0m\u001b[48;5;5m  \u001b[0m\u001b[48;5;5m  \u001b[0m\u001b[48;5;5m  \u001b[0m\u001b[48;5;5m  \u001b[0m\u001b[48;5;5m  \u001b[0m\u001b[48;5;5m  \u001b[0m\u001b[48;5;5m  \u001b[0m\u001b[48;5;123m  \u001b[0m\n",
      "\u001b[48;5;123m  \u001b[0m\u001b[48;5;5m  \u001b[0m\u001b[48;5;123m  \u001b[0m\u001b[48;5;123m  \u001b[0m\u001b[48;5;123m  \u001b[0m\u001b[48;5;123m  \u001b[0m\u001b[48;5;123m  \u001b[0m\u001b[48;5;5m  \u001b[0m\u001b[48;5;123m  \u001b[0m\u001b[48;5;5m  \u001b[0m\u001b[48;5;123m  \u001b[0m\u001b[48;5;123m  \u001b[0m\u001b[48;5;123m  \u001b[0m\u001b[48;5;123m  \u001b[0m\u001b[48;5;123m  \u001b[0m\u001b[48;5;5m  \u001b[0m\u001b[48;5;123m  \u001b[0m\u001b[48;5;123m  \u001b[0m\u001b[48;5;123m  \u001b[0m\u001b[48;5;123m  \u001b[0m\u001b[48;5;123m  \u001b[0m\u001b[48;5;5m  \u001b[0m\u001b[48;5;123m  \u001b[0m\n",
      "\u001b[48;5;123m  \u001b[0m\u001b[48;5;5m  \u001b[0m\u001b[48;5;123m  \u001b[0m\u001b[48;5;5m  \u001b[0m\u001b[48;5;5m  \u001b[0m\u001b[48;5;5m  \u001b[0m\u001b[48;5;123m  \u001b[0m\u001b[48;5;5m  \u001b[0m\u001b[48;5;123m  \u001b[0m\u001b[48;5;5m  \u001b[0m\u001b[48;5;123m  \u001b[0m\u001b[48;5;123m  \u001b[0m\u001b[48;5;5m  \u001b[0m\u001b[48;5;5m  \u001b[0m\u001b[48;5;123m  \u001b[0m\u001b[48;5;5m  \u001b[0m\u001b[48;5;123m  \u001b[0m\u001b[48;5;5m  \u001b[0m\u001b[48;5;5m  \u001b[0m\u001b[48;5;5m  \u001b[0m\u001b[48;5;123m  \u001b[0m\u001b[48;5;5m  \u001b[0m\u001b[48;5;123m  \u001b[0m\n",
      "\u001b[48;5;123m  \u001b[0m\u001b[48;5;5m  \u001b[0m\u001b[48;5;123m  \u001b[0m\u001b[48;5;5m  \u001b[0m\u001b[48;5;5m  \u001b[0m\u001b[48;5;5m  \u001b[0m\u001b[48;5;123m  \u001b[0m\u001b[48;5;5m  \u001b[0m\u001b[48;5;123m  \u001b[0m\u001b[48;5;5m  \u001b[0m\u001b[48;5;123m  \u001b[0m\u001b[48;5;123m  \u001b[0m\u001b[48;5;5m  \u001b[0m\u001b[48;5;123m  \u001b[0m\u001b[48;5;123m  \u001b[0m\u001b[48;5;5m  \u001b[0m\u001b[48;5;123m  \u001b[0m\u001b[48;5;5m  \u001b[0m\u001b[48;5;5m  \u001b[0m\u001b[48;5;5m  \u001b[0m\u001b[48;5;123m  \u001b[0m\u001b[48;5;5m  \u001b[0m\u001b[48;5;123m  \u001b[0m\n",
      "\u001b[48;5;123m  \u001b[0m\u001b[48;5;5m  \u001b[0m\u001b[48;5;123m  \u001b[0m\u001b[48;5;5m  \u001b[0m\u001b[48;5;5m  \u001b[0m\u001b[48;5;5m  \u001b[0m\u001b[48;5;123m  \u001b[0m\u001b[48;5;5m  \u001b[0m\u001b[48;5;123m  \u001b[0m\u001b[48;5;5m  \u001b[0m\u001b[48;5;5m  \u001b[0m\u001b[48;5;5m  \u001b[0m\u001b[48;5;123m  \u001b[0m\u001b[48;5;5m  \u001b[0m\u001b[48;5;123m  \u001b[0m\u001b[48;5;5m  \u001b[0m\u001b[48;5;123m  \u001b[0m\u001b[48;5;5m  \u001b[0m\u001b[48;5;5m  \u001b[0m\u001b[48;5;5m  \u001b[0m\u001b[48;5;123m  \u001b[0m\u001b[48;5;5m  \u001b[0m\u001b[48;5;123m  \u001b[0m\n",
      "\u001b[48;5;123m  \u001b[0m\u001b[48;5;5m  \u001b[0m\u001b[48;5;123m  \u001b[0m\u001b[48;5;123m  \u001b[0m\u001b[48;5;123m  \u001b[0m\u001b[48;5;123m  \u001b[0m\u001b[48;5;123m  \u001b[0m\u001b[48;5;5m  \u001b[0m\u001b[48;5;123m  \u001b[0m\u001b[48;5;5m  \u001b[0m\u001b[48;5;123m  \u001b[0m\u001b[48;5;123m  \u001b[0m\u001b[48;5;123m  \u001b[0m\u001b[48;5;123m  \u001b[0m\u001b[48;5;123m  \u001b[0m\u001b[48;5;5m  \u001b[0m\u001b[48;5;123m  \u001b[0m\u001b[48;5;123m  \u001b[0m\u001b[48;5;123m  \u001b[0m\u001b[48;5;123m  \u001b[0m\u001b[48;5;123m  \u001b[0m\u001b[48;5;5m  \u001b[0m\u001b[48;5;123m  \u001b[0m\n",
      "\u001b[48;5;123m  \u001b[0m\u001b[48;5;5m  \u001b[0m\u001b[48;5;5m  \u001b[0m\u001b[48;5;5m  \u001b[0m\u001b[48;5;5m  \u001b[0m\u001b[48;5;5m  \u001b[0m\u001b[48;5;5m  \u001b[0m\u001b[48;5;5m  \u001b[0m\u001b[48;5;123m  \u001b[0m\u001b[48;5;5m  \u001b[0m\u001b[48;5;123m  \u001b[0m\u001b[48;5;5m  \u001b[0m\u001b[48;5;123m  \u001b[0m\u001b[48;5;5m  \u001b[0m\u001b[48;5;123m  \u001b[0m\u001b[48;5;5m  \u001b[0m\u001b[48;5;5m  \u001b[0m\u001b[48;5;5m  \u001b[0m\u001b[48;5;5m  \u001b[0m\u001b[48;5;5m  \u001b[0m\u001b[48;5;5m  \u001b[0m\u001b[48;5;5m  \u001b[0m\u001b[48;5;123m  \u001b[0m\n",
      "\u001b[48;5;123m  \u001b[0m\u001b[48;5;123m  \u001b[0m\u001b[48;5;123m  \u001b[0m\u001b[48;5;123m  \u001b[0m\u001b[48;5;123m  \u001b[0m\u001b[48;5;123m  \u001b[0m\u001b[48;5;123m  \u001b[0m\u001b[48;5;123m  \u001b[0m\u001b[48;5;123m  \u001b[0m\u001b[48;5;123m  \u001b[0m\u001b[48;5;5m  \u001b[0m\u001b[48;5;5m  \u001b[0m\u001b[48;5;5m  \u001b[0m\u001b[48;5;123m  \u001b[0m\u001b[48;5;123m  \u001b[0m\u001b[48;5;123m  \u001b[0m\u001b[48;5;123m  \u001b[0m\u001b[48;5;123m  \u001b[0m\u001b[48;5;123m  \u001b[0m\u001b[48;5;123m  \u001b[0m\u001b[48;5;123m  \u001b[0m\u001b[48;5;123m  \u001b[0m\u001b[48;5;123m  \u001b[0m\n",
      "\u001b[48;5;123m  \u001b[0m\u001b[48;5;123m  \u001b[0m\u001b[48;5;123m  \u001b[0m\u001b[48;5;5m  \u001b[0m\u001b[48;5;123m  \u001b[0m\u001b[48;5;123m  \u001b[0m\u001b[48;5;5m  \u001b[0m\u001b[48;5;5m  \u001b[0m\u001b[48;5;5m  \u001b[0m\u001b[48;5;5m  \u001b[0m\u001b[48;5;123m  \u001b[0m\u001b[48;5;5m  \u001b[0m\u001b[48;5;123m  \u001b[0m\u001b[48;5;5m  \u001b[0m\u001b[48;5;5m  \u001b[0m\u001b[48;5;123m  \u001b[0m\u001b[48;5;5m  \u001b[0m\u001b[48;5;5m  \u001b[0m\u001b[48;5;5m  \u001b[0m\u001b[48;5;5m  \u001b[0m\u001b[48;5;5m  \u001b[0m\u001b[48;5;123m  \u001b[0m\u001b[48;5;123m  \u001b[0m\n",
      "\u001b[48;5;123m  \u001b[0m\u001b[48;5;5m  \u001b[0m\u001b[48;5;5m  \u001b[0m\u001b[48;5;123m  \u001b[0m\u001b[48;5;123m  \u001b[0m\u001b[48;5;5m  \u001b[0m\u001b[48;5;123m  \u001b[0m\u001b[48;5;123m  \u001b[0m\u001b[48;5;123m  \u001b[0m\u001b[48;5;123m  \u001b[0m\u001b[48;5;123m  \u001b[0m\u001b[48;5;123m  \u001b[0m\u001b[48;5;5m  \u001b[0m\u001b[48;5;123m  \u001b[0m\u001b[48;5;5m  \u001b[0m\u001b[48;5;123m  \u001b[0m\u001b[48;5;123m  \u001b[0m\u001b[48;5;123m  \u001b[0m\u001b[48;5;123m  \u001b[0m\u001b[48;5;5m  \u001b[0m\u001b[48;5;5m  \u001b[0m\u001b[48;5;5m  \u001b[0m\u001b[48;5;123m  \u001b[0m\n",
      "\u001b[48;5;123m  \u001b[0m\u001b[48;5;5m  \u001b[0m\u001b[48;5;5m  \u001b[0m\u001b[48;5;5m  \u001b[0m\u001b[48;5;123m  \u001b[0m\u001b[48;5;123m  \u001b[0m\u001b[48;5;5m  \u001b[0m\u001b[48;5;5m  \u001b[0m\u001b[48;5;123m  \u001b[0m\u001b[48;5;5m  \u001b[0m\u001b[48;5;5m  \u001b[0m\u001b[48;5;5m  \u001b[0m\u001b[48;5;123m  \u001b[0m\u001b[48;5;5m  \u001b[0m\u001b[48;5;123m  \u001b[0m\u001b[48;5;5m  \u001b[0m\u001b[48;5;5m  \u001b[0m\u001b[48;5;5m  \u001b[0m\u001b[48;5;5m  \u001b[0m\u001b[48;5;5m  \u001b[0m\u001b[48;5;123m  \u001b[0m\u001b[48;5;5m  \u001b[0m\u001b[48;5;123m  \u001b[0m\n",
      "\u001b[48;5;123m  \u001b[0m\u001b[48;5;123m  \u001b[0m\u001b[48;5;5m  \u001b[0m\u001b[48;5;5m  \u001b[0m\u001b[48;5;123m  \u001b[0m\u001b[48;5;5m  \u001b[0m\u001b[48;5;123m  \u001b[0m\u001b[48;5;123m  \u001b[0m\u001b[48;5;5m  \u001b[0m\u001b[48;5;123m  \u001b[0m\u001b[48;5;123m  \u001b[0m\u001b[48;5;5m  \u001b[0m\u001b[48;5;123m  \u001b[0m\u001b[48;5;123m  \u001b[0m\u001b[48;5;5m  \u001b[0m\u001b[48;5;123m  \u001b[0m\u001b[48;5;5m  \u001b[0m\u001b[48;5;123m  \u001b[0m\u001b[48;5;5m  \u001b[0m\u001b[48;5;123m  \u001b[0m\u001b[48;5;5m  \u001b[0m\u001b[48;5;123m  \u001b[0m\u001b[48;5;123m  \u001b[0m\n",
      "\u001b[48;5;123m  \u001b[0m\u001b[48;5;5m  \u001b[0m\u001b[48;5;5m  \u001b[0m\u001b[48;5;123m  \u001b[0m\u001b[48;5;5m  \u001b[0m\u001b[48;5;123m  \u001b[0m\u001b[48;5;123m  \u001b[0m\u001b[48;5;5m  \u001b[0m\u001b[48;5;123m  \u001b[0m\u001b[48;5;5m  \u001b[0m\u001b[48;5;5m  \u001b[0m\u001b[48;5;5m  \u001b[0m\u001b[48;5;5m  \u001b[0m\u001b[48;5;123m  \u001b[0m\u001b[48;5;5m  \u001b[0m\u001b[48;5;123m  \u001b[0m\u001b[48;5;123m  \u001b[0m\u001b[48;5;5m  \u001b[0m\u001b[48;5;5m  \u001b[0m\u001b[48;5;123m  \u001b[0m\u001b[48;5;123m  \u001b[0m\u001b[48;5;5m  \u001b[0m\u001b[48;5;123m  \u001b[0m\n",
      "\u001b[48;5;123m  \u001b[0m\u001b[48;5;123m  \u001b[0m\u001b[48;5;123m  \u001b[0m\u001b[48;5;123m  \u001b[0m\u001b[48;5;123m  \u001b[0m\u001b[48;5;123m  \u001b[0m\u001b[48;5;123m  \u001b[0m\u001b[48;5;123m  \u001b[0m\u001b[48;5;123m  \u001b[0m\u001b[48;5;5m  \u001b[0m\u001b[48;5;123m  \u001b[0m\u001b[48;5;5m  \u001b[0m\u001b[48;5;5m  \u001b[0m\u001b[48;5;123m  \u001b[0m\u001b[48;5;123m  \u001b[0m\u001b[48;5;5m  \u001b[0m\u001b[48;5;123m  \u001b[0m\u001b[48;5;5m  \u001b[0m\u001b[48;5;123m  \u001b[0m\u001b[48;5;123m  \u001b[0m\u001b[48;5;123m  \u001b[0m\u001b[48;5;123m  \u001b[0m\u001b[48;5;123m  \u001b[0m\n",
      "\u001b[48;5;123m  \u001b[0m\u001b[48;5;5m  \u001b[0m\u001b[48;5;5m  \u001b[0m\u001b[48;5;5m  \u001b[0m\u001b[48;5;5m  \u001b[0m\u001b[48;5;5m  \u001b[0m\u001b[48;5;5m  \u001b[0m\u001b[48;5;5m  \u001b[0m\u001b[48;5;123m  \u001b[0m\u001b[48;5;5m  \u001b[0m\u001b[48;5;5m  \u001b[0m\u001b[48;5;123m  \u001b[0m\u001b[48;5;123m  \u001b[0m\u001b[48;5;5m  \u001b[0m\u001b[48;5;123m  \u001b[0m\u001b[48;5;5m  \u001b[0m\u001b[48;5;123m  \u001b[0m\u001b[48;5;5m  \u001b[0m\u001b[48;5;123m  \u001b[0m\u001b[48;5;5m  \u001b[0m\u001b[48;5;123m  \u001b[0m\u001b[48;5;5m  \u001b[0m\u001b[48;5;123m  \u001b[0m\n",
      "\u001b[48;5;123m  \u001b[0m\u001b[48;5;5m  \u001b[0m\u001b[48;5;123m  \u001b[0m\u001b[48;5;123m  \u001b[0m\u001b[48;5;123m  \u001b[0m\u001b[48;5;123m  \u001b[0m\u001b[48;5;123m  \u001b[0m\u001b[48;5;5m  \u001b[0m\u001b[48;5;123m  \u001b[0m\u001b[48;5;5m  \u001b[0m\u001b[48;5;123m  \u001b[0m\u001b[48;5;5m  \u001b[0m\u001b[48;5;123m  \u001b[0m\u001b[48;5;123m  \u001b[0m\u001b[48;5;123m  \u001b[0m\u001b[48;5;5m  \u001b[0m\u001b[48;5;123m  \u001b[0m\u001b[48;5;123m  \u001b[0m\u001b[48;5;5m  \u001b[0m\u001b[48;5;123m  \u001b[0m\u001b[48;5;5m  \u001b[0m\u001b[48;5;5m  \u001b[0m\u001b[48;5;123m  \u001b[0m\n",
      "\u001b[48;5;123m  \u001b[0m\u001b[48;5;5m  \u001b[0m\u001b[48;5;123m  \u001b[0m\u001b[48;5;5m  \u001b[0m\u001b[48;5;5m  \u001b[0m\u001b[48;5;5m  \u001b[0m\u001b[48;5;123m  \u001b[0m\u001b[48;5;5m  \u001b[0m\u001b[48;5;123m  \u001b[0m\u001b[48;5;123m  \u001b[0m\u001b[48;5;5m  \u001b[0m\u001b[48;5;5m  \u001b[0m\u001b[48;5;123m  \u001b[0m\u001b[48;5;5m  \u001b[0m\u001b[48;5;5m  \u001b[0m\u001b[48;5;5m  \u001b[0m\u001b[48;5;123m  \u001b[0m\u001b[48;5;123m  \u001b[0m\u001b[48;5;5m  \u001b[0m\u001b[48;5;123m  \u001b[0m\u001b[48;5;123m  \u001b[0m\u001b[48;5;5m  \u001b[0m\u001b[48;5;123m  \u001b[0m\n",
      "\u001b[48;5;123m  \u001b[0m\u001b[48;5;5m  \u001b[0m\u001b[48;5;123m  \u001b[0m\u001b[48;5;5m  \u001b[0m\u001b[48;5;5m  \u001b[0m\u001b[48;5;5m  \u001b[0m\u001b[48;5;123m  \u001b[0m\u001b[48;5;5m  \u001b[0m\u001b[48;5;123m  \u001b[0m\u001b[48;5;123m  \u001b[0m\u001b[48;5;123m  \u001b[0m\u001b[48;5;123m  \u001b[0m\u001b[48;5;5m  \u001b[0m\u001b[48;5;123m  \u001b[0m\u001b[48;5;123m  \u001b[0m\u001b[48;5;123m  \u001b[0m\u001b[48;5;123m  \u001b[0m\u001b[48;5;5m  \u001b[0m\u001b[48;5;5m  \u001b[0m\u001b[48;5;5m  \u001b[0m\u001b[48;5;123m  \u001b[0m\u001b[48;5;123m  \u001b[0m\u001b[48;5;123m  \u001b[0m\n",
      "\u001b[48;5;123m  \u001b[0m\u001b[48;5;5m  \u001b[0m\u001b[48;5;123m  \u001b[0m\u001b[48;5;5m  \u001b[0m\u001b[48;5;5m  \u001b[0m\u001b[48;5;5m  \u001b[0m\u001b[48;5;123m  \u001b[0m\u001b[48;5;5m  \u001b[0m\u001b[48;5;123m  \u001b[0m\u001b[48;5;5m  \u001b[0m\u001b[48;5;123m  \u001b[0m\u001b[48;5;123m  \u001b[0m\u001b[48;5;123m  \u001b[0m\u001b[48;5;123m  \u001b[0m\u001b[48;5;5m  \u001b[0m\u001b[48;5;5m  \u001b[0m\u001b[48;5;123m  \u001b[0m\u001b[48;5;5m  \u001b[0m\u001b[48;5;123m  \u001b[0m\u001b[48;5;5m  \u001b[0m\u001b[48;5;5m  \u001b[0m\u001b[48;5;5m  \u001b[0m\u001b[48;5;123m  \u001b[0m\n",
      "\u001b[48;5;123m  \u001b[0m\u001b[48;5;5m  \u001b[0m\u001b[48;5;123m  \u001b[0m\u001b[48;5;123m  \u001b[0m\u001b[48;5;123m  \u001b[0m\u001b[48;5;123m  \u001b[0m\u001b[48;5;123m  \u001b[0m\u001b[48;5;5m  \u001b[0m\u001b[48;5;123m  \u001b[0m\u001b[48;5;123m  \u001b[0m\u001b[48;5;5m  \u001b[0m\u001b[48;5;123m  \u001b[0m\u001b[48;5;123m  \u001b[0m\u001b[48;5;5m  \u001b[0m\u001b[48;5;123m  \u001b[0m\u001b[48;5;123m  \u001b[0m\u001b[48;5;123m  \u001b[0m\u001b[48;5;123m  \u001b[0m\u001b[48;5;5m  \u001b[0m\u001b[48;5;123m  \u001b[0m\u001b[48;5;123m  \u001b[0m\u001b[48;5;123m  \u001b[0m\u001b[48;5;123m  \u001b[0m\n",
      "\u001b[48;5;123m  \u001b[0m\u001b[48;5;5m  \u001b[0m\u001b[48;5;5m  \u001b[0m\u001b[48;5;5m  \u001b[0m\u001b[48;5;5m  \u001b[0m\u001b[48;5;5m  \u001b[0m\u001b[48;5;5m  \u001b[0m\u001b[48;5;5m  \u001b[0m\u001b[48;5;123m  \u001b[0m\u001b[48;5;123m  \u001b[0m\u001b[48;5;5m  \u001b[0m\u001b[48;5;123m  \u001b[0m\u001b[48;5;123m  \u001b[0m\u001b[48;5;5m  \u001b[0m\u001b[48;5;123m  \u001b[0m\u001b[48;5;5m  \u001b[0m\u001b[48;5;5m  \u001b[0m\u001b[48;5;5m  \u001b[0m\u001b[48;5;123m  \u001b[0m\u001b[48;5;123m  \u001b[0m\u001b[48;5;123m  \u001b[0m\u001b[48;5;5m  \u001b[0m\u001b[48;5;123m  \u001b[0m\n",
      "\u001b[48;5;123m  \u001b[0m\u001b[48;5;123m  \u001b[0m\u001b[48;5;123m  \u001b[0m\u001b[48;5;123m  \u001b[0m\u001b[48;5;123m  \u001b[0m\u001b[48;5;123m  \u001b[0m\u001b[48;5;123m  \u001b[0m\u001b[48;5;123m  \u001b[0m\u001b[48;5;123m  \u001b[0m\u001b[48;5;123m  \u001b[0m\u001b[48;5;123m  \u001b[0m\u001b[48;5;123m  \u001b[0m\u001b[48;5;123m  \u001b[0m\u001b[48;5;123m  \u001b[0m\u001b[48;5;123m  \u001b[0m\u001b[48;5;123m  \u001b[0m\u001b[48;5;123m  \u001b[0m\u001b[48;5;123m  \u001b[0m\u001b[48;5;123m  \u001b[0m\u001b[48;5;123m  \u001b[0m\u001b[48;5;123m  \u001b[0m\u001b[48;5;123m  \u001b[0m\u001b[48;5;123m  \u001b[0m\n",
      "\n"
     ]
    }
   ],
   "source": [
    "print(text.terminal(module_color=5, background=123, quiet_zone=1))"
   ]
  },
  {
   "cell_type": "code",
   "execution_count": 4,
   "id": "bf9dc1df",
   "metadata": {
    "ExecuteTime": {
     "end_time": "2023-09-19T12:42:54.326011Z",
     "start_time": "2023-09-19T12:42:54.238736Z"
    }
   },
   "outputs": [],
   "source": [
    "import pyqrcode\n",
    "import tkinter\n",
    "# Create and render the QR code\n",
    "code = pyqrcode.create('Knights who say ni!')\n",
    "code_xbm = code.xbm(scale=5)\n",
    "# Create a tk window\n",
    "top = tkinter.Tk()\n",
    "# Make generate the bitmap image from the redered code\n",
    "code_bmp = tkinter.BitmapImage(data=code_xbm)\n",
    "# Set the code to have a white background,\n",
    "# instead of transparent\n",
    "code_bmp.config(background=\"white\")\n",
    "# Bitmaps are accepted by lots of Widgets\n",
    "label = tkinter.Label(image=code_bmp)\n",
    "# The QR code is now visible\n",
    "label.pack()"
   ]
  },
  {
   "cell_type": "code",
   "execution_count": 5,
   "id": "7ec3bd86",
   "metadata": {
    "ExecuteTime": {
     "end_time": "2023-09-19T12:42:54.840608Z",
     "start_time": "2023-09-19T12:42:54.809544Z"
    }
   },
   "outputs": [
    {
     "name": "stdout",
     "output_type": "stream",
     "text": [
      "[60, 63, 120, 109, 108, 32, 118, 101, 114, 115, 105, 111, 110, 61, 34, 49, 46, 48, 34, 32, 101, 110, 99, 111, 100, 105, 110, 103, 61, 34, 85, 84, 70, 45, 56, 34, 63, 62, 10, 60, 115, 118, 103, 32, 120, 109, 108, 110, 115, 61, 34, 104, 116, 116, 112, 58, 47, 47, 119, 119, 119, 46, 119, 51, 46, 111, 114, 103, 47, 50, 48, 48, 48, 47, 115, 118, 103, 34, 32, 104, 101, 105, 103, 104, 116, 61, 34, 51, 51, 34, 32, 119, 105, 100, 116, 104, 61, 34, 51, 51, 34, 32, 99, 108, 97, 115, 115, 61, 34, 112, 121, 113, 114, 99, 111, 100, 101, 34, 62, 60, 112, 97, 116, 104, 32, 115, 116, 114, 111, 107, 101, 61, 34, 35, 48, 48, 48, 34, 32, 99, 108, 97, 115, 115, 61, 34, 112, 121, 113, 114, 108, 105, 110, 101, 34, 32, 100, 61, 34, 77, 52, 32, 52, 46, 53, 104, 55, 109, 50, 32, 48, 104, 49, 109, 49, 32, 48, 104, 49, 109, 50, 32, 48, 104, 50, 109, 50, 32, 48, 104, 55, 109, 45, 50, 53, 32, 49, 104, 49, 109, 53, 32, 48, 104, 49, 109, 51, 32, 48, 104, 49, 109, 53, 32, 48, 104, 49, 109, 49, 32, 48, 104, 49, 109, 53, 32, 48, 104, 49, 109, 45, 50, 53, 32, 49, 104, 49, 109, 49, 32, 48, 104, 51, 109, 49, 32, 48, 104, 49, 109, 49, 32, 48, 104, 50, 109, 49, 32, 48, 104, 50, 109, 49, 32, 48, 104, 49, 109, 51, 32, 48, 104, 49, 109, 49, 32, 48, 104, 51, 109, 49, 32, 48, 104, 49, 109, 45, 50, 53, 32, 49, 104, 49, 109, 49, 32, 48, 104, 51, 109, 49, 32, 48, 104, 49, 109, 49, 32, 48, 104, 49, 109, 54, 32, 48, 104, 49, 109, 50, 32, 48, 104, 49, 109, 49, 32, 48, 104, 51, 109, 49, 32, 48, 104, 49, 109, 45, 50, 53, 32, 49, 104, 49, 109, 49, 32, 48, 104, 51, 109, 49, 32, 48, 104, 49, 109, 50, 32, 48, 104, 51, 109, 49, 32, 48, 104, 49, 109, 49, 32, 48, 104, 49, 109, 50, 32, 48, 104, 49, 109, 49, 32, 48, 104, 51, 109, 49, 32, 48, 104, 49, 109, 45, 50, 53, 32, 49, 104, 49, 109, 53, 32, 48, 104, 49, 109, 50, 32, 48, 104, 49, 109, 52, 32, 48, 104, 50, 109, 50, 32, 48, 104, 49, 109, 53, 32, 48, 104, 49, 109, 45, 50, 53, 32, 49, 104, 55, 109, 49, 32, 48, 104, 49, 109, 49, 32, 48, 104, 49, 109, 49, 32, 48, 104, 49, 109, 49, 32, 48, 104, 49, 109, 49, 32, 48, 104, 49, 109, 49, 32, 48, 104, 55, 109, 45, 49, 54, 32, 49, 104, 50, 109, 49, 32, 48, 104, 50, 109, 49, 32, 48, 104, 49, 109, 45, 49, 51, 32, 49, 104, 50, 109, 49, 32, 48, 104, 50, 109, 49, 32, 48, 104, 49, 109, 49, 32, 48, 104, 49, 109, 52, 32, 48, 104, 49, 109, 52, 32, 48, 104, 50, 109, 45, 50, 51, 32, 49, 104, 49, 109, 50, 32, 48, 104, 50, 109, 50, 32, 48, 104, 49, 109, 49, 32, 48, 104, 49, 109, 49, 32, 48, 104, 51, 109, 53, 32, 48, 104, 53, 109, 45, 50, 49, 32, 49, 104, 49, 109, 49, 32, 48, 104, 51, 109, 54, 32, 48, 104, 50, 109, 49, 32, 48, 104, 51, 109, 49, 32, 48, 104, 49, 109, 50, 32, 48, 104, 49, 109, 45, 50, 53, 32, 49, 104, 49, 109, 50, 32, 48, 104, 50, 109, 51, 32, 48, 104, 49, 109, 49, 32, 48, 104, 49, 109, 50, 32, 48, 104, 49, 109, 50, 32, 48, 104, 49, 109, 49, 32, 48, 104, 49, 109, 50, 32, 48, 104, 52, 109, 45, 50, 51, 32, 49, 104, 49, 109, 50, 32, 48, 104, 51, 109, 49, 32, 48, 104, 52, 109, 49, 32, 48, 104, 49, 109, 49, 32, 48, 104, 52, 109, 52, 32, 48, 104, 49, 109, 45, 50, 53, 32, 49, 104, 49, 109, 51, 32, 48, 104, 49, 109, 50, 32, 48, 104, 50, 109, 51, 32, 48, 104, 51, 109, 53, 32, 48, 104, 49, 109, 50, 32, 48, 104, 49, 109, 45, 50, 52, 32, 49, 104, 51, 109, 51, 32, 48, 104, 50, 109, 49, 32, 48, 104, 49, 109, 49, 32, 48, 104, 50, 109, 50, 32, 48, 104, 49, 109, 49, 32, 48, 104, 49, 109, 51, 32, 48, 104, 52, 109, 45, 50, 53, 32, 49, 104, 49, 109, 49, 32, 48, 104, 49, 109, 49, 32, 48, 104, 50, 109, 49, 32, 48, 104, 50, 109, 49, 32, 48, 104, 49, 109, 49, 32, 48, 104, 51, 109, 52, 32, 48, 104, 50, 109, 49, 32, 48, 104, 49, 109, 49, 32, 48, 104, 49, 109, 45, 50, 53, 32, 49, 104, 49, 109, 50, 32, 48, 104, 49, 109, 49, 32, 48, 104, 54, 109, 52, 32, 48, 104, 54, 109, 49, 32, 48, 104, 50, 109, 45, 49, 54, 32, 49, 104, 49, 109, 49, 32, 48, 104, 49, 109, 51, 32, 48, 104, 51, 109, 51, 32, 48, 104, 49, 109, 50, 32, 48, 104, 49, 109, 45, 50, 52, 32, 49, 104, 55, 109, 49, 32, 48, 104, 49, 109, 49, 32, 48, 104, 52, 109, 50, 32, 48, 104, 49, 109, 49, 32, 48, 104, 49, 109, 49, 32, 48, 104, 50, 109, 50, 32, 48, 104, 49, 109, 45, 50, 53, 32, 49, 104, 49, 109, 53, 32, 48, 104, 49, 109, 51, 32, 48, 104, 49, 109, 49, 32, 48, 104, 49, 109, 50, 32, 48, 104, 50, 109, 51, 32, 48, 104, 49, 109, 45, 50, 49, 32, 49, 104, 49, 109, 49, 32, 48, 104, 51, 109, 49, 32, 48, 104, 49, 109, 49, 32, 48, 104, 49, 109, 54, 32, 48, 104, 55, 109, 49, 32, 48, 104, 49, 109, 45, 50, 52, 32, 49, 104, 49, 109, 49, 32, 48, 104, 51, 109, 49, 32, 48, 104, 49, 109, 49, 32, 48, 104, 49, 109, 49, 32, 48, 104, 50, 109, 49, 32, 48, 104, 49, 109, 50, 32, 48, 104, 52, 109, 49, 32, 48, 104, 49, 109, 50, 32, 48, 104, 49, 109, 45, 50, 53, 32, 49, 104, 49, 109, 49, 32, 48, 104, 51, 109, 49, 32, 48, 104, 49, 109, 50, 32, 48, 104, 52, 109, 49, 32, 48, 104, 49, 109, 50, 32, 48, 104, 49, 109, 49, 32, 48, 104, 50, 109, 49, 32, 48, 104, 51, 109, 45, 50, 53, 32, 49, 104, 49, 109, 53, 32, 48, 104, 49, 109, 52, 32, 48, 104, 50, 109, 49, 32, 48, 104, 49, 109, 51, 32, 48, 104, 51, 109, 49, 32, 48, 104, 51, 109, 45, 50, 53, 32, 49, 104, 55, 109, 51, 32, 48, 104, 49, 109, 53, 32, 48, 104, 49, 109, 49, 32, 48, 104, 49, 109, 50, 32, 48, 104, 49, 109, 50, 32, 48, 104, 49, 34, 47, 62, 60, 47, 115, 118, 103, 62, 10]\n"
     ]
    }
   ],
   "source": [
    "import io\n",
    "\n",
    "url = pyqrcode.create('http://uca.edu')\n",
    "url.svg('uca.svg', scale=4)\n",
    "# in-memory stream is also supported\n",
    "buffer = io.BytesIO()\n",
    "url.svg(buffer)\n",
    "# do whatever you want with buffer.getvalue()\n",
    "print(list(buffer.getvalue()))"
   ]
  },
  {
   "cell_type": "code",
   "execution_count": 6,
   "id": "67efa69b",
   "metadata": {
    "ExecuteTime": {
     "end_time": "2023-09-19T12:42:55.215509Z",
     "start_time": "2023-09-19T12:42:55.208754Z"
    }
   },
   "outputs": [],
   "source": [
    "url.svg('uca.svg', scale=4, background=\"white\", module_color=\"#7D007D\")"
   ]
  },
  {
   "cell_type": "code",
   "execution_count": 7,
   "id": "3501f6cd",
   "metadata": {
    "ExecuteTime": {
     "end_time": "2023-09-19T12:42:56.819721Z",
     "start_time": "2023-09-19T12:42:56.127757Z"
    }
   },
   "outputs": [
    {
     "ename": "ProtocolError",
     "evalue": "ProtocolError: PNG must be written to a binary stream",
     "output_type": "error",
     "traceback": [
      "\u001b[1;31m---------------------------------------------------------------------------\u001b[0m",
      "\u001b[1;31mTypeError\u001b[0m                                 Traceback (most recent call last)",
      "File \u001b[1;32m~\\anaconda3\\envs\\sandbox\\Lib\\site-packages\\png.py:771\u001b[0m, in \u001b[0;36mWriter.write_preamble\u001b[1;34m(self, outfile)\u001b[0m\n\u001b[0;32m    770\u001b[0m \u001b[38;5;28;01mtry\u001b[39;00m:\n\u001b[1;32m--> 771\u001b[0m     outfile\u001b[38;5;241m.\u001b[39mwrite(signature)\n\u001b[0;32m    772\u001b[0m \u001b[38;5;28;01mexcept\u001b[39;00m \u001b[38;5;167;01mTypeError\u001b[39;00m \u001b[38;5;28;01mas\u001b[39;00m e:\n",
      "\u001b[1;31mTypeError\u001b[0m: write() argument must be str, not bytes",
      "\nThe above exception was the direct cause of the following exception:\n",
      "\u001b[1;31mProtocolError\u001b[0m                             Traceback (most recent call last)",
      "Cell \u001b[1;32mIn[7], line 5\u001b[0m\n\u001b[0;32m      3\u001b[0m url \u001b[38;5;241m=\u001b[39m pyqrcode\u001b[38;5;241m.\u001b[39mcreate(\u001b[38;5;124m'\u001b[39m\u001b[38;5;124mhttp://uca.edu\u001b[39m\u001b[38;5;124m'\u001b[39m)\n\u001b[0;32m      4\u001b[0m \u001b[38;5;28;01mwith\u001b[39;00m \u001b[38;5;28mopen\u001b[39m(\u001b[38;5;124m'\u001b[39m\u001b[38;5;124mcode.png\u001b[39m\u001b[38;5;124m'\u001b[39m, \u001b[38;5;124m'\u001b[39m\u001b[38;5;124mw\u001b[39m\u001b[38;5;124m'\u001b[39m) \u001b[38;5;28;01mas\u001b[39;00m fstream:\n\u001b[1;32m----> 5\u001b[0m     url\u001b[38;5;241m.\u001b[39mpng(fstream, scale\u001b[38;5;241m=\u001b[39m\u001b[38;5;241m5\u001b[39m)\n\u001b[0;32m      6\u001b[0m \u001b[38;5;66;03m# same as above\u001b[39;00m\n\u001b[0;32m      7\u001b[0m url\u001b[38;5;241m.\u001b[39mpng(\u001b[38;5;124m'\u001b[39m\u001b[38;5;124mcode.png\u001b[39m\u001b[38;5;124m'\u001b[39m, scale\u001b[38;5;241m=\u001b[39m\u001b[38;5;241m5\u001b[39m)\n",
      "File \u001b[1;32m~\\anaconda3\\envs\\sandbox\\Lib\\site-packages\\pyqrcode\\__init__.py:462\u001b[0m, in \u001b[0;36mQRCode.png\u001b[1;34m(self, file, scale, module_color, background, quiet_zone)\u001b[0m\n\u001b[0;32m    416\u001b[0m \u001b[38;5;28;01mdef\u001b[39;00m \u001b[38;5;21mpng\u001b[39m(\u001b[38;5;28mself\u001b[39m, file, scale\u001b[38;5;241m=\u001b[39m\u001b[38;5;241m1\u001b[39m, module_color\u001b[38;5;241m=\u001b[39m(\u001b[38;5;241m0\u001b[39m, \u001b[38;5;241m0\u001b[39m, \u001b[38;5;241m0\u001b[39m, \u001b[38;5;241m255\u001b[39m),\n\u001b[0;32m    417\u001b[0m         background\u001b[38;5;241m=\u001b[39m(\u001b[38;5;241m255\u001b[39m, \u001b[38;5;241m255\u001b[39m, \u001b[38;5;241m255\u001b[39m, \u001b[38;5;241m255\u001b[39m), quiet_zone\u001b[38;5;241m=\u001b[39m\u001b[38;5;241m4\u001b[39m):\n\u001b[0;32m    418\u001b[0m \u001b[38;5;250m    \u001b[39m\u001b[38;5;124;03m\"\"\"This method writes the QR code out as an PNG image. The resulting\u001b[39;00m\n\u001b[0;32m    419\u001b[0m \u001b[38;5;124;03m    PNG has a bit depth of 1. The file parameter is used to specify where\u001b[39;00m\n\u001b[0;32m    420\u001b[0m \u001b[38;5;124;03m    to write the image to. It can either be an writable stream or a\u001b[39;00m\n\u001b[1;32m   (...)\u001b[0m\n\u001b[0;32m    460\u001b[0m \u001b[38;5;124;03m                     background=(0xff, 0xff, 0xff, 0x88)) #50% transparent white\u001b[39;00m\n\u001b[0;32m    461\u001b[0m \u001b[38;5;124;03m    \"\"\"\u001b[39;00m\n\u001b[1;32m--> 462\u001b[0m     builder\u001b[38;5;241m.\u001b[39m_png(\u001b[38;5;28mself\u001b[39m\u001b[38;5;241m.\u001b[39mcode, \u001b[38;5;28mself\u001b[39m\u001b[38;5;241m.\u001b[39mversion, file, scale,\n\u001b[0;32m    463\u001b[0m                  module_color, background, quiet_zone)\n",
      "File \u001b[1;32m~\\anaconda3\\envs\\sandbox\\Lib\\site-packages\\pyqrcode\\builder.py:1388\u001b[0m, in \u001b[0;36m_png\u001b[1;34m(code, version, file, scale, module_color, background, quiet_zone, debug)\u001b[0m\n\u001b[0;32m   1384\u001b[0m w \u001b[38;5;241m=\u001b[39m png\u001b[38;5;241m.\u001b[39mWriter(width\u001b[38;5;241m=\u001b[39msize, height\u001b[38;5;241m=\u001b[39msize, greyscale\u001b[38;5;241m=\u001b[39mgreyscale,\n\u001b[0;32m   1385\u001b[0m                transparent\u001b[38;5;241m=\u001b[39mtransparent_color, palette\u001b[38;5;241m=\u001b[39mpalette,\n\u001b[0;32m   1386\u001b[0m                bitdepth\u001b[38;5;241m=\u001b[39mbitdepth)\n\u001b[0;32m   1387\u001b[0m \u001b[38;5;28;01mtry\u001b[39;00m:\n\u001b[1;32m-> 1388\u001b[0m     w\u001b[38;5;241m.\u001b[39mwrite(f, code_rows)\n\u001b[0;32m   1389\u001b[0m \u001b[38;5;28;01mfinally\u001b[39;00m:\n\u001b[0;32m   1390\u001b[0m     \u001b[38;5;28;01mif\u001b[39;00m autoclose:\n",
      "File \u001b[1;32m~\\anaconda3\\envs\\sandbox\\Lib\\site-packages\\png.py:668\u001b[0m, in \u001b[0;36mWriter.write\u001b[1;34m(self, outfile, rows)\u001b[0m\n\u001b[0;32m    665\u001b[0m     a \u001b[38;5;241m=\u001b[39m array(fmt, itertools\u001b[38;5;241m.\u001b[39mchain(\u001b[38;5;241m*\u001b[39mcheck_rows(rows)))\n\u001b[0;32m    666\u001b[0m     \u001b[38;5;28;01mreturn\u001b[39;00m \u001b[38;5;28mself\u001b[39m\u001b[38;5;241m.\u001b[39mwrite_array(outfile, a)\n\u001b[1;32m--> 668\u001b[0m nrows \u001b[38;5;241m=\u001b[39m \u001b[38;5;28mself\u001b[39m\u001b[38;5;241m.\u001b[39mwrite_passes(outfile, check_rows(rows))\n\u001b[0;32m    669\u001b[0m \u001b[38;5;28;01mif\u001b[39;00m nrows \u001b[38;5;241m!=\u001b[39m \u001b[38;5;28mself\u001b[39m\u001b[38;5;241m.\u001b[39mheight:\n\u001b[0;32m    670\u001b[0m     \u001b[38;5;28;01mraise\u001b[39;00m ProtocolError(\n\u001b[0;32m    671\u001b[0m         \u001b[38;5;124m\"\u001b[39m\u001b[38;5;124mrows supplied (\u001b[39m\u001b[38;5;132;01m%d\u001b[39;00m\u001b[38;5;124m) does not match height (\u001b[39m\u001b[38;5;132;01m%d\u001b[39;00m\u001b[38;5;124m)\u001b[39m\u001b[38;5;124m\"\u001b[39m \u001b[38;5;241m%\u001b[39m\n\u001b[0;32m    672\u001b[0m         (nrows, \u001b[38;5;28mself\u001b[39m\u001b[38;5;241m.\u001b[39mheight))\n",
      "File \u001b[1;32m~\\anaconda3\\envs\\sandbox\\Lib\\site-packages\\png.py:703\u001b[0m, in \u001b[0;36mWriter.write_passes\u001b[1;34m(self, outfile, rows)\u001b[0m\n\u001b[0;32m    700\u001b[0m \u001b[38;5;28;01melif\u001b[39;00m \u001b[38;5;28mself\u001b[39m\u001b[38;5;241m.\u001b[39mbitdepth \u001b[38;5;241m==\u001b[39m \u001b[38;5;241m16\u001b[39m:\n\u001b[0;32m    701\u001b[0m     rows \u001b[38;5;241m=\u001b[39m unpack_rows(rows)\n\u001b[1;32m--> 703\u001b[0m \u001b[38;5;28;01mreturn\u001b[39;00m \u001b[38;5;28mself\u001b[39m\u001b[38;5;241m.\u001b[39mwrite_packed(outfile, rows)\n",
      "File \u001b[1;32m~\\anaconda3\\envs\\sandbox\\Lib\\site-packages\\png.py:723\u001b[0m, in \u001b[0;36mWriter.write_packed\u001b[1;34m(self, outfile, rows)\u001b[0m\n\u001b[0;32m    705\u001b[0m \u001b[38;5;28;01mdef\u001b[39;00m \u001b[38;5;21mwrite_packed\u001b[39m(\u001b[38;5;28mself\u001b[39m, outfile, rows):\n\u001b[0;32m    706\u001b[0m \u001b[38;5;250m    \u001b[39m\u001b[38;5;124;03m\"\"\"\u001b[39;00m\n\u001b[0;32m    707\u001b[0m \u001b[38;5;124;03m    Write PNG file to `outfile`.\u001b[39;00m\n\u001b[0;32m    708\u001b[0m \u001b[38;5;124;03m    `rows` should be an iterator that yields each packed row;\u001b[39;00m\n\u001b[1;32m   (...)\u001b[0m\n\u001b[0;32m    720\u001b[0m \u001b[38;5;124;03m    presented in the order that they appear in the file.\u001b[39;00m\n\u001b[0;32m    721\u001b[0m \u001b[38;5;124;03m    \"\"\"\u001b[39;00m\n\u001b[1;32m--> 723\u001b[0m     \u001b[38;5;28mself\u001b[39m\u001b[38;5;241m.\u001b[39mwrite_preamble(outfile)\n\u001b[0;32m    725\u001b[0m     \u001b[38;5;66;03m# http://www.w3.org/TR/PNG/#11IDAT\u001b[39;00m\n\u001b[0;32m    726\u001b[0m     \u001b[38;5;28;01mif\u001b[39;00m \u001b[38;5;28mself\u001b[39m\u001b[38;5;241m.\u001b[39mcompression \u001b[38;5;129;01mis\u001b[39;00m \u001b[38;5;129;01mnot\u001b[39;00m \u001b[38;5;28;01mNone\u001b[39;00m:\n",
      "File \u001b[1;32m~\\anaconda3\\envs\\sandbox\\Lib\\site-packages\\png.py:773\u001b[0m, in \u001b[0;36mWriter.write_preamble\u001b[1;34m(self, outfile)\u001b[0m\n\u001b[0;32m    771\u001b[0m     outfile\u001b[38;5;241m.\u001b[39mwrite(signature)\n\u001b[0;32m    772\u001b[0m \u001b[38;5;28;01mexcept\u001b[39;00m \u001b[38;5;167;01mTypeError\u001b[39;00m \u001b[38;5;28;01mas\u001b[39;00m e:\n\u001b[1;32m--> 773\u001b[0m     \u001b[38;5;28;01mraise\u001b[39;00m ProtocolError(\u001b[38;5;124m\"\u001b[39m\u001b[38;5;124mPNG must be written to a binary stream\u001b[39m\u001b[38;5;124m\"\u001b[39m) \u001b[38;5;28;01mfrom\u001b[39;00m \u001b[38;5;21;01me\u001b[39;00m\n\u001b[0;32m    775\u001b[0m \u001b[38;5;66;03m# http://www.w3.org/TR/PNG/#11IHDR\u001b[39;00m\n\u001b[0;32m    776\u001b[0m write_chunk(outfile, \u001b[38;5;124mb\u001b[39m\u001b[38;5;124m'\u001b[39m\u001b[38;5;124mIHDR\u001b[39m\u001b[38;5;124m'\u001b[39m,\n\u001b[0;32m    777\u001b[0m             struct\u001b[38;5;241m.\u001b[39mpack(\u001b[38;5;124m\"\u001b[39m\u001b[38;5;124m!2I5B\u001b[39m\u001b[38;5;124m\"\u001b[39m, \u001b[38;5;28mself\u001b[39m\u001b[38;5;241m.\u001b[39mwidth, \u001b[38;5;28mself\u001b[39m\u001b[38;5;241m.\u001b[39mheight,\n\u001b[0;32m    778\u001b[0m                         \u001b[38;5;28mself\u001b[39m\u001b[38;5;241m.\u001b[39mbitdepth, \u001b[38;5;28mself\u001b[39m\u001b[38;5;241m.\u001b[39mcolor_type,\n\u001b[0;32m    779\u001b[0m                         \u001b[38;5;241m0\u001b[39m, \u001b[38;5;241m0\u001b[39m, \u001b[38;5;28mself\u001b[39m\u001b[38;5;241m.\u001b[39minterlace))\n",
      "\u001b[1;31mProtocolError\u001b[0m: ProtocolError: PNG must be written to a binary stream"
     ]
    }
   ],
   "source": [
    "# import png\n",
    "\n",
    "url = pyqrcode.create('http://uca.edu')\n",
    "with open('code.png', 'w') as fstream:\n",
    "    url.png(fstream, scale=5)\n",
    "# same as above\n",
    "url.png('code.png', scale=5)\n",
    "# in-memory stream is also supported\n",
    "buffer = io.BytesIO()\n",
    "url.png(buffer)\n",
    "# do whatever you want with buffer.getvalue()\n",
    "print(list(buffer.getvalue()))"
   ]
  },
  {
   "cell_type": "code",
   "execution_count": 20,
   "id": "f09ce197",
   "metadata": {
    "ExecuteTime": {
     "end_time": "2023-09-19T12:39:57.782215Z",
     "start_time": "2023-09-19T12:39:57.771623Z"
    }
   },
   "outputs": [],
   "source": [
    "url.png('uca-colors.png', scale=6,\n",
    "         module_color=[0, 0, 0, 128],\n",
    "         background=[0xff, 0xff, 0xcc])"
   ]
  },
  {
   "cell_type": "code",
   "execution_count": 21,
   "id": "8d8d18a8",
   "metadata": {
    "ExecuteTime": {
     "end_time": "2023-09-19T12:40:57.904509Z",
     "start_time": "2023-09-19T12:40:57.812086Z"
    }
   },
   "outputs": [
    {
     "ename": "TypeError",
     "evalue": "write() argument must be str, not <class 'bytes'>",
     "output_type": "error",
     "traceback": [
      "\u001b[1;31m---------------------------------------------------------------------------\u001b[0m",
      "\u001b[1;31mTypeError\u001b[0m                                 Traceback (most recent call last)",
      "Cell \u001b[1;32mIn[21], line 4\u001b[0m\n\u001b[0;32m      2\u001b[0m \u001b[38;5;28;01mimport\u001b[39;00m \u001b[38;5;21;01msys\u001b[39;00m\n\u001b[0;32m      3\u001b[0m url \u001b[38;5;241m=\u001b[39m pyqrcode\u001b[38;5;241m.\u001b[39mcreate(\u001b[38;5;124m'\u001b[39m\u001b[38;5;124mhttp://uca.edu\u001b[39m\u001b[38;5;124m'\u001b[39m)\n\u001b[1;32m----> 4\u001b[0m url\u001b[38;5;241m.\u001b[39msvg(sys\u001b[38;5;241m.\u001b[39mstdout, scale\u001b[38;5;241m=\u001b[39m\u001b[38;5;241m1\u001b[39m)\n\u001b[0;32m      5\u001b[0m url\u001b[38;5;241m.\u001b[39msvg(\u001b[38;5;124m'\u001b[39m\u001b[38;5;124muca.svg\u001b[39m\u001b[38;5;124m'\u001b[39m, scale\u001b[38;5;241m=\u001b[39m\u001b[38;5;241m4\u001b[39m)\n\u001b[0;32m      6\u001b[0m number \u001b[38;5;241m=\u001b[39m pyqrcode\u001b[38;5;241m.\u001b[39mcreate(\u001b[38;5;241m123456789012345\u001b[39m)\n",
      "File \u001b[1;32m~\\anaconda3\\envs\\sandbox\\Lib\\site-packages\\pyqrcode\\__init__.py:585\u001b[0m, in \u001b[0;36mQRCode.svg\u001b[1;34m(self, file, scale, module_color, background, quiet_zone, xmldecl, svgns, title, svgclass, lineclass, omithw, debug)\u001b[0m\n\u001b[0;32m    531\u001b[0m \u001b[38;5;28;01mdef\u001b[39;00m \u001b[38;5;21msvg\u001b[39m(\u001b[38;5;28mself\u001b[39m, file, scale\u001b[38;5;241m=\u001b[39m\u001b[38;5;241m1\u001b[39m, module_color\u001b[38;5;241m=\u001b[39m\u001b[38;5;124m'\u001b[39m\u001b[38;5;124m#000\u001b[39m\u001b[38;5;124m'\u001b[39m, background\u001b[38;5;241m=\u001b[39m\u001b[38;5;28;01mNone\u001b[39;00m,\n\u001b[0;32m    532\u001b[0m         quiet_zone\u001b[38;5;241m=\u001b[39m\u001b[38;5;241m4\u001b[39m, xmldecl\u001b[38;5;241m=\u001b[39m\u001b[38;5;28;01mTrue\u001b[39;00m, svgns\u001b[38;5;241m=\u001b[39m\u001b[38;5;28;01mTrue\u001b[39;00m, title\u001b[38;5;241m=\u001b[39m\u001b[38;5;28;01mNone\u001b[39;00m,\n\u001b[0;32m    533\u001b[0m         svgclass\u001b[38;5;241m=\u001b[39m\u001b[38;5;124m'\u001b[39m\u001b[38;5;124mpyqrcode\u001b[39m\u001b[38;5;124m'\u001b[39m, lineclass\u001b[38;5;241m=\u001b[39m\u001b[38;5;124m'\u001b[39m\u001b[38;5;124mpyqrline\u001b[39m\u001b[38;5;124m'\u001b[39m, omithw\u001b[38;5;241m=\u001b[39m\u001b[38;5;28;01mFalse\u001b[39;00m,\n\u001b[0;32m    534\u001b[0m         debug\u001b[38;5;241m=\u001b[39m\u001b[38;5;28;01mFalse\u001b[39;00m):\n\u001b[0;32m    535\u001b[0m \u001b[38;5;250m    \u001b[39m\u001b[38;5;124;03m\"\"\"This method writes the QR code out as an SVG document. The\u001b[39;00m\n\u001b[0;32m    536\u001b[0m \u001b[38;5;124;03m    code is drawn by drawing only the modules corresponding to a 1. They\u001b[39;00m\n\u001b[0;32m    537\u001b[0m \u001b[38;5;124;03m    are drawn using a line, such that contiguous modules in a row\u001b[39;00m\n\u001b[1;32m   (...)\u001b[0m\n\u001b[0;32m    583\u001b[0m \u001b[38;5;124;03m                     module_color='brown', background='0xFFFFFF')\u001b[39;00m\n\u001b[0;32m    584\u001b[0m \u001b[38;5;124;03m    \"\"\"\u001b[39;00m\n\u001b[1;32m--> 585\u001b[0m     builder\u001b[38;5;241m.\u001b[39m_svg(\u001b[38;5;28mself\u001b[39m\u001b[38;5;241m.\u001b[39mcode, \u001b[38;5;28mself\u001b[39m\u001b[38;5;241m.\u001b[39mversion, file, scale\u001b[38;5;241m=\u001b[39mscale, \n\u001b[0;32m    586\u001b[0m                  module_color\u001b[38;5;241m=\u001b[39mmodule_color, background\u001b[38;5;241m=\u001b[39mbackground,\n\u001b[0;32m    587\u001b[0m                  quiet_zone\u001b[38;5;241m=\u001b[39mquiet_zone, xmldecl\u001b[38;5;241m=\u001b[39mxmldecl, svgns\u001b[38;5;241m=\u001b[39msvgns, \n\u001b[0;32m    588\u001b[0m                  title\u001b[38;5;241m=\u001b[39mtitle, svgclass\u001b[38;5;241m=\u001b[39msvgclass, lineclass\u001b[38;5;241m=\u001b[39mlineclass,\n\u001b[0;32m    589\u001b[0m                  omithw\u001b[38;5;241m=\u001b[39momithw, debug\u001b[38;5;241m=\u001b[39mdebug)\n",
      "File \u001b[1;32m~\\anaconda3\\envs\\sandbox\\Lib\\site-packages\\pyqrcode\\builder.py:1169\u001b[0m, in \u001b[0;36m_svg\u001b[1;34m(code, version, file, scale, module_color, background, quiet_zone, xmldecl, svgns, title, svgclass, lineclass, omithw, debug)\u001b[0m\n\u001b[0;32m   1167\u001b[0m \u001b[38;5;66;03m# Write the document header\u001b[39;00m\n\u001b[0;32m   1168\u001b[0m \u001b[38;5;28;01mif\u001b[39;00m xmldecl:\n\u001b[1;32m-> 1169\u001b[0m     write_bytes(\u001b[38;5;124mb\u001b[39m\u001b[38;5;124m'\u001b[39m\u001b[38;5;124m<?xml version=\u001b[39m\u001b[38;5;124m\"\u001b[39m\u001b[38;5;124m1.0\u001b[39m\u001b[38;5;124m\"\u001b[39m\u001b[38;5;124m encoding=\u001b[39m\u001b[38;5;124m\"\u001b[39m\u001b[38;5;124mUTF-8\u001b[39m\u001b[38;5;124m\"\u001b[39m\u001b[38;5;124m?>\u001b[39m\u001b[38;5;130;01m\\n\u001b[39;00m\u001b[38;5;124m'\u001b[39m)\n\u001b[0;32m   1170\u001b[0m write_bytes(\u001b[38;5;124mb\u001b[39m\u001b[38;5;124m'\u001b[39m\u001b[38;5;124m<svg\u001b[39m\u001b[38;5;124m'\u001b[39m)\n\u001b[0;32m   1171\u001b[0m \u001b[38;5;28;01mif\u001b[39;00m svgns:\n",
      "File \u001b[1;32m~\\anaconda3\\envs\\sandbox\\Lib\\site-packages\\ipykernel\\iostream.py:622\u001b[0m, in \u001b[0;36mOutStream.write\u001b[1;34m(self, string)\u001b[0m\n\u001b[0;32m    620\u001b[0m \u001b[38;5;28;01mif\u001b[39;00m \u001b[38;5;129;01mnot\u001b[39;00m \u001b[38;5;28misinstance\u001b[39m(string, \u001b[38;5;28mstr\u001b[39m):\n\u001b[0;32m    621\u001b[0m     msg \u001b[38;5;241m=\u001b[39m \u001b[38;5;124mf\u001b[39m\u001b[38;5;124m\"\u001b[39m\u001b[38;5;124mwrite() argument must be str, not \u001b[39m\u001b[38;5;132;01m{\u001b[39;00m\u001b[38;5;28mtype\u001b[39m(string)\u001b[38;5;132;01m}\u001b[39;00m\u001b[38;5;124m\"\u001b[39m\n\u001b[1;32m--> 622\u001b[0m     \u001b[38;5;28;01mraise\u001b[39;00m \u001b[38;5;167;01mTypeError\u001b[39;00m(msg)\n\u001b[0;32m    624\u001b[0m \u001b[38;5;28;01mif\u001b[39;00m \u001b[38;5;28mself\u001b[39m\u001b[38;5;241m.\u001b[39mecho \u001b[38;5;129;01mis\u001b[39;00m \u001b[38;5;129;01mnot\u001b[39;00m \u001b[38;5;28;01mNone\u001b[39;00m:\n\u001b[0;32m    625\u001b[0m     \u001b[38;5;28;01mtry\u001b[39;00m:\n",
      "\u001b[1;31mTypeError\u001b[0m: write() argument must be str, not <class 'bytes'>"
     ]
    }
   ],
   "source": [
    "import pyqrcode\n",
    "import sys\n",
    "\n",
    "url = pyqrcode.create('http://uca.edu')\n",
    "url.svg(sys.stdout, scale=1)\n",
    "url.svg('uca.svg', scale=4)\n",
    "number = pyqrcode.create(123456789012345)\n",
    "number.png('big-number.png')"
   ]
  },
  {
   "cell_type": "code",
   "execution_count": null,
   "id": "71f25c7e",
   "metadata": {},
   "outputs": [],
   "source": []
  }
 ],
 "metadata": {
  "hide_input": false,
  "kernelspec": {
   "display_name": "Python 3 (ipykernel)",
   "language": "python",
   "name": "python3"
  },
  "language_info": {
   "codemirror_mode": {
    "name": "ipython",
    "version": 3
   },
   "file_extension": ".py",
   "mimetype": "text/x-python",
   "name": "python",
   "nbconvert_exporter": "python",
   "pygments_lexer": "ipython3",
   "version": "3.11.5"
  },
  "nbTranslate": {
   "displayLangs": [
    "*"
   ],
   "hotkey": "alt-t",
   "langInMainMenu": true,
   "sourceLang": "en",
   "targetLang": "fr",
   "useGoogleTranslate": true
  }
 },
 "nbformat": 4,
 "nbformat_minor": 5
}
