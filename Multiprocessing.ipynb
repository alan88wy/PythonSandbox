{
 "cells": [
  {
   "cell_type": "markdown",
   "id": "fd752c97",
   "metadata": {},
   "source": [
    "# Multiprocessing\n",
    "\n",
    "Running tasks in parallel on different CPU cores, bypassing GIL used for threading. Better for CPU bound tasks (heavy CPU usage)"
   ]
  },
  {
   "cell_type": "code",
   "execution_count": null,
   "id": "d17d7fce",
   "metadata": {
    "ExecuteTime": {
     "start_time": "2023-10-03T01:15:15.492Z"
    }
   },
   "outputs": [],
   "source": [
    "import multiprocessing as mp\n",
    "import time\n",
    "import math\n",
    "\n",
    "results_a = []\n",
    "results_b = []\n",
    "results_c = []\n",
    "\n",
    "def make_calculation_one(numbers):\n",
    "    for number in numbers:\n",
    "        results_a.append(math.sqrt(number**3))\n",
    "        \n",
    "def make_calculation_two(numbers):\n",
    "    for number in numbers:\n",
    "        results_b.append(math.sqrt(number**4))\n",
    "        \n",
    "def make_calculation_three(numbers):\n",
    "    for number in numbers:\n",
    "        results_c.append(math.sqrt(number**5))\n",
    "\n",
    "if __name__ == '__main__':\n",
    "    \n",
    "    number_list = list(range(1000000))\n",
    "    \n",
    "    p1 = mp.Process(target=make_calculation_one, args=(number_list,))\n",
    "    p2 = mp.Process(target=make_calculation_two, args=(number_list,))\n",
    "    p3 = mp.Process(target=make_calculation_three, args=(number_list,))\n",
    "    \n",
    "    start = time.time()\n",
    "    p1.start()\n",
    "    p2.start()\n",
    "    p3.start()\n",
    "    end = time.time()\n",
    "    \n",
    "    print(end-start)\n",
    "    \n",
    "    start = time.time()\n",
    "    make_calculation_one(number_list)\n",
    "    make_calculation_two(number_list)\n",
    "    make_calculation_three(number_list)\n",
    "    end = time.time()\n",
    "    print(end-start)"
   ]
  },
  {
   "cell_type": "code",
   "execution_count": null,
   "id": "3f103149",
   "metadata": {
    "ExecuteTime": {
     "end_time": "2023-10-03T14:57:19.334887Z",
     "start_time": "2023-10-03T14:57:09.385288Z"
    }
   },
   "outputs": [],
   "source": [
    "from concurrent.futures import ThreadPoolExecutor\n",
    "\n",
    "import requests\n",
    "\n",
    "from timer import timer\n",
    "\n",
    "URL = 'https://httpbin.org/uuid'\n",
    "\n",
    "\n",
    "def fetch(session, url):\n",
    "    with session.get(url) as response:\n",
    "        print(response.json()['uuid'])\n",
    "\n",
    "\n",
    "@timer(1, 5)\n",
    "def main():\n",
    "    with ThreadPoolExecutor(max_workers=100) as executor:\n",
    "        with requests.Session() as session:\n",
    "            executor.map(fetch, [session] * 100, [URL] * 100)\n",
    "            executor.shutdown(wait=True)"
   ]
  },
  {
   "cell_type": "code",
   "execution_count": 9,
   "id": "8dcfe631",
   "metadata": {},
   "outputs": [
    {
     "name": "stdout",
     "output_type": "stream",
     "text": [
      "CPU Cuount :  24\n",
      "Finished in  3391.1695986  seconds\n"
     ]
    }
   ],
   "source": [
    "from multiprocessing import Process, cpu_count\n",
    "import time\n",
    "\n",
    "def counter(num):\n",
    "    count = 0\n",
    "    while count < num:\n",
    "        count += 1\n",
    "        \n",
    "def main():\n",
    "    \n",
    "    print(\"CPU Cuount : \", cpu_count())\n",
    "    \n",
    "    a = Process(target=counter, args = (100000000000,))\n",
    "    b = Process(target=counter, args = (100000000000,))\n",
    "    c = Process(target=counter, args = (100000000000,))\n",
    "    d = Process(target=counter, args = (100000000000,))\n",
    "    e = Process(target=counter, args = (100000000000,))\n",
    "    f = Process(target=counter, args = (100000000000,))\n",
    "    g = Process(target=counter, args = (100000000000,))\n",
    "    h = Process(target=counter, args = (100000000000,))\n",
    "    i = Process(target=counter, args = (100000000000,))\n",
    "    j = Process(target=counter, args = (100000000000,))\n",
    "    k = Process(target=counter, args = (100000000000,))\n",
    "    l = Process(target=counter, args = (100000000000,))\n",
    "    \n",
    "    a.start()\n",
    "    b.start()\n",
    "    c.start()\n",
    "    d.start()\n",
    "    e.start()\n",
    "    f.start()\n",
    "    g.start()\n",
    "    h.start()\n",
    "    i.start()\n",
    "    j.start()\n",
    "    k.start()\n",
    "    l.start()\n",
    "    \n",
    "    a.join()\n",
    "    b.join()\n",
    "    c.join()\n",
    "    d.join()\n",
    "    e.join()\n",
    "    f.join()\n",
    "    g.join()\n",
    "    h.join()\n",
    "    i.join()\n",
    "    j.join()\n",
    "    k.join()\n",
    "    l.join()\n",
    "    \n",
    "    print(\"Finished in \", time.perf_counter(), \" seconds\")\n",
    "    \n",
    "    \n",
    "    \n",
    "if __name__ == '__main__':\n",
    "    main()"
   ]
  },
  {
   "cell_type": "markdown",
   "id": "6be9d1e6",
   "metadata": {},
   "source": [
    "# Synchronous"
   ]
  },
  {
   "cell_type": "markdown",
   "id": "d2d05003",
   "metadata": {
    "ExecuteTime": {
     "end_time": "2023-10-03T10:59:23.033663Z",
     "start_time": "2023-10-03T10:59:23.025575Z"
    }
   },
   "source": [
    "**timer.py**\n",
    "\n",
    "```\n",
    "import requests\n",
    "import timeit\n",
    "\n",
    "def timer(number, repeat):\n",
    "    def wrapper(func):\n",
    "        runs = timeit.repeat(func, number=number, repeat=repeat)\n",
    "        print(sum(runs) / len(runs))\n",
    "        \n",
    "    return wrapper\n",
    "```"
   ]
  },
  {
   "cell_type": "code",
   "execution_count": 2,
   "id": "b8866f2f",
   "metadata": {
    "ExecuteTime": {
     "end_time": "2023-10-03T11:01:38.020111Z",
     "start_time": "2023-10-03T11:01:09.696572Z"
    }
   },
   "outputs": [
    {
     "name": "stdout",
     "output_type": "stream",
     "text": [
      "b1ebaf81-2ac1-48ca-84de-46abfee214e7\n",
      "84ab0724-77c4-4a50-aa25-3ed8c453412e\n",
      "293d0688-4405-40f8-a795-6ff505ec71fd\n",
      "f16340c2-c4bd-496d-86ee-52be6036bbcf\n",
      "c14e86e4-b3c0-4cfb-b077-de8ecd9dcbfb\n",
      "747490b3-fb4c-4392-8f68-d67d89824274\n",
      "babc8f7b-6df1-4d11-aa74-5d83228accb6\n",
      "f8bb21b0-e51f-4c59-b28c-db2907ddb92f\n",
      "0ed9a1e6-5f41-47e6-8887-02d2abd744cf\n",
      "45cf696f-9f9c-4851-896d-c3728c4966c9\n",
      "6.419713299999785\n"
     ]
    }
   ],
   "source": [
    "import requests\n",
    "from timer import timer\n",
    "\n",
    "url = \"https://httpbin.org/uuid\"\n",
    "\n",
    "def fetch(session, url):\n",
    "    with session.get(url) as response:\n",
    "        print(response.json()['uuid'])\n",
    "        \n",
    "@timer(1,1)\n",
    "def main():\n",
    "    with requests.Session() as session:\n",
    "        for _ in range(10):\n",
    "            fetch(session, url)\n",
    "        "
   ]
  },
  {
   "cell_type": "markdown",
   "id": "71c182ca",
   "metadata": {},
   "source": [
    "# Asynchronous"
   ]
  },
  {
   "cell_type": "code",
   "execution_count": 1,
   "id": "3ad60b7a",
   "metadata": {
    "ExecuteTime": {
     "end_time": "2023-10-03T13:43:48.006595Z",
     "start_time": "2023-10-03T13:43:43.847108Z"
    }
   },
   "outputs": [
    {
     "name": "stdout",
     "output_type": "stream",
     "text": [
      "4d5466fa-1dff-446c-8fa2-cbb12bf935f2\n",
      "30f7d953-65ce-4d3a-867a-37ea7013abd5\n",
      "8dd2a7f1-3b04-4dff-84b6-3d90040af7d0\n",
      "1189572f-dec2-49a5-884c-7d1060f13226b7701d0d-96fd-4141-9ae7-0d62dde27062\n",
      "ac02334b-049b-4460-8b04-f9dc49ec8f919e7832f2-141f-4b1a-809c-5fed5fcaaa01\n",
      "\n",
      "\n",
      "2667fc52-a02f-4fe1-89a6-760f03c60f15f63e2b59-34bb-49e3-81a1-6ee227c7eaf566c178b6-b484-4058-82e5-89412c51a0dd\n",
      "a23e6a08-436e-4597-86a6-bf14b10d4d36\n",
      "\n",
      "\n",
      "c47fca09-0b14-4f5a-8be9-ef84aac94e27e0b7f887-af03-40ba-82ac-7a0976795164ff050367-ccd3-469d-b48f-289e474e422d\n",
      "\n",
      "\n",
      "69bdc961-1056-4574-89b5-0bdba45851fb8927ceb3-6b2e-40bc-b196-e2a8ce40abc190200de7-b823-4f31-8cb7-fef6d73d5d078bd77a6a-f401-4cff-9e7f-acbf2d93f97c\n",
      "\n",
      "\n",
      "\n",
      "42170d52-2ea0-4d1b-bbf9-0c3c28b2db32d3c544ae-0a96-453f-9d59-8d29aabf4391\n",
      "\n",
      "931f62f9-4e80-4894-be6a-af8ded865667\n",
      "458e2860-115b-45e8-889e-54b97f5d842e\n",
      "ae74c2a0-4548-4c67-b606-d5c8809cca3a\n",
      "d2d3c872-f6d6-4c2d-bbad-976aa250e305\n",
      "f6b6ad67-52ba-414e-aaa9-d3b5db96711a\n",
      "8b97704e-e677-4b46-8573-a41608931974\n",
      "3e4f8151-8973-4129-812f-8ea2e5bd8e924153aec2-2b12-489f-a6cd-20d5d6e8f149\n",
      "2c49114d-8132-4c4e-93fe-275652e2ab48\n",
      "\n",
      "78211467-68c3-42c0-99be-72855b6f46c7edae5693-732f-4579-8ef6-2102e3592816e26fff2a-b40a-4c4d-8b7b-7e2210307afd\n",
      "\n",
      "\n",
      "7ed48a2d-e622-4a23-90c5-9e80c4e51be7ddef9aa5-2ca1-4676-bee8-a8c7a030218db8fb464f-ec04-40c6-ad22-dad66520b789\n",
      "\n",
      "\n",
      "0048fa8e-b6b4-4b62-9b4b-9e27460954a331b61889-9867-4a6c-923f-c892eb9f1b4d73119409-e42f-4fc5-8270-6b24359cb5c7\n",
      "\n",
      "\n",
      "12c23877-a26c-43ed-87b6-16ddae48f5e6\n",
      "daac8239-cd9f-4199-8b74-f4f4278cdac2885cc478-0478-420c-9ea2-30918bf78fb5\n",
      "\n",
      "4e02b47d-be90-4bdc-a5d3-3e87131caf72\n",
      "467e5e65-5d19-4d77-9144-09787aa1a8ee\n",
      "b23522dc-b959-4296-955e-5d3fdb2941b0\n",
      "f4347f3d-ed50-4dbf-bf4d-ec7bb4869dea\n",
      "b0151524-073e-4ced-beeb-fd3ecf78f0ea\n",
      "797fe9c6-e9ef-402d-9c0e-89a56810ff7a\n",
      "be5fb1ff-ec4e-4c28-877b-92d60e89682d\n",
      "09939947-e3e3-4824-bfb0-220d4793728c\n",
      "0f553495-1c65-4e40-9c75-c5c2f6c13142\n",
      "5a5e4256-8d83-46e4-b26f-4fe8cdfde4bf\n",
      "3ee8efe8-011a-47f9-acc2-3f86cde6f9bc842bc08b-fb62-49e1-a4fd-d9214a2ba115\n",
      "\n",
      "08835ef7-979c-41d6-92b2-4ffb297e973ac9fad101-fd4c-4fb6-a32c-66fc5fe36b26\n",
      "\n",
      "61a80036-b432-4b02-b8a4-3584c5c95340\n",
      "3cc67745-6af7-4a33-9aec-347dad791f1f401a5480-42c3-4be5-b143-b17c9dc9d3ec\n",
      "\n",
      "828027cc-9870-43a8-a951-fda218ad9fbd\n",
      "24b6bc77-a9d0-466a-aaa0-6041963b5783\n",
      "9f999215-7c9d-40a3-a8e0-daf11aa15a90\n",
      "15364314-fd6b-439c-a558-b7a36b4af3fc\n",
      "082f3a9a-6861-4136-9700-500e67a83b06\n",
      "867e1572-df23-41a5-85ef-44881c6b64a7\n",
      "bcf3012c-e007-4a4a-b591-5b0cc75a9c63\n",
      "23435471-5865-4bb7-b802-2e67c36605ab\n",
      "8d5aaf67-54a5-41cc-a26a-24b2751a740b\n",
      "1cabf7d9-932c-486f-bb70-af1ddbdb3dc9\n",
      "6aa9524b-261c-460d-b77c-456c8da1d2bc\n",
      "2cf89b56-47d3-4392-8d86-91f0f1fcb65ce4dcb541-4b1d-4aa6-8a13-fc7c60a7defa\n",
      "\n",
      "061750c5-d672-4b3d-836f-952cb763ad6f\n",
      "79709aec-2277-4487-8489-e9b99e897359\n",
      "150637f1-18e9-459a-95a7-489474ce14aa12803c89-9fba-4e5c-83a1-170cf71be632\n",
      "\n",
      "36bf3da1-ab15-4b9c-a8f2-0b13635094fe\n",
      "dfe23973-c7a4-4fc0-a6c9-e70447624888\n",
      "506838fc-51ca-4213-9e6b-dac9df45cdcc6f42e665-42f7-4ffa-b18f-99a8439757c0\n",
      "\n",
      "74d8a60f-eb31-40b7-812a-9d771adcc194\n",
      "28d3f6cb-d882-40eb-b23d-20995ad78e0c\n",
      "80e519a5-899a-4edf-8fb8-9d4c8192032c\n",
      "951774c2-04c7-404a-a9a8-e7ac44ec860a\n",
      "cf0d2d72-6e73-4a98-bdc4-b67a59f2eb457ad527da-ae53-406b-a397-501da6258e99\n",
      "\n",
      "f5cfbef6-80fd-4347-aa55-a9c29c8fb5f7\n",
      "648db88c-389f-468e-9bb0-a966ef962eab\n",
      "c9ede483-54e2-4038-83d4-e40a49a72840\n",
      "d012309f-0209-4cc8-8250-bd74882a88e6\n",
      "1dc78dcc-1b81-4faa-a4b0-3c29ae76607d\n",
      "7dc634e9-a012-492e-a31d-23579c87afd9\n",
      "d5c2331a-f9b0-4025-9283-db93bcad8df964c8e07e-edc3-4125-8411-9d56a5de20ca\n",
      "\n",
      "f23467ce-98da-4ede-88f1-9c07a175ae89\n",
      "91555843-1a7b-41dd-9ba0-51940a45db6e\n",
      "15002a65-c12d-4e9e-b643-bc2f221e8184\n",
      "bd3370e3-5b36-45f8-93c9-7646828a0533\n",
      "20a65ac8-b080-458b-8670-25ccaabe3d3e\n",
      "d87618d2-aefa-40d0-a398-dd5589d11a49\n",
      "df821da7-5e71-42b6-8f35-091342e67225\n",
      "4.03755458500018\n"
     ]
    }
   ],
   "source": [
    "import requests\n",
    "from multiprocessing.pool import Pool\n",
    "from timer import timer\n",
    "\n",
    "URL = \"https://httpbin.org/uuid\"\n",
    "\n",
    "def fetch(session, url):\n",
    "    with session.get(url) as response:\n",
    "        print(response.json()['uuid'])\n",
    "\n",
    "@timer(1, 1)\n",
    "def main():\n",
    "    with Pool() as pool:\n",
    "        with requests.Session() as session:\n",
    "            pool.starmap(fetch, [(session, URL) for _ in range(100)])"
   ]
  },
  {
   "cell_type": "markdown",
   "id": "c510cf97",
   "metadata": {},
   "source": [
    "# Asyncio"
   ]
  },
  {
   "cell_type": "code",
   "execution_count": null,
   "id": "d827565d",
   "metadata": {
    "ExecuteTime": {
     "end_time": "2023-10-03T14:56:04.531789Z",
     "start_time": "2023-10-03T14:56:04.006663Z"
    }
   },
   "outputs": [],
   "source": [
    "import asyncio\n",
    "\n",
    "import aiohttp\n",
    "\n",
    "from timer import timer\n",
    "\n",
    "URL = 'https://httpbin.org/uuid'\n",
    "\n",
    "\n",
    "async def fetch(session, url):\n",
    "    async with session.get(url) as response:\n",
    "        json_response = await response.json()\n",
    "        print(json_response['uuid'])\n",
    "\n",
    "\n",
    "async def main():\n",
    "    async with aiohttp.ClientSession() as session:\n",
    "        tasks = [fetch(session, URL) for _ in range(100)]\n",
    "        await asyncio.gather(*tasks)\n",
    "\n",
    "\n",
    "@timer(1, 5)\n",
    "def func():\n",
    "    asyncio.run(main())"
   ]
  },
  {
   "cell_type": "code",
   "execution_count": null,
   "id": "ad4ace7d",
   "metadata": {},
   "outputs": [],
   "source": []
  }
 ],
 "metadata": {
  "hide_input": false,
  "kernelspec": {
   "display_name": "Python 3 (ipykernel)",
   "language": "python",
   "name": "python3"
  },
  "language_info": {
   "codemirror_mode": {
    "name": "ipython",
    "version": 3
   },
   "file_extension": ".py",
   "mimetype": "text/x-python",
   "name": "python",
   "nbconvert_exporter": "python",
   "pygments_lexer": "ipython3",
   "version": "3.11.5"
  },
  "nbTranslate": {
   "displayLangs": [
    "*"
   ],
   "hotkey": "alt-t",
   "langInMainMenu": true,
   "sourceLang": "en",
   "targetLang": "fr",
   "useGoogleTranslate": true
  },
  "varInspector": {
   "cols": {
    "lenName": 16,
    "lenType": 16,
    "lenVar": 40
   },
   "kernels_config": {
    "python": {
     "delete_cmd_postfix": "",
     "delete_cmd_prefix": "del ",
     "library": "var_list.py",
     "varRefreshCmd": "print(var_dic_list())"
    },
    "r": {
     "delete_cmd_postfix": ") ",
     "delete_cmd_prefix": "rm(",
     "library": "var_list.r",
     "varRefreshCmd": "cat(var_dic_list()) "
    }
   },
   "types_to_exclude": [
    "module",
    "function",
    "builtin_function_or_method",
    "instance",
    "_Feature"
   ],
   "window_display": false
  }
 },
 "nbformat": 4,
 "nbformat_minor": 5
}
