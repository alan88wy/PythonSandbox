{
 "cells": [
  {
   "cell_type": "code",
   "execution_count": 29,
   "id": "40eefb0a",
   "metadata": {
    "ExecuteTime": {
     "end_time": "2023-09-27T12:14:44.622097Z",
     "start_time": "2023-09-27T12:14:39.189892Z"
    }
   },
   "outputs": [],
   "source": [
    "import tkinter as tk\n",
    "\n",
    "root = tk.Tk()\n",
    "root.geometry(\"500x500\")\n",
    "root.title(\"My First tkinter\")\n",
    "\n",
    "label = tk.Label(root, text=\"Hello World\", font=('Arial', 18))\n",
    "label.pack(padx=20, pady=20)\n",
    "\n",
    "textbox = tk.Text(root, height=3, font=('Arial', 16))\n",
    "textbox.pack(padx=10, pady=10)\n",
    "\n",
    "# button = tk.Button(root, text='Click Me !', font=('Arial', 18))\n",
    "# button.pack(padx=10, pady=10)\n",
    "\n",
    "buttonframe = tk.Frame(root)\n",
    "buttonframe.columnconfigure(0, weight=1)\n",
    "buttonframe.columnconfigure(1, weight=1)\n",
    "buttonframe.columnconfigure(2, weight=1)\n",
    "\n",
    "btn1 = tk.Button(buttonframe, text='1', font=('Arial', 18))\n",
    "btn1.grid(row=0, column=0, sticky=tk.W+tk.E)  # can also use 'news' = north, east, west, south\n",
    "\n",
    "btn2 = tk.Button(buttonframe, text='2', font=('Arial', 18))\n",
    "btn2.grid(row=0, column=1, sticky=tk.W+tk.E)\n",
    "\n",
    "btn3 = tk.Button(buttonframe, text='3', font=('Arial', 18))\n",
    "btn3.grid(row=0, column=2,  sticky=tk.W+tk.E)\n",
    "\n",
    "btn4 = tk.Button(buttonframe, text='4', font=('Arial', 18))\n",
    "btn4.grid(row=1, column=0, sticky=tk.W+tk.E)\n",
    "\n",
    "btn5 = tk.Button(buttonframe, text='5', font=('Arial', 18))\n",
    "btn5.grid(row=1, column=1, sticky=tk.W+tk.E)\n",
    "\n",
    "btn6 = tk.Button(buttonframe, text='6', font=('Arial', 18))\n",
    "btn6.grid(row=1, column=2, sticky=tk.W+tk.E)\n",
    "\n",
    "btn7 = tk.Button(buttonframe, text='7', font=('Arial', 18))\n",
    "btn7.grid(row=2, column=0, sticky=tk.W+tk.E)\n",
    "\n",
    "btn8 = tk.Button(buttonframe, text='8', font=('Arial', 18))\n",
    "btn8.grid(row=2, column=1, sticky=tk.W+tk.E)\n",
    "\n",
    "btn9 = tk.Button(buttonframe, text='9', font=('Arial', 18))\n",
    "btn9.grid(row=2, column=2, sticky=tk.W+tk.E)\n",
    "\n",
    "buttonframe.pack(padx=10, fill=tk.X)  # can also use fill='x'\n",
    "\n",
    "root.mainloop()"
   ]
  },
  {
   "cell_type": "code",
   "execution_count": null,
   "id": "0218d6fa",
   "metadata": {},
   "outputs": [],
   "source": []
  }
 ],
 "metadata": {
  "hide_input": false,
  "kernelspec": {
   "display_name": "Python 3 (ipykernel)",
   "language": "python",
   "name": "python3"
  },
  "language_info": {
   "codemirror_mode": {
    "name": "ipython",
    "version": 3
   },
   "file_extension": ".py",
   "mimetype": "text/x-python",
   "name": "python",
   "nbconvert_exporter": "python",
   "pygments_lexer": "ipython3",
   "version": "3.11.5"
  },
  "nbTranslate": {
   "displayLangs": [
    "*"
   ],
   "hotkey": "alt-t",
   "langInMainMenu": true,
   "sourceLang": "en",
   "targetLang": "fr",
   "useGoogleTranslate": true
  }
 },
 "nbformat": 4,
 "nbformat_minor": 5
}
