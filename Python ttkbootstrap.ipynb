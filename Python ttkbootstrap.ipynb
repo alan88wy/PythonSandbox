{
 "cells": [
  {
   "cell_type": "code",
   "execution_count": 1,
   "id": "7680faa7",
   "metadata": {
    "ExecuteTime": {
     "end_time": "2023-09-30T02:55:09.457673Z",
     "start_time": "2023-09-30T02:55:06.340611Z"
    }
   },
   "outputs": [],
   "source": [
    "import tkinter as tk\n",
    "import ttkbootstrap as ttk\n",
    "from ttkbootstrap.constants import *\n",
    "\n",
    "root = tk.Tk()\n",
    "\n",
    "b1 = ttk.Button(root, text=\"Button 1\", bootstyle=SUCCESS)\n",
    "b1.pack(side=LEFT, padx=5, pady=10)\n",
    "\n",
    "b2 = ttk.Button(root, text=\"Button 2\", bootstyle=(INFO, OUTLINE))\n",
    "b2.pack(side=LEFT, padx=5, pady=10)\n",
    "\n",
    "root.mainloop()\n",
    "\n"
   ]
  },
  {
   "cell_type": "code",
   "execution_count": 2,
   "id": "4088d5b5",
   "metadata": {
    "ExecuteTime": {
     "end_time": "2023-09-30T03:08:29.858267Z",
     "start_time": "2023-09-30T03:08:22.154263Z"
    }
   },
   "outputs": [],
   "source": [
    "import ttkbootstrap as ttk\n",
    "from ttkbootstrap.constants import *\n",
    "\n",
    "root = ttk.Window()\n",
    "\n",
    "b1 = ttk.Button(root, text=\"Button 1\", bootstyle=SUCCESS)\n",
    "b1.pack(side=LEFT, padx=5, pady=10)\n",
    "\n",
    "b2 = ttk.Button(root, text=\"Button 2\", bootstyle=(INFO, OUTLINE))\n",
    "b2.pack(side=LEFT, padx=5, pady=10)\n",
    "\n",
    "root.mainloop()"
   ]
  },
  {
   "cell_type": "code",
   "execution_count": 2,
   "id": "b2b7717f",
   "metadata": {
    "ExecuteTime": {
     "end_time": "2023-09-30T03:07:01.556313Z",
     "start_time": "2023-09-30T03:06:59.723473Z"
    }
   },
   "outputs": [],
   "source": [
    "import ttkbootstrap as ttk\n",
    "from ttkbootstrap.constants import *\n",
    "\n",
    "root = ttk.Window()\n",
    "\n",
    "b1 = ttk.Button(root, text='primary', bootstyle=PRIMARY)\n",
    "b1.pack(side=LEFT, padx=5, pady=5)\n",
    "\n",
    "b2 = ttk.Button(root, text='secondary', bootstyle=SECONDARY)\n",
    "b2.pack(side=LEFT, padx=5, pady=5)\n",
    "\n",
    "b3 = ttk.Button(root, text='success', bootstyle=SUCCESS)\n",
    "b3.pack(side=LEFT, padx=5, pady=5)\n",
    "\n",
    "b4 = ttk.Button(root, text='info', bootstyle=INFO)\n",
    "b4.pack(side=LEFT, padx=5, pady=5)\n",
    "\n",
    "b5 = ttk.Button(root, text='warning', bootstyle=WARNING)\n",
    "b5.pack(side=LEFT, padx=5, pady=5)\n",
    "\n",
    "b6 = ttk.Button(root, text='danger', bootstyle=DANGER)\n",
    "b6.pack(side=LEFT, padx=5, pady=5)\n",
    "\n",
    "b7 = ttk.Button(root, text='light', bootstyle=LIGHT)\n",
    "b7.pack(side=LEFT, padx=5, pady=5)\n",
    "\n",
    "b8 = ttk.Button(root, text='dark', bootstyle=DARK)\n",
    "b8.pack(side=LEFT, padx=5, pady=5)\n",
    "\n",
    "root.mainloop()"
   ]
  },
  {
   "cell_type": "code",
   "execution_count": 1,
   "id": "3a4b7132",
   "metadata": {
    "ExecuteTime": {
     "end_time": "2023-09-30T03:08:44.258188Z",
     "start_time": "2023-09-30T03:08:40.401031Z"
    }
   },
   "outputs": [],
   "source": [
    "import ttkbootstrap as ttk\n",
    "from ttkbootstrap.constants import *\n",
    "\n",
    "root = ttk.Window()\n",
    "\n",
    "for color in root.style.colors:\n",
    "    b = ttk.Button(root, text=color, bootstyle=color)\n",
    "    b.pack(side=LEFT, padx=5, pady=5)\n",
    "\n",
    "root.mainloop()"
   ]
  },
  {
   "cell_type": "code",
   "execution_count": null,
   "id": "2dd9eebe",
   "metadata": {},
   "outputs": [],
   "source": []
  }
 ],
 "metadata": {
  "hide_input": false,
  "kernelspec": {
   "display_name": "Python 3 (ipykernel)",
   "language": "python",
   "name": "python3"
  },
  "language_info": {
   "codemirror_mode": {
    "name": "ipython",
    "version": 3
   },
   "file_extension": ".py",
   "mimetype": "text/x-python",
   "name": "python",
   "nbconvert_exporter": "python",
   "pygments_lexer": "ipython3",
   "version": "3.11.5"
  },
  "nbTranslate": {
   "displayLangs": [
    "*"
   ],
   "hotkey": "alt-t",
   "langInMainMenu": true,
   "sourceLang": "en",
   "targetLang": "fr",
   "useGoogleTranslate": true
  }
 },
 "nbformat": 4,
 "nbformat_minor": 5
}
