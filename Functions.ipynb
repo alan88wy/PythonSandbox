{
 "cells": [
  {
   "cell_type": "markdown",
   "id": "6782b018",
   "metadata": {},
   "source": [
    "# Functions"
   ]
  },
  {
   "cell_type": "markdown",
   "id": "470846d2",
   "metadata": {},
   "source": [
    "## Assigning function to variable"
   ]
  },
  {
   "cell_type": "code",
   "execution_count": 1,
   "id": "65a46b04",
   "metadata": {
    "ExecuteTime": {
     "end_time": "2023-09-23T14:03:52.529084Z",
     "start_time": "2023-09-23T14:03:52.523451Z"
    }
   },
   "outputs": [],
   "source": [
    "def hello():\n",
    "    print(\"Hello!\")"
   ]
  },
  {
   "cell_type": "code",
   "execution_count": 2,
   "id": "c3fe9ae6",
   "metadata": {
    "ExecuteTime": {
     "end_time": "2023-09-23T14:04:03.878838Z",
     "start_time": "2023-09-23T14:04:03.872505Z"
    }
   },
   "outputs": [
    {
     "name": "stdout",
     "output_type": "stream",
     "text": [
      "Hello!\n",
      "Hello!\n"
     ]
    }
   ],
   "source": [
    "hi = hello\n",
    "\n",
    "hello()\n",
    "hi()"
   ]
  },
  {
   "cell_type": "markdown",
   "id": "cebf9ea4",
   "metadata": {
    "ExecuteTime": {
     "end_time": "2023-09-23T14:04:49.634348Z",
     "start_time": "2023-09-23T14:04:49.622473Z"
    }
   },
   "source": [
    "## Higher Order Functions\n",
    "\n",
    "A function that either:\n",
    "1. Acceps a function as an argumrnt\n",
    "2. Returns a function\n",
    "\n",
    "**<ins>Note:</ins> In Python, everything are treated as object, including function**"
   ]
  },
  {
   "cell_type": "code",
   "execution_count": 3,
   "id": "7dbe6274",
   "metadata": {
    "ExecuteTime": {
     "end_time": "2023-09-25T11:13:40.803542Z",
     "start_time": "2023-09-25T11:13:40.798259Z"
    }
   },
   "outputs": [
    {
     "name": "stdout",
     "output_type": "stream",
     "text": [
      "HELLO\n",
      "20.0\n"
     ]
    }
   ],
   "source": [
    "def loud(text):\n",
    "    return text.upper()\n",
    "\n",
    "def quiet(text):\n",
    "    return text.lower()\n",
    "\n",
    "# Higher order function\n",
    "\n",
    "def hello(func):\n",
    "    text = func(\"Hello\")\n",
    "    print(text)\n",
    "\n",
    "def divisor(x):\n",
    "    def dividend(y):\n",
    "        return y/x\n",
    "    \n",
    "    return dividend\n",
    "    \n",
    "# End of higher order functions\n",
    "\n",
    "hello(loud)\n",
    "div = divisor(10)\n",
    "\n",
    "print(div(200))\n"
   ]
  },
  {
   "cell_type": "markdown",
   "id": "93ac9030",
   "metadata": {},
   "source": [
    "## Lambda\n",
    "\n",
    "Syntax:\n",
    "\n",
    "```\n",
    "var = lambda paramaters:expression\n",
    "```\n",
    "\n",
    "Usage:\n",
    "\n",
    "```\n",
    "var(parameters)\n",
    "```"
   ]
  },
  {
   "cell_type": "code",
   "execution_count": 4,
   "id": "8b0ffdf7",
   "metadata": {
    "ExecuteTime": {
     "end_time": "2023-09-25T11:20:44.604957Z",
     "start_time": "2023-09-25T11:20:44.600681Z"
    }
   },
   "outputs": [
    {
     "name": "stdout",
     "output_type": "stream",
     "text": [
      "8\n"
     ]
    }
   ],
   "source": [
    "expf = lambda x,y: x**y\n",
    "\n",
    "print(expf(2,3))"
   ]
  },
  {
   "cell_type": "code",
   "execution_count": 5,
   "id": "9ec147cc",
   "metadata": {
    "ExecuteTime": {
     "end_time": "2023-09-25T11:21:09.103628Z",
     "start_time": "2023-09-25T11:21:09.097427Z"
    }
   },
   "outputs": [
    {
     "data": {
      "text/plain": [
       "40"
      ]
     },
     "execution_count": 5,
     "metadata": {},
     "output_type": "execute_result"
    }
   ],
   "source": [
    "double = lambda x: x*2\n",
    "\n",
    "double(20)"
   ]
  },
  {
   "cell_type": "code",
   "execution_count": 6,
   "id": "7cad96bc",
   "metadata": {
    "ExecuteTime": {
     "end_time": "2023-09-25T11:23:54.793553Z",
     "start_time": "2023-09-25T11:23:54.784057Z"
    }
   },
   "outputs": [
    {
     "data": {
      "text/plain": [
       "True"
      ]
     },
     "execution_count": 6,
     "metadata": {},
     "output_type": "execute_result"
    }
   ],
   "source": [
    "age_check = lambda x: True if x > 18 else false\n",
    "age_check(20)"
   ]
  },
  {
   "cell_type": "code",
   "execution_count": 7,
   "id": "a55121d5",
   "metadata": {
    "ExecuteTime": {
     "end_time": "2023-09-25T11:26:55.324750Z",
     "start_time": "2023-09-25T11:26:55.318658Z"
    }
   },
   "outputs": [
    {
     "data": {
      "text/plain": [
       "20.0"
      ]
     },
     "execution_count": 7,
     "metadata": {},
     "output_type": "execute_result"
    }
   ],
   "source": [
    "# Higher order function using lambda\n",
    "\n",
    "def divisor(x):\n",
    "    return lambda y: y/x\n",
    "\n",
    "dividend = divisor(10)\n",
    "\n",
    "dividend(200)"
   ]
  },
  {
   "cell_type": "markdown",
   "id": "faf1bd61",
   "metadata": {},
   "source": [
    "## Sort function"
   ]
  },
  {
   "cell_type": "code",
   "execution_count": 8,
   "id": "7507711b",
   "metadata": {
    "ExecuteTime": {
     "end_time": "2023-09-25T11:30:38.836478Z",
     "start_time": "2023-09-25T11:30:38.829067Z"
    }
   },
   "outputs": [
    {
     "name": "stdout",
     "output_type": "stream",
     "text": [
      "[98, 56, 32, 2]\n"
     ]
    }
   ],
   "source": [
    "ids = [32, 2,56,98]\n",
    "ids.sort(reverse=True)\n",
    "print(ids)"
   ]
  },
  {
   "cell_type": "code",
   "execution_count": 9,
   "id": "8fbe9fba",
   "metadata": {
    "ExecuteTime": {
     "end_time": "2023-09-25T11:36:07.801793Z",
     "start_time": "2023-09-25T11:36:07.794773Z"
    }
   },
   "outputs": [
    {
     "name": "stdout",
     "output_type": "stream",
     "text": [
      "[2, 32, 56, 98]\n"
     ]
    }
   ],
   "source": [
    "# Sorted function = use with iterables\n",
    "ids = [32, 2, 56, 98]\n",
    "sorted_ids = sorted(ids)\n",
    "\n",
    "print(sorted_ids)"
   ]
  },
  {
   "cell_type": "code",
   "execution_count": 10,
   "id": "704ec4ba",
   "metadata": {
    "ExecuteTime": {
     "end_time": "2023-09-25T12:25:34.133779Z",
     "start_time": "2023-09-25T12:25:34.127672Z"
    }
   },
   "outputs": [
    {
     "name": "stdout",
     "output_type": "stream",
     "text": [
      "[(54, 1), (1, 2), (32, 3), (2, 43)]\n"
     ]
    }
   ],
   "source": [
    "# Sorted with key\n",
    "\n",
    "ids = [(2,43), (32,3), (1,2), (54,1)]\n",
    "\n",
    "# Here we get each element from the list, return the second items of each element as key and then sort the list on the second items\n",
    "sorted_ids = sorted(ids, key=lambda x: x[1])\n",
    "print(sorted_ids)"
   ]
  },
  {
   "cell_type": "code",
   "execution_count": 11,
   "id": "54638a91",
   "metadata": {
    "ExecuteTime": {
     "end_time": "2023-09-25T12:25:34.837798Z",
     "start_time": "2023-09-25T12:25:34.829317Z"
    }
   },
   "outputs": [
    {
     "name": "stdout",
     "output_type": "stream",
     "text": [
      "[(54, 1), (1, 2), (32, 3), (2, 43)]\n"
     ]
    }
   ],
   "source": [
    "# Instead of lambda, we can use function too\n",
    "\n",
    "def return_second(x):\n",
    "    return x[1]\n",
    "\n",
    "ids = [(2,43), (32,3), (1,2), (54,1)]\n",
    "\n",
    "# Here we get each element from the list, return the second items of each element and then sort the list on the second items\n",
    "sorted_ids = sorted(ids, key=return_second)\n",
    "print(sorted_ids)"
   ]
  },
  {
   "cell_type": "markdown",
   "id": "cb2fb440",
   "metadata": {},
   "source": [
    "# map function\n",
    "\n",
    "* Applies a function to each item in an iterable (list, tuple, etc)\n",
    "* That is to say, for each item in the iterable, return the result of running the function with this item as parameter\n",
    "\n",
    "* Syntax :\n",
    "```\n",
    "map(function, iterables)\n",
    "```"
   ]
  },
  {
   "cell_type": "code",
   "execution_count": 12,
   "id": "fb79e059",
   "metadata": {
    "ExecuteTime": {
     "end_time": "2023-09-25T12:25:35.491576Z",
     "start_time": "2023-09-25T12:25:35.482545Z"
    }
   },
   "outputs": [
    {
     "name": "stdout",
     "output_type": "stream",
     "text": [
      "[('shirt', 26.9), ('pants', 33.625), ('jacket', 67.25), ('socks', 13.45)]\n"
     ]
    }
   ],
   "source": [
    "store = [\n",
    "    (\"shirt\", 20.00),\n",
    "    (\"pants\", 25.00),\n",
    "    (\"jacket\", 50.00),\n",
    "    (\"socks\", 10.00)\n",
    "]\n",
    "\n",
    "convert_to_usd = lambda data: (data[0], data[1] * 1.345)\n",
    "\n",
    "store_usd = list(map(convert_to_usd, store))\n",
    "\n",
    "print(store_usd)"
   ]
  },
  {
   "cell_type": "code",
   "execution_count": 13,
   "id": "2c1ef4ff",
   "metadata": {
    "ExecuteTime": {
     "end_time": "2023-09-25T12:26:26.195180Z",
     "start_time": "2023-09-25T12:26:26.189293Z"
    }
   },
   "outputs": [
    {
     "name": "stdout",
     "output_type": "stream",
     "text": [
      "[25, 65, 105, 145, 185, 225, 265]\n"
     ]
    }
   ],
   "source": [
    "# Using lambda\n",
    "\n",
    "ids = [1, 3, 5, 7, 9, 11, 13]\n",
    "\n",
    "double = lambda x: 20*x + 5\n",
    "\n",
    "ids_map = list(map(double, ids))\n",
    "\n",
    "print(ids_map)"
   ]
  },
  {
   "cell_type": "code",
   "execution_count": 14,
   "id": "a651d967",
   "metadata": {
    "ExecuteTime": {
     "end_time": "2023-09-25T12:26:27.287665Z",
     "start_time": "2023-09-25T12:26:27.280359Z"
    }
   },
   "outputs": [
    {
     "name": "stdout",
     "output_type": "stream",
     "text": [
      "[25, 65, 105, 145, 185, 225, 265]\n"
     ]
    }
   ],
   "source": [
    "# Or using function\n",
    "\n",
    "def double(x):\n",
    "    return 20*x + 5\n",
    "\n",
    "ids = [1, 3, 5, 7, 9, 11, 13]\n",
    "\n",
    "ids_map = list(map(double, ids))\n",
    "\n",
    "print(ids_map)"
   ]
  },
  {
   "cell_type": "markdown",
   "id": "1996dfa9",
   "metadata": {},
   "source": [
    "## Filter function\n",
    "\n",
    "Create a collection of elements from an iterable for which a function return True\n",
    "\n",
    "Syntax :\n",
    "\n",
    "```\n",
    "filter(function, iterable)\n",
    "```"
   ]
  },
  {
   "cell_type": "code",
   "execution_count": 6,
   "id": "b466d5e3",
   "metadata": {
    "ExecuteTime": {
     "end_time": "2023-10-07T09:33:20.246470Z",
     "start_time": "2023-10-07T09:33:20.236870Z"
    }
   },
   "outputs": [
    {
     "name": "stdout",
     "output_type": "stream",
     "text": [
      "[2, 4, 6, 8, 10]\n"
     ]
    }
   ],
   "source": [
    "def filter_odd(x):\n",
    "    return x % 2 == 0\n",
    "\n",
    "ids = [1,2,3,4,5,6,7,8,9,10]\n",
    "\n",
    "ids_filter = list(filter(filter_odd, ids))\n",
    "\n",
    "print(ids_filter)"
   ]
  },
  {
   "cell_type": "code",
   "execution_count": 3,
   "id": "15f45771",
   "metadata": {
    "ExecuteTime": {
     "end_time": "2023-10-09T12:41:55.400548Z",
     "start_time": "2023-10-09T12:41:55.394984Z"
    }
   },
   "outputs": [
    {
     "name": "stdout",
     "output_type": "stream",
     "text": [
      "[2, 4, 6, 8]\n"
     ]
    }
   ],
   "source": [
    "# Can also use list comprehension\n",
    "\n",
    "ids = [1,2,3,4,5,6,7,8,9]\n",
    "\n",
    "ids_filter = list([i for i in ids if i % 2 == 0])\n",
    "\n",
    "print(ln)"
   ]
  },
  {
   "cell_type": "code",
   "execution_count": 11,
   "id": "8852358f",
   "metadata": {
    "ExecuteTime": {
     "end_time": "2023-10-09T12:52:45.115182Z",
     "start_time": "2023-10-09T12:52:45.108253Z"
    }
   },
   "outputs": [
    {
     "name": "stdout",
     "output_type": "stream",
     "text": [
      "[100, 80, 90, 60, 80, 78, 100, 90]\n"
     ]
    }
   ],
   "source": [
    "students = [100, 80, 90, 60, 50, 80, 30, 78, 50, 40, 100, 90]\n",
    "\n",
    "passed_students = list([i for i in students if i >= 60])\n",
    "\n",
    "print(passed_students)"
   ]
  },
  {
   "cell_type": "markdown",
   "id": "d9e0d569",
   "metadata": {},
   "source": [
    "# Reduce"
   ]
  },
  {
   "cell_type": "code",
   "execution_count": 6,
   "id": "25cbb130",
   "metadata": {
    "ExecuteTime": {
     "end_time": "2023-10-09T05:49:46.734707Z",
     "start_time": "2023-10-09T05:49:46.726879Z"
    }
   },
   "outputs": [
    {
     "name": "stdout",
     "output_type": "stream",
     "text": [
      "Hello World!\n"
     ]
    }
   ],
   "source": [
    "import functools\n",
    "\n",
    "letters = ['H', 'e', 'l', 'l', 'o', ' ', 'W', 'o', 'r', 'l', 'd', '!']\n",
    "\n",
    "my_string = functools.reduce(lambda x, y: x + y, letters)\n",
    "\n",
    "print(my_string)"
   ]
  },
  {
   "cell_type": "code",
   "execution_count": 12,
   "id": "82808fbf",
   "metadata": {
    "ExecuteTime": {
     "end_time": "2023-10-09T13:16:15.107473Z",
     "start_time": "2023-10-09T13:16:15.100577Z"
    }
   },
   "outputs": [
    {
     "name": "stdout",
     "output_type": "stream",
     "text": [
      "Hello World!\n"
     ]
    }
   ],
   "source": [
    "import functools\n",
    "\n",
    "letters = ['H', 'e', 'l', 'l', 'o', ' ', 'W', 'o', 'r', 'l', 'd', '!']\n",
    "\n",
    "\n",
    "def reduce_func(x, y):\n",
    "    return x + y\n",
    "\n",
    "my_string = functools.reduce(reduce_func, letters)\n",
    "\n",
    "print(my_string)"
   ]
  },
  {
   "cell_type": "markdown",
   "id": "5dfb93a7",
   "metadata": {},
   "source": [
    "# Zip function\n",
    "\n",
    "```\n",
    "zip(*iterables)\n",
    "```\n",
    "\n",
    "Aggregate elements from tro pr more iterables (list, tuples, sets etc) and create a zip object with paired elements in tuple"
   ]
  },
  {
   "cell_type": "code",
   "execution_count": 21,
   "id": "f840aabd",
   "metadata": {
    "ExecuteTime": {
     "end_time": "2023-10-09T13:25:59.587718Z",
     "start_time": "2023-10-09T13:25:59.579644Z"
    }
   },
   "outputs": [
    {
     "name": "stdout",
     "output_type": "stream",
     "text": [
      "[('Bob', 'D0g#1'), ('John', 'Lennon@01'), ('James', 'Bond#007')]\n",
      "Bob  :  D0g#1\n",
      "John  :  Lennon@01\n",
      "James  :  Bond#007\n",
      "(('Bob', 'D0g#1'), ('John', 'Lennon@01'), ('James', 'Bond#007'))\n"
     ]
    }
   ],
   "source": [
    "username = ['Bob', 'John', \"James\"]\n",
    "password = (\"D0g#1\", \"Lennon@01\", \"Bond#007\")\n",
    "\n",
    "lst = list(zip(username, password))\n",
    "\n",
    "print(lst)\n",
    "\n",
    "lst = dict(zip(username, password))\n",
    "\n",
    "for key, value in lst.items():\n",
    "    print(key, \" : \", value)\n",
    "\n",
    "lst = tuple(zip(username, password))\n",
    "\n",
    "print(lst)"
   ]
  },
  {
   "cell_type": "code",
   "execution_count": 29,
   "id": "e302a618",
   "metadata": {
    "ExecuteTime": {
     "end_time": "2023-10-09T13:28:28.678459Z",
     "start_time": "2023-10-09T13:28:28.673561Z"
    }
   },
   "outputs": [
    {
     "name": "stdout",
     "output_type": "stream",
     "text": [
      "[('Bob', 'D0g#1', '1/1/2021'), ('John', 'Lennon@01', '2/3/2021'), ('James', 'Bond#007', '3/3/2021')]\n"
     ]
    }
   ],
   "source": [
    "login_date = ['1/1/2021', '2/3/2021', '3/3/2021']\n",
    "\n",
    "lst = list(zip(username, password, login_date))\n",
    "\n",
    "print(lst)"
   ]
  },
  {
   "cell_type": "markdown",
   "id": "310c6f9f",
   "metadata": {},
   "source": [
    "# main\n",
    "\n",
    "```\n",
    "if __name__ == '__main__'\n",
    "```"
   ]
  },
  {
   "cell_type": "code",
   "execution_count": 30,
   "id": "df94823d",
   "metadata": {
    "ExecuteTime": {
     "end_time": "2023-10-09T13:30:12.088042Z",
     "start_time": "2023-10-09T13:30:12.083124Z"
    }
   },
   "outputs": [
    {
     "name": "stdout",
     "output_type": "stream",
     "text": [
      "__main__\n"
     ]
    }
   ],
   "source": [
    "print(__name__)"
   ]
  },
  {
   "cell_type": "markdown",
   "id": "abc98411",
   "metadata": {},
   "source": [
    "# Time Module"
   ]
  },
  {
   "cell_type": "code",
   "execution_count": null,
   "id": "9a3b33c2",
   "metadata": {},
   "outputs": [],
   "source": []
  }
 ],
 "metadata": {
  "hide_input": false,
  "kernelspec": {
   "display_name": "Python 3 (ipykernel)",
   "language": "python",
   "name": "python3"
  },
  "language_info": {
   "codemirror_mode": {
    "name": "ipython",
    "version": 3
   },
   "file_extension": ".py",
   "mimetype": "text/x-python",
   "name": "python",
   "nbconvert_exporter": "python",
   "pygments_lexer": "ipython3",
   "version": "3.11.5"
  },
  "nbTranslate": {
   "displayLangs": [
    "*"
   ],
   "hotkey": "alt-t",
   "langInMainMenu": true,
   "sourceLang": "en",
   "targetLang": "fr",
   "useGoogleTranslate": true
  }
 },
 "nbformat": 4,
 "nbformat_minor": 5
}
