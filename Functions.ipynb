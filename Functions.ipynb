{
 "cells": [
  {
   "cell_type": "markdown",
   "id": "6782b018",
   "metadata": {},
   "source": [
    "# Functions"
   ]
  },
  {
   "cell_type": "markdown",
   "id": "470846d2",
   "metadata": {},
   "source": [
    "## Assigning function to variable"
   ]
  },
  {
   "cell_type": "code",
   "execution_count": 1,
   "id": "65a46b04",
   "metadata": {
    "ExecuteTime": {
     "end_time": "2023-09-23T14:03:52.529084Z",
     "start_time": "2023-09-23T14:03:52.523451Z"
    }
   },
   "outputs": [],
   "source": [
    "def hello():\n",
    "    print(\"Hello!\")"
   ]
  },
  {
   "cell_type": "code",
   "execution_count": 2,
   "id": "c3fe9ae6",
   "metadata": {
    "ExecuteTime": {
     "end_time": "2023-09-23T14:04:03.878838Z",
     "start_time": "2023-09-23T14:04:03.872505Z"
    }
   },
   "outputs": [
    {
     "name": "stdout",
     "output_type": "stream",
     "text": [
      "Hello!\n",
      "Hello!\n"
     ]
    }
   ],
   "source": [
    "hi = hello\n",
    "\n",
    "hello()\n",
    "hi()"
   ]
  },
  {
   "cell_type": "markdown",
   "id": "cebf9ea4",
   "metadata": {
    "ExecuteTime": {
     "end_time": "2023-09-23T14:04:49.634348Z",
     "start_time": "2023-09-23T14:04:49.622473Z"
    }
   },
   "source": [
    "## Higher Order Functions\n",
    "\n",
    "A function that either:\n",
    "1. Acceps a function as an argumrnt\n",
    "2. Returns a function\n",
    "\n",
    "**<ins>Note:</ins> In Python, everything are treated as object, including function**"
   ]
  },
  {
   "cell_type": "code",
   "execution_count": 3,
   "id": "7dbe6274",
   "metadata": {
    "ExecuteTime": {
     "end_time": "2023-09-25T11:13:40.803542Z",
     "start_time": "2023-09-25T11:13:40.798259Z"
    }
   },
   "outputs": [
    {
     "name": "stdout",
     "output_type": "stream",
     "text": [
      "HELLO\n",
      "20.0\n"
     ]
    }
   ],
   "source": [
    "def loud(text):\n",
    "    return text.upper()\n",
    "\n",
    "def quiet(text):\n",
    "    return text.lower()\n",
    "\n",
    "# Higher order function\n",
    "\n",
    "def hello(func):\n",
    "    text = func(\"Hello\")\n",
    "    print(text)\n",
    "\n",
    "def divisor(x):\n",
    "    def dividend(y):\n",
    "        return y/x\n",
    "    \n",
    "    return dividend\n",
    "    \n",
    "# End of higher order functions\n",
    "\n",
    "hello(loud)\n",
    "div = divisor(10)\n",
    "\n",
    "print(div(200))\n"
   ]
  },
  {
   "cell_type": "markdown",
   "id": "93ac9030",
   "metadata": {},
   "source": [
    "## Lambda\n",
    "\n",
    "Syntax:\n",
    "\n",
    "```\n",
    "var = lambda paramaters:expression\n",
    "```\n",
    "\n",
    "Usage:\n",
    "\n",
    "```\n",
    "var(parameters)\n",
    "```"
   ]
  },
  {
   "cell_type": "code",
   "execution_count": 4,
   "id": "8b0ffdf7",
   "metadata": {
    "ExecuteTime": {
     "end_time": "2023-09-25T11:20:44.604957Z",
     "start_time": "2023-09-25T11:20:44.600681Z"
    }
   },
   "outputs": [
    {
     "name": "stdout",
     "output_type": "stream",
     "text": [
      "8\n"
     ]
    }
   ],
   "source": [
    "expf = lambda x,y: x**y\n",
    "\n",
    "print(expf(2,3))"
   ]
  },
  {
   "cell_type": "code",
   "execution_count": 5,
   "id": "9ec147cc",
   "metadata": {
    "ExecuteTime": {
     "end_time": "2023-09-25T11:21:09.103628Z",
     "start_time": "2023-09-25T11:21:09.097427Z"
    }
   },
   "outputs": [
    {
     "data": {
      "text/plain": [
       "40"
      ]
     },
     "execution_count": 5,
     "metadata": {},
     "output_type": "execute_result"
    }
   ],
   "source": [
    "double = lambda x: x*2\n",
    "\n",
    "double(20)"
   ]
  },
  {
   "cell_type": "code",
   "execution_count": 6,
   "id": "7cad96bc",
   "metadata": {
    "ExecuteTime": {
     "end_time": "2023-09-25T11:23:54.793553Z",
     "start_time": "2023-09-25T11:23:54.784057Z"
    }
   },
   "outputs": [
    {
     "data": {
      "text/plain": [
       "True"
      ]
     },
     "execution_count": 6,
     "metadata": {},
     "output_type": "execute_result"
    }
   ],
   "source": [
    "age_check = lambda x: True if x > 18 else false\n",
    "age_check(20)"
   ]
  },
  {
   "cell_type": "code",
   "execution_count": 7,
   "id": "a55121d5",
   "metadata": {
    "ExecuteTime": {
     "end_time": "2023-09-25T11:26:55.324750Z",
     "start_time": "2023-09-25T11:26:55.318658Z"
    }
   },
   "outputs": [
    {
     "data": {
      "text/plain": [
       "20.0"
      ]
     },
     "execution_count": 7,
     "metadata": {},
     "output_type": "execute_result"
    }
   ],
   "source": [
    "# Higher order function using lambda\n",
    "\n",
    "def divisor(x):\n",
    "    return lambda y: y/x\n",
    "\n",
    "dividend = divisor(10)\n",
    "\n",
    "dividend(200)"
   ]
  },
  {
   "cell_type": "markdown",
   "id": "faf1bd61",
   "metadata": {},
   "source": [
    "## Sort function"
   ]
  },
  {
   "cell_type": "code",
   "execution_count": 8,
   "id": "7507711b",
   "metadata": {
    "ExecuteTime": {
     "end_time": "2023-09-25T11:30:38.836478Z",
     "start_time": "2023-09-25T11:30:38.829067Z"
    }
   },
   "outputs": [
    {
     "name": "stdout",
     "output_type": "stream",
     "text": [
      "[98, 56, 32, 2]\n"
     ]
    }
   ],
   "source": [
    "ids = [32, 2,56,98]\n",
    "ids.sort(reverse=True)\n",
    "print(ids)"
   ]
  },
  {
   "cell_type": "code",
   "execution_count": 9,
   "id": "8fbe9fba",
   "metadata": {
    "ExecuteTime": {
     "end_time": "2023-09-25T11:36:07.801793Z",
     "start_time": "2023-09-25T11:36:07.794773Z"
    }
   },
   "outputs": [
    {
     "name": "stdout",
     "output_type": "stream",
     "text": [
      "[2, 32, 56, 98]\n"
     ]
    }
   ],
   "source": [
    "# Sorted function = use with iterables\n",
    "ids = [32, 2, 56, 98]\n",
    "sorted_ids = sorted(ids)\n",
    "\n",
    "print(sorted_ids)"
   ]
  },
  {
   "cell_type": "code",
   "execution_count": 10,
   "id": "704ec4ba",
   "metadata": {
    "ExecuteTime": {
     "end_time": "2023-09-25T12:25:34.133779Z",
     "start_time": "2023-09-25T12:25:34.127672Z"
    }
   },
   "outputs": [
    {
     "name": "stdout",
     "output_type": "stream",
     "text": [
      "[(54, 1), (1, 2), (32, 3), (2, 43)]\n"
     ]
    }
   ],
   "source": [
    "# Sorted with key\n",
    "\n",
    "ids = [(2,43), (32,3), (1,2), (54,1)]\n",
    "\n",
    "# Here we get each element from the list, return the second items of each element as key and then sort the list on the second items\n",
    "sorted_ids = sorted(ids, key=lambda x: x[1])\n",
    "print(sorted_ids)"
   ]
  },
  {
   "cell_type": "code",
   "execution_count": 11,
   "id": "54638a91",
   "metadata": {
    "ExecuteTime": {
     "end_time": "2023-09-25T12:25:34.837798Z",
     "start_time": "2023-09-25T12:25:34.829317Z"
    }
   },
   "outputs": [
    {
     "name": "stdout",
     "output_type": "stream",
     "text": [
      "[(54, 1), (1, 2), (32, 3), (2, 43)]\n"
     ]
    }
   ],
   "source": [
    "# Instead of lambda, we can use function too\n",
    "\n",
    "def return_second(x):\n",
    "    return x[1]\n",
    "\n",
    "ids = [(2,43), (32,3), (1,2), (54,1)]\n",
    "\n",
    "# Here we get each element from the list, return the second items of each element and then sort the list on the second items\n",
    "sorted_ids = sorted(ids, key=return_second)\n",
    "print(sorted_ids)"
   ]
  },
  {
   "cell_type": "markdown",
   "id": "cb2fb440",
   "metadata": {},
   "source": [
    "# map function\n",
    "\n",
    "* Applies a function to each item in an iterable (list, tuple, etc)\n",
    "* That is to say, for each item in the iterable, return the result of running the function with this item as parameter\n",
    "\n",
    "* Syntax :\n",
    "```\n",
    "map(function, iterables)\n",
    "```"
   ]
  },
  {
   "cell_type": "code",
   "execution_count": 12,
   "id": "fb79e059",
   "metadata": {
    "ExecuteTime": {
     "end_time": "2023-09-25T12:25:35.491576Z",
     "start_time": "2023-09-25T12:25:35.482545Z"
    }
   },
   "outputs": [
    {
     "name": "stdout",
     "output_type": "stream",
     "text": [
      "[('shirt', 26.9), ('pants', 33.625), ('jacket', 67.25), ('socks', 13.45)]\n"
     ]
    }
   ],
   "source": [
    "store = [\n",
    "    (\"shirt\", 20.00),\n",
    "    (\"pants\", 25.00),\n",
    "    (\"jacket\", 50.00),\n",
    "    (\"socks\", 10.00)\n",
    "]\n",
    "\n",
    "convert_to_usd = lambda data: (data[0], data[1] * 1.345)\n",
    "\n",
    "store_usd = list(map(convert_to_usd, store))\n",
    "\n",
    "print(store_usd)"
   ]
  },
  {
   "cell_type": "code",
   "execution_count": 13,
   "id": "2c1ef4ff",
   "metadata": {
    "ExecuteTime": {
     "end_time": "2023-09-25T12:26:26.195180Z",
     "start_time": "2023-09-25T12:26:26.189293Z"
    }
   },
   "outputs": [
    {
     "name": "stdout",
     "output_type": "stream",
     "text": [
      "[25, 65, 105, 145, 185, 225, 265]\n"
     ]
    }
   ],
   "source": [
    "# Using lambda\n",
    "\n",
    "ids = [1, 3, 5, 7, 9, 11, 13]\n",
    "\n",
    "double = lambda x: 20*x + 5\n",
    "\n",
    "ids_map = list(map(double, ids))\n",
    "\n",
    "print(ids_map)"
   ]
  },
  {
   "cell_type": "code",
   "execution_count": 14,
   "id": "a651d967",
   "metadata": {
    "ExecuteTime": {
     "end_time": "2023-09-25T12:26:27.287665Z",
     "start_time": "2023-09-25T12:26:27.280359Z"
    }
   },
   "outputs": [
    {
     "name": "stdout",
     "output_type": "stream",
     "text": [
      "[25, 65, 105, 145, 185, 225, 265]\n"
     ]
    }
   ],
   "source": [
    "# Or using function\n",
    "\n",
    "def double(x):\n",
    "    return 20*x + 5\n",
    "\n",
    "ids = [1, 3, 5, 7, 9, 11, 13]\n",
    "\n",
    "ids_map = list(map(double, ids))\n",
    "\n",
    "print(ids_map)"
   ]
  },
  {
   "cell_type": "markdown",
   "id": "1996dfa9",
   "metadata": {},
   "source": [
    "## Filter function\n",
    "\n",
    "Create a collection of elements from an iterable for which a function return True\n",
    "\n",
    "Syntax :\n",
    "\n",
    "```\n",
    "filter(function, iterable)\n",
    "```"
   ]
  },
  {
   "cell_type": "code",
   "execution_count": null,
   "id": "b466d5e3",
   "metadata": {
    "ExecuteTime": {
     "end_time": "2023-09-30T02:56:27.649337Z",
     "start_time": "2023-09-30T02:56:19.818328Z"
    }
   },
   "outputs": [],
   "source": []
  },
  {
   "cell_type": "code",
   "execution_count": null,
   "id": "1714ff3d",
   "metadata": {},
   "outputs": [],
   "source": []
  }
 ],
 "metadata": {
  "hide_input": false,
  "kernelspec": {
   "display_name": "Python 3 (ipykernel)",
   "language": "python",
   "name": "python3"
  },
  "language_info": {
   "codemirror_mode": {
    "name": "ipython",
    "version": 3
   },
   "file_extension": ".py",
   "mimetype": "text/x-python",
   "name": "python",
   "nbconvert_exporter": "python",
   "pygments_lexer": "ipython3",
   "version": "3.11.5"
  },
  "nbTranslate": {
   "displayLangs": [
    "*"
   ],
   "hotkey": "alt-t",
   "langInMainMenu": true,
   "sourceLang": "en",
   "targetLang": "fr",
   "useGoogleTranslate": true
  }
 },
 "nbformat": 4,
 "nbformat_minor": 5
}
