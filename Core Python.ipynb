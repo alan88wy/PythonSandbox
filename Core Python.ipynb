{
 "cells": [
  {
   "cell_type": "markdown",
   "id": "340beeac",
   "metadata": {},
   "source": [
    "# Core Python\n"
   ]
  },
  {
   "cell_type": "markdown",
   "id": "d7fc2a66",
   "metadata": {},
   "source": [
    "#### Printing & Formatting"
   ]
  },
  {
   "cell_type": "code",
   "execution_count": 2,
   "id": "f9270bdb",
   "metadata": {
    "ExecuteTime": {
     "end_time": "2023-09-24T13:10:56.926678Z",
     "start_time": "2023-09-24T13:10:56.919524Z"
    }
   },
   "outputs": [
    {
     "name": "stdout",
     "output_type": "stream",
     "text": [
      "The id is : 1 and name is James\n"
     ]
    }
   ],
   "source": [
    "# using variable in a print format\n",
    "id = 1\n",
    "name = 'James'\n",
    "f = f'The id is : {id} and name is {name}'\n",
    "print(f)"
   ]
  },
  {
   "cell_type": "markdown",
   "id": "124dafa6",
   "metadata": {},
   "source": [
    "# List Comprehension"
   ]
  },
  {
   "cell_type": "code",
   "execution_count": 5,
   "id": "1502b422",
   "metadata": {
    "ExecuteTime": {
     "end_time": "2023-10-09T12:53:02.825993Z",
     "start_time": "2023-10-09T12:53:02.818816Z"
    }
   },
   "outputs": [
    {
     "name": "stdout",
     "output_type": "stream",
     "text": [
      "[2, 4, 6, 8]\n"
     ]
    }
   ],
   "source": [
    "l = [1,2,3,4,5,6,7,8,9]\n",
    "\n",
    "ln = list([i for i in l if i % 2 == 0])\n",
    "\n",
    "print(ln)"
   ]
  },
  {
   "cell_type": "markdown",
   "id": "63971941",
   "metadata": {},
   "source": [
    "# Dictionary Comprehension"
   ]
  },
  {
   "cell_type": "code",
   "execution_count": 8,
   "id": "622e8ea9",
   "metadata": {
    "ExecuteTime": {
     "end_time": "2023-10-09T12:57:01.841006Z",
     "start_time": "2023-10-09T12:57:01.834329Z"
    }
   },
   "outputs": [
    {
     "name": "stdout",
     "output_type": "stream",
     "text": [
      "{'New York': 0, 'Boston': 24, 'Los Angeles': 38, 'Chicago': 10}\n"
     ]
    }
   ],
   "source": [
    "# convert from fareinheight to celcius\n",
    "\n",
    "cities_f = {'New York': 32, 'Boston': 75, 'Los Angeles': 100, 'Chicago': 50}\n",
    "cities_c = {key : round((value -32) * (5/9)) for (key, value) in cities_f.items()}\n",
    "\n",
    "print(cities_c)"
   ]
  },
  {
   "cell_type": "code",
   "execution_count": 12,
   "id": "cb12c8e2",
   "metadata": {
    "ExecuteTime": {
     "end_time": "2023-10-09T13:08:33.856769Z",
     "start_time": "2023-10-09T13:08:33.851575Z"
    }
   },
   "outputs": [
    {
     "name": "stdout",
     "output_type": "stream",
     "text": [
      "{'New York': 'COLD', 'Boston': 'WARM', 'Los Angeles': 'WARM', 'Chicago': 'WARM'}\n"
     ]
    }
   ],
   "source": [
    "# Can also include conditions using If/Else or function\n",
    "\n",
    "cities_desc = {key : (\"WARM\" if value >= 40 else \"COLD\") for (key, value) in cities_f.items()}\n",
    "\n",
    "print(cities_desc)"
   ]
  },
  {
   "cell_type": "code",
   "execution_count": 14,
   "id": "217db884",
   "metadata": {
    "ExecuteTime": {
     "end_time": "2023-10-09T13:09:56.297956Z",
     "start_time": "2023-10-09T13:09:56.290725Z"
    }
   },
   "outputs": [
    {
     "name": "stdout",
     "output_type": "stream",
     "text": [
      "{'New York': 'COLD', 'Boston': 'WARM', 'Los Angeles': 'WARM', 'Chicago': 'WARM'}\n"
     ]
    }
   ],
   "source": [
    "chk_condition = lambda x: \"WARM\" if x >= 40 else \"COLD\"\n",
    "\n",
    "cities_desc = {key : chk_condition(value) for (key, value) in cities_f.items()}\n",
    "\n",
    "print(cities_desc)"
   ]
  },
  {
   "cell_type": "code",
   "execution_count": null,
   "id": "2bebd019",
   "metadata": {},
   "outputs": [],
   "source": []
  }
 ],
 "metadata": {
  "hide_input": false,
  "kernelspec": {
   "display_name": "Python 3 (ipykernel)",
   "language": "python",
   "name": "python3"
  },
  "language_info": {
   "codemirror_mode": {
    "name": "ipython",
    "version": 3
   },
   "file_extension": ".py",
   "mimetype": "text/x-python",
   "name": "python",
   "nbconvert_exporter": "python",
   "pygments_lexer": "ipython3",
   "version": "3.11.5"
  },
  "nbTranslate": {
   "displayLangs": [
    "*"
   ],
   "hotkey": "alt-t",
   "langInMainMenu": true,
   "sourceLang": "en",
   "targetLang": "fr",
   "useGoogleTranslate": true
  }
 },
 "nbformat": 4,
 "nbformat_minor": 5
}
