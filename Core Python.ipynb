{
 "cells": [
  {
   "cell_type": "markdown",
   "id": "340beeac",
   "metadata": {},
   "source": [
    "# Core Python\n"
   ]
  },
  {
   "cell_type": "markdown",
   "id": "d7fc2a66",
   "metadata": {},
   "source": [
    "#### Printing & Formatting"
   ]
  },
  {
   "cell_type": "code",
   "execution_count": 2,
   "id": "f9270bdb",
   "metadata": {
    "ExecuteTime": {
     "end_time": "2023-09-24T13:10:56.926678Z",
     "start_time": "2023-09-24T13:10:56.919524Z"
    }
   },
   "outputs": [
    {
     "name": "stdout",
     "output_type": "stream",
     "text": [
      "The id is : 1 and name is James\n"
     ]
    }
   ],
   "source": [
    "# using variable in a print format\n",
    "id = 1\n",
    "name = 'James'\n",
    "f = f'The id is : {id} and name is {name}'\n",
    "print(f)"
   ]
  },
  {
   "cell_type": "markdown",
   "id": "7cad7d72",
   "metadata": {},
   "source": [
    "# List Comprehension"
   ]
  },
  {
   "cell_type": "code",
   "execution_count": 5,
   "id": "1530ad73",
   "metadata": {
    "ExecuteTime": {
     "end_time": "2023-10-09T12:53:02.825993Z",
     "start_time": "2023-10-09T12:53:02.818816Z"
    }
   },
   "outputs": [
    {
     "name": "stdout",
     "output_type": "stream",
     "text": [
      "[2, 4, 6, 8]\n"
     ]
    }
   ],
   "source": [
    "l = [1,2,3,4,5,6,7,8,9]\n",
    "\n",
    "ln = list([i for i in l if i % 2 == 0])\n",
    "\n",
    "print(ln)"
   ]
  },
  {
   "cell_type": "markdown",
   "id": "41dd82dd",
   "metadata": {},
   "source": [
    "# Dictionary Comprehension"
   ]
  },
  {
   "cell_type": "code",
   "execution_count": 8,
   "id": "af0fd7e5",
   "metadata": {
    "ExecuteTime": {
     "end_time": "2023-10-09T12:57:01.841006Z",
     "start_time": "2023-10-09T12:57:01.834329Z"
    }
   },
   "outputs": [
    {
     "name": "stdout",
     "output_type": "stream",
     "text": [
      "{'New York': 0, 'Boston': 24, 'Los Angeles': 38, 'Chicago': 10}\n"
     ]
    }
   ],
   "source": [
    "# convert from fareinheight to celcius\n",
    "\n",
    "cities_f = {'New York': 32, 'Boston': 75, 'Los Angeles': 100, 'Chicago': 50}\n",
    "cities_c = {key : round((value -32) * (5/9)) for (key, value) in cities_f.items()}\n",
    "\n",
    "print(cities_c)"
   ]
  },
  {
   "cell_type": "code",
   "execution_count": 12,
   "id": "c7074ec9",
   "metadata": {
    "ExecuteTime": {
     "end_time": "2023-10-09T13:08:33.856769Z",
     "start_time": "2023-10-09T13:08:33.851575Z"
    }
   },
   "outputs": [
    {
     "name": "stdout",
     "output_type": "stream",
     "text": [
      "{'New York': 'COLD', 'Boston': 'WARM', 'Los Angeles': 'WARM', 'Chicago': 'WARM'}\n"
     ]
    }
   ],
   "source": [
    "# Can also include conditions using If/Else or function\n",
    "\n",
    "cities_desc = {key : (\"WARM\" if value >= 40 else \"COLD\") for (key, value) in cities_f.items()}\n",
    "\n",
    "print(cities_desc)"
   ]
  },
  {
   "cell_type": "code",
   "execution_count": 15,
   "id": "2d39e103",
   "metadata": {
    "ExecuteTime": {
     "end_time": "2023-10-10T12:33:59.150505Z",
     "start_time": "2023-10-10T12:33:59.143043Z"
    }
   },
   "outputs": [
    {
     "name": "stdout",
     "output_type": "stream",
     "text": [
      "{'New York': 'COLD', 'Boston': 'WARM', 'Los Angeles': 'WARM', 'Chicago': 'WARM'}\n"
     ]
    }
   ],
   "source": [
    "chk_condition = lambda x: \"WARM\" if x >= 40 else \"COLD\"\n",
    "\n",
    "cities_desc = {key : chk_condition(value) for (key, value) in cities_f.items()}\n",
    "\n",
    "print(cities_desc)"
   ]
  },
  {
   "cell_type": "markdown",
   "id": "60c5af98",
   "metadata": {},
   "source": [
    "# time module"
   ]
  },
  {
   "cell_type": "code",
   "execution_count": 16,
   "id": "aabbef19",
   "metadata": {
    "ExecuteTime": {
     "end_time": "2023-10-10T12:51:37.686524Z",
     "start_time": "2023-10-10T12:51:37.680230Z"
    }
   },
   "outputs": [
    {
     "name": "stdout",
     "output_type": "stream",
     "text": [
      "Thu Jan  1 08:00:00 1970\n"
     ]
    }
   ],
   "source": [
    "import time\n",
    "\n",
    "print(time.ctime(0))    # secods from 01/01/1970 08:00:00 (epoch)"
   ]
  },
  {
   "cell_type": "code",
   "execution_count": 17,
   "id": "3dd9b3ef",
   "metadata": {
    "ExecuteTime": {
     "end_time": "2023-10-10T12:52:18.706306Z",
     "start_time": "2023-10-10T12:52:18.701594Z"
    }
   },
   "outputs": [
    {
     "name": "stdout",
     "output_type": "stream",
     "text": [
      "1696942338.703594\n"
     ]
    }
   ],
   "source": [
    "print(time.time())  # Seconds since epoch"
   ]
  },
  {
   "cell_type": "code",
   "execution_count": 19,
   "id": "8a5fa0a4",
   "metadata": {
    "ExecuteTime": {
     "end_time": "2023-10-10T12:53:21.026941Z",
     "start_time": "2023-10-10T12:53:21.022128Z"
    }
   },
   "outputs": [
    {
     "name": "stdout",
     "output_type": "stream",
     "text": [
      "Tue Oct 10 20:53:21 2023\n"
     ]
    }
   ],
   "source": [
    "print(time.ctime(time.time()))   # Print current date and time"
   ]
  },
  {
   "cell_type": "code",
   "execution_count": 21,
   "id": "39f0411d",
   "metadata": {
    "ExecuteTime": {
     "end_time": "2023-10-10T12:53:49.201296Z",
     "start_time": "2023-10-10T12:53:49.195833Z"
    }
   },
   "outputs": [
    {
     "name": "stdout",
     "output_type": "stream",
     "text": [
      "time.struct_time(tm_year=2023, tm_mon=10, tm_mday=10, tm_hour=20, tm_min=53, tm_sec=49, tm_wday=1, tm_yday=283, tm_isdst=0)\n"
     ]
    }
   ],
   "source": [
    "print(time.localtime())   # Local time"
   ]
  },
  {
   "cell_type": "code",
   "execution_count": 22,
   "id": "d696bdaa",
   "metadata": {
    "ExecuteTime": {
     "end_time": "2023-10-10T12:54:12.000801Z",
     "start_time": "2023-10-10T12:54:11.996419Z"
    }
   },
   "outputs": [
    {
     "name": "stdout",
     "output_type": "stream",
     "text": [
      "time.struct_time(tm_year=2023, tm_mon=10, tm_mday=10, tm_hour=12, tm_min=54, tm_sec=11, tm_wday=1, tm_yday=283, tm_isdst=0)\n"
     ]
    }
   ],
   "source": [
    "print(time.gmtime())  # UTC time"
   ]
  },
  {
   "cell_type": "code",
   "execution_count": 23,
   "id": "016f419e",
   "metadata": {
    "ExecuteTime": {
     "end_time": "2023-10-10T12:56:45.661769Z",
     "start_time": "2023-10-10T12:56:45.656040Z"
    }
   },
   "outputs": [
    {
     "name": "stdout",
     "output_type": "stream",
     "text": [
      "October 10 2023 20:56:45\n"
     ]
    }
   ],
   "source": [
    "time_object = time.localtime() # Local Time\n",
    "\n",
    "local_time = time.strftime(\"%B %d %Y %H:%M:%S\", time_object)\n",
    "\n",
    "print(local_time)"
   ]
  },
  {
   "cell_type": "code",
   "execution_count": 24,
   "id": "a4f6b4f7",
   "metadata": {
    "ExecuteTime": {
     "end_time": "2023-10-10T12:57:15.133012Z",
     "start_time": "2023-10-10T12:57:15.127795Z"
    }
   },
   "outputs": [
    {
     "name": "stdout",
     "output_type": "stream",
     "text": [
      "October 10 2023 12:57:15\n"
     ]
    }
   ],
   "source": [
    "time_object = time.gmtime()  # UTC Time\n",
    "\n",
    "local_time = time.strftime(\"%B %d %Y %H:%M:%S\", time_object)\n",
    "\n",
    "print(local_time)"
   ]
  },
  {
   "cell_type": "code",
   "execution_count": 3,
   "id": "c20cdc46",
   "metadata": {
    "ExecuteTime": {
     "end_time": "2023-10-11T12:11:37.715215Z",
     "start_time": "2023-10-11T12:11:37.711159Z"
    }
   },
   "outputs": [
    {
     "name": "stdout",
     "output_type": "stream",
     "text": [
      "Example 1 (UTC): Wed, 11 Oct 2023 12:11:37 + 1010\n"
     ]
    }
   ],
   "source": [
    "# importing the srtftime() and gmtime()\n",
    "# if not used the gm time, time changes\n",
    "# to the local time\n",
    " \n",
    "from time import gmtime, strftime\n",
    " \n",
    "# using simple format of showing time\n",
    "s = strftime(\"%a, %d %b %Y %H:%M:%S + 1010\", gmtime())\n",
    "print(\"Example 1 (UTC):\", s)\n",
    " \n"
   ]
  },
  {
   "cell_type": "code",
   "execution_count": 4,
   "id": "6bd75423",
   "metadata": {
    "ExecuteTime": {
     "end_time": "2023-10-11T12:12:05.773600Z",
     "start_time": "2023-10-11T12:12:05.768541Z"
    }
   },
   "outputs": [
    {
     "name": "stdout",
     "output_type": "stream",
     "text": [
      "Example 2 (UTC): Wednesday, 10/11/23 October 2023 12:12:05 + 0000\n"
     ]
    }
   ],
   "source": [
    "# importing the srtftime() and gmtime()\n",
    "# if not used the gm time, time changes\n",
    "# to the local time\n",
    " \n",
    "from time import gmtime, strftime\n",
    " \n",
    "\n",
    "# only change in this is the full names\n",
    "# and the representation\n",
    "s = strftime(\"%A, %D %B %Y %H:%M:%S + 0000\", gmtime())\n",
    "print(\"Example 2 (UTC):\", s)"
   ]
  },
  {
   "cell_type": "code",
   "execution_count": 5,
   "id": "f9e2eeac",
   "metadata": {
    "ExecuteTime": {
     "end_time": "2023-10-11T12:12:25.573305Z",
     "start_time": "2023-10-11T12:12:25.568346Z"
    }
   },
   "outputs": [
    {
     "name": "stdout",
     "output_type": "stream",
     "text": [
      "Example 3: Wed Oct 11 20:12:25 2023\n"
     ]
    }
   ],
   "source": [
    "# importing the srtftime() and gmtime()\n",
    "# if not used the gm time, time changes\n",
    "# to the local time\n",
    " \n",
    "from time import gmtime, strftime\n",
    " \n",
    "\n",
    "# this will show you the preferred date time format\n",
    "s = strftime(\"%c\")\n",
    "print(\"Example 3:\", s)"
   ]
  },
  {
   "cell_type": "code",
   "execution_count": 12,
   "id": "03beaa36",
   "metadata": {
    "ExecuteTime": {
     "end_time": "2023-10-11T12:13:09.420672Z",
     "start_time": "2023-10-11T12:13:09.417459Z"
    }
   },
   "outputs": [
    {
     "name": "stdout",
     "output_type": "stream",
     "text": [
      "Example 4: 20\n"
     ]
    }
   ],
   "source": [
    "# importing the srtftime() and gmtime()\n",
    "# if not used the gm time, time changes\n",
    "# to the local time\n",
    " \n",
    "from time import gmtime, strftime\n",
    " \n",
    "# this will tell about the centuries\n",
    "s = strftime(\"%C\")\n",
    "print(\"Example 4:\", s)\n",
    " "
   ]
  },
  {
   "cell_type": "code",
   "execution_count": 13,
   "id": "4c46cedc",
   "metadata": {
    "ExecuteTime": {
     "end_time": "2023-10-11T12:13:26.462834Z",
     "start_time": "2023-10-11T12:13:26.457806Z"
    }
   },
   "outputs": [
    {
     "name": "stdout",
     "output_type": "stream",
     "text": [
      "Example 5: Wednesday, 10/11/23 October 2023, 08:13:26 PM, \n",
      "MOTY:10 \n",
      "DOTY:284\n"
     ]
    }
   ],
   "source": [
    "# importing the srtftime() and gmtime()\n",
    "# if not used the gm time, time changes\n",
    "# to the local time\n",
    " \n",
    "from time import gmtime, strftime\n",
    " \n",
    "# MOTY: month of the year\n",
    "# DOTY: Day of the year\n",
    "# Simple representation\n",
    "# % n - new line\n",
    "s = strftime(\"%A, %D %B %Y, %r, %nMOTY:%m %nDOTY:%j\")\n",
    "print(\"Example 5:\", s)"
   ]
  },
  {
   "cell_type": "code",
   "execution_count": 14,
   "id": "34967e54",
   "metadata": {
    "ExecuteTime": {
     "end_time": "2023-10-11T12:13:47.219440Z",
     "start_time": "2023-10-11T12:13:47.215516Z"
    }
   },
   "outputs": [
    {
     "name": "stdout",
     "output_type": "stream",
     "text": [
      "Example 6:  20:13 \n"
     ]
    }
   ],
   "source": [
    "# importing the srtftime() and gmtime()\n",
    "# if not used the gm time, time changes\n",
    "# to the local time\n",
    " \n",
    "from time import gmtime, strftime\n",
    " \n",
    "# % R - time in 24 hour notation\n",
    "s = strftime(\" %R \")\n",
    "print(\"Example 6:\", s)"
   ]
  },
  {
   "cell_type": "code",
   "execution_count": 19,
   "id": "49ceec55",
   "metadata": {
    "ExecuteTime": {
     "end_time": "2023-10-11T12:14:19.535490Z",
     "start_time": "2023-10-11T12:14:19.530445Z"
    }
   },
   "outputs": [
    {
     "name": "stdout",
     "output_type": "stream",
     "text": [
      "Example 7: Wed, 11 Oct 2023 12:14:19 + 0000\n"
     ]
    }
   ],
   "source": [
    "# importing the srtftime() and gmtime()\n",
    "# if not used the gm time, time changes\n",
    "# to the local time\n",
    " \n",
    "from time import gmtime, strftime\n",
    "\n",
    "# % H - hour, using a 24-hour clock (00 to 23) in Example 1, 2, 3\n",
    "# % I - hour, using a 12-hour clock (01 to 12)\n",
    "s = strftime(\"%a, %d %b %Y %I:%M:%S + 0000\", gmtime())\n",
    "print(\"Example 7:\", s)"
   ]
  },
  {
   "cell_type": "code",
   "execution_count": 20,
   "id": "856eac89",
   "metadata": {
    "ExecuteTime": {
     "end_time": "2023-10-11T12:14:38.162764Z",
     "start_time": "2023-10-11T12:14:38.156020Z"
    }
   },
   "outputs": [
    {
     "name": "stdout",
     "output_type": "stream",
     "text": [
      "Example 8: 12:14:38 PM, 12:14:38 \n"
     ]
    }
   ],
   "source": [
    "# importing the srtftime() and gmtime()\n",
    "# if not used the gm time, time changes\n",
    "# to the local time\n",
    " \n",
    "from time import gmtime, strftime\n",
    "\n",
    "# % T - current time, equal to % H:% M:% S\n",
    "s = strftime(\"%r, %T \", gmtime())\n",
    "print(\"Example 8:\", s)"
   ]
  },
  {
   "cell_type": "code",
   "execution_count": 21,
   "id": "abcad399",
   "metadata": {
    "ExecuteTime": {
     "end_time": "2023-10-11T12:14:50.567879Z",
     "start_time": "2023-10-11T12:14:50.562557Z"
    }
   },
   "outputs": [
    {
     "name": "stdout",
     "output_type": "stream",
     "text": [
      "Example 9: 08:14:50 PM, 3, 41\n"
     ]
    }
   ],
   "source": [
    "# importing the srtftime() and gmtime()\n",
    "# if not used the gm time, time changes\n",
    "# to the local time\n",
    " \n",
    "from time import gmtime, strftime\n",
    "\n",
    "# % u an % U use (see difference)\n",
    "s = strftime(\"%r, %u, %U\")\n",
    "print(\"Example 9:\", s)\n",
    " "
   ]
  },
  {
   "cell_type": "code",
   "execution_count": 22,
   "id": "b813bc3d",
   "metadata": {
    "ExecuteTime": {
     "end_time": "2023-10-11T12:15:09.947548Z",
     "start_time": "2023-10-11T12:15:09.943387Z"
    }
   },
   "outputs": [
    {
     "name": "stdout",
     "output_type": "stream",
     "text": [
      "Example 10: 08:15:09 PM, 41, 41, 3\n"
     ]
    }
   ],
   "source": [
    "# importing the srtftime() and gmtime()\n",
    "# if not used the gm time, time changes\n",
    "# to the local time\n",
    " \n",
    "from time import gmtime, strftime\n",
    "\n",
    "# use of % V, % W, % w\n",
    "s = strftime(\"%r, %V, %W, %w\")\n",
    "print(\"Example 10:\", s)"
   ]
  },
  {
   "cell_type": "code",
   "execution_count": 23,
   "id": "9cd81e83",
   "metadata": {
    "ExecuteTime": {
     "end_time": "2023-10-11T12:15:22.075937Z",
     "start_time": "2023-10-11T12:15:22.071247Z"
    }
   },
   "outputs": [
    {
     "name": "stdout",
     "output_type": "stream",
     "text": [
      "Example 11: 10/11/23, 20:15:22, 23, 2023\n"
     ]
    }
   ],
   "source": [
    "# importing the srtftime() and gmtime()\n",
    "# if not used the gm time, time changes\n",
    "# to the local time\n",
    " \n",
    "from time import gmtime, strftime\n",
    "\n",
    "# use of % x, % X, % y, % Y\n",
    "s = strftime(\"%x, %X, %y, %Y\")\n",
    "print(\"Example 11:\", s)"
   ]
  },
  {
   "cell_type": "code",
   "execution_count": 24,
   "id": "aeab4759",
   "metadata": {
    "ExecuteTime": {
     "end_time": "2023-10-11T12:15:32.628987Z",
     "start_time": "2023-10-11T12:15:32.624512Z"
    }
   },
   "outputs": [
    {
     "name": "stdout",
     "output_type": "stream",
     "text": [
      "Example 12: 08:15:32 PM, +0800, Malay Peninsula Standard Time\n"
     ]
    }
   ],
   "source": [
    "# importing the srtftime() and gmtime()\n",
    "# if not used the gm time, time changes\n",
    "# to the local time\n",
    " \n",
    "from time import gmtime, strftime\n",
    "\n",
    "# use of % Z, % z\n",
    "s = strftime(\"%r, %z, %Z\")\n",
    "print(\"Example 12:\", s)"
   ]
  },
  {
   "cell_type": "code",
   "execution_count": null,
   "id": "b654cfbe",
   "metadata": {},
   "outputs": [],
   "source": []
  }
 ],
 "metadata": {
  "hide_input": false,
  "kernelspec": {
   "display_name": "Python 3 (ipykernel)",
   "language": "python",
   "name": "python3"
  },
  "language_info": {
   "codemirror_mode": {
    "name": "ipython",
    "version": 3
   },
   "file_extension": ".py",
   "mimetype": "text/x-python",
   "name": "python",
   "nbconvert_exporter": "python",
   "pygments_lexer": "ipython3",
   "version": "3.11.5"
  },
  "nbTranslate": {
   "displayLangs": [
    "*"
   ],
   "hotkey": "alt-t",
   "langInMainMenu": true,
   "sourceLang": "en",
   "targetLang": "fr",
   "useGoogleTranslate": true
  }
 },
 "nbformat": 4,
 "nbformat_minor": 5
}
