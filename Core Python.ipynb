{
 "cells": [
  {
   "cell_type": "markdown",
   "id": "340beeac",
   "metadata": {},
   "source": [
    "# Core Python\n"
   ]
  },
  {
   "cell_type": "markdown",
   "id": "d7fc2a66",
   "metadata": {},
   "source": [
    "#### Printing & Formatting"
   ]
  },
  {
   "cell_type": "code",
   "execution_count": 2,
   "id": "f9270bdb",
   "metadata": {
    "ExecuteTime": {
     "end_time": "2023-09-24T13:10:56.926678Z",
     "start_time": "2023-09-24T13:10:56.919524Z"
    }
   },
   "outputs": [
    {
     "name": "stdout",
     "output_type": "stream",
     "text": [
      "The id is : 1 and name is James\n"
     ]
    }
   ],
   "source": [
    "# using variable in a print format\n",
    "id = 1\n",
    "name = 'James'\n",
    "f = f'The id is : {id} and name is {name}'\n",
    "print(f)"
   ]
  },
  {
   "cell_type": "code",
   "execution_count": null,
   "id": "8337ff46",
   "metadata": {},
   "outputs": [],
   "source": []
  }
 ],
 "metadata": {
  "hide_input": false,
  "kernelspec": {
   "display_name": "Python 3 (ipykernel)",
   "language": "python",
   "name": "python3"
  },
  "language_info": {
   "codemirror_mode": {
    "name": "ipython",
    "version": 3
   },
   "file_extension": ".py",
   "mimetype": "text/x-python",
   "name": "python",
   "nbconvert_exporter": "python",
   "pygments_lexer": "ipython3",
   "version": "3.11.5"
  },
  "nbTranslate": {
   "displayLangs": [
    "*"
   ],
   "hotkey": "alt-t",
   "langInMainMenu": true,
   "sourceLang": "en",
   "targetLang": "fr",
   "useGoogleTranslate": true
  }
 },
 "nbformat": 4,
 "nbformat_minor": 5
}
