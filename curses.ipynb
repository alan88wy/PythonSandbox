{
 "cells": [
  {
   "cell_type": "code",
   "execution_count": 1,
   "id": "67b7bdb8",
   "metadata": {
    "ExecuteTime": {
     "end_time": "2023-10-01T01:05:12.576205Z",
     "start_time": "2023-10-01T01:05:12.569467Z"
    }
   },
   "outputs": [],
   "source": [
    "# only for windows\n",
    "\n",
    "# !pip install windows-curses"
   ]
  },
  {
   "cell_type": "code",
   "execution_count": null,
   "id": "6ca782ca",
   "metadata": {
    "ExecuteTime": {
     "start_time": "2023-10-01T01:07:06.782Z"
    },
    "code_folding": []
   },
   "outputs": [],
   "source": [
    "import curses\n",
    "import sys\n",
    "\n",
    "def main(argv):\n",
    "  # BEGIN ncurses startup/initialization...\n",
    "  # Initialize the curses object.\n",
    "  stdscr = curses.initscr()\n",
    "\n",
    "  # Do not echo keys back to the client.\n",
    "  curses.noecho()\n",
    "\n",
    "  # Non-blocking or cbreak mode... do not wait for Enter key to be pressed.\n",
    "  curses.cbreak()\n",
    "\n",
    "  # Turn off blinking cursor\n",
    "  curses.curs_set(False)\n",
    "\n",
    "  # Enable color if we can...\n",
    "  if curses.has_colors():\n",
    "    curses.start_color()\n",
    "\n",
    "  # Optional - Enable the keypad. This also decodes multi-byte key sequences\n",
    "  stdscr.keypad(True)\n",
    "\n",
    "  # END ncurses startup/initialization...\n",
    "\n",
    "  caughtExceptions = \"\"\n",
    "  try:\n",
    "    # Coordinates start from top left, in the format of y, x.\n",
    "    stdscr.addstr(0, 0, \"Hello, world!\")\n",
    "    screenDetailText = \"This screen is [\" + str(curses.LINES) + \"] high and [\" + str(curses.COLS) + \"] across.\"\n",
    "    startingXPos = int ( (curses.COLS - len(screenDetailText))/2 )\n",
    "    stdscr.addstr(3, startingXPos, screenDetailText)\n",
    "    stdscr.addstr(5, curses.COLS - len(\"Press a key to quit.\"), \"Press a key to quit.\")\n",
    "\n",
    "    # Actually draws the text above to the positions specified.\n",
    "    stdscr.refresh()\n",
    "\n",
    "    # Grabs a value from the keyboard without Enter having to be pressed (see cbreak above)\n",
    "    stdscr.getch()\n",
    "  except Exception as err:\n",
    "   # Just printing from here will not work, as the program is still set to\n",
    "   # use ncurses.\n",
    "   # print (\"Some error [\" + str(err) + \"] occurred.\")\n",
    "   caughtExceptions = str(err)\n",
    "\n",
    "  # BEGIN ncurses shutdown/deinitialization...\n",
    "  # Turn off cbreak mode...\n",
    "  curses.nocbreak()\n",
    "\n",
    "  # Turn echo back on.\n",
    "  curses.echo()\n",
    "\n",
    "  # Restore cursor blinking.\n",
    "  curses.curs_set(True)\n",
    "\n",
    "  # Turn off the keypad...\n",
    "  # stdscr.keypad(False)\n",
    "\n",
    "  # Restore Terminal to original state.\n",
    "  curses.endwin()\n",
    "\n",
    "  # END ncurses shutdown/deinitialization...\n",
    "\n",
    "  # Display Errors if any happened:\n",
    "  if \"\" != caughtExceptions:\n",
    "   print (\"Got error(s) [\" + caughtExceptions + \"]\")\n",
    "\n",
    "if __name__ == \"__main__\":\n",
    "  main(sys.argv[1:])"
   ]
  },
  {
   "cell_type": "code",
   "execution_count": null,
   "id": "57e94724",
   "metadata": {},
   "outputs": [],
   "source": []
  }
 ],
 "metadata": {
  "hide_input": false,
  "kernelspec": {
   "display_name": "Python 3 (ipykernel)",
   "language": "python",
   "name": "python3"
  },
  "language_info": {
   "codemirror_mode": {
    "name": "ipython",
    "version": 3
   },
   "file_extension": ".py",
   "mimetype": "text/x-python",
   "name": "python",
   "nbconvert_exporter": "python",
   "pygments_lexer": "ipython3",
   "version": "3.11.5"
  },
  "nbTranslate": {
   "displayLangs": [
    "*"
   ],
   "hotkey": "alt-t",
   "langInMainMenu": true,
   "sourceLang": "en",
   "targetLang": "fr",
   "useGoogleTranslate": true
  }
 },
 "nbformat": 4,
 "nbformat_minor": 5
}
