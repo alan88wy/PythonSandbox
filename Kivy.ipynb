{
 "cells": [
  {
   "cell_type": "code",
   "execution_count": 11,
   "id": "4dae60fe",
   "metadata": {
    "ExecuteTime": {
     "end_time": "2023-09-29T07:38:37.158425Z",
     "start_time": "2023-09-29T07:38:37.143123Z"
    }
   },
   "outputs": [],
   "source": [
    "from kivy.app import App\n",
    "from kivy.uix.widget import Widget\n",
    "from kivy.properties import (\n",
    "    NumericProperty, ReferenceListProperty, ObjectProperty\n",
    ")\n",
    "from kivy.vector import Vector\n",
    "from kivy.clock import Clock\n",
    "\n",
    "\n",
    "class PongPaddle(Widget):\n",
    "    score = NumericProperty(0)\n",
    "\n",
    "    def bounce_ball(self, ball):\n",
    "        if self.collide_widget(ball):\n",
    "            vx, vy = ball.velocity\n",
    "            offset = (ball.center_y - self.center_y) / (self.height / 2)\n",
    "            bounced = Vector(-1 * vx, vy)\n",
    "            vel = bounced * 1.1\n",
    "            ball.velocity = vel.x, vel.y + offset\n",
    "\n",
    "\n",
    "class PongBall(Widget):\n",
    "    velocity_x = NumericProperty(0)\n",
    "    velocity_y = NumericProperty(0)\n",
    "    velocity = ReferenceListProperty(velocity_x, velocity_y)\n",
    "\n",
    "    def move(self):\n",
    "        self.pos = Vector(*self.velocity) + self.pos\n",
    "\n",
    "\n",
    "class PongGame(Widget):\n",
    "    ball = ObjectProperty(None)\n",
    "    player1 = ObjectProperty(None)\n",
    "    player2 = ObjectProperty(None)\n",
    "\n",
    "    def serve_ball(self, vel=(4, 0)):\n",
    "        self.ball.center = self.center\n",
    "        self.ball.velocity = vel\n",
    "\n",
    "    def update(self, dt):\n",
    "        self.ball.move()\n",
    "\n",
    "        # bounce off paddles\n",
    "        self.player1.bounce_ball(self.ball)\n",
    "        self.player2.bounce_ball(self.ball)\n",
    "\n",
    "        # bounce ball off bottom or top\n",
    "        if (self.ball.y < self.y) or (self.ball.top > self.top):\n",
    "            self.ball.velocity_y *= -1\n",
    "\n",
    "        # went off to a side to score point?\n",
    "        if self.ball.x < self.x:\n",
    "            self.player2.score += 1\n",
    "            self.serve_ball(vel=(4, 0))\n",
    "        if self.ball.right > self.width:\n",
    "            self.player1.score += 1\n",
    "            self.serve_ball(vel=(-4, 0))\n",
    "\n",
    "    def on_touch_move(self, touch):\n",
    "        if touch.x < self.width / 3:\n",
    "            self.player1.center_y = touch.y\n",
    "        if touch.x > self.width - self.width / 3:\n",
    "            self.player2.center_y = touch.y\n",
    "\n",
    "\n",
    "class PongApp(App):\n",
    "    def build(self):\n",
    "        game = PongGame()\n",
    "        game.serve_ball()\n",
    "        Clock.schedule_interval(game.update, 1.0 / 60.0)\n",
    "        return game\n",
    "\n",
    "\n",
    "if __name__ == '__main__':\n",
    "    PongApp().run()\n",
    "\n",
    "\n",
    "\n"
   ]
  },
  {
   "cell_type": "code",
   "execution_count": null,
   "id": "18bf3b3a",
   "metadata": {
    "ExecuteTime": {
     "end_time": "2023-09-29T07:38:41.014828Z",
     "start_time": "2023-09-29T07:38:41.007607Z"
    }
   },
   "outputs": [],
   "source": []
  },
  {
   "cell_type": "code",
   "execution_count": null,
   "id": "e7430cca",
   "metadata": {
    "ExecuteTime": {
     "end_time": "2023-09-29T07:38:46.970605Z",
     "start_time": "2023-09-29T07:38:46.955291Z"
    }
   },
   "outputs": [],
   "source": []
  },
  {
   "cell_type": "code",
   "execution_count": null,
   "id": "b15ceae8",
   "metadata": {},
   "outputs": [],
   "source": []
  }
 ],
 "metadata": {
  "hide_input": false,
  "kernelspec": {
   "display_name": "Python 3 (ipykernel)",
   "language": "python",
   "name": "python3"
  },
  "language_info": {
   "codemirror_mode": {
    "name": "ipython",
    "version": 3
   },
   "file_extension": ".py",
   "mimetype": "text/x-python",
   "name": "python",
   "nbconvert_exporter": "python",
   "pygments_lexer": "ipython3",
   "version": "3.11.5"
  },
  "nbTranslate": {
   "displayLangs": [
    "*"
   ],
   "hotkey": "alt-t",
   "langInMainMenu": true,
   "sourceLang": "en",
   "targetLang": "fr",
   "useGoogleTranslate": true
  }
 },
 "nbformat": 4,
 "nbformat_minor": 5
}
