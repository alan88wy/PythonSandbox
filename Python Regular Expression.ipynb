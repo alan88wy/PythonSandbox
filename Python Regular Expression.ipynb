{
 "cells": [
  {
   "cell_type": "code",
   "execution_count": 26,
   "id": "153b7bd8",
   "metadata": {
    "ExecuteTime": {
     "end_time": "2023-10-01T08:23:02.278364Z",
     "start_time": "2023-10-01T08:23:02.271609Z"
    }
   },
   "outputs": [
    {
     "name": "stdout",
     "output_type": "stream",
     "text": [
      "abc (3, 6) 3 6\n",
      "abc (11, 14) 11 14\n"
     ]
    }
   ],
   "source": [
    "# finditer\n",
    "import re\n",
    "\n",
    "test_string = '123abc34567abc3345ABC'\n",
    "\n",
    "pattern = re.compile(r'abc')  # r = raw string\n",
    "\n",
    "matches = pattern.finditer(test_string)\n",
    "\n",
    "# finditer returns group (actual match data), start, end and span (from, to)\n",
    "\n",
    "for match in matches:\n",
    "    print(match.group(), match.span(), match.start(), match.end())"
   ]
  },
  {
   "cell_type": "code",
   "execution_count": 27,
   "id": "a1ad8864",
   "metadata": {
    "ExecuteTime": {
     "end_time": "2023-10-01T08:23:13.207972Z",
     "start_time": "2023-10-01T08:23:13.201626Z"
    }
   },
   "outputs": [
    {
     "name": "stdout",
     "output_type": "stream",
     "text": [
      "abc (3, 6) 3 6\n",
      "abc (11, 14) 11 14\n"
     ]
    }
   ],
   "source": [
    "# finditer - not using compile\n",
    "\n",
    "import re\n",
    "\n",
    "test_string = \"123abc34567abc3345ABC\"\n",
    "\n",
    "matches = re.finditer(r\"abc\", test_string)   # match(), search(), findall(), finditer(), split, sub\n",
    "\n",
    "# finditer returns group (actual match data), start, end and span (from, to)\n",
    "\n",
    "for match in matches:\n",
    "    print(match.group(), match.span(), match.start(), match.end())"
   ]
  },
  {
   "cell_type": "code",
   "execution_count": 19,
   "id": "92694827",
   "metadata": {
    "ExecuteTime": {
     "end_time": "2023-10-01T08:18:27.866374Z",
     "start_time": "2023-10-01T08:18:27.857675Z"
    }
   },
   "outputs": [
    {
     "name": "stdout",
     "output_type": "stream",
     "text": [
      "abc\n",
      "abc\n"
     ]
    }
   ],
   "source": [
    "# findall\n",
    "\n",
    "import re\n",
    "\n",
    "test_string = \"123abc34567abc3345ABC\"\n",
    "\n",
    "matches = re.findall(r\"abc\", test_string)   # match(), search(), findall(), finditer(), split, sub\n",
    "\n",
    "for match in matches:\n",
    "    print(match)"
   ]
  },
  {
   "cell_type": "code",
   "execution_count": 21,
   "id": "5b101b65",
   "metadata": {
    "ExecuteTime": {
     "end_time": "2023-10-01T08:19:09.451674Z",
     "start_time": "2023-10-01T08:19:09.446469Z"
    }
   },
   "outputs": [
    {
     "name": "stdout",
     "output_type": "stream",
     "text": [
      "None\n"
     ]
    }
   ],
   "source": [
    "# match - matches if the patter match the beginning of the string\n",
    "\n",
    "import re\n",
    "\n",
    "test_string = \"123abc34567abc3345ABC\"\n",
    "\n",
    "match = re.match(r\"abc\", test_string)   # match(), search(), findall(), finditer(), split, sub\n",
    "\n",
    "print(match)"
   ]
  },
  {
   "cell_type": "code",
   "execution_count": 30,
   "id": "c6f6c3fd",
   "metadata": {
    "ExecuteTime": {
     "end_time": "2023-10-01T08:23:31.478054Z",
     "start_time": "2023-10-01T08:23:31.474317Z"
    }
   },
   "outputs": [
    {
     "name": "stdout",
     "output_type": "stream",
     "text": [
      "abc (3, 6) 3 6\n"
     ]
    }
   ],
   "source": [
    "# search - return the first match\n",
    "\n",
    "import re\n",
    "\n",
    "test_string = \"123abc34567abc3345ABC\"\n",
    "\n",
    "match = re.search(r\"abc\", test_string)   # match(), search(), findall(), finditer(), split, sub\n",
    "\n",
    "print(match.group(), match.span(), match.start(), match.end())"
   ]
  },
  {
   "cell_type": "markdown",
   "id": "6026b6ef",
   "metadata": {
    "ExecuteTime": {
     "end_time": "2023-10-01T08:23:28.705860Z",
     "start_time": "2023-10-01T08:23:28.701789Z"
    }
   },
   "source": [
    "# Meta Characters\n",
    "\n",
    "* ```. ``` Any charactor except newline\n",
    "* ```^ ``` Starts with (eg ```^Hello``` - starts with Hello)\n",
    "* ```$ ``` Ends with (eg ```world$``` ends with world)\n",
    "* ```* ``` Zero or more occurances (eg ```aix*```)\n",
    "* ```+ ``` One or more occurences (eg ```aix+```)\n",
    "* ```{}``` Exactly the specified no of occurences (eg ```al{2}```)\n",
    "* ```[]``` A set of characters (eg ```[a-m]```)\n",
    "* ```\\ ``` Special sequence (or escape special characters eg ```\\d```)\n",
    "* ```| ``` Either or (eg ```falls|stays```)\n",
    "* ```()```  Capture and group\n",
    "\n",
    "#### Special Characters\n",
    "\n",
    "* ```\\d``` : Matches any decimal digit (0-9)\n",
    "* ```\\D``` : Matches any non-digit character\n",
    "* ```\\s``` : Matches any whitespace characters (space ```\" \"```, tab ```\\t```, newline ```\\n```)\n",
    "* ```\\S``` : Matcges any non-whitespace character\n",
    "* ```\\w``` : Matches any alphanumeric (word) character (```[a-zA-Z0-9]```)\n",
    "* ```\\W``` : Matches any non-alphanumeric character\n",
    "* ```\\b``` : Matches where the specified characters are at the beginning or at the end of a word\n",
    "* ```\\B``` : Matches where the specified characters are present, but NOT at the beginning (or at the end)\n",
    "\n",
    "\n",
    "\n"
   ]
  },
  {
   "cell_type": "code",
   "execution_count": null,
   "id": "50864186",
   "metadata": {},
   "outputs": [],
   "source": []
  }
 ],
 "metadata": {
  "hide_input": false,
  "kernelspec": {
   "display_name": "Python 3 (ipykernel)",
   "language": "python",
   "name": "python3"
  },
  "language_info": {
   "codemirror_mode": {
    "name": "ipython",
    "version": 3
   },
   "file_extension": ".py",
   "mimetype": "text/x-python",
   "name": "python",
   "nbconvert_exporter": "python",
   "pygments_lexer": "ipython3",
   "version": "3.11.5"
  },
  "nbTranslate": {
   "displayLangs": [
    "*"
   ],
   "hotkey": "alt-t",
   "langInMainMenu": true,
   "sourceLang": "en",
   "targetLang": "fr",
   "useGoogleTranslate": true
  }
 },
 "nbformat": 4,
 "nbformat_minor": 5
}
