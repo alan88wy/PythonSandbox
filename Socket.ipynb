{
 "cells": [
  {
   "cell_type": "markdown",
   "id": "21258fc7",
   "metadata": {},
   "source": [
    "# Server"
   ]
  },
  {
   "cell_type": "code",
   "execution_count": null,
   "id": "3e56c95c",
   "metadata": {},
   "outputs": [],
   "source": [
    "import socket\n",
    "import threading\n",
    "import time\n",
    "\n",
    "HEADER=64\n",
    "PORT = 5050\n",
    "# SERVER = \"localhost\"\n",
    "SERVER = socket.gethostbyname(socket.gethostname())\n",
    "ADDR = (SERVER, PORT)\n",
    "FORMAT = 'utf-8'\n",
    "DISCONNECT_MESSAGE = \"DISCONNECT\"\n",
    "\n",
    "server = socket.socket(socket.AF_INET, socket.SOCK_STREAM)\n",
    "\n",
    "server.bind(ADDR)\n",
    "\n",
    "def handle_client(conn, addr):\n",
    "    print(f\"[NEW CONNECTION] {addr} connected.\")\n",
    "    \n",
    "    connected = True\n",
    "    \n",
    "    while connected:\n",
    "        msg_length = conn.recv(HEADER).decode(FORMAT)\n",
    "        if msg_length:\n",
    "            msg_length = int(msg_length)\n",
    "            msg = conn.recv(msg_length).decode(FORMAT)\n",
    "            \n",
    "            if msg == DISCONNECT_MESSAGE:\n",
    "                connected = False\n",
    "                \n",
    "            print(f\"[{addr}] {msg}\")\n",
    "            conn.send(\"Msg received\".encode(FORMAT))\n",
    "    \n",
    "    conn.close()\n",
    "\n",
    "def start():\n",
    "    server.listen()\n",
    "    print(f\"[LISTENING] Server is listening on {SERVER}\")\n",
    "    \n",
    "    while True:\n",
    "        conn, addr = server.accept()\n",
    "        thread = threading.Thread(target=handle_client, args=(conn, addr))\n",
    "        thread.start()\n",
    "        print(f\"[ACTIVE CONNECTION] {threading.active_count() -1}\")\n",
    "        \n",
    "print(\"[STARTING] Server is starting...\")        \n",
    "start()"
   ]
  },
  {
   "cell_type": "markdown",
   "id": "6e242a9a",
   "metadata": {},
   "source": [
    "# Client"
   ]
  },
  {
   "cell_type": "code",
   "execution_count": null,
   "id": "f83be6f4",
   "metadata": {
    "ExecuteTime": {
     "end_time": "2023-10-08T12:02:31.927905Z",
     "start_time": "2023-10-08T12:02:29.301232Z"
    }
   },
   "outputs": [],
   "source": [
    "import socket\n",
    "\n",
    "HEADER=64\n",
    "PORT = 5050\n",
    "# SERVER = \"localhost\"\n",
    "SERVER = \"192.168.50.87\"\n",
    "FORMAT = 'utf-8'\n",
    "DISCONNECT_MESSAGE = \"DISCONNECT\"\n",
    "ADDR=(SERVER, PORT)\n",
    "\n",
    "client = socket.socket(socket.AF_INET, socket.SOCK_STREAM)\n",
    "client.connect(ADDR)\n",
    "\n",
    "def send(msg):\n",
    "    message = msg.encode(FORMAT)\n",
    "    msg_length = len(message)\n",
    "    send_length = str(msg_length).encode(FORMAT)\n",
    "    send_length += b' ' * (HEADER - len(send_length))\n",
    "    client.send(send_length)\n",
    "    client.send(message)\n",
    "    \n",
    "    print(client.recv(2048).decode(FORMAT))\n",
    "\n",
    "send(\"Hello World!\")\n",
    "send(DISCONNECT_MESSAGE)\n"
   ]
  },
  {
   "cell_type": "code",
   "execution_count": null,
   "id": "ccff96db",
   "metadata": {},
   "outputs": [],
   "source": []
  }
 ],
 "metadata": {
  "kernelspec": {
   "display_name": "Python 3 (ipykernel)",
   "language": "python",
   "name": "python3"
  },
  "language_info": {
   "codemirror_mode": {
    "name": "ipython",
    "version": 3
   },
   "file_extension": ".py",
   "mimetype": "text/x-python",
   "name": "python",
   "nbconvert_exporter": "python",
   "pygments_lexer": "ipython3",
   "version": "3.11.5"
  }
 },
 "nbformat": 4,
 "nbformat_minor": 5
}
