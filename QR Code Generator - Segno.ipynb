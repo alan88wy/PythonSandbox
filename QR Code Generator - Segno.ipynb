{
 "cells": [
  {
   "cell_type": "markdown",
   "id": "3724ea0b",
   "metadata": {},
   "source": [
    "## Segno\n",
    "\n",
    "pip install segno"
   ]
  },
  {
   "cell_type": "code",
   "execution_count": 3,
   "id": "cc00592e",
   "metadata": {
    "ExecuteTime": {
     "end_time": "2023-09-18T14:14:49.478015Z",
     "start_time": "2023-09-18T14:14:40.032241Z"
    }
   },
   "outputs": [
    {
     "name": "stdout",
     "output_type": "stream",
     "text": [
      "Looking in indexes: https://pypi.org/simple, https://pypi.ngc.nvidia.com\n",
      "Requirement already satisfied: segno in c:\\users\\alan\\anaconda3\\lib\\site-packages (1.5.2)\n",
      "Looking in indexes: https://pypi.org/simple, https://pypi.ngc.nvidia.com\n",
      "Requirement already satisfied: pillow in c:\\users\\alan\\anaconda3\\lib\\site-packages (9.4.0)\n",
      "Collecting qrcode-artistic\n",
      "  Downloading qrcode_artistic-2.1.0-py2.py3-none-any.whl (6.8 kB)\n",
      "Installing collected packages: qrcode-artistic\n",
      "Successfully installed qrcode-artistic-2.1.0\n"
     ]
    }
   ],
   "source": [
    "!pip install segno\n",
    "!pip install pillow qrcode-artistic"
   ]
  },
  {
   "cell_type": "code",
   "execution_count": 1,
   "id": "23e5d5a8",
   "metadata": {
    "ExecuteTime": {
     "end_time": "2023-09-19T12:29:08.780102Z",
     "start_time": "2023-09-19T12:29:03.625924Z"
    }
   },
   "outputs": [],
   "source": [
    "# animated_qrcode.py\n",
    "import segno\n",
    "from urllib.request import urlopen\n",
    "slts_qrcode = segno.make_qr(\"https://www.youtube.com/watch?v=H9W5GjEYKj8\")\n",
    "nirvana_url = urlopen(\"https://media.giphy.com/media/xT5LMz2DWrwmbfVBK0/giphy.gif\")\n",
    "slts_qrcode.to_artistic(\n",
    "    background=nirvana_url,\n",
    "    target=\"animated_qrcode.gif\",\n",
    "    scale=15,\n",
    ")"
   ]
  },
  {
   "cell_type": "code",
   "execution_count": 22,
   "id": "64b5ba87",
   "metadata": {
    "ExecuteTime": {
     "end_time": "2023-09-19T12:43:24.201605Z",
     "start_time": "2023-09-19T12:43:24.181916Z"
    }
   },
   "outputs": [
    {
     "data": {
      "text/plain": [
       "functools.partial(<function write_artistic at 0x0000023600162DE0>, <segno.QRCode object at 0x000002360598D620>)"
      ]
     },
     "execution_count": 22,
     "metadata": {},
     "output_type": "execute_result"
    }
   ],
   "source": [
    "import segno\n",
    "qrcode = segno.make_qr(\"Hello, World\")\n",
    "qrcode.save(\"basic_qrcode.png\")\n",
    "qrcode.to_artistic"
   ]
  },
  {
   "cell_type": "code",
   "execution_count": 23,
   "id": "d1ecab87",
   "metadata": {
    "ExecuteTime": {
     "end_time": "2023-09-19T12:43:52.836862Z",
     "start_time": "2023-09-19T12:43:52.823963Z"
    }
   },
   "outputs": [],
   "source": [
    "# scaled_qrcode.py\n",
    "import segno\n",
    "qrcode = segno.make_qr(\"Hello, World\")\n",
    "qrcode.save(\n",
    "\"scaled_qrcode.png\",\n",
    "    scale=5,\n",
    ")"
   ]
  },
  {
   "cell_type": "code",
   "execution_count": 24,
   "id": "1f515442",
   "metadata": {
    "ExecuteTime": {
     "end_time": "2023-09-19T12:44:10.988113Z",
     "start_time": "2023-09-19T12:44:10.977985Z"
    }
   },
   "outputs": [],
   "source": [
    "# borderless_qrcode.py\n",
    "import segno\n",
    "qrcode = segno.make_qr(\"Hello, World\")\n",
    "qrcode.save(\n",
    "\"borderless_qrcode.png\",\n",
    "scale=5,\n",
    "    border=0,\n",
    ")"
   ]
  },
  {
   "cell_type": "code",
   "execution_count": 25,
   "id": "c8ab7b4f",
   "metadata": {
    "ExecuteTime": {
     "end_time": "2023-09-19T12:44:19.170719Z",
     "start_time": "2023-09-19T12:44:19.159165Z"
    }
   },
   "outputs": [],
   "source": [
    "# wide_border_qrcode.py\n",
    "import segno\n",
    "qrcode = segno.make_qr(\"Hello, World\")\n",
    "qrcode.save(\n",
    "\"wide_border_qrcode.png\",\n",
    "scale=5,\n",
    "    border=10,\n",
    ")"
   ]
  },
  {
   "cell_type": "code",
   "execution_count": 26,
   "id": "2847d4ac",
   "metadata": {
    "ExecuteTime": {
     "end_time": "2023-09-19T12:44:27.905937Z",
     "start_time": "2023-09-19T12:44:27.895508Z"
    }
   },
   "outputs": [],
   "source": [
    "# lightblue_qrcode.py\n",
    "import segno\n",
    "qrcode = segno.make_qr(\"Hello, World\")\n",
    "qrcode.save(\n",
    "\"lightblue_qrcode.png\",\n",
    "scale=5,\n",
    "    light=\"lightblue\",\n",
    ")"
   ]
  },
  {
   "cell_type": "code",
   "execution_count": 27,
   "id": "482160df",
   "metadata": {
    "ExecuteTime": {
     "end_time": "2023-09-19T12:44:34.884089Z",
     "start_time": "2023-09-19T12:44:34.871610Z"
    }
   },
   "outputs": [],
   "source": [
    "\n",
    "# darkblue_qrcode.py\n",
    "import segno\n",
    "qrcode = segno.make_qr(\"Hello, World\")\n",
    "qrcode.save(\n",
    "\"darkblue_qrcode.png\",\n",
    "scale=5,\n",
    "    dark=\"darkblue\",\n",
    ")\n"
   ]
  },
  {
   "cell_type": "code",
   "execution_count": 28,
   "id": "e0db2cf4",
   "metadata": {
    "ExecuteTime": {
     "end_time": "2023-09-19T12:44:41.333402Z",
     "start_time": "2023-09-19T12:44:41.322259Z"
    }
   },
   "outputs": [],
   "source": [
    "\n",
    "# darkblue_qrcode.py\n",
    "import segno\n",
    "qrcode = segno.make_qr(\"Hello, World\")\n",
    "qrcode.save(\n",
    "\"darkblue_qrcode.png\",\n",
    "scale=5,\n",
    "dark=\"darkblue\",\n",
    "    quiet_zone=\"maroon\",\n",
    ")"
   ]
  },
  {
   "cell_type": "code",
   "execution_count": 30,
   "id": "ac271882",
   "metadata": {
    "ExecuteTime": {
     "end_time": "2023-09-19T12:44:51.391172Z",
     "start_time": "2023-09-19T12:44:51.379410Z"
    }
   },
   "outputs": [],
   "source": [
    "# green_datadark_qrcode.py\n",
    "import segno\n",
    "qrcode = segno.make_qr(\"Hello, World\")\n",
    "qrcode.save(\n",
    "\"green_datadark_qrcode.png\",\n",
    "scale=5,\n",
    "light=\"lightblue\",\n",
    "dark=\"darkblue\",\n",
    "    data_dark=\"green\",\n",
    ")"
   ]
  },
  {
   "cell_type": "code",
   "execution_count": 31,
   "id": "c9e5ec48",
   "metadata": {
    "ExecuteTime": {
     "end_time": "2023-09-19T12:44:59.298955Z",
     "start_time": "2023-09-19T12:44:59.287231Z"
    }
   },
   "outputs": [],
   "source": [
    "# green_datamodules_qrcode.py\n",
    "import segno\n",
    "qrcode = segno.make_qr(\"Hello, World\")\n",
    "qrcode.save(\n",
    "\"green_datamodules_qrcode.png\",\n",
    "scale=5,\n",
    "light=\"lightblue\",\n",
    "dark=\"darkblue\",\n",
    "data_dark=\"green\",\n",
    "    data_light=\"lightgreen\",\n",
    ")"
   ]
  },
  {
   "cell_type": "code",
   "execution_count": 32,
   "id": "4807f319",
   "metadata": {
    "ExecuteTime": {
     "end_time": "2023-09-19T12:45:06.527259Z",
     "start_time": "2023-09-19T12:45:06.507577Z"
    }
   },
   "outputs": [],
   "source": [
    "\n",
    "# rotated_qrcode.py\n",
    "import segno\n",
    "qrcode = segno.make_qr(\"Hello, World\")\n",
    "qrcode_rotated = qrcode.to_pil().rotate(45)\n",
    "qrcode_rotated.save(\"rotated_qrcode.png\")"
   ]
  },
  {
   "cell_type": "code",
   "execution_count": 33,
   "id": "e995872d",
   "metadata": {
    "ExecuteTime": {
     "end_time": "2023-09-19T12:45:12.913947Z",
     "start_time": "2023-09-19T12:45:12.906689Z"
    }
   },
   "outputs": [],
   "source": [
    "# rotated_qrcode.py\n",
    "import segno\n",
    "qrcode = segno.make(\"Hello, World\")\n",
    "qrcode_rotated = qrcode.to_pil().rotate(45, expand=True)\n",
    "qrcode_rotated.save(\"rotated_qrcode.png\")"
   ]
  },
  {
   "cell_type": "code",
   "execution_count": 34,
   "id": "d82a3d26",
   "metadata": {
    "ExecuteTime": {
     "end_time": "2023-09-19T12:45:20.239750Z",
     "start_time": "2023-09-19T12:45:20.232734Z"
    }
   },
   "outputs": [],
   "source": [
    "# formatted_rotated_qrcode.py\n",
    "import segno\n",
    "qrcode = segno.make_qr(\"Hello, World\")\n",
    "qrcode_rotated = qrcode.to_pil(\n",
    "    scale=5,\n",
    "    light=\"lightblue\",\n",
    "    dark=\"green\",\n",
    ").rotate(45, expand=True)\n",
    "qrcode_rotated.save(\"formatted_rotated_qrcode.png\")"
   ]
  },
  {
   "cell_type": "code",
   "execution_count": 37,
   "id": "af7b1564",
   "metadata": {
    "ExecuteTime": {
     "end_time": "2023-09-19T12:48:04.188978Z",
     "start_time": "2023-09-19T12:48:01.140315Z"
    }
   },
   "outputs": [],
   "source": [
    "# animated_qrcode.py\n",
    "import segno\n",
    "from urllib.request import urlopen\n",
    "slts_qrcode = segno.make_qr(\"https://www.youtube.com/watch?v=u-TCs_367KU\")\n",
    "nirvana_url = urlopen(\"https://media.giphy.com/media/xT5LMz2DWrwmbfVBK0/giphy.gif\")\n",
    "slts_qrcode.to_artistic(\n",
    "    background=nirvana_url,\n",
    "    target=\"animated_qrcode.gif\",\n",
    "    scale=5,\n",
    ")"
   ]
  },
  {
   "cell_type": "code",
   "execution_count": null,
   "id": "13d42c0f",
   "metadata": {},
   "outputs": [],
   "source": []
  }
 ],
 "metadata": {
  "hide_input": false,
  "kernelspec": {
   "display_name": "Python 3 (ipykernel)",
   "language": "python",
   "name": "python3"
  },
  "language_info": {
   "codemirror_mode": {
    "name": "ipython",
    "version": 3
   },
   "file_extension": ".py",
   "mimetype": "text/x-python",
   "name": "python",
   "nbconvert_exporter": "python",
   "pygments_lexer": "ipython3",
   "version": "3.11.5"
  },
  "nbTranslate": {
   "displayLangs": [
    "*"
   ],
   "hotkey": "alt-t",
   "langInMainMenu": true,
   "sourceLang": "en",
   "targetLang": "fr",
   "useGoogleTranslate": true
  }
 },
 "nbformat": 4,
 "nbformat_minor": 5
}
