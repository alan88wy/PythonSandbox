{
 "cells": [
  {
   "cell_type": "markdown",
   "id": "340beeac",
   "metadata": {},
   "source": [
    "# Core Python\n"
   ]
  },
  {
   "cell_type": "markdown",
   "id": "d7fc2a66",
   "metadata": {},
   "source": [
    "#### Printing & Formatting"
   ]
  },
  {
   "cell_type": "code",
   "execution_count": 1,
   "id": "f9270bdb",
   "metadata": {
    "ExecuteTime": {
     "end_time": "2023-09-24T13:10:56.926678Z",
     "start_time": "2023-09-24T13:10:56.919524Z"
    }
   },
   "outputs": [
    {
     "name": "stdout",
     "output_type": "stream",
     "text": [
      "The id is : 1 and name is James\n"
     ]
    }
   ],
   "source": [
    "# using variable in a print format\n",
    "id = 1\n",
    "name = 'James'\n",
    "f = f'The id is : {id} and name is {name}'\n",
    "print(f)"
   ]
  },
  {
   "cell_type": "markdown",
   "id": "45b8fc08-86ec-485e-bb60-dcf874e5522d",
   "metadata": {},
   "source": [
    "# List - Can have duplicate"
   ]
  },
  {
   "cell_type": "code",
   "execution_count": 12,
   "id": "4a535649-4562-49d9-90ec-60424fe606ec",
   "metadata": {},
   "outputs": [
    {
     "name": "stdout",
     "output_type": "stream",
     "text": [
      "li2 = li.copy() & li2.append(\"mango\") :  ['banana', 'apple', 'mango']\n",
      "li :  ['banana', 'apple']\n",
      "li.append(\"orange\") :  ['banana', 'apple', 'orange']\n",
      "li3 = li:  ['banana', 'apple', 'orange']\n",
      "li.insert(2, \"papaya\") : ['banana', 'apple', 'papaya', 'orange']\n",
      "del(li[1]) :  ['banana', 'papaya', 'orange']\n",
      "li.pop() :  ['banana', 'papaya']\n"
     ]
    }
   ],
   "source": [
    "li = [\"banana\", \"apple\"]\n",
    "\n",
    "li2 = li.copy() # Copy list or li2 = list(li) or li2 = li[:]\n",
    "li2.append(\"mango\")\n",
    "\n",
    "\n",
    "print('li2 = li.copy() & li2.append(\"mango\") : ', li2)\n",
    "print(\"li : \", li)\n",
    "li3 = li # Both point to the same location\n",
    "li.append(\"orange\")  # append to the end\n",
    "print('li.append(\"orange\") : ', li)\n",
    "print(\"li3 = li: \", li3)\n",
    "\n",
    "li.insert(2, \"papaya\") # insert in index 2\n",
    "print('li.insert(2, \"papaya\") :', li)\n",
    "\n",
    "del(li[1])  # delete at index 1\n",
    "print(\"del(li[1]) : \", li)\n",
    "\n",
    "li.pop() # Delete last element\n",
    "print(\"li.pop() : \", li)"
   ]
  },
  {
   "cell_type": "markdown",
   "id": "7cad7d72",
   "metadata": {},
   "source": [
    "# List Comprehension"
   ]
  },
  {
   "cell_type": "code",
   "execution_count": 2,
   "id": "1530ad73",
   "metadata": {
    "ExecuteTime": {
     "end_time": "2023-10-09T12:53:02.825993Z",
     "start_time": "2023-10-09T12:53:02.818816Z"
    }
   },
   "outputs": [
    {
     "name": "stdout",
     "output_type": "stream",
     "text": [
      "[2, 4, 6, 8]\n"
     ]
    }
   ],
   "source": [
    "l = [1,2,3,4,5,6,7,8,9]\n",
    "\n",
    "ln = list([i for i in l if i % 2 == 0])\n",
    "\n",
    "print(ln)"
   ]
  },
  {
   "cell_type": "markdown",
   "id": "42f75bf8-0dc6-491a-b1c3-feb62fe9eabd",
   "metadata": {},
   "source": [
    "# Tuple"
   ]
  },
  {
   "cell_type": "code",
   "execution_count": 15,
   "id": "f4c5af42-1ca1-4c44-b108-1274ef38ab66",
   "metadata": {},
   "outputs": [
    {
     "name": "stdout",
     "output_type": "stream",
     "text": [
      "('Max', 28, 'Singa', 28)\n"
     ]
    }
   ],
   "source": [
    "mytupple = (\"max\",) # must have a ,, otherwise it will be consider as a class\n",
    "\n",
    "my = tuple([\"Max\", 28, \"Singa\", 28]) # allow duplicate but tuple is immutable after cDeprecationWarning\n",
    "\n",
    "print(my)"
   ]
  },
  {
   "cell_type": "code",
   "execution_count": 20,
   "id": "25c1eef1-9aa2-4bfc-af5e-48a4226b12b0",
   "metadata": {},
   "outputs": [
    {
     "name": "stdout",
     "output_type": "stream",
     "text": [
      "Max\n",
      "28\n",
      "Singa\n",
      "28\n"
     ]
    }
   ],
   "source": [
    "for i in my:\n",
    "    print(i)"
   ]
  },
  {
   "cell_type": "code",
   "execution_count": 21,
   "id": "6cb0612e-5c4e-4801-8273-825337e4a5f0",
   "metadata": {},
   "outputs": [
    {
     "name": "stdout",
     "output_type": "stream",
     "text": [
      "yes\n"
     ]
    }
   ],
   "source": [
    "if 28 in my:\n",
    "    print(\"yes\")"
   ]
  },
  {
   "cell_type": "code",
   "execution_count": 23,
   "id": "33489346-9f22-47bd-8b43-8dc81c779e32",
   "metadata": {},
   "outputs": [
    {
     "name": "stdout",
     "output_type": "stream",
     "text": [
      "2\n"
     ]
    }
   ],
   "source": [
    "print(my.count(28))"
   ]
  },
  {
   "cell_type": "code",
   "execution_count": 24,
   "id": "ead4275a-d17f-466a-a8d6-0e792238f132",
   "metadata": {},
   "outputs": [
    {
     "name": "stdout",
     "output_type": "stream",
     "text": [
      "4\n"
     ]
    }
   ],
   "source": [
    "print(len(my))"
   ]
  },
  {
   "cell_type": "code",
   "execution_count": 26,
   "id": "11ed9014-9831-4702-a34d-31430895951d",
   "metadata": {},
   "outputs": [
    {
     "name": "stdout",
     "output_type": "stream",
     "text": [
      "1\n"
     ]
    }
   ],
   "source": [
    "print(my.index(28))  # First occurrence of 28"
   ]
  },
  {
   "cell_type": "code",
   "execution_count": 28,
   "id": "2deab414-d00c-439a-bc6b-3d35a315e80c",
   "metadata": {},
   "outputs": [
    {
     "name": "stdout",
     "output_type": "stream",
     "text": [
      "('Max', 28, 'Singa')\n"
     ]
    }
   ],
   "source": [
    "print(my[:-1])"
   ]
  },
  {
   "cell_type": "code",
   "execution_count": 29,
   "id": "6c4d6e5f-2722-4f46-a3ab-b7de49efafcf",
   "metadata": {},
   "outputs": [
    {
     "name": "stdout",
     "output_type": "stream",
     "text": [
      "(28, 'Singa', 28, 'Max')\n"
     ]
    }
   ],
   "source": [
    "print(my[::-1])  # Reverse"
   ]
  },
  {
   "cell_type": "markdown",
   "id": "a5d2846c-4857-4418-9739-6cdceebcb77b",
   "metadata": {},
   "source": [
    "# Dictionary"
   ]
  },
  {
   "cell_type": "code",
   "execution_count": 30,
   "id": "530d0de2-a7e6-42c8-9713-1f0002d65cd6",
   "metadata": {},
   "outputs": [
    {
     "name": "stdout",
     "output_type": "stream",
     "text": [
      "{'New York': 32, 'Boston': 75, 'Los Angeles': 100, 'Chicago': 50, 'LA': 90}\n"
     ]
    }
   ],
   "source": [
    "cities_f = {'New York': 32, 'Boston': 75, 'Los Angeles': 100, 'Chicago': 50}\n",
    "\n",
    "cities_f[\"LA\"] = 90 # Add new item\n",
    "\n",
    "print(cities_f)"
   ]
  },
  {
   "cell_type": "code",
   "execution_count": 32,
   "id": "f29b4fc7-92d2-4910-b472-d3dee140778c",
   "metadata": {},
   "outputs": [
    {
     "name": "stdout",
     "output_type": "stream",
     "text": [
      "{'New York': 32, 'Boston': 75, 'Los Angeles': 100, 'Chicago': 50}\n"
     ]
    }
   ],
   "source": [
    "cities_f.popitem() # Remove last item\n",
    "\n",
    "print(cities_f)"
   ]
  },
  {
   "cell_type": "code",
   "execution_count": 33,
   "id": "c6a614be-bff3-45a9-a1d1-0ab6bd58b5be",
   "metadata": {},
   "outputs": [
    {
     "name": "stdout",
     "output_type": "stream",
     "text": [
      "{'New York': 32, 'Boston': 75, 'Chicago': 50}\n"
     ]
    }
   ],
   "source": [
    "cities_f.pop('Los Angeles')  # Remove specific item\n",
    "\n",
    "print(cities_f)"
   ]
  },
  {
   "cell_type": "code",
   "execution_count": 37,
   "id": "d3299384-a6ef-41e1-a66d-bb9bb0c55371",
   "metadata": {},
   "outputs": [
    {
     "name": "stdout",
     "output_type": "stream",
     "text": [
      "{'New York': 32, 'Boston': 75, 'Chicago': 50, 'tokyo': 20, 'HK': 50}\n"
     ]
    }
   ],
   "source": [
    "cities_a = dict(tokyo=20, HK=50)  # Create new dictionary\n",
    "\n",
    "# Merge\n",
    "cities_f.update(cities_a)  # Merge two dictionaries\n",
    "print(cities_f)"
   ]
  },
  {
   "cell_type": "code",
   "execution_count": 44,
   "id": "97bf082d-7916-48b6-99c4-90e8b11bb916",
   "metadata": {},
   "outputs": [
    {
     "name": "stdout",
     "output_type": "stream",
     "text": [
      "New York\n",
      "Boston\n",
      "Chicago\n",
      "tokyo\n",
      "HK\n"
     ]
    }
   ],
   "source": [
    "for key in cities_f.keys():\n",
    "    print(key)"
   ]
  },
  {
   "cell_type": "code",
   "execution_count": 43,
   "id": "c6cc8924-bd55-4332-9837-d1f626fb590f",
   "metadata": {},
   "outputs": [
    {
     "name": "stdout",
     "output_type": "stream",
     "text": [
      "32\n",
      "75\n",
      "50\n",
      "20\n",
      "50\n"
     ]
    }
   ],
   "source": [
    "for val in cities_f.values():\n",
    "    print(val)"
   ]
  },
  {
   "cell_type": "code",
   "execution_count": 46,
   "id": "174891aa-ad2e-4d26-9ac6-153195dfc68c",
   "metadata": {},
   "outputs": [
    {
     "name": "stdout",
     "output_type": "stream",
     "text": [
      "New York  =  32\n",
      "Boston  =  75\n",
      "Chicago  =  50\n",
      "tokyo  =  20\n",
      "HK  =  50\n"
     ]
    }
   ],
   "source": [
    "for key, val in cities_f.items():\n",
    "    print(key, \" = \", val)"
   ]
  },
  {
   "cell_type": "code",
   "execution_count": 49,
   "id": "7cf893bf-42a7-4c11-9260-975fd74eee58",
   "metadata": {},
   "outputs": [
    {
     "name": "stdout",
     "output_type": "stream",
     "text": [
      "{'New York': 32, 'Boston': 75, 'Chicago': 50, 'tokyo': 20, 'HK': 50, 'Jakarta': 30}\n",
      "{'New York': 32, 'Boston': 75, 'Chicago': 50, 'tokyo': 20, 'HK': 50, 'Jakarta': 30}\n"
     ]
    }
   ],
   "source": [
    "# Ccopyright\n",
    "\n",
    "cities_c = cities_f  # Point to same localtion. Both will be the same. Modify one will modify the other\n",
    "\n",
    "cities_c[\"Jakarta\"] = 30\n",
    "\n",
    "print(cities_f)\n",
    "print(cities_c)"
   ]
  },
  {
   "cell_type": "code",
   "execution_count": 53,
   "id": "cf0c7338-834b-4661-b117-54dcd2d75ba4",
   "metadata": {},
   "outputs": [
    {
     "name": "stdout",
     "output_type": "stream",
     "text": [
      "{'New York': 32, 'Boston': 75, 'Los Angeles': 100, 'Chicago': 50, 'HK': 50, 'Jakarta': 30}\n"
     ]
    }
   ],
   "source": [
    "# Merging\n",
    "\n",
    "cities_f = {'New York': 32, 'Boston': 75, 'Los Angeles': 100, 'Chicago': 50}\n",
    "cities_c = {'HK': 50, 'Jakarta': 30}\n",
    "\n",
    "cities_f.update(cities_c)\n",
    "\n",
    "print(cities_f)"
   ]
  },
  {
   "cell_type": "markdown",
   "id": "41dd82dd",
   "metadata": {},
   "source": [
    "# Dictionary Comprehension"
   ]
  },
  {
   "cell_type": "code",
   "execution_count": 3,
   "id": "af0fd7e5",
   "metadata": {
    "ExecuteTime": {
     "end_time": "2023-10-09T12:57:01.841006Z",
     "start_time": "2023-10-09T12:57:01.834329Z"
    }
   },
   "outputs": [
    {
     "name": "stdout",
     "output_type": "stream",
     "text": [
      "{'New York': 0, 'Boston': 24, 'Los Angeles': 38, 'Chicago': 10}\n"
     ]
    }
   ],
   "source": [
    "# convert from fareinheight to celcius\n",
    "\n",
    "cities_f = {'New York': 32, 'Boston': 75, 'Los Angeles': 100, 'Chicago': 50}\n",
    "cities_c = {key : round((value -32) * (5/9)) for (key, value) in cities_f.items()}\n",
    "\n",
    "print(cities_c)"
   ]
  },
  {
   "cell_type": "code",
   "execution_count": 4,
   "id": "c7074ec9",
   "metadata": {
    "ExecuteTime": {
     "end_time": "2023-10-09T13:08:33.856769Z",
     "start_time": "2023-10-09T13:08:33.851575Z"
    }
   },
   "outputs": [
    {
     "name": "stdout",
     "output_type": "stream",
     "text": [
      "{'New York': 'COLD', 'Boston': 'WARM', 'Los Angeles': 'WARM', 'Chicago': 'WARM'}\n"
     ]
    }
   ],
   "source": [
    "# Can also include conditions using If/Else or function\n",
    "\n",
    "cities_desc = {key : (\"WARM\" if value >= 40 else \"COLD\") for (key, value) in cities_f.items()}\n",
    "\n",
    "print(cities_desc)"
   ]
  },
  {
   "cell_type": "code",
   "execution_count": null,
   "id": "55f88955-5f97-4d82-9028-3e1d2de1fc25",
   "metadata": {
    "ExecuteTime": {
     "end_time": "2023-10-10T12:33:59.150505Z",
     "start_time": "2023-10-10T12:33:59.143043Z"
    }
   },
   "outputs": [],
   "source": [
    "chk_condition = lambda x: \"WARM\" if x >= 40 else \"COLD\"\n",
    "\n",
    "cities_desc = {key : chk_condition(value) for (key, value) in cities_f.items()}\n",
    "\n",
    "print(cities_desc)"
   ]
  },
  {
   "cell_type": "markdown",
   "id": "b5236683-14b7-4b71-aff0-a71bb212cb08",
   "metadata": {},
   "source": [
    "# Set - unordered, mutable and no duplicates"
   ]
  },
  {
   "cell_type": "code",
   "execution_count": 55,
   "id": "2f2dfcc8-7dc5-44ed-9edb-e41422f7adfb",
   "metadata": {},
   "outputs": [
    {
     "name": "stdout",
     "output_type": "stream",
     "text": [
      "{1, 2, 3, 4, 5, 6, 7, 8, 9}\n"
     ]
    }
   ],
   "source": [
    "odds = {1,3,5,7,9}\n",
    "even = {2,4,6,8}\n",
    "prime = {2,3,5,7}\n",
    "\n",
    "un = odds.union(even)  \n",
    "print(un)"
   ]
  },
  {
   "cell_type": "code",
   "execution_count": 56,
   "id": "419ec3e8-eee7-494b-91ec-180ee5a1ebd2",
   "metadata": {},
   "outputs": [
    {
     "name": "stdout",
     "output_type": "stream",
     "text": [
      "{3, 5, 7}\n"
     ]
    }
   ],
   "source": [
    "print(odds.intersection(prime))"
   ]
  },
  {
   "cell_type": "code",
   "execution_count": 67,
   "id": "879d7d72-1c0c-46c2-8c14-82bf44d65483",
   "metadata": {},
   "outputs": [
    {
     "name": "stdout",
     "output_type": "stream",
     "text": [
      "{0, 1, 4, 6, 8, 11, 12}\n"
     ]
    }
   ],
   "source": [
    "a = {1,2,3,4,5,6,7,8,9,0, 11, 12}\n",
    "b = {2,3,5,7,9, 13, 14}\n",
    "\n",
    "diff = a.difference(b)  # THose in a that is not in b\n",
    "print(diff)"
   ]
  },
  {
   "cell_type": "code",
   "execution_count": 68,
   "id": "1dfa3978-f704-44b1-9a9b-1f6f23fa5dd2",
   "metadata": {},
   "outputs": [
    {
     "name": "stdout",
     "output_type": "stream",
     "text": [
      "{0, 1, 4, 6, 8, 11, 12, 13, 14}\n"
     ]
    }
   ],
   "source": [
    "sdiff = a.symmetric_difference(b) # Returns all element that is not in both a and b\n",
    "print(sdiff)"
   ]
  },
  {
   "cell_type": "code",
   "execution_count": 69,
   "id": "5a5215ee-d9c6-4f58-905a-6ab9904515c0",
   "metadata": {},
   "outputs": [
    {
     "name": "stdout",
     "output_type": "stream",
     "text": [
      "{0, 1, 2, 3, 4, 5, 6, 7, 8, 9, 11, 12, 13, 14}\n"
     ]
    }
   ],
   "source": [
    "# Combine and remove those that was found in a\n",
    "a.update(b)\n",
    "print(a)"
   ]
  },
  {
   "cell_type": "code",
   "execution_count": 74,
   "id": "82a6816f-20f1-4fd0-a327-18691b638ed9",
   "metadata": {},
   "outputs": [
    {
     "name": "stdout",
     "output_type": "stream",
     "text": [
      "{1, 2, 3, 4, 5}\n"
     ]
    }
   ],
   "source": [
    "c = {1,2,2,3,4,4,5}\n",
    "\n",
    "print(c)"
   ]
  },
  {
   "cell_type": "code",
   "execution_count": 75,
   "id": "eb0dcf26-50ff-4b43-bf35-22619207656e",
   "metadata": {},
   "outputs": [
    {
     "name": "stdout",
     "output_type": "stream",
     "text": [
      "False\n"
     ]
    }
   ],
   "source": [
    "a = {1,2,3,4,5,6,7,8,9,0, 11, 12}\n",
    "b = {2,3,5,7,9, 13, 14}\n",
    "\n",
    "print(b.issubset(a))"
   ]
  },
  {
   "cell_type": "code",
   "execution_count": 76,
   "id": "f8353a44-69c2-4947-83e9-f3a14fc5a328",
   "metadata": {},
   "outputs": [
    {
     "name": "stdout",
     "output_type": "stream",
     "text": [
      "True\n"
     ]
    }
   ],
   "source": [
    "a = {1,2,3,4,5,6,7,8,9,0, 11, 12}\n",
    "b = {2,3,5,7,9}\n",
    "\n",
    "print(b.issubset(a))"
   ]
  },
  {
   "cell_type": "code",
   "execution_count": 78,
   "id": "21bc2321-a936-4800-9be6-f991c11b6ba9",
   "metadata": {},
   "outputs": [
    {
     "name": "stdout",
     "output_type": "stream",
     "text": [
      "True\n"
     ]
    }
   ],
   "source": [
    "print(a.issuperset(b))"
   ]
  },
  {
   "cell_type": "code",
   "execution_count": 80,
   "id": "93edf890-d23b-4193-b158-11859015f7f5",
   "metadata": {},
   "outputs": [
    {
     "name": "stdout",
     "output_type": "stream",
     "text": [
      "False\n"
     ]
    }
   ],
   "source": [
    "print(b.issuperset(a))"
   ]
  },
  {
   "cell_type": "code",
   "execution_count": 81,
   "id": "61373ef3-8aa2-4d6a-b6e1-7d3fc1507ed9",
   "metadata": {},
   "outputs": [
    {
     "name": "stdout",
     "output_type": "stream",
     "text": [
      "True\n"
     ]
    }
   ],
   "source": [
    "print(b.issubset(a))"
   ]
  },
  {
   "cell_type": "code",
   "execution_count": 82,
   "id": "7e416f1c-a759-47a2-b45f-d9e6721d8344",
   "metadata": {},
   "outputs": [
    {
     "name": "stdout",
     "output_type": "stream",
     "text": [
      "False\n"
     ]
    }
   ],
   "source": [
    "print(a.issubset(b))"
   ]
  },
  {
   "cell_type": "code",
   "execution_count": 84,
   "id": "9c98d925-2e1a-4bbf-9154-c08437af8b46",
   "metadata": {},
   "outputs": [
    {
     "name": "stdout",
     "output_type": "stream",
     "text": [
      "False\n"
     ]
    }
   ],
   "source": [
    "print(b.isdisjoint(a)) # b does not have any element in a"
   ]
  },
  {
   "cell_type": "code",
   "execution_count": 85,
   "id": "b266ddfa-f086-4ca1-8215-2160257def33",
   "metadata": {},
   "outputs": [
    {
     "name": "stdout",
     "output_type": "stream",
     "text": [
      "True\n"
     ]
    }
   ],
   "source": [
    "c = {1,4,8,0}\n",
    "print(b.isdisjoint(c))"
   ]
  },
  {
   "cell_type": "code",
   "execution_count": 100,
   "id": "d8a9c97b-430c-4734-b774-f13f2870e45f",
   "metadata": {},
   "outputs": [
    {
     "name": "stdout",
     "output_type": "stream",
     "text": [
      "{0, 1, 2, 3, 4, 5, 6, 7, 8, 9, 11, 12}\n",
      "{0, 1, 2, 3, 4, 5, 6, 7, 8, 9, 11, 12}\n",
      "{0, 1, 2, 3, 4, 5, 6, 7, 8, 9, 11, 12, 30}\n",
      "{0, 1, 3, 4, 5, 6, 7, 8, 9, 11, 12, 30}\n"
     ]
    }
   ],
   "source": [
    "# Copy set\n",
    "print(a)\n",
    "d = a.copy()\n",
    "print(d)\n",
    "\n",
    "d.add(30)\n",
    "print(d)\n",
    "\n",
    "d.remove(2)\n",
    "print(d)"
   ]
  },
  {
   "cell_type": "markdown",
   "id": "5729e9bc-6bd0-4d7b-a5b0-26fe55717300",
   "metadata": {},
   "source": [
    "### Frozenset - ordered, inmutable and no duplicates"
   ]
  },
  {
   "cell_type": "code",
   "execution_count": 103,
   "id": "b0570039-cac0-4946-89cd-93f00163047f",
   "metadata": {},
   "outputs": [
    {
     "name": "stdout",
     "output_type": "stream",
     "text": [
      "frozenset({1, 2, 3, 4, 5})\n"
     ]
    }
   ],
   "source": [
    "a = frozenset([5,3,4,2,2,1])\n",
    "print(a)\n"
   ]
  },
  {
   "cell_type": "code",
   "execution_count": 104,
   "id": "bb359a5c-5058-4540-9ad1-bec9977c0776",
   "metadata": {},
   "outputs": [
    {
     "ename": "AttributeError",
     "evalue": "'frozenset' object has no attribute 'add'",
     "output_type": "error",
     "traceback": [
      "\u001b[1;31m---------------------------------------------------------------------------\u001b[0m",
      "\u001b[1;31mAttributeError\u001b[0m                            Traceback (most recent call last)",
      "Cell \u001b[1;32mIn[104], line 1\u001b[0m\n\u001b[1;32m----> 1\u001b[0m \u001b[43ma\u001b[49m\u001b[38;5;241;43m.\u001b[39;49m\u001b[43madd\u001b[49m(\u001b[38;5;241m6\u001b[39m)\n",
      "\u001b[1;31mAttributeError\u001b[0m: 'frozenset' object has no attribute 'add'"
     ]
    }
   ],
   "source": [
    "a.add(6)  # Error"
   ]
  },
  {
   "cell_type": "code",
   "execution_count": 105,
   "id": "be708b1f-d173-48a1-bfe4-f9996d3da1b9",
   "metadata": {},
   "outputs": [
    {
     "ename": "AttributeError",
     "evalue": "'frozenset' object has no attribute 'remove'",
     "output_type": "error",
     "traceback": [
      "\u001b[1;31m---------------------------------------------------------------------------\u001b[0m",
      "\u001b[1;31mAttributeError\u001b[0m                            Traceback (most recent call last)",
      "Cell \u001b[1;32mIn[105], line 1\u001b[0m\n\u001b[1;32m----> 1\u001b[0m \u001b[43ma\u001b[49m\u001b[38;5;241;43m.\u001b[39;49m\u001b[43mremove\u001b[49m(\u001b[38;5;241m1\u001b[39m) \u001b[38;5;66;03m# Error\u001b[39;00m\n",
      "\u001b[1;31mAttributeError\u001b[0m: 'frozenset' object has no attribute 'remove'"
     ]
    }
   ],
   "source": [
    "a.remove(1) # Error"
   ]
  },
  {
   "cell_type": "markdown",
   "id": "8caa5243-c85f-44b4-b598-77ab6ecd7bcf",
   "metadata": {},
   "source": [
    "# Collections\n",
    "\n",
    "* Counter\n",
    "* NamedTuple\n",
    "* OrderedDict\n",
    "* defaultDict\n",
    "* deque"
   ]
  },
  {
   "cell_type": "code",
   "execution_count": 112,
   "id": "1219cf00-f283-4927-b113-74c3fcb309c2",
   "metadata": {},
   "outputs": [
    {
     "name": "stdout",
     "output_type": "stream",
     "text": [
      "Counter({'d': 6, 'a': 5, 'b': 4, 'c': 3, 'f': 2, 'r': 1})\n",
      "dict_values([5, 4, 3, 6, 2, 1])\n",
      "dict_keys(['a', 'b', 'c', 'd', 'f', 'r'])\n",
      "[('d', 6), ('a', 5), ('b', 4), ('c', 3), ('f', 2), ('r', 1)]\n",
      "d\n"
     ]
    }
   ],
   "source": [
    "from collections import *\n",
    "\n",
    "a = \"aaaaabbbbcccdffrddddd\"\n",
    "my_counter = Counter(a)   # Count the no of each keys in a\n",
    "print(my_counter)\n",
    "print(my_counter.values())\n",
    "print(my_counter.keys())\n",
    "print(my_counter.most_common())\n",
    "print(my_counter.most_common()[0][0])   # Most common in order"
   ]
  },
  {
   "cell_type": "code",
   "execution_count": 115,
   "id": "6c4a4bda-d90a-49e4-977b-c333daf1d948",
   "metadata": {},
   "outputs": [
    {
     "name": "stdout",
     "output_type": "stream",
     "text": [
      "point(x=1, y=-4)\n",
      "1 , -4\n"
     ]
    }
   ],
   "source": [
    "# Namedtuple\n",
    "\n",
    "Point = namedtuple('point', 'x,y')\n",
    "\n",
    "pt = Point(1, -4)\n",
    "\n",
    "print(pt)\n",
    "print(pt.x, \",\", pt.y)"
   ]
  },
  {
   "cell_type": "code",
   "execution_count": 118,
   "id": "470efd42-d683-4ea3-9663-c5d0ac927966",
   "metadata": {},
   "outputs": [
    {
     "name": "stdout",
     "output_type": "stream",
     "text": [
      "OrderedDict([('a', 1), ('b', 2), ('g', 20), ('c', 5)])\n"
     ]
    }
   ],
   "source": [
    "# Ordereddict - it will store in the order we insert. Newer python also does that for normal dictionaty\n",
    "\n",
    "ordered_dict = OrderedDict()\n",
    "\n",
    "ordered_dict['a'] = 1\n",
    "ordered_dict['b'] = 2\n",
    "ordered_dict['g'] = 20\n",
    "ordered_dict['c'] = 5\n",
    "\n",
    "print(ordered_dict)"
   ]
  },
  {
   "cell_type": "code",
   "execution_count": 120,
   "id": "d0e0333b-533e-4677-8ebe-a762a4f2ce66",
   "metadata": {},
   "outputs": [
    {
     "name": "stdout",
     "output_type": "stream",
     "text": [
      "1\n",
      "0\n",
      "defaultdict(<class 'int'>, {'a': 1, 'b': 2, 'c': 0})\n"
     ]
    }
   ],
   "source": [
    "# dedefaultdict\n",
    "d = defaultdict(int)\n",
    "d['a'] = 1\n",
    "d['b'] = 2\n",
    "\n",
    "print(d['a'])\n",
    "\n",
    "print(d['c'])  # Even though 'c' does not exists, it will be shown as 0, default value\n",
    "\n",
    "print(d)\n"
   ]
  },
  {
   "cell_type": "code",
   "execution_count": 129,
   "id": "83320ed6-f9e2-49b2-8445-81778b75ac16",
   "metadata": {},
   "outputs": [
    {
     "name": "stdout",
     "output_type": "stream",
     "text": [
      "deque([1, 2])\n",
      "deque([3, 1, 2])\n",
      "deque([3, 1])\n",
      "deque([1])\n",
      "deque([3, 4, 5, 6, 1])\n",
      "deque([1, 3, 4, 5, 6])\n"
     ]
    },
    {
     "ename": "AttributeError",
     "evalue": "'collections.deque' object has no attribute 'rotateleft'",
     "output_type": "error",
     "traceback": [
      "\u001b[1;31m---------------------------------------------------------------------------\u001b[0m",
      "\u001b[1;31mAttributeError\u001b[0m                            Traceback (most recent call last)",
      "Cell \u001b[1;32mIn[129], line 25\u001b[0m\n\u001b[0;32m     22\u001b[0m d\u001b[38;5;241m.\u001b[39mrotate()   \u001b[38;5;66;03m# move to the right\u001b[39;00m\n\u001b[0;32m     23\u001b[0m \u001b[38;5;28mprint\u001b[39m(d)\n\u001b[1;32m---> 25\u001b[0m \u001b[43md\u001b[49m\u001b[38;5;241;43m.\u001b[39;49m\u001b[43mrotateleft\u001b[49m()\n",
      "\u001b[1;31mAttributeError\u001b[0m: 'collections.deque' object has no attribute 'rotateleft'"
     ]
    }
   ],
   "source": [
    "# Dequeuea\n",
    "d = deque()\n",
    "\n",
    "d.append(1)\n",
    "d.append(2)\n",
    "\n",
    "print(d)\n",
    "\n",
    "d.appendleft(3) # Append to the first\n",
    "\n",
    "print(d)\n",
    "\n",
    "d.pop()   # Delete last element\n",
    "print(d)\n",
    "\n",
    "d.popleft()  # Delete first element\n",
    "print(d)\n",
    "\n",
    "d.extendleft([6,5,4,3])  # Insert in front of the queue\n",
    "print(d)\n",
    "\n",
    "d.rotate()   # move to the right\n",
    "print(d)\n",
    "\n"
   ]
  },
  {
   "cell_type": "code",
   "execution_count": 132,
   "id": "31d272ae-a617-4aef-b7f0-a2bb4866b5e9",
   "metadata": {},
   "outputs": [
    {
     "name": "stdout",
     "output_type": "stream",
     "text": [
      "Help on class deque in module collections:\n",
      "\n",
      "class deque(builtins.object)\n",
      " |  deque([iterable[, maxlen]]) --> deque object\n",
      " |  \n",
      " |  A list-like sequence optimized for data accesses near its endpoints.\n",
      " |  \n",
      " |  Methods defined here:\n",
      " |  \n",
      " |  __add__(self, value, /)\n",
      " |      Return self+value.\n",
      " |  \n",
      " |  __contains__(self, key, /)\n",
      " |      Return key in self.\n",
      " |  \n",
      " |  __copy__(...)\n",
      " |      Return a shallow copy of a deque.\n",
      " |  \n",
      " |  __delitem__(self, key, /)\n",
      " |      Delete self[key].\n",
      " |  \n",
      " |  __eq__(self, value, /)\n",
      " |      Return self==value.\n",
      " |  \n",
      " |  __ge__(self, value, /)\n",
      " |      Return self>=value.\n",
      " |  \n",
      " |  __getattribute__(self, name, /)\n",
      " |      Return getattr(self, name).\n",
      " |  \n",
      " |  __getitem__(self, key, /)\n",
      " |      Return self[key].\n",
      " |  \n",
      " |  __gt__(self, value, /)\n",
      " |      Return self>value.\n",
      " |  \n",
      " |  __iadd__(self, value, /)\n",
      " |      Implement self+=value.\n",
      " |  \n",
      " |  __imul__(self, value, /)\n",
      " |      Implement self*=value.\n",
      " |  \n",
      " |  __init__(self, /, *args, **kwargs)\n",
      " |      Initialize self.  See help(type(self)) for accurate signature.\n",
      " |  \n",
      " |  __iter__(self, /)\n",
      " |      Implement iter(self).\n",
      " |  \n",
      " |  __le__(self, value, /)\n",
      " |      Return self<=value.\n",
      " |  \n",
      " |  __len__(self, /)\n",
      " |      Return len(self).\n",
      " |  \n",
      " |  __lt__(self, value, /)\n",
      " |      Return self<value.\n",
      " |  \n",
      " |  __mul__(self, value, /)\n",
      " |      Return self*value.\n",
      " |  \n",
      " |  __ne__(self, value, /)\n",
      " |      Return self!=value.\n",
      " |  \n",
      " |  __reduce__(...)\n",
      " |      Return state information for pickling.\n",
      " |  \n",
      " |  __repr__(self, /)\n",
      " |      Return repr(self).\n",
      " |  \n",
      " |  __reversed__(...)\n",
      " |      D.__reversed__() -- return a reverse iterator over the deque\n",
      " |  \n",
      " |  __rmul__(self, value, /)\n",
      " |      Return value*self.\n",
      " |  \n",
      " |  __setitem__(self, key, value, /)\n",
      " |      Set self[key] to value.\n",
      " |  \n",
      " |  __sizeof__(...)\n",
      " |      D.__sizeof__() -- size of D in memory, in bytes\n",
      " |  \n",
      " |  append(...)\n",
      " |      Add an element to the right side of the deque.\n",
      " |  \n",
      " |  appendleft(...)\n",
      " |      Add an element to the left side of the deque.\n",
      " |  \n",
      " |  clear(...)\n",
      " |      Remove all elements from the deque.\n",
      " |  \n",
      " |  copy(...)\n",
      " |      Return a shallow copy of a deque.\n",
      " |  \n",
      " |  count(...)\n",
      " |      D.count(value) -- return number of occurrences of value\n",
      " |  \n",
      " |  extend(...)\n",
      " |      Extend the right side of the deque with elements from the iterable\n",
      " |  \n",
      " |  extendleft(...)\n",
      " |      Extend the left side of the deque with elements from the iterable\n",
      " |  \n",
      " |  index(...)\n",
      " |      D.index(value, [start, [stop]]) -- return first index of value.\n",
      " |      Raises ValueError if the value is not present.\n",
      " |  \n",
      " |  insert(...)\n",
      " |      D.insert(index, object) -- insert object before index\n",
      " |  \n",
      " |  pop(...)\n",
      " |      Remove and return the rightmost element.\n",
      " |  \n",
      " |  popleft(...)\n",
      " |      Remove and return the leftmost element.\n",
      " |  \n",
      " |  remove(...)\n",
      " |      D.remove(value) -- remove first occurrence of value.\n",
      " |  \n",
      " |  reverse(...)\n",
      " |      D.reverse() -- reverse *IN PLACE*\n",
      " |  \n",
      " |  rotate(...)\n",
      " |      Rotate the deque n steps to the right (default n=1).  If n is negative, rotates left.\n",
      " |  \n",
      " |  ----------------------------------------------------------------------\n",
      " |  Class methods defined here:\n",
      " |  \n",
      " |  __class_getitem__(...) from builtins.type\n",
      " |      See PEP 585\n",
      " |  \n",
      " |  ----------------------------------------------------------------------\n",
      " |  Static methods defined here:\n",
      " |  \n",
      " |  __new__(*args, **kwargs) from builtins.type\n",
      " |      Create and return a new object.  See help(type) for accurate signature.\n",
      " |  \n",
      " |  ----------------------------------------------------------------------\n",
      " |  Data descriptors defined here:\n",
      " |  \n",
      " |  maxlen\n",
      " |      maximum size of a deque or None if unbounded\n",
      " |  \n",
      " |  ----------------------------------------------------------------------\n",
      " |  Data and other attributes defined here:\n",
      " |  \n",
      " |  __hash__ = None\n",
      "\n"
     ]
    }
   ],
   "source": [
    "help(deque)\n"
   ]
  },
  {
   "cell_type": "markdown",
   "id": "0a7b5633-2596-40d7-9d22-18b8d3b85b33",
   "metadata": {},
   "source": [
    "# itertools\n",
    "\n",
    "* product\n",
    "* permutations\n",
    "* combinations\n",
    "* accumulate\n",
    "* groupby\n",
    "* infinite"
   ]
  },
  {
   "cell_type": "code",
   "execution_count": 134,
   "id": "3af5abda-c00b-458f-8acc-3d7c5f81ad41",
   "metadata": {},
   "outputs": [
    {
     "name": "stdout",
     "output_type": "stream",
     "text": [
      "[(1, 3), (1, 4), (2, 3), (2, 4)]\n"
     ]
    }
   ],
   "source": [
    "# product\n",
    "\n",
    "from itertools import *\n",
    "\n",
    "a = [1,2]\n",
    "b = [3,4]\n",
    "\n",
    "prod = product(a,b)\n",
    "print(list(prod))"
   ]
  },
  {
   "cell_type": "code",
   "execution_count": 135,
   "id": "60db637d-549e-4a2f-9e0e-cab24df7e160",
   "metadata": {},
   "outputs": [
    {
     "name": "stdout",
     "output_type": "stream",
     "text": [
      "[(1, 3, 1, 3), (1, 3, 2, 3), (2, 3, 1, 3), (2, 3, 2, 3)]\n"
     ]
    }
   ],
   "source": [
    "from itertools import *\n",
    "\n",
    "a = [1,2]\n",
    "b = [3]\n",
    "\n",
    "prod = product(a,b, repeat=2)\n",
    "print(list(prod))"
   ]
  },
  {
   "cell_type": "code",
   "execution_count": 136,
   "id": "79bd3c70-0e45-4591-bce6-be2f4c747cb1",
   "metadata": {},
   "outputs": [
    {
     "name": "stdout",
     "output_type": "stream",
     "text": [
      "[(1, 2, 3), (1, 3, 2), (2, 1, 3), (2, 3, 1), (3, 1, 2), (3, 2, 1)]\n"
     ]
    }
   ],
   "source": [
    "from itertools import *\n",
    "\n",
    "a = [1,2,3]\n",
    "\n",
    "perm = permutations(a)\n",
    "\n",
    "print(list(perm))"
   ]
  },
  {
   "cell_type": "code",
   "execution_count": 137,
   "id": "d0f1b6f9-56f5-4ecc-8cff-8c8425121148",
   "metadata": {},
   "outputs": [
    {
     "name": "stdout",
     "output_type": "stream",
     "text": [
      "[(1, 2), (1, 3), (2, 1), (2, 3), (3, 1), (3, 2)]\n"
     ]
    }
   ],
   "source": [
    "from itertools import *\n",
    "\n",
    "a = [1,2,3]\n",
    "\n",
    "perm = permutations(a, 2)   # Only 2 elements\n",
    "\n",
    "print(list(perm))"
   ]
  },
  {
   "cell_type": "code",
   "execution_count": 140,
   "id": "c2871715-177a-491f-9076-3dbeda95071e",
   "metadata": {},
   "outputs": [
    {
     "name": "stdout",
     "output_type": "stream",
     "text": [
      "[(1, 2), (1, 3), (1, 4), (2, 3), (2, 4), (3, 4)]\n"
     ]
    }
   ],
   "source": [
    "from itertools import *\n",
    "\n",
    "a = [1,2,3,4]\n",
    "\n",
    "comb = combinations(a, 2)\n",
    "\n",
    "print(list(comb))"
   ]
  },
  {
   "cell_type": "code",
   "execution_count": 141,
   "id": "80a1aeaf-8970-402b-aea2-3860d179c5d8",
   "metadata": {},
   "outputs": [
    {
     "name": "stdout",
     "output_type": "stream",
     "text": [
      "[(1, 1), (1, 2), (1, 3), (1, 4), (2, 2), (2, 3), (2, 4), (3, 3), (3, 4), (4, 4)]\n"
     ]
    }
   ],
   "source": [
    "from itertools import *\n",
    "\n",
    "a = [1,2,3,4]\n",
    "\n",
    "comb = combinations_with_replacement(a, 2)\n",
    "\n",
    "print(list(comb))"
   ]
  },
  {
   "cell_type": "code",
   "execution_count": 142,
   "id": "d6b622af-c19e-4c07-b42e-2f5a64a57cc9",
   "metadata": {},
   "outputs": [
    {
     "name": "stdout",
     "output_type": "stream",
     "text": [
      "[1, 3, 6, 10]\n"
     ]
    }
   ],
   "source": [
    "from itertools import *\n",
    "\n",
    "a = [1,2,3,4]\n",
    "\n",
    "accum = accumulate(a)\n",
    "\n",
    "print(list(accum))\n"
   ]
  },
  {
   "cell_type": "code",
   "execution_count": 150,
   "id": "5605ba6b-89b5-407a-8e2b-56ab08ff4e7c",
   "metadata": {},
   "outputs": [
    {
     "name": "stdout",
     "output_type": "stream",
     "text": [
      "[5, 5, 10, 30, 120]\n"
     ]
    }
   ],
   "source": [
    "from itertools import *\n",
    "import operator\n",
    "\n",
    "a = [1,2,3,4]\n",
    "\n",
    "accum = accumulate(a, func=operator.mul, initial = 5)\n",
    "\n",
    "print(list(accum))\n"
   ]
  },
  {
   "cell_type": "code",
   "execution_count": 149,
   "id": "85cd4c4d-8ded-4f75-8f21-59d75e8af569",
   "metadata": {},
   "outputs": [
    {
     "name": "stdout",
     "output_type": "stream",
     "text": [
      "Help on class accumulate in module itertools:\n",
      "\n",
      "class accumulate(builtins.object)\n",
      " |  accumulate(iterable, func=None, *, initial=None)\n",
      " |  \n",
      " |  Return series of accumulated sums (or other binary function results).\n",
      " |  \n",
      " |  Methods defined here:\n",
      " |  \n",
      " |  __getattribute__(self, name, /)\n",
      " |      Return getattr(self, name).\n",
      " |  \n",
      " |  __iter__(self, /)\n",
      " |      Implement iter(self).\n",
      " |  \n",
      " |  __next__(self, /)\n",
      " |      Implement next(self).\n",
      " |  \n",
      " |  __reduce__(...)\n",
      " |      Return state information for pickling.\n",
      " |  \n",
      " |  __setstate__(...)\n",
      " |      Set state information for unpickling.\n",
      " |  \n",
      " |  ----------------------------------------------------------------------\n",
      " |  Static methods defined here:\n",
      " |  \n",
      " |  __new__(*args, **kwargs) from builtins.type\n",
      " |      Create and return a new object.  See help(type) for accurate signature.\n",
      "\n"
     ]
    }
   ],
   "source": [
    "help(accumulate)"
   ]
  },
  {
   "cell_type": "code",
   "execution_count": 154,
   "id": "89dd8f06-b997-473b-964f-7ec98ef7479a",
   "metadata": {},
   "outputs": [
    {
     "name": "stdout",
     "output_type": "stream",
     "text": [
      "[1, 2, 5, 5, 9, 9, 9, 9]\n"
     ]
    }
   ],
   "source": [
    "from itertools import *\n",
    "import operator\n",
    "\n",
    "a = [1,2,5, 3, 9, 4,6,7]\n",
    "\n",
    "accum = accumulate(a, func=max)\n",
    "\n",
    "print(list(accum))"
   ]
  },
  {
   "cell_type": "code",
   "execution_count": 157,
   "id": "0bd9da88-aa72-49cf-8e87-30f34284a521",
   "metadata": {},
   "outputs": [
    {
     "name": "stdout",
     "output_type": "stream",
     "text": [
      "True [1, 2]\n",
      "False [3, 4]\n"
     ]
    }
   ],
   "source": [
    "# groupby\n",
    "from itertools import *\n",
    "\n",
    "def smaller_than_3(x):\n",
    "    return x < 3\n",
    "\n",
    "a = [1,2,3,4]\n",
    "\n",
    "group_by = groupby(a, key=smaller_than_3)\n",
    "\n",
    "for key, val in group_by:\n",
    "    print(key, list(val))"
   ]
  },
  {
   "cell_type": "code",
   "execution_count": 158,
   "id": "d607bdad-5425-440b-a8b4-83bdd0b4c904",
   "metadata": {},
   "outputs": [
    {
     "name": "stdout",
     "output_type": "stream",
     "text": [
      "True [1, 2]\n",
      "False [3, 4]\n"
     ]
    }
   ],
   "source": [
    "# groupby\n",
    "from itertools import *\n",
    "\n",
    "def smaller_than_3(x):\n",
    "    return x < 3\n",
    "\n",
    "a = [1,2,3,4]\n",
    "\n",
    "group_by = groupby(a, key=lambda x: x < 3)\n",
    "\n",
    "for key, val in group_by:\n",
    "    print(key, list(val))"
   ]
  },
  {
   "cell_type": "code",
   "execution_count": 162,
   "id": "96417703-12c5-4082-92cf-f79be36ca1c8",
   "metadata": {},
   "outputs": [
    {
     "name": "stdout",
     "output_type": "stream",
     "text": [
      "30 [{'name': 'James', 'age': 30}, {'name': 'Ruby', 'age': 30}]\n",
      "59 [{'name': 'Frank', 'age': 59}]\n",
      "18 [{'name': 'Cheryl', 'age': 18}]\n"
     ]
    }
   ],
   "source": [
    "# groupby\n",
    "from itertools import *\n",
    "\n",
    "persons = [{'name':'James', 'age':30}, {'name':'Ruby', 'age':30}, {'name':'Frank', 'age':59}, {'name':'Cheryl', 'age':18}]\n",
    "\n",
    "group_by = groupby(persons, key=lambda x: x['age'])\n",
    "\n",
    "for key, val in group_by:\n",
    "    print(key, list(val))"
   ]
  },
  {
   "cell_type": "code",
   "execution_count": 3,
   "id": "f20a5929-02e7-45b5-ab3b-4707ef3805c4",
   "metadata": {},
   "outputs": [
    {
     "name": "stdout",
     "output_type": "stream",
     "text": [
      "10\n",
      "11\n",
      "12\n",
      "13\n",
      "14\n",
      "15\n"
     ]
    }
   ],
   "source": [
    "# count\n",
    "from itertools import *\n",
    "\n",
    "for i in count(10):  # Starts at 10 and add 1 for every loop. infiniteloop\n",
    "    print(i)\n",
    "\n",
    "    if i >= 15:\n",
    "        break"
   ]
  },
  {
   "cell_type": "code",
   "execution_count": 4,
   "id": "65b5bedc-0ab0-424b-9ec9-64340b62d986",
   "metadata": {},
   "outputs": [
    {
     "name": "stdout",
     "output_type": "stream",
     "text": [
      "1\n",
      "2\n",
      "3\n",
      "4\n",
      "1\n",
      "2\n",
      "3\n",
      "4\n",
      "1\n",
      "2\n",
      "3\n",
      "4\n",
      "1\n"
     ]
    }
   ],
   "source": [
    "# cycle\n",
    "from itertools import *\n",
    "\n",
    "\n",
    "a = [1,2,3,4]\n",
    "\n",
    "j = 0\n",
    "\n",
    "for i in cycle(a):   # infiniteloop\n",
    "    print(i)\n",
    "\n",
    "    j += 1\n",
    "\n",
    "    if j > 3 * len(a):\n",
    "        break"
   ]
  },
  {
   "cell_type": "code",
   "execution_count": 5,
   "id": "560064e6-200a-49d2-891c-607823daa965",
   "metadata": {},
   "outputs": [
    {
     "name": "stdout",
     "output_type": "stream",
     "text": [
      "1\n",
      "1\n",
      "1\n",
      "1\n",
      "1\n"
     ]
    }
   ],
   "source": [
    "# repeat\n",
    "\n",
    "from itertools import *\n",
    "\n",
    "for i in repeat(1, 5): # Repeat 1 five times\n",
    "    print(i)\n"
   ]
  },
  {
   "cell_type": "markdown",
   "id": "88fbfc44-4db6-487d-a141-6a19247fab5c",
   "metadata": {},
   "source": [
    "# lambda"
   ]
  },
  {
   "cell_type": "code",
   "execution_count": 6,
   "id": "413dc35e-c818-4d57-b361-e9102e19c229",
   "metadata": {},
   "outputs": [
    {
     "name": "stdout",
     "output_type": "stream",
     "text": [
      "[(1, 2), (15, 1), (5, -1), (10, 4)]\n",
      "[(5, -1), (15, 1), (1, 2), (10, 4)]\n"
     ]
    }
   ],
   "source": [
    "points = [(1,2), (15,1), (5, -1), (10,4)]\n",
    "\n",
    "points_sorted = sorted(points, key=lambda x: x[1])  # Sort by second value\n",
    "\n",
    "print(points)\n",
    "print(points_sorted)"
   ]
  },
  {
   "cell_type": "markdown",
   "id": "60c5af98",
   "metadata": {},
   "source": [
    "# time module"
   ]
  },
  {
   "cell_type": "code",
   "execution_count": 6,
   "id": "aabbef19",
   "metadata": {
    "ExecuteTime": {
     "end_time": "2023-10-10T12:51:37.686524Z",
     "start_time": "2023-10-10T12:51:37.680230Z"
    }
   },
   "outputs": [
    {
     "name": "stdout",
     "output_type": "stream",
     "text": [
      "Thu Jan  1 08:00:00 1970\n"
     ]
    }
   ],
   "source": [
    "import time\n",
    "\n",
    "print(time.ctime(0))    # secods from 01/01/1970 08:00:00 (epoch)"
   ]
  },
  {
   "cell_type": "code",
   "execution_count": 7,
   "id": "3dd9b3ef",
   "metadata": {
    "ExecuteTime": {
     "end_time": "2023-10-10T12:52:18.706306Z",
     "start_time": "2023-10-10T12:52:18.701594Z"
    }
   },
   "outputs": [
    {
     "name": "stdout",
     "output_type": "stream",
     "text": [
      "1700140758.991737\n"
     ]
    }
   ],
   "source": [
    "print(time.time())  # Seconds since epoch"
   ]
  },
  {
   "cell_type": "code",
   "execution_count": 8,
   "id": "8a5fa0a4",
   "metadata": {
    "ExecuteTime": {
     "end_time": "2023-10-10T12:53:21.026941Z",
     "start_time": "2023-10-10T12:53:21.022128Z"
    }
   },
   "outputs": [
    {
     "name": "stdout",
     "output_type": "stream",
     "text": [
      "Thu Nov 16 21:19:19 2023\n"
     ]
    }
   ],
   "source": [
    "print(time.ctime(time.time()))   # Print current date and time"
   ]
  },
  {
   "cell_type": "code",
   "execution_count": 9,
   "id": "39f0411d",
   "metadata": {
    "ExecuteTime": {
     "end_time": "2023-10-10T12:53:49.201296Z",
     "start_time": "2023-10-10T12:53:49.195833Z"
    }
   },
   "outputs": [
    {
     "name": "stdout",
     "output_type": "stream",
     "text": [
      "time.struct_time(tm_year=2023, tm_mon=11, tm_mday=16, tm_hour=21, tm_min=19, tm_sec=19, tm_wday=3, tm_yday=320, tm_isdst=0)\n"
     ]
    }
   ],
   "source": [
    "print(time.localtime())   # Local time"
   ]
  },
  {
   "cell_type": "code",
   "execution_count": 10,
   "id": "d696bdaa",
   "metadata": {
    "ExecuteTime": {
     "end_time": "2023-10-10T12:54:12.000801Z",
     "start_time": "2023-10-10T12:54:11.996419Z"
    }
   },
   "outputs": [
    {
     "name": "stdout",
     "output_type": "stream",
     "text": [
      "time.struct_time(tm_year=2023, tm_mon=11, tm_mday=16, tm_hour=13, tm_min=19, tm_sec=19, tm_wday=3, tm_yday=320, tm_isdst=0)\n"
     ]
    }
   ],
   "source": [
    "print(time.gmtime())  # UTC time"
   ]
  },
  {
   "cell_type": "code",
   "execution_count": 11,
   "id": "016f419e",
   "metadata": {
    "ExecuteTime": {
     "end_time": "2023-10-10T12:56:45.661769Z",
     "start_time": "2023-10-10T12:56:45.656040Z"
    }
   },
   "outputs": [
    {
     "name": "stdout",
     "output_type": "stream",
     "text": [
      "November 16 2023 21:19:19\n"
     ]
    }
   ],
   "source": [
    "time_object = time.localtime() # Local Time\n",
    "\n",
    "local_time = time.strftime(\"%B %d %Y %H:%M:%S\", time_object)\n",
    "\n",
    "print(local_time)"
   ]
  },
  {
   "cell_type": "code",
   "execution_count": 12,
   "id": "a4f6b4f7",
   "metadata": {
    "ExecuteTime": {
     "end_time": "2023-10-10T12:57:15.133012Z",
     "start_time": "2023-10-10T12:57:15.127795Z"
    }
   },
   "outputs": [
    {
     "name": "stdout",
     "output_type": "stream",
     "text": [
      "November 16 2023 13:19:19\n"
     ]
    }
   ],
   "source": [
    "time_object = time.gmtime()  # UTC Time\n",
    "\n",
    "local_time = time.strftime(\"%B %d %Y %H:%M:%S\", time_object)\n",
    "\n",
    "print(local_time)"
   ]
  },
  {
   "cell_type": "code",
   "execution_count": 13,
   "id": "c20cdc46",
   "metadata": {
    "ExecuteTime": {
     "end_time": "2023-10-11T12:11:37.715215Z",
     "start_time": "2023-10-11T12:11:37.711159Z"
    }
   },
   "outputs": [
    {
     "name": "stdout",
     "output_type": "stream",
     "text": [
      "Example 1 (UTC): Thu, 16 Nov 2023 13:19:19 + 1010\n"
     ]
    }
   ],
   "source": [
    "# importing the srtftime() and gmtime()\n",
    "# if not used the gm time, time changes\n",
    "# to the local time\n",
    " \n",
    "from time import gmtime, strftime\n",
    " \n",
    "# using simple format of showing time\n",
    "s = strftime(\"%a, %d %b %Y %H:%M:%S + 1010\", gmtime())\n",
    "print(\"Example 1 (UTC):\", s)\n",
    " \n"
   ]
  },
  {
   "cell_type": "code",
   "execution_count": 14,
   "id": "6bd75423",
   "metadata": {
    "ExecuteTime": {
     "end_time": "2023-10-11T12:12:05.773600Z",
     "start_time": "2023-10-11T12:12:05.768541Z"
    }
   },
   "outputs": [
    {
     "name": "stdout",
     "output_type": "stream",
     "text": [
      "Example 2 (UTC): Thursday, 11/16/23 November 2023 13:19:19 + 0000\n"
     ]
    }
   ],
   "source": [
    "# importing the srtftime() and gmtime()\n",
    "# if not used the gm time, time changes\n",
    "# to the local time\n",
    " \n",
    "from time import gmtime, strftime\n",
    " \n",
    "\n",
    "# only change in this is the full names\n",
    "# and the representation\n",
    "s = strftime(\"%A, %D %B %Y %H:%M:%S + 0000\", gmtime())\n",
    "print(\"Example 2 (UTC):\", s)"
   ]
  },
  {
   "cell_type": "code",
   "execution_count": 15,
   "id": "f9e2eeac",
   "metadata": {
    "ExecuteTime": {
     "end_time": "2023-10-11T12:12:25.573305Z",
     "start_time": "2023-10-11T12:12:25.568346Z"
    }
   },
   "outputs": [
    {
     "name": "stdout",
     "output_type": "stream",
     "text": [
      "Example 3: Thu Nov 16 21:19:19 2023\n"
     ]
    }
   ],
   "source": [
    "# importing the srtftime() and gmtime()\n",
    "# if not used the gm time, time changes\n",
    "# to the local time\n",
    " \n",
    "from time import gmtime, strftime\n",
    " \n",
    "\n",
    "# this will show you the preferred date time format\n",
    "s = strftime(\"%c\")\n",
    "print(\"Example 3:\", s)"
   ]
  },
  {
   "cell_type": "code",
   "execution_count": 16,
   "id": "03beaa36",
   "metadata": {
    "ExecuteTime": {
     "end_time": "2023-10-11T12:13:09.420672Z",
     "start_time": "2023-10-11T12:13:09.417459Z"
    }
   },
   "outputs": [
    {
     "name": "stdout",
     "output_type": "stream",
     "text": [
      "Example 4: 20\n"
     ]
    }
   ],
   "source": [
    "# importing the srtftime() and gmtime()\n",
    "# if not used the gm time, time changes\n",
    "# to the local time\n",
    " \n",
    "from time import gmtime, strftime\n",
    " \n",
    "# this will tell about the centuries\n",
    "s = strftime(\"%C\")\n",
    "print(\"Example 4:\", s)\n",
    " "
   ]
  },
  {
   "cell_type": "code",
   "execution_count": 17,
   "id": "4c46cedc",
   "metadata": {
    "ExecuteTime": {
     "end_time": "2023-10-11T12:13:26.462834Z",
     "start_time": "2023-10-11T12:13:26.457806Z"
    }
   },
   "outputs": [
    {
     "name": "stdout",
     "output_type": "stream",
     "text": [
      "Example 5: Thursday, 11/16/23 November 2023, 09:19:19 PM, \n",
      "MOTY:11 \n",
      "DOTY:320\n"
     ]
    }
   ],
   "source": [
    "# importing the srtftime() and gmtime()\n",
    "# if not used the gm time, time changes\n",
    "# to the local time\n",
    " \n",
    "from time import gmtime, strftime\n",
    " \n",
    "# MOTY: month of the year\n",
    "# DOTY: Day of the year\n",
    "# Simple representation\n",
    "# % n - new line\n",
    "s = strftime(\"%A, %D %B %Y, %r, %nMOTY:%m %nDOTY:%j\")\n",
    "print(\"Example 5:\", s)"
   ]
  },
  {
   "cell_type": "code",
   "execution_count": 18,
   "id": "34967e54",
   "metadata": {
    "ExecuteTime": {
     "end_time": "2023-10-11T12:13:47.219440Z",
     "start_time": "2023-10-11T12:13:47.215516Z"
    }
   },
   "outputs": [
    {
     "name": "stdout",
     "output_type": "stream",
     "text": [
      "Example 6:  21:19 \n"
     ]
    }
   ],
   "source": [
    "# importing the srtftime() and gmtime()\n",
    "# if not used the gm time, time changes\n",
    "# to the local time\n",
    " \n",
    "from time import gmtime, strftime\n",
    " \n",
    "# % R - time in 24 hour notation\n",
    "s = strftime(\" %R \")\n",
    "print(\"Example 6:\", s)"
   ]
  },
  {
   "cell_type": "code",
   "execution_count": 19,
   "id": "49ceec55",
   "metadata": {
    "ExecuteTime": {
     "end_time": "2023-10-11T12:14:19.535490Z",
     "start_time": "2023-10-11T12:14:19.530445Z"
    }
   },
   "outputs": [
    {
     "name": "stdout",
     "output_type": "stream",
     "text": [
      "Example 7: Thu, 16 Nov 2023 01:19:19 + 0000\n"
     ]
    }
   ],
   "source": [
    "# importing the srtftime() and gmtime()\n",
    "# if not used the gm time, time changes\n",
    "# to the local time\n",
    " \n",
    "from time import gmtime, strftime\n",
    "\n",
    "# % H - hour, using a 24-hour clock (00 to 23) in Example 1, 2, 3\n",
    "# % I - hour, using a 12-hour clock (01 to 12)\n",
    "s = strftime(\"%a, %d %b %Y %I:%M:%S + 0000\", gmtime())\n",
    "print(\"Example 7:\", s)"
   ]
  },
  {
   "cell_type": "code",
   "execution_count": 20,
   "id": "856eac89",
   "metadata": {
    "ExecuteTime": {
     "end_time": "2023-10-11T12:14:38.162764Z",
     "start_time": "2023-10-11T12:14:38.156020Z"
    }
   },
   "outputs": [
    {
     "name": "stdout",
     "output_type": "stream",
     "text": [
      "Example 8: 01:19:19 PM, 13:19:19 \n"
     ]
    }
   ],
   "source": [
    "# importing the srtftime() and gmtime()\n",
    "# if not used the gm time, time changes\n",
    "# to the local time\n",
    " \n",
    "from time import gmtime, strftime\n",
    "\n",
    "# % T - current time, equal to % H:% M:% S\n",
    "s = strftime(\"%r, %T \", gmtime())\n",
    "print(\"Example 8:\", s)"
   ]
  },
  {
   "cell_type": "code",
   "execution_count": 21,
   "id": "abcad399",
   "metadata": {
    "ExecuteTime": {
     "end_time": "2023-10-11T12:14:50.567879Z",
     "start_time": "2023-10-11T12:14:50.562557Z"
    }
   },
   "outputs": [
    {
     "name": "stdout",
     "output_type": "stream",
     "text": [
      "Example 9: 09:19:19 PM, 4, 46\n"
     ]
    }
   ],
   "source": [
    "# importing the srtftime() and gmtime()\n",
    "# if not used the gm time, time changes\n",
    "# to the local time\n",
    " \n",
    "from time import gmtime, strftime\n",
    "\n",
    "# % u an % U use (see difference)\n",
    "s = strftime(\"%r, %u, %U\")\n",
    "print(\"Example 9:\", s)\n",
    " "
   ]
  },
  {
   "cell_type": "code",
   "execution_count": 22,
   "id": "b813bc3d",
   "metadata": {
    "ExecuteTime": {
     "end_time": "2023-10-11T12:15:09.947548Z",
     "start_time": "2023-10-11T12:15:09.943387Z"
    }
   },
   "outputs": [
    {
     "name": "stdout",
     "output_type": "stream",
     "text": [
      "Example 10: 09:19:19 PM, 46, 46, 4\n"
     ]
    }
   ],
   "source": [
    "# importing the srtftime() and gmtime()\n",
    "# if not used the gm time, time changes\n",
    "# to the local time\n",
    " \n",
    "from time import gmtime, strftime\n",
    "\n",
    "# use of % V, % W, % w\n",
    "s = strftime(\"%r, %V, %W, %w\")\n",
    "print(\"Example 10:\", s)"
   ]
  },
  {
   "cell_type": "code",
   "execution_count": 23,
   "id": "9cd81e83",
   "metadata": {
    "ExecuteTime": {
     "end_time": "2023-10-11T12:15:22.075937Z",
     "start_time": "2023-10-11T12:15:22.071247Z"
    }
   },
   "outputs": [
    {
     "name": "stdout",
     "output_type": "stream",
     "text": [
      "Example 11: 11/16/23, 21:19:19, 23, 2023\n"
     ]
    }
   ],
   "source": [
    "# importing the srtftime() and gmtime()\n",
    "# if not used the gm time, time changes\n",
    "# to the local time\n",
    " \n",
    "from time import gmtime, strftime\n",
    "\n",
    "# use of % x, % X, % y, % Y\n",
    "s = strftime(\"%x, %X, %y, %Y\")\n",
    "print(\"Example 11:\", s)"
   ]
  },
  {
   "cell_type": "code",
   "execution_count": 24,
   "id": "aeab4759",
   "metadata": {
    "ExecuteTime": {
     "end_time": "2023-10-11T12:15:32.628987Z",
     "start_time": "2023-10-11T12:15:32.624512Z"
    }
   },
   "outputs": [
    {
     "name": "stdout",
     "output_type": "stream",
     "text": [
      "Example 12: 09:19:19 PM, +0800, Malay Peninsula Standard Time\n"
     ]
    }
   ],
   "source": [
    "# importing the srtftime() and gmtime()\n",
    "# if not used the gm time, time changes\n",
    "# to the local time\n",
    " \n",
    "from time import gmtime, strftime\n",
    "\n",
    "# use of % Z, % z\n",
    "s = strftime(\"%r, %z, %Z\")\n",
    "print(\"Example 12:\", s)"
   ]
  },
  {
   "cell_type": "markdown",
   "id": "920c94e0-8c8f-488f-9c13-818b7a7eb904",
   "metadata": {},
   "source": [
    "# Sending Email"
   ]
  },
  {
   "cell_type": "code",
   "execution_count": null,
   "id": "35ca575e",
   "metadata": {},
   "outputs": [],
   "source": [
    "# Mailabs\n",
    "import smtplib\n",
    "import os\n",
    "\n",
    "sender = \"sender@gmail.com\"\n",
    "receiver = \"receiver@yahoo.com\"\n",
    "password = \"xxxx\"\n",
    "subject = \"Subject\"\n",
    "body=\"Sending you an email\"\n",
    "\n",
    "\n",
    "# headerabs\n",
    "message = f\"\"\"From: Snoop Dogg {sender}\n",
    "To: James Bond{receiver}\n",
    "Subject: {subject}\\n\n",
    "{body}\n",
    "\"\"\"\n",
    "\n",
    "server = smtplib.SMTP(\"smtp.gmail.com\", 587)\n",
    "server.starttls()\n",
    "\n",
    "try:\n",
    "    server.login(sender, password)\n",
    "    print(\"Logged in ...\")\n",
    "    server.sendmail(sender, receiver. message)\n",
    "    print(\"Email sent\")\n",
    "\n",
    "except smtplib.SMTPAuthenticationError:\n",
    "    print(\"Unable to signin\")\n",
    "\n"
   ]
  },
  {
   "cell_type": "code",
   "execution_count": null,
   "id": "1704a36c",
   "metadata": {},
   "outputs": [],
   "source": []
  },
  {
   "cell_type": "code",
   "execution_count": null,
   "id": "5b8a54b2",
   "metadata": {},
   "outputs": [],
   "source": []
  },
  {
   "cell_type": "code",
   "execution_count": null,
   "id": "fab835ed",
   "metadata": {},
   "outputs": [],
   "source": []
  },
  {
   "cell_type": "code",
   "execution_count": null,
   "id": "b3429403",
   "metadata": {},
   "outputs": [],
   "source": []
  },
  {
   "cell_type": "code",
   "execution_count": null,
   "id": "5cf68bc3",
   "metadata": {},
   "outputs": [],
   "source": []
  },
  {
   "cell_type": "code",
   "execution_count": null,
   "id": "b54c0b2f",
   "metadata": {},
   "outputs": [],
   "source": []
  },
  {
   "cell_type": "code",
   "execution_count": null,
   "id": "f26ab8bd",
   "metadata": {},
   "outputs": [],
   "source": []
  },
  {
   "cell_type": "code",
   "execution_count": null,
   "id": "27ef0a5d",
   "metadata": {},
   "outputs": [],
   "source": []
  },
  {
   "cell_type": "code",
   "execution_count": null,
   "id": "188b7855",
   "metadata": {},
   "outputs": [],
   "source": []
  },
  {
   "cell_type": "code",
   "execution_count": null,
   "id": "3b094108",
   "metadata": {},
   "outputs": [],
   "source": []
  },
  {
   "cell_type": "markdown",
   "id": "82806ccf",
   "metadata": {},
   "source": [
    "# Yield and Generator"
   ]
  },
  {
   "cell_type": "code",
   "execution_count": 25,
   "id": "99bddc7e",
   "metadata": {
    "ExecuteTime": {
     "end_time": "2023-10-20T03:00:56.806126Z",
     "start_time": "2023-10-20T03:00:56.799624Z"
    }
   },
   "outputs": [
    {
     "data": {
      "text/plain": [
       "328350"
      ]
     },
     "execution_count": 25,
     "metadata": {},
     "output_type": "execute_result"
    }
   ],
   "source": [
    "\"\"\"\n",
    "This function is called the same way, however the return value type hinting is a little more complex. \n",
    "The Generator type hint has three hint arguments; the yield type hint, the send type hint and the return type hint. \n",
    "\n",
    "Starting with the return type hint, notice that powers_generator does not have a return expression and that agrees \n",
    "with the return type hint of None. It is also type hinted \n",
    "with None. That leaves the yield type hint, int, which agrees with the code in the body of the function.\n",
    "\n",
    "When the powers_generator function is called, it begins iterating thru the range of 0 to 100 and the yield expression \n",
    "immediately returns the computed value to the caller. This has two benefits; the caller gets the computed value quicker \n",
    "and there isn’t any additional memory consumed to hold all the computed values.\n",
    "\"\"\"\n",
    "from typing import Generator\n",
    "\n",
    "def powers_generator(exponent: int) -> Generator[int, None, None]:\n",
    "    for n in range(0, 100):\n",
    "        yield n**exponent\n",
    "        \n",
    "sum(powers_generator(2))"
   ]
  },
  {
   "cell_type": "code",
   "execution_count": 26,
   "id": "9de90d64",
   "metadata": {
    "ExecuteTime": {
     "end_time": "2023-10-20T03:04:00.785493Z",
     "start_time": "2023-10-20T03:04:00.781305Z"
    }
   },
   "outputs": [
    {
     "data": {
      "text/plain": [
       "<generator object powers_generator at 0x0000014FE182A0A0>"
      ]
     },
     "execution_count": 26,
     "metadata": {},
     "output_type": "execute_result"
    }
   ],
   "source": [
    "\"\"\"\n",
    "It returned a generator object which is a kind of Iterable (it has __iter__ and __next__ magic methods). \n",
    "Each time the generator’s__next__ method is called, the function picks up just after the yield and starts \n",
    "executing until it yields again, raises an exception or returns.\n",
    "\"\"\"\n",
    "\n",
    "powers_generator(2)"
   ]
  },
  {
   "cell_type": "markdown",
   "id": "53b685f4",
   "metadata": {},
   "source": [
    "Another difference between a generator function and an Iterable like a list or a dictionary is generators are “single use”. If you have a list, you can iterate over it multiple times. However after a generator function returns it is exhausted. Calling it again results in no values returned. For instance, in this next code example we create a list of powers of two and a generator. The list can be summed multiple times and produces the expected value, while summing the generator function works as expected the first time and results in zeros when summed again."
   ]
  },
  {
   "cell_type": "code",
   "execution_count": 27,
   "id": "8bedcafd",
   "metadata": {
    "ExecuteTime": {
     "end_time": "2023-10-20T03:07:18.184978Z",
     "start_time": "2023-10-20T03:07:18.179658Z"
    }
   },
   "outputs": [
    {
     "name": "stdout",
     "output_type": "stream",
     "text": [
      "328350\n",
      "328350\n"
     ]
    }
   ],
   "source": [
    "def powers(exponent: int) -> list[int]:\n",
    "    return [n**exponent for n in range(0, 100)]\n",
    "\n",
    "p = powers(2)\n",
    "\n",
    "print(sum(p))\n",
    "print(sum(p))"
   ]
  },
  {
   "cell_type": "code",
   "execution_count": 28,
   "id": "0725523d",
   "metadata": {
    "ExecuteTime": {
     "end_time": "2023-10-20T03:08:34.272932Z",
     "start_time": "2023-10-20T03:08:34.269167Z"
    }
   },
   "outputs": [
    {
     "name": "stdout",
     "output_type": "stream",
     "text": [
      "328350\n",
      "0\n"
     ]
    }
   ],
   "source": [
    "g = powers_generator(2)\n",
    "\n",
    "print(sum(g))   # This will print sum of 0 to 99\n",
    "print(sum(g))   # This will print 0 since the above has finished 0-99"
   ]
  },
  {
   "cell_type": "markdown",
   "id": "bf61e370",
   "metadata": {},
   "source": [
    "yield expressions make generators and generators can reduce latency by returning values to the caller sooner and can reduce memory use by generating its values on the fly. But what do “real” programs use it for? One neat use is in creating context managers using the contextlib.contextmanager decorator.\n",
    "\n",
    "Python context manager expressions begin with the with keyword and can help manage a resource like an open file or a database connection. In this simple bit of code, we have some sophisticated behavior! Here we are simply printing out the different phases of a context manager; setup, inside and teardown. The yield in the manager function gives the nested code in the body of the with statement the opportunity to run. When the code block finishes, control is handed back to the manager function just after the yield.\n",
    "\n",
    "The pytest package uses this pattern extensively to allow the user to create testing fixtures of arbitrary complexity."
   ]
  },
  {
   "cell_type": "code",
   "execution_count": 29,
   "id": "44723141",
   "metadata": {
    "ExecuteTime": {
     "end_time": "2023-10-20T03:09:47.329860Z",
     "start_time": "2023-10-20T03:09:47.326516Z"
    }
   },
   "outputs": [],
   "source": [
    "from contextlib import contextmanager\n",
    "\n",
    "@contextmanager\n",
    "def manager():\n",
    "    print(\"setup\")\n",
    "    yield\n",
    "    print(\"teardown\")"
   ]
  },
  {
   "cell_type": "code",
   "execution_count": 30,
   "id": "0d9c2401",
   "metadata": {
    "ExecuteTime": {
     "end_time": "2023-10-20T03:11:45.760787Z",
     "start_time": "2023-10-20T03:11:45.757237Z"
    }
   },
   "outputs": [
    {
     "name": "stdout",
     "output_type": "stream",
     "text": [
      "setup\n",
      "inside\n",
      "teardown\n"
     ]
    }
   ],
   "source": [
    "with manager():\n",
    "    print(\"inside\") # This will print before the yield"
   ]
  },
  {
   "cell_type": "code",
   "execution_count": null,
   "id": "df686efa-9d03-414c-8c06-45e254ab00ac",
   "metadata": {},
   "outputs": [],
   "source": []
  },
  {
   "cell_type": "code",
   "execution_count": null,
   "id": "eccab951-befb-4bd0-a016-3940b9157b2a",
   "metadata": {},
   "outputs": [],
   "source": []
  }
 ],
 "metadata": {
  "hide_input": false,
  "kernelspec": {
   "display_name": "Python 3 (ipykernel)",
   "language": "python",
   "name": "python3"
  },
  "language_info": {
   "codemirror_mode": {
    "name": "ipython",
    "version": 3
   },
   "file_extension": ".py",
   "mimetype": "text/x-python",
   "name": "python",
   "nbconvert_exporter": "python",
   "pygments_lexer": "ipython3",
   "version": "3.11.5"
  },
  "nbTranslate": {
   "displayLangs": [
    "*"
   ],
   "hotkey": "alt-t",
   "langInMainMenu": true,
   "sourceLang": "en",
   "targetLang": "fr",
   "useGoogleTranslate": true
  }
 },
 "nbformat": 4,
 "nbformat_minor": 5
}
