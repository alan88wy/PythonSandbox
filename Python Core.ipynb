{
 "cells": [
  {
   "cell_type": "markdown",
   "id": "340beeac",
   "metadata": {},
   "source": [
    "# Core Python\n"
   ]
  },
  {
   "cell_type": "markdown",
   "id": "d7fc2a66",
   "metadata": {},
   "source": [
    "#### Printing & Formatting"
   ]
  },
  {
   "cell_type": "code",
   "execution_count": 1,
   "id": "f9270bdb",
   "metadata": {
    "ExecuteTime": {
     "end_time": "2023-09-24T13:10:56.926678Z",
     "start_time": "2023-09-24T13:10:56.919524Z"
    }
   },
   "outputs": [
    {
     "name": "stdout",
     "output_type": "stream",
     "text": [
      "The id is : 1 and name is James\n"
     ]
    }
   ],
   "source": [
    "# using variable in a print format\n",
    "id = 1\n",
    "name = 'James'\n",
    "f = f'The id is : {id} and name is {name}'\n",
    "print(f)"
   ]
  },
  {
   "cell_type": "markdown",
   "id": "45b8fc08-86ec-485e-bb60-dcf874e5522d",
   "metadata": {},
   "source": [
    "# List"
   ]
  },
  {
   "cell_type": "code",
   "execution_count": 12,
   "id": "4a535649-4562-49d9-90ec-60424fe606ec",
   "metadata": {},
   "outputs": [
    {
     "name": "stdout",
     "output_type": "stream",
     "text": [
      "li2 = li.copy() & li2.append(\"mango\") :  ['banana', 'apple', 'mango']\n",
      "li :  ['banana', 'apple']\n",
      "li.append(\"orange\") :  ['banana', 'apple', 'orange']\n",
      "li3 = li:  ['banana', 'apple', 'orange']\n",
      "li.insert(2, \"papaya\") : ['banana', 'apple', 'papaya', 'orange']\n",
      "del(li[1]) :  ['banana', 'papaya', 'orange']\n",
      "li.pop() :  ['banana', 'papaya']\n"
     ]
    }
   ],
   "source": [
    "li = [\"banana\", \"apple\"]\n",
    "\n",
    "li2 = li.copy() # Copy list or li2 = list(li) or li2 = li[:]\n",
    "li2.append(\"mango\")\n",
    "\n",
    "\n",
    "print('li2 = li.copy() & li2.append(\"mango\") : ', li2)\n",
    "print(\"li : \", li)\n",
    "li3 = li # Both point to the same location\n",
    "li.append(\"orange\")  # append to the end\n",
    "print('li.append(\"orange\") : ', li)\n",
    "print(\"li3 = li: \", li3)\n",
    "\n",
    "li.insert(2, \"papaya\") # insert in index 2\n",
    "print('li.insert(2, \"papaya\") :', li)\n",
    "\n",
    "del(li[1])  # delete at index 1\n",
    "print(\"del(li[1]) : \", li)\n",
    "\n",
    "li.pop() # Delete last element\n",
    "print(\"li.pop() : \", li)"
   ]
  },
  {
   "cell_type": "markdown",
   "id": "7cad7d72",
   "metadata": {},
   "source": [
    "# List Comprehension"
   ]
  },
  {
   "cell_type": "code",
   "execution_count": 2,
   "id": "1530ad73",
   "metadata": {
    "ExecuteTime": {
     "end_time": "2023-10-09T12:53:02.825993Z",
     "start_time": "2023-10-09T12:53:02.818816Z"
    }
   },
   "outputs": [
    {
     "name": "stdout",
     "output_type": "stream",
     "text": [
      "[2, 4, 6, 8]\n"
     ]
    }
   ],
   "source": [
    "l = [1,2,3,4,5,6,7,8,9]\n",
    "\n",
    "ln = list([i for i in l if i % 2 == 0])\n",
    "\n",
    "print(ln)"
   ]
  },
  {
   "cell_type": "markdown",
   "id": "42f75bf8-0dc6-491a-b1c3-feb62fe9eabd",
   "metadata": {},
   "source": [
    "# Tuple"
   ]
  },
  {
   "cell_type": "code",
   "execution_count": 15,
   "id": "f4c5af42-1ca1-4c44-b108-1274ef38ab66",
   "metadata": {},
   "outputs": [
    {
     "name": "stdout",
     "output_type": "stream",
     "text": [
      "('Max', 28, 'Singa', 28)\n"
     ]
    }
   ],
   "source": [
    "mytupple = (\"max\",) # must have a ,, otherwise it will be consider as a class\n",
    "\n",
    "my = tuple([\"Max\", 28, \"Singa\", 28]) # allow duplicate but tuple is immutable after cDeprecationWarning\n",
    "\n",
    "print(my)"
   ]
  },
  {
   "cell_type": "code",
   "execution_count": 20,
   "id": "25c1eef1-9aa2-4bfc-af5e-48a4226b12b0",
   "metadata": {},
   "outputs": [
    {
     "name": "stdout",
     "output_type": "stream",
     "text": [
      "Max\n",
      "28\n",
      "Singa\n",
      "28\n"
     ]
    }
   ],
   "source": [
    "for i in my:\n",
    "    print(i)"
   ]
  },
  {
   "cell_type": "code",
   "execution_count": 21,
   "id": "6cb0612e-5c4e-4801-8273-825337e4a5f0",
   "metadata": {},
   "outputs": [
    {
     "name": "stdout",
     "output_type": "stream",
     "text": [
      "yes\n"
     ]
    }
   ],
   "source": [
    "if 28 in my:\n",
    "    print(\"yes\")"
   ]
  },
  {
   "cell_type": "code",
   "execution_count": 23,
   "id": "33489346-9f22-47bd-8b43-8dc81c779e32",
   "metadata": {},
   "outputs": [
    {
     "name": "stdout",
     "output_type": "stream",
     "text": [
      "2\n"
     ]
    }
   ],
   "source": [
    "print(my.count(28))"
   ]
  },
  {
   "cell_type": "code",
   "execution_count": 24,
   "id": "ead4275a-d17f-466a-a8d6-0e792238f132",
   "metadata": {},
   "outputs": [
    {
     "name": "stdout",
     "output_type": "stream",
     "text": [
      "4\n"
     ]
    }
   ],
   "source": [
    "print(len(my))"
   ]
  },
  {
   "cell_type": "code",
   "execution_count": 26,
   "id": "11ed9014-9831-4702-a34d-31430895951d",
   "metadata": {},
   "outputs": [
    {
     "name": "stdout",
     "output_type": "stream",
     "text": [
      "1\n"
     ]
    }
   ],
   "source": [
    "print(my.index(28))  # First occurrence of 28"
   ]
  },
  {
   "cell_type": "code",
   "execution_count": 28,
   "id": "2deab414-d00c-439a-bc6b-3d35a315e80c",
   "metadata": {},
   "outputs": [
    {
     "name": "stdout",
     "output_type": "stream",
     "text": [
      "('Max', 28, 'Singa')\n"
     ]
    }
   ],
   "source": [
    "print(my[:-1])"
   ]
  },
  {
   "cell_type": "code",
   "execution_count": 29,
   "id": "6c4d6e5f-2722-4f46-a3ab-b7de49efafcf",
   "metadata": {},
   "outputs": [
    {
     "name": "stdout",
     "output_type": "stream",
     "text": [
      "(28, 'Singa', 28, 'Max')\n"
     ]
    }
   ],
   "source": [
    "print(my[::-1])  # Reverse"
   ]
  },
  {
   "cell_type": "markdown",
   "id": "a5d2846c-4857-4418-9739-6cdceebcb77b",
   "metadata": {},
   "source": [
    "# Dictionary"
   ]
  },
  {
   "cell_type": "code",
   "execution_count": 30,
   "id": "530d0de2-a7e6-42c8-9713-1f0002d65cd6",
   "metadata": {},
   "outputs": [
    {
     "name": "stdout",
     "output_type": "stream",
     "text": [
      "{'New York': 32, 'Boston': 75, 'Los Angeles': 100, 'Chicago': 50, 'LA': 90}\n"
     ]
    }
   ],
   "source": [
    "cities_f = {'New York': 32, 'Boston': 75, 'Los Angeles': 100, 'Chicago': 50}\n",
    "\n",
    "cities_f[\"LA\"] = 90 # Add new item\n",
    "\n",
    "print(cities_f)"
   ]
  },
  {
   "cell_type": "code",
   "execution_count": 32,
   "id": "f29b4fc7-92d2-4910-b472-d3dee140778c",
   "metadata": {},
   "outputs": [
    {
     "name": "stdout",
     "output_type": "stream",
     "text": [
      "{'New York': 32, 'Boston': 75, 'Los Angeles': 100, 'Chicago': 50}\n"
     ]
    }
   ],
   "source": [
    "cities_f.popitem() # Remove last item\n",
    "\n",
    "print(cities_f)"
   ]
  },
  {
   "cell_type": "code",
   "execution_count": 33,
   "id": "c6a614be-bff3-45a9-a1d1-0ab6bd58b5be",
   "metadata": {},
   "outputs": [
    {
     "name": "stdout",
     "output_type": "stream",
     "text": [
      "{'New York': 32, 'Boston': 75, 'Chicago': 50}\n"
     ]
    }
   ],
   "source": [
    "cities_f.pop('Los Angeles')  # Remove specific item\n",
    "\n",
    "print(cities_f)"
   ]
  },
  {
   "cell_type": "code",
   "execution_count": 37,
   "id": "d3299384-a6ef-41e1-a66d-bb9bb0c55371",
   "metadata": {},
   "outputs": [
    {
     "name": "stdout",
     "output_type": "stream",
     "text": [
      "{'New York': 32, 'Boston': 75, 'Chicago': 50, 'tokyo': 20, 'HK': 50}\n"
     ]
    }
   ],
   "source": [
    "cities_a = dict(tokyo=20, HK=50)  # Create new dictionary\n",
    "\n",
    "# Merge\n",
    "cities_f.update(cities_a)  # Merge two dictionaries\n",
    "print(cities_f)"
   ]
  },
  {
   "cell_type": "code",
   "execution_count": 44,
   "id": "97bf082d-7916-48b6-99c4-90e8b11bb916",
   "metadata": {},
   "outputs": [
    {
     "name": "stdout",
     "output_type": "stream",
     "text": [
      "New York\n",
      "Boston\n",
      "Chicago\n",
      "tokyo\n",
      "HK\n"
     ]
    }
   ],
   "source": [
    "for key in cities_f.keys():\n",
    "    print(key)"
   ]
  },
  {
   "cell_type": "code",
   "execution_count": 43,
   "id": "c6cc8924-bd55-4332-9837-d1f626fb590f",
   "metadata": {},
   "outputs": [
    {
     "name": "stdout",
     "output_type": "stream",
     "text": [
      "32\n",
      "75\n",
      "50\n",
      "20\n",
      "50\n"
     ]
    }
   ],
   "source": [
    "for val in cities_f.values():\n",
    "    print(val)"
   ]
  },
  {
   "cell_type": "code",
   "execution_count": 46,
   "id": "174891aa-ad2e-4d26-9ac6-153195dfc68c",
   "metadata": {},
   "outputs": [
    {
     "name": "stdout",
     "output_type": "stream",
     "text": [
      "New York  =  32\n",
      "Boston  =  75\n",
      "Chicago  =  50\n",
      "tokyo  =  20\n",
      "HK  =  50\n"
     ]
    }
   ],
   "source": [
    "for key, val in cities_f.items():\n",
    "    print(key, \" = \", val)"
   ]
  },
  {
   "cell_type": "code",
   "execution_count": 49,
   "id": "7cf893bf-42a7-4c11-9260-975fd74eee58",
   "metadata": {},
   "outputs": [
    {
     "name": "stdout",
     "output_type": "stream",
     "text": [
      "{'New York': 32, 'Boston': 75, 'Chicago': 50, 'tokyo': 20, 'HK': 50, 'Jakarta': 30}\n",
      "{'New York': 32, 'Boston': 75, 'Chicago': 50, 'tokyo': 20, 'HK': 50, 'Jakarta': 30}\n"
     ]
    }
   ],
   "source": [
    "# Ccopyright\n",
    "\n",
    "cities_c = cities_f  # Point to same localtion. Both will be the same. Modify one will modify the other\n",
    "\n",
    "cities_c[\"Jakarta\"] = 30\n",
    "\n",
    "print(cities_f)\n",
    "print(cities_c)"
   ]
  },
  {
   "cell_type": "code",
   "execution_count": 53,
   "id": "cf0c7338-834b-4661-b117-54dcd2d75ba4",
   "metadata": {},
   "outputs": [
    {
     "name": "stdout",
     "output_type": "stream",
     "text": [
      "{'New York': 32, 'Boston': 75, 'Los Angeles': 100, 'Chicago': 50, 'HK': 50, 'Jakarta': 30}\n"
     ]
    }
   ],
   "source": [
    "# Merging\n",
    "\n",
    "cities_f = {'New York': 32, 'Boston': 75, 'Los Angeles': 100, 'Chicago': 50}\n",
    "cities_c = {'HK': 50, 'Jakarta': 30}\n",
    "\n",
    "cities_f.update(cities_c)\n",
    "\n",
    "print(cities_f)"
   ]
  },
  {
   "cell_type": "markdown",
   "id": "41dd82dd",
   "metadata": {},
   "source": [
    "# Dictionary Comprehension"
   ]
  },
  {
   "cell_type": "code",
   "execution_count": 3,
   "id": "af0fd7e5",
   "metadata": {
    "ExecuteTime": {
     "end_time": "2023-10-09T12:57:01.841006Z",
     "start_time": "2023-10-09T12:57:01.834329Z"
    }
   },
   "outputs": [
    {
     "name": "stdout",
     "output_type": "stream",
     "text": [
      "{'New York': 0, 'Boston': 24, 'Los Angeles': 38, 'Chicago': 10}\n"
     ]
    }
   ],
   "source": [
    "# convert from fareinheight to celcius\n",
    "\n",
    "cities_f = {'New York': 32, 'Boston': 75, 'Los Angeles': 100, 'Chicago': 50}\n",
    "cities_c = {key : round((value -32) * (5/9)) for (key, value) in cities_f.items()}\n",
    "\n",
    "print(cities_c)"
   ]
  },
  {
   "cell_type": "code",
   "execution_count": 4,
   "id": "c7074ec9",
   "metadata": {
    "ExecuteTime": {
     "end_time": "2023-10-09T13:08:33.856769Z",
     "start_time": "2023-10-09T13:08:33.851575Z"
    }
   },
   "outputs": [
    {
     "name": "stdout",
     "output_type": "stream",
     "text": [
      "{'New York': 'COLD', 'Boston': 'WARM', 'Los Angeles': 'WARM', 'Chicago': 'WARM'}\n"
     ]
    }
   ],
   "source": [
    "# Can also include conditions using If/Else or function\n",
    "\n",
    "cities_desc = {key : (\"WARM\" if value >= 40 else \"COLD\") for (key, value) in cities_f.items()}\n",
    "\n",
    "print(cities_desc)"
   ]
  },
  {
   "cell_type": "code",
   "execution_count": 5,
   "id": "2d39e103",
   "metadata": {
    "ExecuteTime": {
     "end_time": "2023-10-10T12:33:59.150505Z",
     "start_time": "2023-10-10T12:33:59.143043Z"
    }
   },
   "outputs": [
    {
     "name": "stdout",
     "output_type": "stream",
     "text": [
      "{'New York': 'COLD', 'Boston': 'WARM', 'Los Angeles': 'WARM', 'Chicago': 'WARM'}\n"
     ]
    }
   ],
   "source": [
    "chk_condition = lambda x: \"WARM\" if x >= 40 else \"COLD\"\n",
    "\n",
    "cities_desc = {key : chk_condition(value) for (key, value) in cities_f.items()}\n",
    "\n",
    "print(cities_desc)"
   ]
  },
  {
   "cell_type": "code",
   "execution_count": null,
   "id": "dc4693c5-b66c-4111-9467-203979fc5435",
   "metadata": {},
   "outputs": [],
   "source": []
  },
  {
   "cell_type": "code",
   "execution_count": null,
   "id": "2f2dfcc8-7dc5-44ed-9edb-e41422f7adfb",
   "metadata": {},
   "outputs": [],
   "source": []
  },
  {
   "cell_type": "code",
   "execution_count": null,
   "id": "419ec3e8-eee7-494b-91ec-180ee5a1ebd2",
   "metadata": {},
   "outputs": [],
   "source": []
  },
  {
   "cell_type": "code",
   "execution_count": null,
   "id": "879d7d72-1c0c-46c2-8c14-82bf44d65483",
   "metadata": {},
   "outputs": [],
   "source": []
  },
  {
   "cell_type": "code",
   "execution_count": null,
   "id": "1dfa3978-f704-44b1-9a9b-1f6f23fa5dd2",
   "metadata": {},
   "outputs": [],
   "source": []
  },
  {
   "cell_type": "markdown",
   "id": "60c5af98",
   "metadata": {},
   "source": [
    "# time module"
   ]
  },
  {
   "cell_type": "code",
   "execution_count": 6,
   "id": "aabbef19",
   "metadata": {
    "ExecuteTime": {
     "end_time": "2023-10-10T12:51:37.686524Z",
     "start_time": "2023-10-10T12:51:37.680230Z"
    }
   },
   "outputs": [
    {
     "name": "stdout",
     "output_type": "stream",
     "text": [
      "Thu Jan  1 08:00:00 1970\n"
     ]
    }
   ],
   "source": [
    "import time\n",
    "\n",
    "print(time.ctime(0))    # secods from 01/01/1970 08:00:00 (epoch)"
   ]
  },
  {
   "cell_type": "code",
   "execution_count": 7,
   "id": "3dd9b3ef",
   "metadata": {
    "ExecuteTime": {
     "end_time": "2023-10-10T12:52:18.706306Z",
     "start_time": "2023-10-10T12:52:18.701594Z"
    }
   },
   "outputs": [
    {
     "name": "stdout",
     "output_type": "stream",
     "text": [
      "1700140758.991737\n"
     ]
    }
   ],
   "source": [
    "print(time.time())  # Seconds since epoch"
   ]
  },
  {
   "cell_type": "code",
   "execution_count": 8,
   "id": "8a5fa0a4",
   "metadata": {
    "ExecuteTime": {
     "end_time": "2023-10-10T12:53:21.026941Z",
     "start_time": "2023-10-10T12:53:21.022128Z"
    }
   },
   "outputs": [
    {
     "name": "stdout",
     "output_type": "stream",
     "text": [
      "Thu Nov 16 21:19:19 2023\n"
     ]
    }
   ],
   "source": [
    "print(time.ctime(time.time()))   # Print current date and time"
   ]
  },
  {
   "cell_type": "code",
   "execution_count": 9,
   "id": "39f0411d",
   "metadata": {
    "ExecuteTime": {
     "end_time": "2023-10-10T12:53:49.201296Z",
     "start_time": "2023-10-10T12:53:49.195833Z"
    }
   },
   "outputs": [
    {
     "name": "stdout",
     "output_type": "stream",
     "text": [
      "time.struct_time(tm_year=2023, tm_mon=11, tm_mday=16, tm_hour=21, tm_min=19, tm_sec=19, tm_wday=3, tm_yday=320, tm_isdst=0)\n"
     ]
    }
   ],
   "source": [
    "print(time.localtime())   # Local time"
   ]
  },
  {
   "cell_type": "code",
   "execution_count": 10,
   "id": "d696bdaa",
   "metadata": {
    "ExecuteTime": {
     "end_time": "2023-10-10T12:54:12.000801Z",
     "start_time": "2023-10-10T12:54:11.996419Z"
    }
   },
   "outputs": [
    {
     "name": "stdout",
     "output_type": "stream",
     "text": [
      "time.struct_time(tm_year=2023, tm_mon=11, tm_mday=16, tm_hour=13, tm_min=19, tm_sec=19, tm_wday=3, tm_yday=320, tm_isdst=0)\n"
     ]
    }
   ],
   "source": [
    "print(time.gmtime())  # UTC time"
   ]
  },
  {
   "cell_type": "code",
   "execution_count": 11,
   "id": "016f419e",
   "metadata": {
    "ExecuteTime": {
     "end_time": "2023-10-10T12:56:45.661769Z",
     "start_time": "2023-10-10T12:56:45.656040Z"
    }
   },
   "outputs": [
    {
     "name": "stdout",
     "output_type": "stream",
     "text": [
      "November 16 2023 21:19:19\n"
     ]
    }
   ],
   "source": [
    "time_object = time.localtime() # Local Time\n",
    "\n",
    "local_time = time.strftime(\"%B %d %Y %H:%M:%S\", time_object)\n",
    "\n",
    "print(local_time)"
   ]
  },
  {
   "cell_type": "code",
   "execution_count": 12,
   "id": "a4f6b4f7",
   "metadata": {
    "ExecuteTime": {
     "end_time": "2023-10-10T12:57:15.133012Z",
     "start_time": "2023-10-10T12:57:15.127795Z"
    }
   },
   "outputs": [
    {
     "name": "stdout",
     "output_type": "stream",
     "text": [
      "November 16 2023 13:19:19\n"
     ]
    }
   ],
   "source": [
    "time_object = time.gmtime()  # UTC Time\n",
    "\n",
    "local_time = time.strftime(\"%B %d %Y %H:%M:%S\", time_object)\n",
    "\n",
    "print(local_time)"
   ]
  },
  {
   "cell_type": "code",
   "execution_count": 13,
   "id": "c20cdc46",
   "metadata": {
    "ExecuteTime": {
     "end_time": "2023-10-11T12:11:37.715215Z",
     "start_time": "2023-10-11T12:11:37.711159Z"
    }
   },
   "outputs": [
    {
     "name": "stdout",
     "output_type": "stream",
     "text": [
      "Example 1 (UTC): Thu, 16 Nov 2023 13:19:19 + 1010\n"
     ]
    }
   ],
   "source": [
    "# importing the srtftime() and gmtime()\n",
    "# if not used the gm time, time changes\n",
    "# to the local time\n",
    " \n",
    "from time import gmtime, strftime\n",
    " \n",
    "# using simple format of showing time\n",
    "s = strftime(\"%a, %d %b %Y %H:%M:%S + 1010\", gmtime())\n",
    "print(\"Example 1 (UTC):\", s)\n",
    " \n"
   ]
  },
  {
   "cell_type": "code",
   "execution_count": 14,
   "id": "6bd75423",
   "metadata": {
    "ExecuteTime": {
     "end_time": "2023-10-11T12:12:05.773600Z",
     "start_time": "2023-10-11T12:12:05.768541Z"
    }
   },
   "outputs": [
    {
     "name": "stdout",
     "output_type": "stream",
     "text": [
      "Example 2 (UTC): Thursday, 11/16/23 November 2023 13:19:19 + 0000\n"
     ]
    }
   ],
   "source": [
    "# importing the srtftime() and gmtime()\n",
    "# if not used the gm time, time changes\n",
    "# to the local time\n",
    " \n",
    "from time import gmtime, strftime\n",
    " \n",
    "\n",
    "# only change in this is the full names\n",
    "# and the representation\n",
    "s = strftime(\"%A, %D %B %Y %H:%M:%S + 0000\", gmtime())\n",
    "print(\"Example 2 (UTC):\", s)"
   ]
  },
  {
   "cell_type": "code",
   "execution_count": 15,
   "id": "f9e2eeac",
   "metadata": {
    "ExecuteTime": {
     "end_time": "2023-10-11T12:12:25.573305Z",
     "start_time": "2023-10-11T12:12:25.568346Z"
    }
   },
   "outputs": [
    {
     "name": "stdout",
     "output_type": "stream",
     "text": [
      "Example 3: Thu Nov 16 21:19:19 2023\n"
     ]
    }
   ],
   "source": [
    "# importing the srtftime() and gmtime()\n",
    "# if not used the gm time, time changes\n",
    "# to the local time\n",
    " \n",
    "from time import gmtime, strftime\n",
    " \n",
    "\n",
    "# this will show you the preferred date time format\n",
    "s = strftime(\"%c\")\n",
    "print(\"Example 3:\", s)"
   ]
  },
  {
   "cell_type": "code",
   "execution_count": 16,
   "id": "03beaa36",
   "metadata": {
    "ExecuteTime": {
     "end_time": "2023-10-11T12:13:09.420672Z",
     "start_time": "2023-10-11T12:13:09.417459Z"
    }
   },
   "outputs": [
    {
     "name": "stdout",
     "output_type": "stream",
     "text": [
      "Example 4: 20\n"
     ]
    }
   ],
   "source": [
    "# importing the srtftime() and gmtime()\n",
    "# if not used the gm time, time changes\n",
    "# to the local time\n",
    " \n",
    "from time import gmtime, strftime\n",
    " \n",
    "# this will tell about the centuries\n",
    "s = strftime(\"%C\")\n",
    "print(\"Example 4:\", s)\n",
    " "
   ]
  },
  {
   "cell_type": "code",
   "execution_count": 17,
   "id": "4c46cedc",
   "metadata": {
    "ExecuteTime": {
     "end_time": "2023-10-11T12:13:26.462834Z",
     "start_time": "2023-10-11T12:13:26.457806Z"
    }
   },
   "outputs": [
    {
     "name": "stdout",
     "output_type": "stream",
     "text": [
      "Example 5: Thursday, 11/16/23 November 2023, 09:19:19 PM, \n",
      "MOTY:11 \n",
      "DOTY:320\n"
     ]
    }
   ],
   "source": [
    "# importing the srtftime() and gmtime()\n",
    "# if not used the gm time, time changes\n",
    "# to the local time\n",
    " \n",
    "from time import gmtime, strftime\n",
    " \n",
    "# MOTY: month of the year\n",
    "# DOTY: Day of the year\n",
    "# Simple representation\n",
    "# % n - new line\n",
    "s = strftime(\"%A, %D %B %Y, %r, %nMOTY:%m %nDOTY:%j\")\n",
    "print(\"Example 5:\", s)"
   ]
  },
  {
   "cell_type": "code",
   "execution_count": 18,
   "id": "34967e54",
   "metadata": {
    "ExecuteTime": {
     "end_time": "2023-10-11T12:13:47.219440Z",
     "start_time": "2023-10-11T12:13:47.215516Z"
    }
   },
   "outputs": [
    {
     "name": "stdout",
     "output_type": "stream",
     "text": [
      "Example 6:  21:19 \n"
     ]
    }
   ],
   "source": [
    "# importing the srtftime() and gmtime()\n",
    "# if not used the gm time, time changes\n",
    "# to the local time\n",
    " \n",
    "from time import gmtime, strftime\n",
    " \n",
    "# % R - time in 24 hour notation\n",
    "s = strftime(\" %R \")\n",
    "print(\"Example 6:\", s)"
   ]
  },
  {
   "cell_type": "code",
   "execution_count": 19,
   "id": "49ceec55",
   "metadata": {
    "ExecuteTime": {
     "end_time": "2023-10-11T12:14:19.535490Z",
     "start_time": "2023-10-11T12:14:19.530445Z"
    }
   },
   "outputs": [
    {
     "name": "stdout",
     "output_type": "stream",
     "text": [
      "Example 7: Thu, 16 Nov 2023 01:19:19 + 0000\n"
     ]
    }
   ],
   "source": [
    "# importing the srtftime() and gmtime()\n",
    "# if not used the gm time, time changes\n",
    "# to the local time\n",
    " \n",
    "from time import gmtime, strftime\n",
    "\n",
    "# % H - hour, using a 24-hour clock (00 to 23) in Example 1, 2, 3\n",
    "# % I - hour, using a 12-hour clock (01 to 12)\n",
    "s = strftime(\"%a, %d %b %Y %I:%M:%S + 0000\", gmtime())\n",
    "print(\"Example 7:\", s)"
   ]
  },
  {
   "cell_type": "code",
   "execution_count": 20,
   "id": "856eac89",
   "metadata": {
    "ExecuteTime": {
     "end_time": "2023-10-11T12:14:38.162764Z",
     "start_time": "2023-10-11T12:14:38.156020Z"
    }
   },
   "outputs": [
    {
     "name": "stdout",
     "output_type": "stream",
     "text": [
      "Example 8: 01:19:19 PM, 13:19:19 \n"
     ]
    }
   ],
   "source": [
    "# importing the srtftime() and gmtime()\n",
    "# if not used the gm time, time changes\n",
    "# to the local time\n",
    " \n",
    "from time import gmtime, strftime\n",
    "\n",
    "# % T - current time, equal to % H:% M:% S\n",
    "s = strftime(\"%r, %T \", gmtime())\n",
    "print(\"Example 8:\", s)"
   ]
  },
  {
   "cell_type": "code",
   "execution_count": 21,
   "id": "abcad399",
   "metadata": {
    "ExecuteTime": {
     "end_time": "2023-10-11T12:14:50.567879Z",
     "start_time": "2023-10-11T12:14:50.562557Z"
    }
   },
   "outputs": [
    {
     "name": "stdout",
     "output_type": "stream",
     "text": [
      "Example 9: 09:19:19 PM, 4, 46\n"
     ]
    }
   ],
   "source": [
    "# importing the srtftime() and gmtime()\n",
    "# if not used the gm time, time changes\n",
    "# to the local time\n",
    " \n",
    "from time import gmtime, strftime\n",
    "\n",
    "# % u an % U use (see difference)\n",
    "s = strftime(\"%r, %u, %U\")\n",
    "print(\"Example 9:\", s)\n",
    " "
   ]
  },
  {
   "cell_type": "code",
   "execution_count": 22,
   "id": "b813bc3d",
   "metadata": {
    "ExecuteTime": {
     "end_time": "2023-10-11T12:15:09.947548Z",
     "start_time": "2023-10-11T12:15:09.943387Z"
    }
   },
   "outputs": [
    {
     "name": "stdout",
     "output_type": "stream",
     "text": [
      "Example 10: 09:19:19 PM, 46, 46, 4\n"
     ]
    }
   ],
   "source": [
    "# importing the srtftime() and gmtime()\n",
    "# if not used the gm time, time changes\n",
    "# to the local time\n",
    " \n",
    "from time import gmtime, strftime\n",
    "\n",
    "# use of % V, % W, % w\n",
    "s = strftime(\"%r, %V, %W, %w\")\n",
    "print(\"Example 10:\", s)"
   ]
  },
  {
   "cell_type": "code",
   "execution_count": 23,
   "id": "9cd81e83",
   "metadata": {
    "ExecuteTime": {
     "end_time": "2023-10-11T12:15:22.075937Z",
     "start_time": "2023-10-11T12:15:22.071247Z"
    }
   },
   "outputs": [
    {
     "name": "stdout",
     "output_type": "stream",
     "text": [
      "Example 11: 11/16/23, 21:19:19, 23, 2023\n"
     ]
    }
   ],
   "source": [
    "# importing the srtftime() and gmtime()\n",
    "# if not used the gm time, time changes\n",
    "# to the local time\n",
    " \n",
    "from time import gmtime, strftime\n",
    "\n",
    "# use of % x, % X, % y, % Y\n",
    "s = strftime(\"%x, %X, %y, %Y\")\n",
    "print(\"Example 11:\", s)"
   ]
  },
  {
   "cell_type": "code",
   "execution_count": 24,
   "id": "aeab4759",
   "metadata": {
    "ExecuteTime": {
     "end_time": "2023-10-11T12:15:32.628987Z",
     "start_time": "2023-10-11T12:15:32.624512Z"
    }
   },
   "outputs": [
    {
     "name": "stdout",
     "output_type": "stream",
     "text": [
      "Example 12: 09:19:19 PM, +0800, Malay Peninsula Standard Time\n"
     ]
    }
   ],
   "source": [
    "# importing the srtftime() and gmtime()\n",
    "# if not used the gm time, time changes\n",
    "# to the local time\n",
    " \n",
    "from time import gmtime, strftime\n",
    "\n",
    "# use of % Z, % z\n",
    "s = strftime(\"%r, %z, %Z\")\n",
    "print(\"Example 12:\", s)"
   ]
  },
  {
   "cell_type": "markdown",
   "id": "920c94e0-8c8f-488f-9c13-818b7a7eb904",
   "metadata": {},
   "source": [
    "# Sending Email"
   ]
  },
  {
   "cell_type": "code",
   "execution_count": null,
   "id": "35ca575e",
   "metadata": {},
   "outputs": [],
   "source": [
    "# Mailabs\n",
    "import smtplib\n",
    "import os\n",
    "\n",
    "sender = \"sender@gmail.com\"\n",
    "receiver = \"receiver@yahoo.com\"\n",
    "password = \"xxxx\"\n",
    "subject = \"Subject\"\n",
    "body=\"Sending you an email\"\n",
    "\n",
    "\n",
    "# headerabs\n",
    "message = f\"\"\"From: Snoop Dogg {sender}\n",
    "To: James Bond{receiver}\n",
    "Subject: {subject}\\n\n",
    "{body}\n",
    "\"\"\"\n",
    "\n",
    "server = smtplib.SMTP(\"smtp.gmail.com\", 587)\n",
    "server.starttls()\n",
    "\n",
    "try:\n",
    "    server.login(sender, password)\n",
    "    print(\"Logged in ...\")\n",
    "    server.sendmail(sender, receiver. message)\n",
    "    print(\"Email sent\")\n",
    "\n",
    "except smtplib.SMTPAuthenticationError:\n",
    "    print(\"Unable to signin\")\n",
    "\n"
   ]
  },
  {
   "cell_type": "code",
   "execution_count": null,
   "id": "1704a36c",
   "metadata": {},
   "outputs": [],
   "source": []
  },
  {
   "cell_type": "code",
   "execution_count": null,
   "id": "5b8a54b2",
   "metadata": {},
   "outputs": [],
   "source": []
  },
  {
   "cell_type": "code",
   "execution_count": null,
   "id": "fab835ed",
   "metadata": {},
   "outputs": [],
   "source": []
  },
  {
   "cell_type": "code",
   "execution_count": null,
   "id": "b3429403",
   "metadata": {},
   "outputs": [],
   "source": []
  },
  {
   "cell_type": "code",
   "execution_count": null,
   "id": "5cf68bc3",
   "metadata": {},
   "outputs": [],
   "source": []
  },
  {
   "cell_type": "code",
   "execution_count": null,
   "id": "b54c0b2f",
   "metadata": {},
   "outputs": [],
   "source": []
  },
  {
   "cell_type": "code",
   "execution_count": null,
   "id": "f26ab8bd",
   "metadata": {},
   "outputs": [],
   "source": []
  },
  {
   "cell_type": "code",
   "execution_count": null,
   "id": "27ef0a5d",
   "metadata": {},
   "outputs": [],
   "source": []
  },
  {
   "cell_type": "code",
   "execution_count": null,
   "id": "188b7855",
   "metadata": {},
   "outputs": [],
   "source": []
  },
  {
   "cell_type": "code",
   "execution_count": null,
   "id": "3b094108",
   "metadata": {},
   "outputs": [],
   "source": []
  },
  {
   "cell_type": "markdown",
   "id": "82806ccf",
   "metadata": {},
   "source": [
    "# Yield and Generator"
   ]
  },
  {
   "cell_type": "code",
   "execution_count": 25,
   "id": "99bddc7e",
   "metadata": {
    "ExecuteTime": {
     "end_time": "2023-10-20T03:00:56.806126Z",
     "start_time": "2023-10-20T03:00:56.799624Z"
    }
   },
   "outputs": [
    {
     "data": {
      "text/plain": [
       "328350"
      ]
     },
     "execution_count": 25,
     "metadata": {},
     "output_type": "execute_result"
    }
   ],
   "source": [
    "\"\"\"\n",
    "This function is called the same way, however the return value type hinting is a little more complex. \n",
    "The Generator type hint has three hint arguments; the yield type hint, the send type hint and the return type hint. \n",
    "\n",
    "Starting with the return type hint, notice that powers_generator does not have a return expression and that agrees \n",
    "with the return type hint of None. It is also type hinted \n",
    "with None. That leaves the yield type hint, int, which agrees with the code in the body of the function.\n",
    "\n",
    "When the powers_generator function is called, it begins iterating thru the range of 0 to 100 and the yield expression \n",
    "immediately returns the computed value to the caller. This has two benefits; the caller gets the computed value quicker \n",
    "and there isn’t any additional memory consumed to hold all the computed values.\n",
    "\"\"\"\n",
    "from typing import Generator\n",
    "\n",
    "def powers_generator(exponent: int) -> Generator[int, None, None]:\n",
    "    for n in range(0, 100):\n",
    "        yield n**exponent\n",
    "        \n",
    "sum(powers_generator(2))"
   ]
  },
  {
   "cell_type": "code",
   "execution_count": 26,
   "id": "9de90d64",
   "metadata": {
    "ExecuteTime": {
     "end_time": "2023-10-20T03:04:00.785493Z",
     "start_time": "2023-10-20T03:04:00.781305Z"
    }
   },
   "outputs": [
    {
     "data": {
      "text/plain": [
       "<generator object powers_generator at 0x0000014FE182A0A0>"
      ]
     },
     "execution_count": 26,
     "metadata": {},
     "output_type": "execute_result"
    }
   ],
   "source": [
    "\"\"\"\n",
    "It returned a generator object which is a kind of Iterable (it has __iter__ and __next__ magic methods). \n",
    "Each time the generator’s__next__ method is called, the function picks up just after the yield and starts \n",
    "executing until it yields again, raises an exception or returns.\n",
    "\"\"\"\n",
    "\n",
    "powers_generator(2)"
   ]
  },
  {
   "cell_type": "markdown",
   "id": "53b685f4",
   "metadata": {},
   "source": [
    "Another difference between a generator function and an Iterable like a list or a dictionary is generators are “single use”. If you have a list, you can iterate over it multiple times. However after a generator function returns it is exhausted. Calling it again results in no values returned. For instance, in this next code example we create a list of powers of two and a generator. The list can be summed multiple times and produces the expected value, while summing the generator function works as expected the first time and results in zeros when summed again."
   ]
  },
  {
   "cell_type": "code",
   "execution_count": 27,
   "id": "8bedcafd",
   "metadata": {
    "ExecuteTime": {
     "end_time": "2023-10-20T03:07:18.184978Z",
     "start_time": "2023-10-20T03:07:18.179658Z"
    }
   },
   "outputs": [
    {
     "name": "stdout",
     "output_type": "stream",
     "text": [
      "328350\n",
      "328350\n"
     ]
    }
   ],
   "source": [
    "def powers(exponent: int) -> list[int]:\n",
    "    return [n**exponent for n in range(0, 100)]\n",
    "\n",
    "p = powers(2)\n",
    "\n",
    "print(sum(p))\n",
    "print(sum(p))"
   ]
  },
  {
   "cell_type": "code",
   "execution_count": 28,
   "id": "0725523d",
   "metadata": {
    "ExecuteTime": {
     "end_time": "2023-10-20T03:08:34.272932Z",
     "start_time": "2023-10-20T03:08:34.269167Z"
    }
   },
   "outputs": [
    {
     "name": "stdout",
     "output_type": "stream",
     "text": [
      "328350\n",
      "0\n"
     ]
    }
   ],
   "source": [
    "g = powers_generator(2)\n",
    "\n",
    "print(sum(g))   # This will print sum of 0 to 99\n",
    "print(sum(g))   # This will print 0 since the above has finished 0-99"
   ]
  },
  {
   "cell_type": "markdown",
   "id": "bf61e370",
   "metadata": {},
   "source": [
    "yield expressions make generators and generators can reduce latency by returning values to the caller sooner and can reduce memory use by generating its values on the fly. But what do “real” programs use it for? One neat use is in creating context managers using the contextlib.contextmanager decorator.\n",
    "\n",
    "Python context manager expressions begin with the with keyword and can help manage a resource like an open file or a database connection. In this simple bit of code, we have some sophisticated behavior! Here we are simply printing out the different phases of a context manager; setup, inside and teardown. The yield in the manager function gives the nested code in the body of the with statement the opportunity to run. When the code block finishes, control is handed back to the manager function just after the yield.\n",
    "\n",
    "The pytest package uses this pattern extensively to allow the user to create testing fixtures of arbitrary complexity."
   ]
  },
  {
   "cell_type": "code",
   "execution_count": 29,
   "id": "44723141",
   "metadata": {
    "ExecuteTime": {
     "end_time": "2023-10-20T03:09:47.329860Z",
     "start_time": "2023-10-20T03:09:47.326516Z"
    }
   },
   "outputs": [],
   "source": [
    "from contextlib import contextmanager\n",
    "\n",
    "@contextmanager\n",
    "def manager():\n",
    "    print(\"setup\")\n",
    "    yield\n",
    "    print(\"teardown\")"
   ]
  },
  {
   "cell_type": "code",
   "execution_count": 30,
   "id": "0d9c2401",
   "metadata": {
    "ExecuteTime": {
     "end_time": "2023-10-20T03:11:45.760787Z",
     "start_time": "2023-10-20T03:11:45.757237Z"
    }
   },
   "outputs": [
    {
     "name": "stdout",
     "output_type": "stream",
     "text": [
      "setup\n",
      "inside\n",
      "teardown\n"
     ]
    }
   ],
   "source": [
    "with manager():\n",
    "    print(\"inside\") # This will print before the yield"
   ]
  },
  {
   "cell_type": "code",
   "execution_count": null,
   "id": "df686efa-9d03-414c-8c06-45e254ab00ac",
   "metadata": {},
   "outputs": [],
   "source": []
  },
  {
   "cell_type": "code",
   "execution_count": null,
   "id": "eccab951-befb-4bd0-a016-3940b9157b2a",
   "metadata": {},
   "outputs": [],
   "source": []
  }
 ],
 "metadata": {
  "hide_input": false,
  "kernelspec": {
   "display_name": "Python 3 (ipykernel)",
   "language": "python",
   "name": "python3"
  },
  "language_info": {
   "codemirror_mode": {
    "name": "ipython",
    "version": 3
   },
   "file_extension": ".py",
   "mimetype": "text/x-python",
   "name": "python",
   "nbconvert_exporter": "python",
   "pygments_lexer": "ipython3",
   "version": "3.11.5"
  },
  "nbTranslate": {
   "displayLangs": [
    "*"
   ],
   "hotkey": "alt-t",
   "langInMainMenu": true,
   "sourceLang": "en",
   "targetLang": "fr",
   "useGoogleTranslate": true
  }
 },
 "nbformat": 4,
 "nbformat_minor": 5
}
