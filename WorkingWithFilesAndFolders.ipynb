{
 "cells": [
  {
   "cell_type": "markdown",
   "id": "21220309",
   "metadata": {},
   "source": [
    "# Working with Files & Directories\n",
    "\n",
    "### Testing the path\n",
    "\n",
    "* Whether it exists\n",
    "* Whether it is a file\n",
    "* Whether it is a directory\n",
    "\n",
    "### Note\n",
    "\n",
    "* There are many method to open a file depending on the file type\n",
    "* Open is standard python library\n",
    "* There are other library like csv that allows you to open and manipulate csv file\n",
    "* Pandas library can also read and manipulate files"
   ]
  },
  {
   "cell_type": "code",
   "execution_count": 148,
   "id": "76447fcd",
   "metadata": {
    "tags": []
   },
   "outputs": [
    {
     "name": "stdout",
     "output_type": "stream",
     "text": [
      "Ok, path is right\n",
      "Ok, ./test.txt is a file\n"
     ]
    }
   ],
   "source": [
    "import os\n",
    "\n",
    "path = \"./test.txt\"\n",
    "\n",
    "if os.path.exists(path):\n",
    "    print(\"Ok, path is right\")\n",
    "    if (os.path.isfile(path)):\n",
    "       print(\"Ok, {} is a file\".format(path))\n",
    "    elif os.path.isdir(path):\n",
    "       print(\"Oh, path {} is a directory\".format(path))\n",
    "else:\n",
    "    print(\"It does not exists\")\n",
    "\n"
   ]
  },
  {
   "cell_type": "markdown",
   "id": "0f2eab43",
   "metadata": {},
   "source": [
    "### Open the file, read and print the content"
   ]
  },
  {
   "cell_type": "code",
   "execution_count": 149,
   "id": "333c0021",
   "metadata": {
    "tags": []
   },
   "outputs": [
    {
     "name": "stdout",
     "output_type": "stream",
     "text": [
      "The fox jumping over the fence\n",
      "What don't kill you makes you stronger\n",
      "\n"
     ]
    }
   ],
   "source": [
    "# try:\n",
    "with open(path) as f:\n",
    "    print(f.read())"
   ]
  },
  {
   "cell_type": "code",
   "execution_count": 150,
   "id": "2995859b",
   "metadata": {
    "tags": []
   },
   "outputs": [],
   "source": [
    "f.close()"
   ]
  },
  {
   "cell_type": "markdown",
   "id": "f023b7d8",
   "metadata": {},
   "source": [
    "### Create a file with write permission and write some text into the file\n",
    "\n",
    "This will create or overwrite a file"
   ]
  },
  {
   "cell_type": "code",
   "execution_count": 151,
   "id": "aebc87cb",
   "metadata": {
    "tags": []
   },
   "outputs": [],
   "source": [
    "with open('a.txt', 'w') as f:\n",
    "    f.write(\"This is a test\\nI am happy that this works\\nKeep learning\\n\")"
   ]
  },
  {
   "cell_type": "code",
   "execution_count": 152,
   "id": "5e8bcf47",
   "metadata": {
    "tags": []
   },
   "outputs": [
    {
     "name": "stdout",
     "output_type": "stream",
     "text": [
      "This is a test\n",
      "I am happy that this works\n",
      "Keep learning\n",
      "\n"
     ]
    }
   ],
   "source": [
    "with open(\"a.txt\") as f:\n",
    "    print(f.read())"
   ]
  },
  {
   "cell_type": "markdown",
   "id": "eb6b6590",
   "metadata": {},
   "source": [
    "### Append text to a file"
   ]
  },
  {
   "cell_type": "code",
   "execution_count": 153,
   "id": "208b41ed",
   "metadata": {
    "tags": []
   },
   "outputs": [],
   "source": [
    "with open('a.txt', 'a') as f:\n",
    "    f.write(\"Adding more text to the file\\nAnd more text\\n\")"
   ]
  },
  {
   "cell_type": "code",
   "execution_count": 154,
   "id": "e1b12d1b",
   "metadata": {
    "tags": []
   },
   "outputs": [
    {
     "name": "stdout",
     "output_type": "stream",
     "text": [
      "This is a test\n",
      "I am happy that this works\n",
      "Keep learning\n",
      "Adding more text to the file\n",
      "And more text\n",
      "\n"
     ]
    }
   ],
   "source": [
    "with open(\"a.txt\") as f:\n",
    "    print(f.read())"
   ]
  },
  {
   "cell_type": "markdown",
   "id": "37b2f088",
   "metadata": {},
   "source": [
    "### Copying File\n",
    "\n",
    "* ```copyfile()``` - copies contents of a file\n",
    "* ```copy()``` - ```copyfile()``` + permission mode + destination can be a directory\n",
    "* ```copy2()``` - ```copy()``` + copies metadata (files creation and modification times)"
   ]
  },
  {
   "cell_type": "code",
   "execution_count": 155,
   "id": "aa7b7fa7",
   "metadata": {},
   "outputs": [
    {
     "data": {
      "text/plain": [
       "'./temp/b.txt'"
      ]
     },
     "execution_count": 155,
     "metadata": {},
     "output_type": "execute_result"
    }
   ],
   "source": [
    "import shutil\n",
    "import os\n",
    "\n",
    "destination=\"./temp\"\n",
    "\n",
    "if not os.path.exists(destination):\n",
    "    os.mkdir(\"temp\")\n",
    "        \n",
    "shutil.copyfile(\"a.txt\", \"./temp/b.txt\")"
   ]
  },
  {
   "cell_type": "code",
   "execution_count": 156,
   "id": "990a7694",
   "metadata": {},
   "outputs": [
    {
     "name": "stdout",
     "output_type": "stream",
     "text": [
      "D:\\python\\sandbox\\.ipynb_checkpoints\n",
      "D:\\python\\sandbox\\a.txt\n",
      "D:\\python\\sandbox\\animated_qrcode.gif\n",
      "D:\\python\\sandbox\\folder\n",
      "D:\\python\\sandbox\\qrcode.py\n",
      "D:\\python\\sandbox\\README_EN.md\n",
      "D:\\python\\sandbox\\temp\n",
      "D:\\python\\sandbox\\test.txt\n",
      "D:\\python\\sandbox\\WorkingWithFilesAndFolders.ipynb\n",
      "D:\\python\\sandbox\\.ipynb_checkpoints\\WorkingWithFilesAndFolders-checkpoint.ipynb\n",
      "D:\\python\\sandbox\\folder\\qrcode.py\n",
      "D:\\python\\sandbox\\temp\\b.txt\n"
     ]
    }
   ],
   "source": [
    "!dir /s /b /o:N"
   ]
  },
  {
   "cell_type": "markdown",
   "id": "eba7362f",
   "metadata": {},
   "source": [
    "#### Moving a file"
   ]
  },
  {
   "cell_type": "code",
   "execution_count": 157,
   "id": "a0c5d2ba",
   "metadata": {},
   "outputs": [
    {
     "name": "stdout",
     "output_type": "stream",
     "text": [
      "File a.txt moved to ./temp/c.txt\n"
     ]
    }
   ],
   "source": [
    "import os\n",
    "\n",
    "sourceFile = \"a.txt\"\n",
    "destinationFile = \"./temp/c.txt\"\n",
    "\n",
    "destination=\"./temp\"\n",
    "\n",
    "if not os.path.exists(destination):\n",
    "    os.mkdir(\"temp\")\n",
    "try:\n",
    "    # Moving file\n",
    "    if not os.path.exists(sourceFile):\n",
    "        print(\"File \" + sourceFile + \" not found\")\n",
    "    elif os.path.exists(destinationFile):\n",
    "        print(\"File already exists in \" + destination)\n",
    "    else:\n",
    "        os.replace(sourceFile, destinationFile)\n",
    "          \n",
    "except FileNotFoundError:\n",
    "    print(\"File/directory not found!\")\n",
    "    \n",
    "else:\n",
    "    print(\"File \" + sourceFile + \" moved to \" + destinationFile)\n"
   ]
  },
  {
   "cell_type": "markdown",
   "id": "17c96ad7",
   "metadata": {},
   "source": [
    "#### Moving a folder"
   ]
  },
  {
   "cell_type": "code",
   "execution_count": 158,
   "id": "bd18cfce",
   "metadata": {},
   "outputs": [
    {
     "name": "stdout",
     "output_type": "stream",
     "text": [
      "Folder folder moved to ./temp/folder\n"
     ]
    }
   ],
   "source": [
    "import os\n",
    "\n",
    "sourceFolder = \"folder\"\n",
    "destinationFolder = \"./temp/folder\"\n",
    "destination=\"./temp\"\n",
    "\n",
    "if not os.path.exists(sourceFolder):\n",
    "    os.mkdir(sourceFolder)\n",
    "\n",
    "try:\n",
    "    # Moving folder\n",
    "    \n",
    "    if not os.path.exists(sourceFolder):\n",
    "        print(\"Folder \" + sourceFolder + \" does not exist!\")\n",
    "    elif not os.path.isdir(sourceFolder):\n",
    "       print(\"Oh, path {} is a not directory\".format(sourceFolder))\n",
    "    elif os.path.exists(destinationFolder):\n",
    "        print(\"Folder \" + destinationFolder + \" already exists there!\")\n",
    "    else:\n",
    "        os.replace(sourceFolder, destinationFolder)\n",
    "    \n",
    "except FileNotFoundError:\n",
    "    print(\"File/directory not found!\")\n",
    "    \n",
    "else:\n",
    "    print(\"Folder \" + sourceFolder + \" moved to \" + destinationFolder)"
   ]
  },
  {
   "cell_type": "code",
   "execution_count": 159,
   "id": "ee81749f",
   "metadata": {},
   "outputs": [
    {
     "name": "stdout",
     "output_type": "stream",
     "text": [
      "D:\\python\\sandbox\\.ipynb_checkpoints\n",
      "D:\\python\\sandbox\\animated_qrcode.gif\n",
      "D:\\python\\sandbox\\qrcode.py\n",
      "D:\\python\\sandbox\\README_EN.md\n",
      "D:\\python\\sandbox\\temp\n",
      "D:\\python\\sandbox\\test.txt\n",
      "D:\\python\\sandbox\\WorkingWithFilesAndFolders.ipynb\n",
      "D:\\python\\sandbox\\.ipynb_checkpoints\\WorkingWithFilesAndFolders-checkpoint.ipynb\n",
      "D:\\python\\sandbox\\temp\\b.txt\n",
      "D:\\python\\sandbox\\temp\\c.txt\n",
      "D:\\python\\sandbox\\temp\\folder\n",
      "D:\\python\\sandbox\\temp\\folder\\qrcode.py\n"
     ]
    }
   ],
   "source": [
    "!dir /s /b /o:N"
   ]
  },
  {
   "cell_type": "markdown",
   "id": "752338d1",
   "metadata": {},
   "source": [
    "#### Deleting a file"
   ]
  },
  {
   "cell_type": "code",
   "execution_count": 160,
   "id": "c2f1d005",
   "metadata": {},
   "outputs": [
    {
     "name": "stdout",
     "output_type": "stream",
     "text": [
      "File ./temp/c.txt removed \n"
     ]
    }
   ],
   "source": [
    "import os\n",
    "\n",
    "fileToDelete = \"./temp/c.txt\"\n",
    "\n",
    "try:\n",
    "    \n",
    "    # Deleting File\n",
    "    \n",
    "    if not os.path.exists(fileToDelete):\n",
    "        print(\"File \" + fileToDelete + \" not found\")\n",
    "    else:\n",
    "        os.remove(fileToDelete)\n",
    "              \n",
    "    \n",
    "except FileNotFoundError:\n",
    "    print(\"File/directory not found!\")\n",
    "    \n",
    "except PermissionError:\n",
    "    print(\"You do not have permission to delete!\")\n",
    "else:\n",
    "    print(\"File \" + fileToDelete + \" removed \")"
   ]
  },
  {
   "cell_type": "markdown",
   "id": "84ae0ee1",
   "metadata": {},
   "source": [
    "#### Deleting a folder"
   ]
  },
  {
   "cell_type": "code",
   "execution_count": 162,
   "id": "7183c989",
   "metadata": {},
   "outputs": [
    {
     "name": "stdout",
     "output_type": "stream",
     "text": [
      "Folder ./temp/folder removed \n"
     ]
    }
   ],
   "source": [
    "import os\n",
    "import shutil\n",
    "\n",
    "folderToDelete = \"./temp/folder\"\n",
    "\n",
    "try:        \n",
    "    # Deleting folder\n",
    "    \n",
    "    if not os.path.exists(folderToDelete):\n",
    "        print(\"Folder \" + folderToDelete + \" does not exist!\")\n",
    "    elif not os.path.isdir(folderToDelete):\n",
    "        print(\"Oh, path {} is a not directory\".format(folderToDelete))\n",
    "    elif os.listdir(folderToDelete) != 0:\n",
    "        shutil.rmtree(folderToDelete)\n",
    "    else:\n",
    "        os.rmdir(folderToDelete)\n",
    "    \n",
    "except FileNotFoundError:\n",
    "    print(\"Directory not found!\")\n",
    "    \n",
    "except PermissionError:\n",
    "    print(\"You do not have permission to delete!\")\n",
    "    \n",
    "except OSError:\n",
    "    print(\"You cannot delete the folder with this command!\")\n",
    "else:\n",
    "    print(\"Folder \" + folderToDelete + \" removed!\")"
   ]
  },
  {
   "cell_type": "code",
   "execution_count": 163,
   "id": "95231b9d",
   "metadata": {},
   "outputs": [
    {
     "name": "stdout",
     "output_type": "stream",
     "text": [
      "D:\\python\\sandbox\\.ipynb_checkpoints\n",
      "D:\\python\\sandbox\\animated_qrcode.gif\n",
      "D:\\python\\sandbox\\qrcode.py\n",
      "D:\\python\\sandbox\\README_EN.md\n",
      "D:\\python\\sandbox\\temp\n",
      "D:\\python\\sandbox\\test.txt\n",
      "D:\\python\\sandbox\\WorkingWithFilesAndFolders.ipynb\n",
      "D:\\python\\sandbox\\.ipynb_checkpoints\\WorkingWithFilesAndFolders-checkpoint.ipynb\n",
      "D:\\python\\sandbox\\temp\\b.txt\n"
     ]
    }
   ],
   "source": [
    "!dir /s /b /o:N"
   ]
  },
  {
   "cell_type": "code",
   "execution_count": null,
   "id": "ee037289",
   "metadata": {},
   "outputs": [],
   "source": []
  },
  {
   "cell_type": "code",
   "execution_count": null,
   "id": "24824688",
   "metadata": {},
   "outputs": [],
   "source": []
  },
  {
   "cell_type": "code",
   "execution_count": null,
   "id": "d5913376",
   "metadata": {},
   "outputs": [],
   "source": []
  },
  {
   "cell_type": "code",
   "execution_count": null,
   "id": "7622187c",
   "metadata": {},
   "outputs": [],
   "source": []
  },
  {
   "cell_type": "code",
   "execution_count": null,
   "id": "4c934f8a",
   "metadata": {},
   "outputs": [],
   "source": []
  },
  {
   "cell_type": "code",
   "execution_count": null,
   "id": "321d726b",
   "metadata": {},
   "outputs": [],
   "source": []
  },
  {
   "cell_type": "code",
   "execution_count": null,
   "id": "c92fd6d3",
   "metadata": {},
   "outputs": [],
   "source": []
  },
  {
   "cell_type": "code",
   "execution_count": null,
   "id": "b067db74",
   "metadata": {},
   "outputs": [],
   "source": []
  },
  {
   "cell_type": "code",
   "execution_count": null,
   "id": "0f339fbc",
   "metadata": {},
   "outputs": [],
   "source": []
  },
  {
   "cell_type": "code",
   "execution_count": null,
   "id": "22909f83",
   "metadata": {},
   "outputs": [],
   "source": []
  },
  {
   "cell_type": "code",
   "execution_count": null,
   "id": "13fe41f1",
   "metadata": {},
   "outputs": [],
   "source": []
  },
  {
   "cell_type": "code",
   "execution_count": null,
   "id": "ba97eb5c",
   "metadata": {},
   "outputs": [],
   "source": []
  },
  {
   "cell_type": "code",
   "execution_count": null,
   "id": "ee3ce8e5",
   "metadata": {},
   "outputs": [],
   "source": []
  },
  {
   "cell_type": "code",
   "execution_count": null,
   "id": "84ec7671",
   "metadata": {},
   "outputs": [],
   "source": []
  },
  {
   "cell_type": "code",
   "execution_count": null,
   "id": "793348b1",
   "metadata": {},
   "outputs": [],
   "source": []
  }
 ],
 "metadata": {
  "kernelspec": {
   "display_name": "Python 3 (ipykernel)",
   "language": "python",
   "name": "python3"
  },
  "language_info": {
   "codemirror_mode": {
    "name": "ipython",
    "version": 3
   },
   "file_extension": ".py",
   "mimetype": "text/x-python",
   "name": "python",
   "nbconvert_exporter": "python",
   "pygments_lexer": "ipython3",
   "version": "3.11.4"
  }
 },
 "nbformat": 4,
 "nbformat_minor": 5
}
