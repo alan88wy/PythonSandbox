{
 "cells": [
  {
   "cell_type": "markdown",
   "id": "26a95b02",
   "metadata": {},
   "source": [
    "# PandasAI\n",
    "\n",
    "PandasAI is a Python library that adds Generative AI capabilities to pandas, the popular data analysis and manipulation tool. It is designed to be used in conjunction with pandas, and is not a replacement for it.\n",
    "\n",
    "PandasAI makes pandas (and all the most used data analyst libraries) conversational, allowing you to ask questions to your data in natural language. For example, you can ask PandasAI to find all the rows in a DataFrame where the value of a column is greater than 5, and it will return a DataFrame containing only those rows.\n",
    "\n",
    "You can also ask PandasAI to draw graphs, clean data, impute missing values, and generate features.\n",
    "\n",
    "```\n",
    "pip install pandasai\n",
    "```"
   ]
  },
  {
   "cell_type": "code",
   "execution_count": 3,
   "id": "8eca2a64",
   "metadata": {
    "ExecuteTime": {
     "end_time": "2023-10-27T08:30:22.684671Z",
     "start_time": "2023-10-27T08:30:22.679679Z"
    }
   },
   "outputs": [],
   "source": [
    "from pandasai import SmartDataframe\n",
    "import pandas as pd \n",
    "\n",
    "\n",
    "df = pd.DataFrame({\n",
    "    \"country\": [\n",
    "        \"United States\",\n",
    "        \"United Kingdom\",\n",
    "        \"France\",\n",
    "        \"Germany\",\n",
    "        \"Italy\",\n",
    "        \"Spain\",\n",
    "        \"Canada\",\n",
    "        \"Australia\",\n",
    "        \"Japan\",\n",
    "        \"China\",\n",
    "    ],\n",
    "    \"gdp\": [\n",
    "        19294482071552,\n",
    "        2891615567872,\n",
    "        2411255037952,\n",
    "        3435817336832,\n",
    "        1745433788416,\n",
    "        1181205135360,\n",
    "        1607402389504,\n",
    "        1490967855104,\n",
    "        4380756541440,\n",
    "        14631844184064,\n",
    "    ],\n",
    "    \"happiness_index\": [6.94, 7.16, 6.66, 7.07, 6.38, 6.4, 7.23, 7.22, 5.87, 5.12],\n",
    "})"
   ]
  },
  {
   "cell_type": "code",
   "execution_count": null,
   "id": "f0de0e04",
   "metadata": {},
   "outputs": [],
   "source": [
    "from pandasai.llm import OpenAI\n",
    "\n",
    "llm = OpenAI(api_token=\"YOUR TOKEN\")"
   ]
  },
  {
   "cell_type": "code",
   "execution_count": null,
   "id": "51927350",
   "metadata": {},
   "outputs": [],
   "source": [
    "sdf = SmartDataframe(df, config={\"llm\": llm})"
   ]
  },
  {
   "cell_type": "code",
   "execution_count": null,
   "id": "fbe90e0e",
   "metadata": {},
   "outputs": [],
   "source": [
    "sdf[sdf['country'] == 'United States']"
   ]
  },
  {
   "cell_type": "code",
   "execution_count": null,
   "id": "3ac2f2c7",
   "metadata": {},
   "outputs": [],
   "source": [
    "sdf.chat(\"Return the top 5 countries by GDP\")"
   ]
  },
  {
   "cell_type": "code",
   "execution_count": null,
   "id": "6aff460f",
   "metadata": {},
   "outputs": [],
   "source": [
    "sdf.chat(\"What's the sum of the gdp of the 2 unhappiest countries?\")"
   ]
  },
  {
   "cell_type": "code",
   "execution_count": null,
   "id": "61169d14",
   "metadata": {},
   "outputs": [],
   "source": [
    "print(sdf.last_code_generated)"
   ]
  },
  {
   "cell_type": "code",
   "execution_count": null,
   "id": "d8cc46d6",
   "metadata": {},
   "outputs": [],
   "source": [
    "sdf.chat(\"Plot a chart of the gdp by country\")"
   ]
  },
  {
   "cell_type": "code",
   "execution_count": null,
   "id": "3506be17",
   "metadata": {},
   "outputs": [],
   "source": [
    "sdf.chat(\"Plot a histogram of the gdp by country, using a different color for each bar\")"
   ]
  },
  {
   "cell_type": "code",
   "execution_count": null,
   "id": "ec1271ea",
   "metadata": {},
   "outputs": [],
   "source": [
    "sdf.plot_bar_chart(x=\"country\", y=\"gdp\")"
   ]
  },
  {
   "cell_type": "code",
   "execution_count": null,
   "id": "a7071a0c",
   "metadata": {},
   "outputs": [],
   "source": [
    "sdf.plot_pie_chart(labels=\"country\", values=\"gdp\")"
   ]
  },
  {
   "cell_type": "markdown",
   "id": "d4cfbfc4",
   "metadata": {},
   "source": [
    "## SmartDatalake\n",
    "\n",
    "Sometimes, you might want to work with multiple dataframes at a time, letting the LLM orchestrate which one(s) to use to answer your queries. In such cases, instead of using a SmartDataframe you should rather use a SmartDatalake.\n",
    "\n",
    "The concept is very similar to the SmartDataframe, but instead of accepting only 1 df as input, it can accept multiple ones."
   ]
  },
  {
   "cell_type": "code",
   "execution_count": 5,
   "id": "7adbfff3",
   "metadata": {
    "ExecuteTime": {
     "end_time": "2023-10-27T08:33:00.975448Z",
     "start_time": "2023-10-27T08:33:00.972529Z"
    }
   },
   "outputs": [],
   "source": [
    "from pandasai import SmartDatalake"
   ]
  },
  {
   "cell_type": "code",
   "execution_count": 6,
   "id": "d97a5c97",
   "metadata": {
    "ExecuteTime": {
     "end_time": "2023-10-27T08:33:01.684581Z",
     "start_time": "2023-10-27T08:33:01.668884Z"
    }
   },
   "outputs": [
    {
     "ename": "NameError",
     "evalue": "name 'llm' is not defined",
     "output_type": "error",
     "traceback": [
      "\u001b[1;31m---------------------------------------------------------------------------\u001b[0m",
      "\u001b[1;31mNameError\u001b[0m                                 Traceback (most recent call last)",
      "Cell \u001b[1;32mIn[6], line 18\u001b[0m\n\u001b[0;32m      1\u001b[0m employees_df \u001b[38;5;241m=\u001b[39m pd\u001b[38;5;241m.\u001b[39mDataFrame(\n\u001b[0;32m      2\u001b[0m     {\n\u001b[0;32m      3\u001b[0m         \u001b[38;5;124m\"\u001b[39m\u001b[38;5;124mEmployeeID\u001b[39m\u001b[38;5;124m\"\u001b[39m: [\u001b[38;5;241m1\u001b[39m, \u001b[38;5;241m2\u001b[39m, \u001b[38;5;241m3\u001b[39m, \u001b[38;5;241m4\u001b[39m, \u001b[38;5;241m5\u001b[39m],\n\u001b[1;32m   (...)\u001b[0m\n\u001b[0;32m      6\u001b[0m     }\n\u001b[0;32m      7\u001b[0m )\n\u001b[0;32m      9\u001b[0m salaries_df \u001b[38;5;241m=\u001b[39m pd\u001b[38;5;241m.\u001b[39mDataFrame(\n\u001b[0;32m     10\u001b[0m     {\n\u001b[0;32m     11\u001b[0m         \u001b[38;5;124m\"\u001b[39m\u001b[38;5;124mEmployeeID\u001b[39m\u001b[38;5;124m\"\u001b[39m: [\u001b[38;5;241m1\u001b[39m, \u001b[38;5;241m2\u001b[39m, \u001b[38;5;241m3\u001b[39m, \u001b[38;5;241m4\u001b[39m, \u001b[38;5;241m5\u001b[39m],\n\u001b[0;32m     12\u001b[0m         \u001b[38;5;124m\"\u001b[39m\u001b[38;5;124mSalary\u001b[39m\u001b[38;5;124m\"\u001b[39m: [\u001b[38;5;241m5000\u001b[39m, \u001b[38;5;241m6000\u001b[39m, \u001b[38;5;241m4500\u001b[39m, \u001b[38;5;241m7000\u001b[39m, \u001b[38;5;241m5500\u001b[39m],\n\u001b[0;32m     13\u001b[0m     }\n\u001b[0;32m     14\u001b[0m )\n\u001b[0;32m     16\u001b[0m lake \u001b[38;5;241m=\u001b[39m SmartDatalake(\n\u001b[0;32m     17\u001b[0m     [employees_df, salaries_df],\n\u001b[1;32m---> 18\u001b[0m     config\u001b[38;5;241m=\u001b[39m{\u001b[38;5;124m\"\u001b[39m\u001b[38;5;124mllm\u001b[39m\u001b[38;5;124m\"\u001b[39m: llm}\n\u001b[0;32m     19\u001b[0m )\n\u001b[0;32m     20\u001b[0m lake\u001b[38;5;241m.\u001b[39mchat(\u001b[38;5;124m\"\u001b[39m\u001b[38;5;124mWho gets paid the most?\u001b[39m\u001b[38;5;124m\"\u001b[39m)\n",
      "\u001b[1;31mNameError\u001b[0m: name 'llm' is not defined"
     ]
    }
   ],
   "source": [
    "employees_df = pd.DataFrame(\n",
    "    {\n",
    "        \"EmployeeID\": [1, 2, 3, 4, 5],\n",
    "        \"Name\": [\"John\", \"Emma\", \"Liam\", \"Olivia\", \"William\"],\n",
    "        \"Department\": [\"HR\", \"Sales\", \"IT\", \"Marketing\", \"Finance\"],\n",
    "    }\n",
    ")\n",
    "\n",
    "salaries_df = pd.DataFrame(\n",
    "    {\n",
    "        \"EmployeeID\": [1, 2, 3, 4, 5],\n",
    "        \"Salary\": [5000, 6000, 4500, 7000, 5500],\n",
    "    }\n",
    ")\n",
    "\n",
    "lake = SmartDatalake(\n",
    "    [employees_df, salaries_df],\n",
    "    config={\"llm\": llm}\n",
    ")\n",
    "lake.chat(\"Who gets paid the most?\")"
   ]
  },
  {
   "cell_type": "code",
   "execution_count": null,
   "id": "28783579",
   "metadata": {},
   "outputs": [],
   "source": [
    "print(lake.last_code_executed)"
   ]
  },
  {
   "cell_type": "code",
   "execution_count": null,
   "id": "13e979bf",
   "metadata": {},
   "outputs": [],
   "source": [
    "users_df = pd.DataFrame(\n",
    "    {\n",
    "        \"id\": [1, 2, 3, 4, 5],\n",
    "        \"name\": [\"John\", \"Emma\", \"Liam\", \"Olivia\", \"William\"]\n",
    "    }\n",
    ")\n",
    "users = SmartDataframe(users_df, name=\"users\")\n",
    "\n",
    "photos_df = pd.DataFrame(\n",
    "    {\n",
    "        \"id\": [31, 32, 33, 34, 35],\n",
    "        \"user_id\": [1, 1, 2, 4, 5]\n",
    "    }\n",
    ")\n",
    "photos = SmartDataframe(photos_df, name=\"photos\")\n",
    "\n",
    "lake = SmartDatalake([users, photos], config={\"llm\": llm})\n",
    "lake.chat(\"How many photos has been uploaded by John?\")"
   ]
  },
  {
   "cell_type": "code",
   "execution_count": null,
   "id": "c4c4bc91",
   "metadata": {},
   "outputs": [],
   "source": [
    "print(lake.last_code_executed)"
   ]
  },
  {
   "cell_type": "markdown",
   "id": "fe0cb08d",
   "metadata": {},
   "source": [
    "## Different LLMs\n",
    "\n",
    "Although at the moment OpenAI GPT3.5 and GPT4 are the recommended models, we also support other models, like Starcoder and Falcon.\n",
    "\n",
    "You can use them as if follows:"
   ]
  },
  {
   "cell_type": "code",
   "execution_count": 7,
   "id": "48207829",
   "metadata": {
    "ExecuteTime": {
     "end_time": "2023-10-27T08:34:32.272759Z",
     "start_time": "2023-10-27T08:34:30.365000Z"
    }
   },
   "outputs": [
    {
     "name": "stderr",
     "output_type": "stream",
     "text": [
      "C:\\Users\\alan\\anaconda3\\Lib\\site-packages\\pandasai\\llm\\starcoder.py:28: UserWarning: Starcoder is deprecated and will be removed in a future release.\n",
      "            Please use langchain.llms.HuggingFaceHub instead, although please be \n",
      "            aware that it may perform poorly.\n",
      "            \n",
      "  warnings.warn(\n",
      "C:\\Users\\alan\\anaconda3\\Lib\\site-packages\\pandasai\\llm\\falcon.py:29: UserWarning: Falcon is deprecated and will be removed in a future release.\n",
      "            Please use langchain.llms.HuggingFaceHub instead, although please be \n",
      "            aware that it may perform poorly.\n",
      "            \n",
      "  warnings.warn(\n"
     ]
    },
    {
     "name": "stdout",
     "output_type": "stream",
     "text": [
      "Unfortunately, I was not able to answer your question, because of the following error:\n",
      "\n",
      "The remote server has responded with an error HTTP code: 400; Authorization header is correct, but the token seems invalid\n",
      "\n",
      "Unfortunately, I was not able to answer your question, because of the following error:\n",
      "\n",
      "The remote server has responded with an error HTTP code: 400; Authorization header is correct, but the token seems invalid\n",
      "\n"
     ]
    }
   ],
   "source": [
    "from pandasai import SmartDataframe\n",
    "from pandasai.llm import Starcoder, Falcon\n",
    "\n",
    "starcoder_llm = Starcoder(api_token=\"YOUR TOKEN\")\n",
    "falcon_llm = Falcon(api_token=\"YOUR TOKEN\")\n",
    "\n",
    "df1 = SmartDataframe(df, config={\"llm\": starcoder_llm})\n",
    "df2 = SmartDataframe(df, config={\"llm\": falcon_llm})\n",
    "\n",
    "print(df1.chat(\"Which country has the highest GDP?\"))\n",
    "print(df2.chat(\"Which one is the unhappiest country?\"))"
   ]
  },
  {
   "cell_type": "markdown",
   "id": "cfa105c3",
   "metadata": {},
   "source": [
    "## LangChain LLMs"
   ]
  },
  {
   "cell_type": "code",
   "execution_count": 8,
   "id": "7c2aafff",
   "metadata": {
    "ExecuteTime": {
     "end_time": "2023-10-27T08:35:28.087585Z",
     "start_time": "2023-10-27T08:35:15.673853Z"
    }
   },
   "outputs": [
    {
     "name": "stdout",
     "output_type": "stream",
     "text": [
      "Looking in indexes: https://pypi.org/simple, https://pypi.ngc.nvidia.com\n",
      "Requirement already satisfied: pandasai[langchain] in c:\\users\\alan\\anaconda3\\lib\\site-packages (1.4)\n",
      "Requirement already satisfied: astor<0.9.0,>=0.8.1 in c:\\users\\alan\\anaconda3\\lib\\site-packages (from pandasai[langchain]) (0.8.1)\n",
      "Requirement already satisfied: duckdb<0.9.0,>=0.8.1 in c:\\users\\alan\\anaconda3\\lib\\site-packages (from pandasai[langchain]) (0.8.1)\n",
      "Requirement already satisfied: ipython<9.0.0,>=8.13.1 in c:\\users\\alan\\anaconda3\\lib\\site-packages (from pandasai[langchain]) (8.15.0)\n",
      "Collecting langchain<0.0.200,>=0.0.199 (from pandasai[langchain])\n",
      "  Obtaining dependency information for langchain<0.0.200,>=0.0.199 from https://files.pythonhosted.org/packages/4c/c0/c47c76fb3a3c1dd6a71d8b92c0715cc21c24fecf0b15bf33d11cda1ba9db/langchain-0.0.199-py3-none-any.whl.metadata\n",
      "  Downloading langchain-0.0.199-py3-none-any.whl.metadata (13 kB)\n",
      "Requirement already satisfied: matplotlib<4.0.0,>=3.7.1 in c:\\users\\alan\\anaconda3\\lib\\site-packages (from pandasai[langchain]) (3.7.2)\n",
      "Requirement already satisfied: openai<0.28.0,>=0.27.5 in c:\\users\\alan\\anaconda3\\lib\\site-packages (from pandasai[langchain]) (0.27.10)\n",
      "Requirement already satisfied: pandas==1.5.3 in c:\\users\\alan\\anaconda3\\lib\\site-packages (from pandasai[langchain]) (1.5.3)\n",
      "Requirement already satisfied: pydantic<2,>=1 in c:\\users\\alan\\anaconda3\\lib\\site-packages (from pandasai[langchain]) (1.10.8)\n",
      "Requirement already satisfied: python-dotenv<2.0.0,>=1.0.0 in c:\\users\\alan\\anaconda3\\lib\\site-packages (from pandasai[langchain]) (1.0.0)\n",
      "Requirement already satisfied: scipy<2.0.0,>=1.9.0 in c:\\users\\alan\\anaconda3\\lib\\site-packages (from pandasai[langchain]) (1.11.1)\n",
      "Requirement already satisfied: sqlalchemy<2.0.0,>=1.4.49 in c:\\users\\alan\\anaconda3\\lib\\site-packages (from pandasai[langchain]) (1.4.49)\n",
      "Requirement already satisfied: python-dateutil>=2.8.1 in c:\\users\\alan\\anaconda3\\lib\\site-packages (from pandas==1.5.3->pandasai[langchain]) (2.8.2)\n",
      "Requirement already satisfied: pytz>=2020.1 in c:\\users\\alan\\anaconda3\\lib\\site-packages (from pandas==1.5.3->pandasai[langchain]) (2023.3.post1)\n",
      "Requirement already satisfied: numpy>=1.21.0 in c:\\users\\alan\\anaconda3\\lib\\site-packages (from pandas==1.5.3->pandasai[langchain]) (1.24.3)\n",
      "Requirement already satisfied: backcall in c:\\users\\alan\\anaconda3\\lib\\site-packages (from ipython<9.0.0,>=8.13.1->pandasai[langchain]) (0.2.0)\n",
      "Requirement already satisfied: decorator in c:\\users\\alan\\anaconda3\\lib\\site-packages (from ipython<9.0.0,>=8.13.1->pandasai[langchain]) (5.1.1)\n",
      "Requirement already satisfied: jedi>=0.16 in c:\\users\\alan\\anaconda3\\lib\\site-packages (from ipython<9.0.0,>=8.13.1->pandasai[langchain]) (0.18.1)\n",
      "Requirement already satisfied: matplotlib-inline in c:\\users\\alan\\anaconda3\\lib\\site-packages (from ipython<9.0.0,>=8.13.1->pandasai[langchain]) (0.1.6)\n",
      "Requirement already satisfied: pickleshare in c:\\users\\alan\\anaconda3\\lib\\site-packages (from ipython<9.0.0,>=8.13.1->pandasai[langchain]) (0.7.5)\n",
      "Requirement already satisfied: prompt-toolkit!=3.0.37,<3.1.0,>=3.0.30 in c:\\users\\alan\\anaconda3\\lib\\site-packages (from ipython<9.0.0,>=8.13.1->pandasai[langchain]) (3.0.36)\n",
      "Requirement already satisfied: pygments>=2.4.0 in c:\\users\\alan\\anaconda3\\lib\\site-packages (from ipython<9.0.0,>=8.13.1->pandasai[langchain]) (2.15.1)\n",
      "Requirement already satisfied: stack-data in c:\\users\\alan\\anaconda3\\lib\\site-packages (from ipython<9.0.0,>=8.13.1->pandasai[langchain]) (0.2.0)\n",
      "Requirement already satisfied: traitlets>=5 in c:\\users\\alan\\anaconda3\\lib\\site-packages (from ipython<9.0.0,>=8.13.1->pandasai[langchain]) (5.7.1)\n",
      "Requirement already satisfied: colorama in c:\\users\\alan\\anaconda3\\lib\\site-packages (from ipython<9.0.0,>=8.13.1->pandasai[langchain]) (0.4.6)\n",
      "Requirement already satisfied: PyYAML>=5.4.1 in c:\\users\\alan\\anaconda3\\lib\\site-packages (from langchain<0.0.200,>=0.0.199->pandasai[langchain]) (6.0)\n",
      "Requirement already satisfied: aiohttp<4.0.0,>=3.8.3 in c:\\users\\alan\\anaconda3\\lib\\site-packages (from langchain<0.0.200,>=0.0.199->pandasai[langchain]) (3.8.5)\n",
      "Collecting dataclasses-json<0.6.0,>=0.5.7 (from langchain<0.0.200,>=0.0.199->pandasai[langchain])\n",
      "  Obtaining dependency information for dataclasses-json<0.6.0,>=0.5.7 from https://files.pythonhosted.org/packages/97/5f/e7cc90f36152810cab08b6c9c1125e8bcb9d76f8b3018d101b5f877b386c/dataclasses_json-0.5.14-py3-none-any.whl.metadata\n",
      "  Downloading dataclasses_json-0.5.14-py3-none-any.whl.metadata (22 kB)\n",
      "Collecting langchainplus-sdk>=0.0.9 (from langchain<0.0.200,>=0.0.199->pandasai[langchain])\n",
      "  Obtaining dependency information for langchainplus-sdk>=0.0.9 from https://files.pythonhosted.org/packages/ef/93/22f2d584ffa0281d51fcd8500f7c807879610ac97851f7d8eb0458165373/langchainplus_sdk-0.0.20-py3-none-any.whl.metadata\n",
      "  Downloading langchainplus_sdk-0.0.20-py3-none-any.whl.metadata (8.7 kB)\n",
      "Requirement already satisfied: numexpr<3.0.0,>=2.8.4 in c:\\users\\alan\\anaconda3\\lib\\site-packages (from langchain<0.0.200,>=0.0.199->pandasai[langchain]) (2.8.4)\n",
      "Collecting openapi-schema-pydantic<2.0,>=1.2 (from langchain<0.0.200,>=0.0.199->pandasai[langchain])\n",
      "  Downloading openapi_schema_pydantic-1.2.4-py3-none-any.whl (90 kB)\n",
      "     ---------------------------------------- 0.0/90.0 kB ? eta -:--:--\n",
      "     ---------------------------------------- 90.0/90.0 kB 5.0 MB/s eta 0:00:00\n",
      "Requirement already satisfied: requests<3,>=2 in c:\\users\\alan\\anaconda3\\lib\\site-packages (from langchain<0.0.200,>=0.0.199->pandasai[langchain]) (2.31.0)\n",
      "Requirement already satisfied: tenacity<9.0.0,>=8.1.0 in c:\\users\\alan\\anaconda3\\lib\\site-packages (from langchain<0.0.200,>=0.0.199->pandasai[langchain]) (8.2.2)\n",
      "Requirement already satisfied: contourpy>=1.0.1 in c:\\users\\alan\\anaconda3\\lib\\site-packages (from matplotlib<4.0.0,>=3.7.1->pandasai[langchain]) (1.0.5)\n",
      "Requirement already satisfied: cycler>=0.10 in c:\\users\\alan\\anaconda3\\lib\\site-packages (from matplotlib<4.0.0,>=3.7.1->pandasai[langchain]) (0.11.0)\n",
      "Requirement already satisfied: fonttools>=4.22.0 in c:\\users\\alan\\anaconda3\\lib\\site-packages (from matplotlib<4.0.0,>=3.7.1->pandasai[langchain]) (4.25.0)\n",
      "Requirement already satisfied: kiwisolver>=1.0.1 in c:\\users\\alan\\anaconda3\\lib\\site-packages (from matplotlib<4.0.0,>=3.7.1->pandasai[langchain]) (1.4.4)\n",
      "Requirement already satisfied: packaging>=20.0 in c:\\users\\alan\\anaconda3\\lib\\site-packages (from matplotlib<4.0.0,>=3.7.1->pandasai[langchain]) (23.1)\n",
      "Requirement already satisfied: pillow>=6.2.0 in c:\\users\\alan\\anaconda3\\lib\\site-packages (from matplotlib<4.0.0,>=3.7.1->pandasai[langchain]) (9.4.0)\n",
      "Requirement already satisfied: pyparsing<3.1,>=2.3.1 in c:\\users\\alan\\anaconda3\\lib\\site-packages (from matplotlib<4.0.0,>=3.7.1->pandasai[langchain]) (3.0.9)\n",
      "Requirement already satisfied: tqdm in c:\\users\\alan\\anaconda3\\lib\\site-packages (from openai<0.28.0,>=0.27.5->pandasai[langchain]) (4.65.0)\n",
      "Requirement already satisfied: typing-extensions>=4.2.0 in c:\\users\\alan\\anaconda3\\lib\\site-packages (from pydantic<2,>=1->pandasai[langchain]) (4.7.1)\n",
      "Requirement already satisfied: greenlet!=0.4.17 in c:\\users\\alan\\anaconda3\\lib\\site-packages (from sqlalchemy<2.0.0,>=1.4.49->pandasai[langchain]) (2.0.1)\n",
      "Requirement already satisfied: attrs>=17.3.0 in c:\\users\\alan\\anaconda3\\lib\\site-packages (from aiohttp<4.0.0,>=3.8.3->langchain<0.0.200,>=0.0.199->pandasai[langchain]) (22.1.0)\n",
      "Requirement already satisfied: charset-normalizer<4.0,>=2.0 in c:\\users\\alan\\anaconda3\\lib\\site-packages (from aiohttp<4.0.0,>=3.8.3->langchain<0.0.200,>=0.0.199->pandasai[langchain]) (2.0.4)\n",
      "Requirement already satisfied: multidict<7.0,>=4.5 in c:\\users\\alan\\anaconda3\\lib\\site-packages (from aiohttp<4.0.0,>=3.8.3->langchain<0.0.200,>=0.0.199->pandasai[langchain]) (6.0.2)\n",
      "Requirement already satisfied: async-timeout<5.0,>=4.0.0a3 in c:\\users\\alan\\anaconda3\\lib\\site-packages (from aiohttp<4.0.0,>=3.8.3->langchain<0.0.200,>=0.0.199->pandasai[langchain]) (4.0.2)\n",
      "Requirement already satisfied: yarl<2.0,>=1.0 in c:\\users\\alan\\anaconda3\\lib\\site-packages (from aiohttp<4.0.0,>=3.8.3->langchain<0.0.200,>=0.0.199->pandasai[langchain]) (1.8.1)\n",
      "Requirement already satisfied: frozenlist>=1.1.1 in c:\\users\\alan\\anaconda3\\lib\\site-packages (from aiohttp<4.0.0,>=3.8.3->langchain<0.0.200,>=0.0.199->pandasai[langchain]) (1.3.3)\n",
      "Requirement already satisfied: aiosignal>=1.1.2 in c:\\users\\alan\\anaconda3\\lib\\site-packages (from aiohttp<4.0.0,>=3.8.3->langchain<0.0.200,>=0.0.199->pandasai[langchain]) (1.2.0)\n",
      "Collecting marshmallow<4.0.0,>=3.18.0 (from dataclasses-json<0.6.0,>=0.5.7->langchain<0.0.200,>=0.0.199->pandasai[langchain])\n",
      "  Obtaining dependency information for marshmallow<4.0.0,>=3.18.0 from https://files.pythonhosted.org/packages/ed/3c/cebfdcad015240014ff08b883d1c0c427f2ba45ae8c6572851b6ef136cad/marshmallow-3.20.1-py3-none-any.whl.metadata\n",
      "  Downloading marshmallow-3.20.1-py3-none-any.whl.metadata (7.8 kB)\n",
      "Collecting typing-inspect<1,>=0.4.0 (from dataclasses-json<0.6.0,>=0.5.7->langchain<0.0.200,>=0.0.199->pandasai[langchain])\n",
      "  Obtaining dependency information for typing-inspect<1,>=0.4.0 from https://files.pythonhosted.org/packages/65/f3/107a22063bf27bdccf2024833d3445f4eea42b2e598abfbd46f6a63b6cb0/typing_inspect-0.9.0-py3-none-any.whl.metadata\n",
      "  Downloading typing_inspect-0.9.0-py3-none-any.whl.metadata (1.5 kB)\n",
      "Requirement already satisfied: parso<0.9.0,>=0.8.0 in c:\\users\\alan\\anaconda3\\lib\\site-packages (from jedi>=0.16->ipython<9.0.0,>=8.13.1->pandasai[langchain]) (0.8.3)\n",
      "Requirement already satisfied: wcwidth in c:\\users\\alan\\anaconda3\\lib\\site-packages (from prompt-toolkit!=3.0.37,<3.1.0,>=3.0.30->ipython<9.0.0,>=8.13.1->pandasai[langchain]) (0.2.5)\n",
      "Requirement already satisfied: six>=1.5 in c:\\users\\alan\\anaconda3\\lib\\site-packages (from python-dateutil>=2.8.1->pandas==1.5.3->pandasai[langchain]) (1.16.0)\n",
      "Requirement already satisfied: idna<4,>=2.5 in c:\\users\\alan\\anaconda3\\lib\\site-packages (from requests<3,>=2->langchain<0.0.200,>=0.0.199->pandasai[langchain]) (3.4)\n",
      "Requirement already satisfied: urllib3<3,>=1.21.1 in c:\\users\\alan\\anaconda3\\lib\\site-packages (from requests<3,>=2->langchain<0.0.200,>=0.0.199->pandasai[langchain]) (1.26.16)\n",
      "Requirement already satisfied: certifi>=2017.4.17 in c:\\users\\alan\\anaconda3\\lib\\site-packages (from requests<3,>=2->langchain<0.0.200,>=0.0.199->pandasai[langchain]) (2023.7.22)\n",
      "Requirement already satisfied: executing in c:\\users\\alan\\anaconda3\\lib\\site-packages (from stack-data->ipython<9.0.0,>=8.13.1->pandasai[langchain]) (0.8.3)\n",
      "Requirement already satisfied: asttokens in c:\\users\\alan\\anaconda3\\lib\\site-packages (from stack-data->ipython<9.0.0,>=8.13.1->pandasai[langchain]) (2.0.5)\n",
      "Requirement already satisfied: pure-eval in c:\\users\\alan\\anaconda3\\lib\\site-packages (from stack-data->ipython<9.0.0,>=8.13.1->pandasai[langchain]) (0.2.2)\n",
      "Requirement already satisfied: mypy-extensions>=0.3.0 in c:\\users\\alan\\anaconda3\\lib\\site-packages (from typing-inspect<1,>=0.4.0->dataclasses-json<0.6.0,>=0.5.7->langchain<0.0.200,>=0.0.199->pandasai[langchain]) (1.0.0)\n",
      "Downloading langchain-0.0.199-py3-none-any.whl (1.0 MB)\n",
      "   ---------------------------------------- 0.0/1.0 MB ? eta -:--:--\n",
      "   --------------------------------- ------ 0.9/1.0 MB 18.7 MB/s eta 0:00:01\n",
      "   ---------------------------------------- 1.0/1.0 MB 22.2 MB/s eta 0:00:00\n",
      "Downloading dataclasses_json-0.5.14-py3-none-any.whl (26 kB)\n",
      "Downloading langchainplus_sdk-0.0.20-py3-none-any.whl (25 kB)\n",
      "Downloading marshmallow-3.20.1-py3-none-any.whl (49 kB)\n",
      "   ---------------------------------------- 0.0/49.4 kB ? eta -:--:--\n",
      "   ---------------------------------------- 49.4/49.4 kB ? eta 0:00:00\n",
      "Downloading typing_inspect-0.9.0-py3-none-any.whl (8.8 kB)\n",
      "Installing collected packages: typing-inspect, marshmallow, openapi-schema-pydantic, langchainplus-sdk, dataclasses-json, langchain\n",
      "Successfully installed dataclasses-json-0.5.14 langchain-0.0.199 langchainplus-sdk-0.0.20 marshmallow-3.20.1 openapi-schema-pydantic-1.2.4 typing-inspect-0.9.0\n"
     ]
    }
   ],
   "source": [
    "!pip install pandasai[langchain]"
   ]
  },
  {
   "cell_type": "code",
   "execution_count": 9,
   "id": "988e37dd",
   "metadata": {
    "ExecuteTime": {
     "end_time": "2023-10-27T08:35:37.644363Z",
     "start_time": "2023-10-27T08:35:36.191876Z"
    }
   },
   "outputs": [
    {
     "data": {
      "text/plain": [
       "'Unfortunately, I was not able to answer your question, because of the following error:\\n\\nIncorrect API key provided: YOUR TOKEN. You can find your API key at https://platform.openai.com/account/api-keys.\\n'"
      ]
     },
     "execution_count": 9,
     "metadata": {},
     "output_type": "execute_result"
    }
   ],
   "source": [
    "from pandasai import SmartDataframe\n",
    "from langchain.llms import OpenAI\n",
    "# from langchain.llms import Anthropic\n",
    "# from langchain.llms import LlamaCpp\n",
    "\n",
    "langchain_llm = OpenAI(openai_api_key=\"YOUR TOKEN\", max_tokens=1000)\n",
    "langchain_sdf = SmartDataframe(df, config={\"llm\": langchain_llm})\n",
    "langchain_sdf.chat(\"Which are the top 5 countries by GPD?\")"
   ]
  },
  {
   "cell_type": "markdown",
   "id": "774026ae",
   "metadata": {},
   "source": [
    "## Connectors\n",
    "\n",
    "PandasAI provides a number of connectors that allow you to connect to different data sources. These connectors are designed to be easy to use, even if you are not familiar with the data source or with PandasAI.\n",
    "\n",
    "To use a connector, you first need to install the required dependencies. You can do this by running the following command:"
   ]
  },
  {
   "cell_type": "code",
   "execution_count": null,
   "id": "c1fb64a5",
   "metadata": {},
   "outputs": [],
   "source": [
    "!pip install pandasai[connectors]"
   ]
  },
  {
   "cell_type": "code",
   "execution_count": null,
   "id": "bb5891b6",
   "metadata": {},
   "outputs": [],
   "source": [
    "from pandasai.connectors import MySQLConnector, PostgreSQLConnector\n",
    "\n",
    "# With a MySQL database\n",
    "loan_connector = MySQLConnector(\n",
    "    config={\n",
    "        \"host\": \"localhost\",\n",
    "        \"port\": 3306,\n",
    "        \"database\": \"mydb\",\n",
    "        \"username\": \"root\",\n",
    "        \"password\": \"root\",\n",
    "        \"table\": \"loans\",\n",
    "        \"where\": [\n",
    "            # this is optional and filters the data to\n",
    "            # reduce the size of the dataframe\n",
    "            [\"loan_status\", \"=\", \"PAIDOFF\"],\n",
    "        ],\n",
    "    }\n",
    ")\n",
    "\n",
    "# With a PostgreSQL database\n",
    "payment_connector = PostgreSQLConnector(\n",
    "    config={\n",
    "        \"host\": \"localhost\",\n",
    "        \"port\": 5432,\n",
    "        \"database\": \"mydb\",\n",
    "        \"username\": \"root\",\n",
    "        \"password\": \"root\",\n",
    "        \"table\": \"payments\",\n",
    "        \"where\": [\n",
    "            # this is optional and filters the data to\n",
    "            # reduce the size of the dataframe\n",
    "            [\"payment_status\", \"=\", \"PAIDOFF\"],\n",
    "        ],\n",
    "    }\n",
    ")\n",
    "\n",
    "df_connector = SmartDatalake([loan_connector, payment_connector], config={\"llm\": llm})\n",
    "response = df_connector.chat(\"How many loans from the United states?\")\n",
    "print(response)"
   ]
  },
  {
   "cell_type": "code",
   "execution_count": null,
   "id": "82359293",
   "metadata": {},
   "outputs": [],
   "source": [
    "from pandasai.connectors.yahoo_finance import YahooFinanceConnector\n",
    "\n",
    "yahoo_connector = YahooFinanceConnector(\"MSFT\")\n",
    "df = SmartDataframe(yahoo_connector, config={\"llm\": llm})\n",
    "\n",
    "response = df.chat(\"What is the closing price for yesterday?\")\n",
    "print(response)"
   ]
  },
  {
   "cell_type": "code",
   "execution_count": null,
   "id": "69ad7132",
   "metadata": {},
   "outputs": [],
   "source": [
    "yahoo_connector = YahooFinanceConnector(\"TSLA\")\n",
    "\n",
    "df_connector = SmartDataframe(yahoo_connector, config={\"llm\": llm})\n",
    "response = df_connector.chat(\"Plot the chart of tesla over time\")"
   ]
  },
  {
   "cell_type": "code",
   "execution_count": null,
   "id": "d514bbb7",
   "metadata": {},
   "outputs": [],
   "source": []
  },
  {
   "cell_type": "code",
   "execution_count": null,
   "id": "dc1d8270",
   "metadata": {},
   "outputs": [],
   "source": []
  },
  {
   "cell_type": "code",
   "execution_count": null,
   "id": "aa3aecc7",
   "metadata": {},
   "outputs": [],
   "source": []
  },
  {
   "cell_type": "code",
   "execution_count": null,
   "id": "59de2747",
   "metadata": {},
   "outputs": [],
   "source": []
  },
  {
   "cell_type": "code",
   "execution_count": null,
   "id": "f5c113ab",
   "metadata": {},
   "outputs": [],
   "source": []
  }
 ],
 "metadata": {
  "kernelspec": {
   "display_name": "Python 3 (ipykernel)",
   "language": "python",
   "name": "python3"
  },
  "language_info": {
   "codemirror_mode": {
    "name": "ipython",
    "version": 3
   },
   "file_extension": ".py",
   "mimetype": "text/x-python",
   "name": "python",
   "nbconvert_exporter": "python",
   "pygments_lexer": "ipython3",
   "version": "3.11.5"
  }
 },
 "nbformat": 4,
 "nbformat_minor": 5
}
